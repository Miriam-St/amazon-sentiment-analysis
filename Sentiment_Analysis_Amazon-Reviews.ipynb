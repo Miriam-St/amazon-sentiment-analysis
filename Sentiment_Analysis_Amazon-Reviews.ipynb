{
 "cells": [
  {
   "cell_type": "markdown",
   "id": "a1344eec",
   "metadata": {
    "id": "a1344eec"
   },
   "source": [
    "# Import libraries"
   ]
  },
  {
   "cell_type": "code",
   "execution_count": 1,
   "id": "rJyWedAVq8Jf",
   "metadata": {
    "colab": {
     "base_uri": "https://localhost:8080/"
    },
    "id": "rJyWedAVq8Jf",
    "outputId": "be7efdbd-c7b9-4741-830d-644aa97c0505"
   },
   "outputs": [
    {
     "name": "stdout",
     "output_type": "stream",
     "text": [
      "Looking in indexes: https://pypi.org/simple, https://us-python.pkg.dev/colab-wheels/public/simple/\n",
      "Requirement already satisfied: tfds-nightly in /usr/local/lib/python3.7/dist-packages (4.7.0.dev202211040046)\n",
      "Requirement already satisfied: numpy in /usr/local/lib/python3.7/dist-packages (from tfds-nightly) (1.21.6)\n",
      "Requirement already satisfied: termcolor in /usr/local/lib/python3.7/dist-packages (from tfds-nightly) (2.0.1)\n",
      "Requirement already satisfied: tqdm in /usr/local/lib/python3.7/dist-packages (from tfds-nightly) (4.64.1)\n",
      "Requirement already satisfied: dm-tree in /usr/local/lib/python3.7/dist-packages (from tfds-nightly) (0.1.7)\n",
      "Requirement already satisfied: etils[epath] in /usr/local/lib/python3.7/dist-packages (from tfds-nightly) (0.8.0)\n",
      "Requirement already satisfied: tensorflow-metadata in /usr/local/lib/python3.7/dist-packages (from tfds-nightly) (1.10.0)\n",
      "Requirement already satisfied: typing-extensions in /usr/local/lib/python3.7/dist-packages (from tfds-nightly) (4.1.1)\n",
      "Requirement already satisfied: requests>=2.19.0 in /usr/local/lib/python3.7/dist-packages (from tfds-nightly) (2.23.0)\n",
      "Requirement already satisfied: six in /usr/local/lib/python3.7/dist-packages (from tfds-nightly) (1.15.0)\n",
      "Requirement already satisfied: absl-py in /usr/local/lib/python3.7/dist-packages (from tfds-nightly) (1.3.0)\n",
      "Requirement already satisfied: dill in /usr/local/lib/python3.7/dist-packages (from tfds-nightly) (0.3.6)\n",
      "Requirement already satisfied: promise in /usr/local/lib/python3.7/dist-packages (from tfds-nightly) (2.3)\n",
      "Requirement already satisfied: importlib-resources in /usr/local/lib/python3.7/dist-packages (from tfds-nightly) (5.10.0)\n",
      "Requirement already satisfied: protobuf>=3.12.2 in /usr/local/lib/python3.7/dist-packages (from tfds-nightly) (3.17.3)\n",
      "Requirement already satisfied: toml in /usr/local/lib/python3.7/dist-packages (from tfds-nightly) (0.10.2)\n",
      "Requirement already satisfied: idna<3,>=2.5 in /usr/local/lib/python3.7/dist-packages (from requests>=2.19.0->tfds-nightly) (2.10)\n",
      "Requirement already satisfied: certifi>=2017.4.17 in /usr/local/lib/python3.7/dist-packages (from requests>=2.19.0->tfds-nightly) (2022.9.24)\n",
      "Requirement already satisfied: urllib3!=1.25.0,!=1.25.1,<1.26,>=1.21.1 in /usr/local/lib/python3.7/dist-packages (from requests>=2.19.0->tfds-nightly) (1.24.3)\n",
      "Requirement already satisfied: chardet<4,>=3.0.2 in /usr/local/lib/python3.7/dist-packages (from requests>=2.19.0->tfds-nightly) (3.0.4)\n",
      "Requirement already satisfied: zipp in /usr/local/lib/python3.7/dist-packages (from etils[epath]->tfds-nightly) (3.10.0)\n",
      "Requirement already satisfied: googleapis-common-protos<2,>=1.52.0 in /usr/local/lib/python3.7/dist-packages (from tensorflow-metadata->tfds-nightly) (1.56.4)\n",
      "Looking in indexes: https://pypi.org/simple, https://us-python.pkg.dev/colab-wheels/public/simple/\n",
      "Requirement already satisfied: keras-nlp in /usr/local/lib/python3.7/dist-packages (0.3.0)\n",
      "Requirement already satisfied: tensorflow-text in /usr/local/lib/python3.7/dist-packages (from keras-nlp) (2.8.2)\n",
      "Requirement already satisfied: numpy in /usr/local/lib/python3.7/dist-packages (from keras-nlp) (1.21.6)\n",
      "Requirement already satisfied: tensorflow in /usr/local/lib/python3.7/dist-packages (from keras-nlp) (2.8.3)\n",
      "Requirement already satisfied: packaging in /usr/local/lib/python3.7/dist-packages (from keras-nlp) (21.3)\n",
      "Requirement already satisfied: absl-py in /usr/local/lib/python3.7/dist-packages (from keras-nlp) (1.3.0)\n",
      "Requirement already satisfied: pyparsing!=3.0.5,>=2.0.2 in /usr/local/lib/python3.7/dist-packages (from packaging->keras-nlp) (3.0.9)\n",
      "Requirement already satisfied: keras<2.9,>=2.8.0rc0 in /usr/local/lib/python3.7/dist-packages (from tensorflow->keras-nlp) (2.8.0)\n",
      "Requirement already satisfied: termcolor>=1.1.0 in /usr/local/lib/python3.7/dist-packages (from tensorflow->keras-nlp) (2.0.1)\n",
      "Requirement already satisfied: h5py>=2.9.0 in /usr/local/lib/python3.7/dist-packages (from tensorflow->keras-nlp) (3.1.0)\n",
      "Requirement already satisfied: wrapt>=1.11.0 in /usr/local/lib/python3.7/dist-packages (from tensorflow->keras-nlp) (1.14.1)\n",
      "Requirement already satisfied: typing-extensions>=3.6.6 in /usr/local/lib/python3.7/dist-packages (from tensorflow->keras-nlp) (4.1.1)\n",
      "Requirement already satisfied: google-pasta>=0.1.1 in /usr/local/lib/python3.7/dist-packages (from tensorflow->keras-nlp) (0.2.0)\n",
      "Requirement already satisfied: tensorboard<2.9,>=2.8 in /usr/local/lib/python3.7/dist-packages (from tensorflow->keras-nlp) (2.8.0)\n",
      "Requirement already satisfied: keras-preprocessing>=1.1.1 in /usr/local/lib/python3.7/dist-packages (from tensorflow->keras-nlp) (1.1.2)\n",
      "Requirement already satisfied: grpcio<2.0,>=1.24.3 in /usr/local/lib/python3.7/dist-packages (from tensorflow->keras-nlp) (1.50.0)\n",
      "Requirement already satisfied: opt-einsum>=2.3.2 in /usr/local/lib/python3.7/dist-packages (from tensorflow->keras-nlp) (3.3.0)\n",
      "Requirement already satisfied: flatbuffers>=1.12 in /usr/local/lib/python3.7/dist-packages (from tensorflow->keras-nlp) (1.12)\n",
      "Requirement already satisfied: setuptools in /usr/local/lib/python3.7/dist-packages (from tensorflow->keras-nlp) (57.4.0)\n",
      "Requirement already satisfied: tensorflow-io-gcs-filesystem>=0.23.1 in /usr/local/lib/python3.7/dist-packages (from tensorflow->keras-nlp) (0.27.0)\n",
      "Requirement already satisfied: six>=1.12.0 in /usr/local/lib/python3.7/dist-packages (from tensorflow->keras-nlp) (1.15.0)\n",
      "Requirement already satisfied: astunparse>=1.6.0 in /usr/local/lib/python3.7/dist-packages (from tensorflow->keras-nlp) (1.6.3)\n",
      "Requirement already satisfied: protobuf<3.20,>=3.9.2 in /usr/local/lib/python3.7/dist-packages (from tensorflow->keras-nlp) (3.17.3)\n",
      "Requirement already satisfied: tensorflow-estimator<2.9,>=2.8 in /usr/local/lib/python3.7/dist-packages (from tensorflow->keras-nlp) (2.8.0)\n",
      "Requirement already satisfied: gast>=0.2.1 in /usr/local/lib/python3.7/dist-packages (from tensorflow->keras-nlp) (0.4.0)\n",
      "Requirement already satisfied: libclang>=9.0.1 in /usr/local/lib/python3.7/dist-packages (from tensorflow->keras-nlp) (14.0.6)\n",
      "Requirement already satisfied: wheel<1.0,>=0.23.0 in /usr/local/lib/python3.7/dist-packages (from astunparse>=1.6.0->tensorflow->keras-nlp) (0.37.1)\n",
      "Requirement already satisfied: cached-property in /usr/local/lib/python3.7/dist-packages (from h5py>=2.9.0->tensorflow->keras-nlp) (1.5.2)\n",
      "Requirement already satisfied: markdown>=2.6.8 in /usr/local/lib/python3.7/dist-packages (from tensorboard<2.9,>=2.8->tensorflow->keras-nlp) (3.4.1)\n",
      "Requirement already satisfied: tensorboard-data-server<0.7.0,>=0.6.0 in /usr/local/lib/python3.7/dist-packages (from tensorboard<2.9,>=2.8->tensorflow->keras-nlp) (0.6.1)\n",
      "Requirement already satisfied: tensorboard-plugin-wit>=1.6.0 in /usr/local/lib/python3.7/dist-packages (from tensorboard<2.9,>=2.8->tensorflow->keras-nlp) (1.8.1)\n",
      "Requirement already satisfied: requests<3,>=2.21.0 in /usr/local/lib/python3.7/dist-packages (from tensorboard<2.9,>=2.8->tensorflow->keras-nlp) (2.23.0)\n",
      "Requirement already satisfied: werkzeug>=0.11.15 in /usr/local/lib/python3.7/dist-packages (from tensorboard<2.9,>=2.8->tensorflow->keras-nlp) (1.0.1)\n",
      "Requirement already satisfied: google-auth<3,>=1.6.3 in /usr/local/lib/python3.7/dist-packages (from tensorboard<2.9,>=2.8->tensorflow->keras-nlp) (1.35.0)\n",
      "Requirement already satisfied: google-auth-oauthlib<0.5,>=0.4.1 in /usr/local/lib/python3.7/dist-packages (from tensorboard<2.9,>=2.8->tensorflow->keras-nlp) (0.4.6)\n",
      "Requirement already satisfied: rsa<5,>=3.1.4 in /usr/local/lib/python3.7/dist-packages (from google-auth<3,>=1.6.3->tensorboard<2.9,>=2.8->tensorflow->keras-nlp) (4.9)\n",
      "Requirement already satisfied: pyasn1-modules>=0.2.1 in /usr/local/lib/python3.7/dist-packages (from google-auth<3,>=1.6.3->tensorboard<2.9,>=2.8->tensorflow->keras-nlp) (0.2.8)\n",
      "Requirement already satisfied: cachetools<5.0,>=2.0.0 in /usr/local/lib/python3.7/dist-packages (from google-auth<3,>=1.6.3->tensorboard<2.9,>=2.8->tensorflow->keras-nlp) (4.2.4)\n",
      "Requirement already satisfied: requests-oauthlib>=0.7.0 in /usr/local/lib/python3.7/dist-packages (from google-auth-oauthlib<0.5,>=0.4.1->tensorboard<2.9,>=2.8->tensorflow->keras-nlp) (1.3.1)\n",
      "Requirement already satisfied: importlib-metadata>=4.4 in /usr/local/lib/python3.7/dist-packages (from markdown>=2.6.8->tensorboard<2.9,>=2.8->tensorflow->keras-nlp) (4.13.0)\n",
      "Requirement already satisfied: zipp>=0.5 in /usr/local/lib/python3.7/dist-packages (from importlib-metadata>=4.4->markdown>=2.6.8->tensorboard<2.9,>=2.8->tensorflow->keras-nlp) (3.10.0)\n",
      "Requirement already satisfied: pyasn1<0.5.0,>=0.4.6 in /usr/local/lib/python3.7/dist-packages (from pyasn1-modules>=0.2.1->google-auth<3,>=1.6.3->tensorboard<2.9,>=2.8->tensorflow->keras-nlp) (0.4.8)\n",
      "Requirement already satisfied: urllib3!=1.25.0,!=1.25.1,<1.26,>=1.21.1 in /usr/local/lib/python3.7/dist-packages (from requests<3,>=2.21.0->tensorboard<2.9,>=2.8->tensorflow->keras-nlp) (1.24.3)\n",
      "Requirement already satisfied: chardet<4,>=3.0.2 in /usr/local/lib/python3.7/dist-packages (from requests<3,>=2.21.0->tensorboard<2.9,>=2.8->tensorflow->keras-nlp) (3.0.4)\n",
      "Requirement already satisfied: idna<3,>=2.5 in /usr/local/lib/python3.7/dist-packages (from requests<3,>=2.21.0->tensorboard<2.9,>=2.8->tensorflow->keras-nlp) (2.10)\n",
      "Requirement already satisfied: certifi>=2017.4.17 in /usr/local/lib/python3.7/dist-packages (from requests<3,>=2.21.0->tensorboard<2.9,>=2.8->tensorflow->keras-nlp) (2022.9.24)\n",
      "Requirement already satisfied: oauthlib>=3.0.0 in /usr/local/lib/python3.7/dist-packages (from requests-oauthlib>=0.7.0->google-auth-oauthlib<0.5,>=0.4.1->tensorboard<2.9,>=2.8->tensorflow->keras-nlp) (3.2.2)\n",
      "Requirement already satisfied: tensorflow-hub>=0.8.0 in /usr/local/lib/python3.7/dist-packages (from tensorflow-text->keras-nlp) (0.12.0)\n",
      "Looking in indexes: https://pypi.org/simple, https://us-python.pkg.dev/colab-wheels/public/simple/\n",
      "Requirement already satisfied: keras-visualizer in /usr/local/lib/python3.7/dist-packages (2.4)\n"
     ]
    }
   ],
   "source": [
    "!pip install -q -U \"tensorflow-text==2.8.*\"\n",
    "!pip install -q -U tf-models-official==2.7.0\n",
    "!pip install -U tfds-nightly\n",
    "!pip install keras-nlp\n",
    "!pip install keras-visualizer"
   ]
  },
  {
   "cell_type": "code",
   "execution_count": 2,
   "id": "0cf4826d",
   "metadata": {
    "id": "0cf4826d"
   },
   "outputs": [],
   "source": [
    "import pandas as pd\n",
    "import numpy as np\n",
    "\n",
    "from sklearn.model_selection import train_test_split\n",
    "from sklearn.metrics import confusion_matrix, ConfusionMatrixDisplay, classification_report\n",
    "from sklearn.tree import DecisionTreeClassifier\n",
    "from sklearn.naive_bayes import MultinomialNB\n",
    "from sklearn.feature_extraction.text import CountVectorizer"
   ]
  },
  {
   "cell_type": "code",
   "execution_count": 3,
   "id": "QWtE0QYgpwic",
   "metadata": {
    "id": "QWtE0QYgpwic"
   },
   "outputs": [],
   "source": [
    "import matplotlib.pyplot as plt\n",
    "import seaborn as sns\n",
    "\n",
    "from collections import defaultdict\n",
    "import plotly.express as px\n",
    "import plotly.tools as tls\n",
    "import plotly.graph_objs as go\n",
    "from plotly.subplots import make_subplots\n",
    "import plotly.graph_objects as go\n",
    "from plotly.offline import download_plotlyjs, init_notebook_mode, plot, iplot"
   ]
  },
  {
   "cell_type": "code",
   "execution_count": 4,
   "id": "872b75f9",
   "metadata": {
    "id": "872b75f9"
   },
   "outputs": [],
   "source": [
    "import os\n",
    "import json\n",
    "import gzip\n",
    "from urllib.request import urlopen\n",
    "import pickle"
   ]
  },
  {
   "cell_type": "code",
   "execution_count": 5,
   "id": "a775fa45",
   "metadata": {
    "id": "a775fa45"
   },
   "outputs": [],
   "source": [
    "import gensim\n",
    "from gensim.parsing.preprocessing import remove_stopwords, STOPWORDS\n",
    "from nltk.tokenize import word_tokenize\n",
    "from bs4 import BeautifulSoup\n",
    "import spacy\n",
    "import re\n",
    "import itertools "
   ]
  },
  {
   "cell_type": "code",
   "execution_count": 6,
   "id": "7Ccm5R96rB7M",
   "metadata": {
    "id": "7Ccm5R96rB7M"
   },
   "outputs": [],
   "source": [
    "from tqdm import tqdm\n",
    "\n",
    "from keras.preprocessing.text import Tokenizer\n",
    "from tensorflow import keras\n",
    "from keras.models import Sequential\n",
    "from keras.layers.core import Activation, Dropout, Dense\n",
    "from keras.layers import Flatten, GlobalMaxPooling1D, Embedding, Conv1D, LSTM\n",
    "from keras_preprocessing.sequence import pad_sequences\n",
    "import keras_nlp\n",
    "\n",
    "from keras import layers\n",
    "from keras import regularizers\n",
    "from keras import backend as K\n",
    "from keras.callbacks import ModelCheckpoint\n",
    "\n",
    "from keras_visualizer import visualizer \n",
    "\n",
    "import tensorflow as tf\n",
    "import tensorflow_hub as hub\n",
    "import tensorflow_datasets as tfds\n",
    "import tensorflow_text as text  "
   ]
  },
  {
   "cell_type": "code",
   "execution_count": 7,
   "id": "3d926901",
   "metadata": {
    "id": "3d926901"
   },
   "outputs": [],
   "source": [
    "import warnings\n",
    "warnings.filterwarnings(\"ignore\")"
   ]
  },
  {
   "cell_type": "code",
   "execution_count": 8,
   "id": "10f41281",
   "metadata": {
    "id": "10f41281"
   },
   "outputs": [],
   "source": [
    "pd.set_option('max_colwidth', None)"
   ]
  },
  {
   "cell_type": "markdown",
   "id": "01fc97d6",
   "metadata": {
    "id": "01fc97d6"
   },
   "source": [
    "# Load and view data"
   ]
  },
  {
   "cell_type": "markdown",
   "id": "215b9cec",
   "metadata": {
    "id": "215b9cec"
   },
   "source": [
    "Data source: http://deepyeti.ucsd.edu/jianmo/amazon/sample/meta_Computers.json.gz"
   ]
  },
  {
   "cell_type": "code",
   "execution_count": 11,
   "id": "A4LpTpVMmIv5",
   "metadata": {
    "colab": {
     "base_uri": "https://localhost:8080/"
    },
    "id": "A4LpTpVMmIv5",
    "outputId": "95ba00b1-d878-4190-fc2e-1c38b4e91d3b"
   },
   "outputs": [
    {
     "name": "stdout",
     "output_type": "stream",
     "text": [
      "Drive already mounted at /drive; to attempt to forcibly remount, call drive.mount(\"/drive\", force_remount=True).\n"
     ]
    }
   ],
   "source": [
    "from google.colab import drive\n",
    "drive.mount('/drive')"
   ]
  },
  {
   "cell_type": "code",
   "execution_count": 13,
   "id": "679632ea",
   "metadata": {
    "id": "679632ea"
   },
   "outputs": [],
   "source": [
    "import_data = []\n",
    "with gzip.open('/drive/My Drive/Electronics_5.json.gz') as f:  \n",
    "    for l in f:\n",
    "        data_import.append(json.loads(l.strip()))"
   ]
  },
  {
   "cell_type": "code",
   "execution_count": 16,
   "id": "7c107a76",
   "metadata": {
    "id": "7c107a76"
   },
   "outputs": [],
   "source": [
    "# total length of list, this number equals total number of products\n",
    "print(len(import_data))\n",
    "\n",
    "# first row of the list\n",
    "print(import_data[0])"
   ]
  },
  {
   "cell_type": "code",
   "execution_count": 17,
   "id": "6068ba8a",
   "metadata": {
    "id": "6068ba8a"
   },
   "outputs": [],
   "source": [
    "df_import = pd.DataFrame(import_data)"
   ]
  },
  {
   "cell_type": "code",
   "execution_count": 18,
   "id": "2ffc1334",
   "metadata": {
    "colab": {
     "base_uri": "https://localhost:8080/",
     "height": 1000
    },
    "id": "2ffc1334",
    "outputId": "458c7e96-f22c-42bc-e659-def1d85d7d09"
   },
   "outputs": [
    {
     "data": {
      "text/html": [
       "\n",
       "  <div id=\"df-11384ff8-2c97-4398-9f22-2f4705723677\">\n",
       "    <div class=\"colab-df-container\">\n",
       "      <div>\n",
       "<style scoped>\n",
       "    .dataframe tbody tr th:only-of-type {\n",
       "        vertical-align: middle;\n",
       "    }\n",
       "\n",
       "    .dataframe tbody tr th {\n",
       "        vertical-align: top;\n",
       "    }\n",
       "\n",
       "    .dataframe thead th {\n",
       "        text-align: right;\n",
       "    }\n",
       "</style>\n",
       "<table border=\"1\" class=\"dataframe\">\n",
       "  <thead>\n",
       "    <tr style=\"text-align: right;\">\n",
       "      <th></th>\n",
       "      <th>overall</th>\n",
       "      <th>vote</th>\n",
       "      <th>verified</th>\n",
       "      <th>reviewTime</th>\n",
       "      <th>reviewerID</th>\n",
       "      <th>asin</th>\n",
       "      <th>style</th>\n",
       "      <th>reviewerName</th>\n",
       "      <th>reviewText</th>\n",
       "      <th>summary</th>\n",
       "      <th>unixReviewTime</th>\n",
       "      <th>image</th>\n",
       "    </tr>\n",
       "  </thead>\n",
       "  <tbody>\n",
       "    <tr>\n",
       "      <th>0</th>\n",
       "      <td>5.0</td>\n",
       "      <td>67</td>\n",
       "      <td>True</td>\n",
       "      <td>09 18, 1999</td>\n",
       "      <td>AAP7PPBU72QFM</td>\n",
       "      <td>0151004714</td>\n",
       "      <td>{'Format:': ' Hardcover'}</td>\n",
       "      <td>D. C. Carrad</td>\n",
       "      <td>This is the best novel I have read in 2 or 3 years.  It is everything that fiction should be -- beautifully written, engaging, well-plotted and structured.  It has several layers of meanings -- historical, family,  philosophical and more -- and blends them all skillfully and interestingly.  It makes the American grad student/writers' workshop \"my parents were  mean to me and then my professors were mean to me\" trivia look  childish and silly by comparison, as they are.\\nAnyone who says this is an  adolescent girl's coming of age story is trivializing it.  Ignore them.  Read this book if you love literature.\\nI was particularly impressed with  this young author's grasp of the meaning and texture of the lost world of  French Algeria in the 1950's and '60's...particularly poignant when read in  1999 from another ruined and abandoned French colony, amid the decaying  buildings of Phnom Penh...\\nI hope the author will write many more books  and that her publishers will bring her first novel back into print -- I  want to read it.  Thank you, Ms. Messud, for writing such a wonderful work.</td>\n",
       "      <td>A star is born</td>\n",
       "      <td>937612800</td>\n",
       "      <td>NaN</td>\n",
       "    </tr>\n",
       "    <tr>\n",
       "      <th>1</th>\n",
       "      <td>3.0</td>\n",
       "      <td>5</td>\n",
       "      <td>True</td>\n",
       "      <td>10 23, 2013</td>\n",
       "      <td>A2E168DTVGE6SV</td>\n",
       "      <td>0151004714</td>\n",
       "      <td>{'Format:': ' Kindle Edition'}</td>\n",
       "      <td>Evy</td>\n",
       "      <td>Pages and pages of introspection, in the style of writers like Henry James.  I like this kind of  novels and the writer occasionally delights me with her descriptions and observations.  But it's way too repetitious for me and, I think, some parts could have been cut out while still preserving, and probably more tightly crystallizing, the themes and \"truths\" within the story.\\n\\nIt's a story I could relate to but I wish it hadn't been too tedious to read.</td>\n",
       "      <td>A stream of consciousness novel</td>\n",
       "      <td>1382486400</td>\n",
       "      <td>NaN</td>\n",
       "    </tr>\n",
       "    <tr>\n",
       "      <th>2</th>\n",
       "      <td>5.0</td>\n",
       "      <td>4</td>\n",
       "      <td>False</td>\n",
       "      <td>09 2, 2008</td>\n",
       "      <td>A1ER5AYS3FQ9O3</td>\n",
       "      <td>0151004714</td>\n",
       "      <td>{'Format:': ' Paperback'}</td>\n",
       "      <td>Kcorn</td>\n",
       "      <td>This is the kind of novel to read when you have time to lose yourself in a book for days, possibly weeks. I had to go back and reread it as soon as I finished it because it is so rich in historical and psychological  details, particularly themes centering on painful family dynamics and history.\\n\\nPotential readers of this novel by Claire Messud should know it isn't exactly a sunny, bouncy work. If you are looking for that you'll want to look elsewhere. It also moves between countries, including sections based in France, the U.S. and Algeria.\\n\\nThe focus of the novel is the LaBasse family and the story is told from the viewpoint of Sagesse, a woman who conveys the weight of a turbulent family history. Starting with Sagesse's grandfather, a man who owns the Hotel Bellevue in France,the family dynamics begin to play themselves out, connecting to larger themes of France and Algeria's history as well, with stunning consequences.\\n\\nSagesse's parents, Alex and Carol, reveal plenty about the kind of problems that can arise when there are cross-cultural challenges to face in a marriage. Carol, coming from America, marries Alex, but is unable to see the potential sacrifices and problems she'll face as she moves overseas to live with her husband...or the impact the marriage will have on her daughter and the rest of the family, including a handicapped son.\\n\\n It is a bit hard to categorize this book because it covers so many areas. It is part mystery because Sagesse is trying to separate truth from myth when figuring out her family's history. It is part suspense because of Sagesse's short love affair and a moment of violence (and I don't want to give the details of that moment or I'll spoil it for you). It is also a historical novel, rich with information about events in Algeria and France and the United States.\\n\\nFor me, also, this one centers on themes of personal identity and displacement,primarily for Sagesse, a woman trying to figure out where she belongs in the world and how to make peace with her difficult family as well as coming to grips with history's impact on her family.</td>\n",
       "      <td>I'm a huge fan of the author and this one did not disappoint</td>\n",
       "      <td>1220313600</td>\n",
       "      <td>NaN</td>\n",
       "    </tr>\n",
       "    <tr>\n",
       "      <th>3</th>\n",
       "      <td>5.0</td>\n",
       "      <td>13</td>\n",
       "      <td>False</td>\n",
       "      <td>09 4, 2000</td>\n",
       "      <td>A1T17LMQABMBN5</td>\n",
       "      <td>0151004714</td>\n",
       "      <td>{'Format:': ' Hardcover'}</td>\n",
       "      <td>Caf Girl Writes</td>\n",
       "      <td>What gorgeous language! What an incredible writer! The Last Life is one of  the best written novels I have ever read. This incredible novel contains  various elements of fiction: historical, philosophical, and just the right  touch of magical realism.\\nThe story is about a French-Algerian family  and the constant moving to different parts of the world -- the South of  France, the East Coast of the U.S. and Algeria -- has affected each of  their lives. It seems as though each family member has found his or her  identity in one of the many places they have been. As a result, they never  feel like they have found a home. The thing that struck me most when  reading this book was how the author described life in the lost world of  French Algeria in the 1950's. The historical part of the novel is  incredibly accurate. Let me tell you that I have learned a lot of important  parts of history in this book. I also love the fact that the story is told  through the eyes of fourteen-year-old Lagesse, seen through the eyes of  innocence indeed!  The Last Life is -- without a  stretch of doubt -- the best historical fiction novel I have ever read.  This novel should not be overlooked. Run along and get it!</td>\n",
       "      <td>The most beautiful book I have ever read!</td>\n",
       "      <td>968025600</td>\n",
       "      <td>NaN</td>\n",
       "    </tr>\n",
       "    <tr>\n",
       "      <th>4</th>\n",
       "      <td>3.0</td>\n",
       "      <td>8</td>\n",
       "      <td>True</td>\n",
       "      <td>02 4, 2000</td>\n",
       "      <td>A3QHJ0FXK33OBE</td>\n",
       "      <td>0151004714</td>\n",
       "      <td>{'Format:': ' Hardcover'}</td>\n",
       "      <td>W. Shane Schmidt</td>\n",
       "      <td>I was taken in by reviews that compared this book with The Leopard or promised a bildungsroman set in a family that is isolated and on the move.  Well...I didn't feel any parallel with The Leopard and the author overstuffs her story with so many events that isolation is lost in the opportunity for  so many subplots.  And who's moving - in any sense - in this novel?  Where's the \"bildung?\"  The denouement?  The dsillusionner?  I must have  skimmed the wrong paragraph.\\nI do agree that parts of the novel are very  engaging.  They are.  And, like some other readers, I did enjoy the events  in Algeria.  This is the strongest part of the novel, perhaps because it is  not so deeply stuck in the protagonist's life that had the unfortunate  knack of boring me in the first-person!  (Yeah, that's what I mean.)  Overall, the novel is just a bit overdone.  I prefer a bildungsroman - if  that's what this should be - to show me a growth, not tell me all about the  all-too-interesting things that happened along the way.\\nIf you're the  kind of person who can sit for hours and listen to a friend tell you  endless stories about herself that you can't help but suspect are just a  tad trumped up, then you might really dig into this novel.  Otherwise you  might have an experience more like mine which was one of detached interest.  For my part, I was relieved that I could close the book whenever I wanted  to quiet my jabbery friend.</td>\n",
       "      <td>A dissenting view--In part.</td>\n",
       "      <td>949622400</td>\n",
       "      <td>NaN</td>\n",
       "    </tr>\n",
       "  </tbody>\n",
       "</table>\n",
       "</div>\n",
       "      <button class=\"colab-df-convert\" onclick=\"convertToInteractive('df-11384ff8-2c97-4398-9f22-2f4705723677')\"\n",
       "              title=\"Convert this dataframe to an interactive table.\"\n",
       "              style=\"display:none;\">\n",
       "        \n",
       "  <svg xmlns=\"http://www.w3.org/2000/svg\" height=\"24px\"viewBox=\"0 0 24 24\"\n",
       "       width=\"24px\">\n",
       "    <path d=\"M0 0h24v24H0V0z\" fill=\"none\"/>\n",
       "    <path d=\"M18.56 5.44l.94 2.06.94-2.06 2.06-.94-2.06-.94-.94-2.06-.94 2.06-2.06.94zm-11 1L8.5 8.5l.94-2.06 2.06-.94-2.06-.94L8.5 2.5l-.94 2.06-2.06.94zm10 10l.94 2.06.94-2.06 2.06-.94-2.06-.94-.94-2.06-.94 2.06-2.06.94z\"/><path d=\"M17.41 7.96l-1.37-1.37c-.4-.4-.92-.59-1.43-.59-.52 0-1.04.2-1.43.59L10.3 9.45l-7.72 7.72c-.78.78-.78 2.05 0 2.83L4 21.41c.39.39.9.59 1.41.59.51 0 1.02-.2 1.41-.59l7.78-7.78 2.81-2.81c.8-.78.8-2.07 0-2.86zM5.41 20L4 18.59l7.72-7.72 1.47 1.35L5.41 20z\"/>\n",
       "  </svg>\n",
       "      </button>\n",
       "      \n",
       "  <style>\n",
       "    .colab-df-container {\n",
       "      display:flex;\n",
       "      flex-wrap:wrap;\n",
       "      gap: 12px;\n",
       "    }\n",
       "\n",
       "    .colab-df-convert {\n",
       "      background-color: #E8F0FE;\n",
       "      border: none;\n",
       "      border-radius: 50%;\n",
       "      cursor: pointer;\n",
       "      display: none;\n",
       "      fill: #1967D2;\n",
       "      height: 32px;\n",
       "      padding: 0 0 0 0;\n",
       "      width: 32px;\n",
       "    }\n",
       "\n",
       "    .colab-df-convert:hover {\n",
       "      background-color: #E2EBFA;\n",
       "      box-shadow: 0px 1px 2px rgba(60, 64, 67, 0.3), 0px 1px 3px 1px rgba(60, 64, 67, 0.15);\n",
       "      fill: #174EA6;\n",
       "    }\n",
       "\n",
       "    [theme=dark] .colab-df-convert {\n",
       "      background-color: #3B4455;\n",
       "      fill: #D2E3FC;\n",
       "    }\n",
       "\n",
       "    [theme=dark] .colab-df-convert:hover {\n",
       "      background-color: #434B5C;\n",
       "      box-shadow: 0px 1px 3px 1px rgba(0, 0, 0, 0.15);\n",
       "      filter: drop-shadow(0px 1px 2px rgba(0, 0, 0, 0.3));\n",
       "      fill: #FFFFFF;\n",
       "    }\n",
       "  </style>\n",
       "\n",
       "      <script>\n",
       "        const buttonEl =\n",
       "          document.querySelector('#df-11384ff8-2c97-4398-9f22-2f4705723677 button.colab-df-convert');\n",
       "        buttonEl.style.display =\n",
       "          google.colab.kernel.accessAllowed ? 'block' : 'none';\n",
       "\n",
       "        async function convertToInteractive(key) {\n",
       "          const element = document.querySelector('#df-11384ff8-2c97-4398-9f22-2f4705723677');\n",
       "          const dataTable =\n",
       "            await google.colab.kernel.invokeFunction('convertToInteractive',\n",
       "                                                     [key], {});\n",
       "          if (!dataTable) return;\n",
       "\n",
       "          const docLinkHtml = 'Like what you see? Visit the ' +\n",
       "            '<a target=\"_blank\" href=https://colab.research.google.com/notebooks/data_table.ipynb>data table notebook</a>'\n",
       "            + ' to learn more about interactive tables.';\n",
       "          element.innerHTML = '';\n",
       "          dataTable['output_type'] = 'display_data';\n",
       "          await google.colab.output.renderOutput(dataTable, element);\n",
       "          const docLink = document.createElement('div');\n",
       "          docLink.innerHTML = docLinkHtml;\n",
       "          element.appendChild(docLink);\n",
       "        }\n",
       "      </script>\n",
       "    </div>\n",
       "  </div>\n",
       "  "
      ],
      "text/plain": [
       "   overall vote  verified   reviewTime      reviewerID        asin  \\\n",
       "0      5.0   67      True  09 18, 1999   AAP7PPBU72QFM  0151004714   \n",
       "1      3.0    5      True  10 23, 2013  A2E168DTVGE6SV  0151004714   \n",
       "2      5.0    4     False   09 2, 2008  A1ER5AYS3FQ9O3  0151004714   \n",
       "3      5.0   13     False   09 4, 2000  A1T17LMQABMBN5  0151004714   \n",
       "4      3.0    8      True   02 4, 2000  A3QHJ0FXK33OBE  0151004714   \n",
       "\n",
       "                            style      reviewerName  \\\n",
       "0       {'Format:': ' Hardcover'}      D. C. Carrad   \n",
       "1  {'Format:': ' Kindle Edition'}               Evy   \n",
       "2       {'Format:': ' Paperback'}             Kcorn   \n",
       "3       {'Format:': ' Hardcover'}   Caf Girl Writes   \n",
       "4       {'Format:': ' Hardcover'}  W. Shane Schmidt   \n",
       "\n",
       "                                                                                                                                                                                                                                                                                                                                                                                                                                                                                                                                                                                                                                                                                                                                                                                                                                                                                                                                                                                                                                                                                                                                                                                                                                                                                                                                                                                                                                                                                                                                                                                                                                                                                                                                                                                                                                                                                                                                                                                                                                                                                                                                                                                         reviewText  \\\n",
       "0                                                                                                                                                                                                                                                                                                                                                                                                                                                                                                                                                                                                                                                                                                                                                                                                                                                                                                                                                                                                                                                        This is the best novel I have read in 2 or 3 years.  It is everything that fiction should be -- beautifully written, engaging, well-plotted and structured.  It has several layers of meanings -- historical, family,  philosophical and more -- and blends them all skillfully and interestingly.  It makes the American grad student/writers' workshop \"my parents were  mean to me and then my professors were mean to me\" trivia look  childish and silly by comparison, as they are.\\nAnyone who says this is an  adolescent girl's coming of age story is trivializing it.  Ignore them.  Read this book if you love literature.\\nI was particularly impressed with  this young author's grasp of the meaning and texture of the lost world of  French Algeria in the 1950's and '60's...particularly poignant when read in  1999 from another ruined and abandoned French colony, amid the decaying  buildings of Phnom Penh...\\nI hope the author will write many more books  and that her publishers will bring her first novel back into print -- I  want to read it.  Thank you, Ms. Messud, for writing such a wonderful work.   \n",
       "1                                                                                                                                                                                                                                                                                                                                                                                                                                                                                                                                                                                                                                                                                                                                                                                                                                                                                                                                                                                                                                                                                                                                                                                                                                                                                                                                                                                                                                                                                                                                                                                                                                                                                                                        Pages and pages of introspection, in the style of writers like Henry James.  I like this kind of  novels and the writer occasionally delights me with her descriptions and observations.  But it's way too repetitious for me and, I think, some parts could have been cut out while still preserving, and probably more tightly crystallizing, the themes and \"truths\" within the story.\\n\\nIt's a story I could relate to but I wish it hadn't been too tedious to read.   \n",
       "2  This is the kind of novel to read when you have time to lose yourself in a book for days, possibly weeks. I had to go back and reread it as soon as I finished it because it is so rich in historical and psychological  details, particularly themes centering on painful family dynamics and history.\\n\\nPotential readers of this novel by Claire Messud should know it isn't exactly a sunny, bouncy work. If you are looking for that you'll want to look elsewhere. It also moves between countries, including sections based in France, the U.S. and Algeria.\\n\\nThe focus of the novel is the LaBasse family and the story is told from the viewpoint of Sagesse, a woman who conveys the weight of a turbulent family history. Starting with Sagesse's grandfather, a man who owns the Hotel Bellevue in France,the family dynamics begin to play themselves out, connecting to larger themes of France and Algeria's history as well, with stunning consequences.\\n\\nSagesse's parents, Alex and Carol, reveal plenty about the kind of problems that can arise when there are cross-cultural challenges to face in a marriage. Carol, coming from America, marries Alex, but is unable to see the potential sacrifices and problems she'll face as she moves overseas to live with her husband...or the impact the marriage will have on her daughter and the rest of the family, including a handicapped son.\\n\\n It is a bit hard to categorize this book because it covers so many areas. It is part mystery because Sagesse is trying to separate truth from myth when figuring out her family's history. It is part suspense because of Sagesse's short love affair and a moment of violence (and I don't want to give the details of that moment or I'll spoil it for you). It is also a historical novel, rich with information about events in Algeria and France and the United States.\\n\\nFor me, also, this one centers on themes of personal identity and displacement,primarily for Sagesse, a woman trying to figure out where she belongs in the world and how to make peace with her difficult family as well as coming to grips with history's impact on her family.   \n",
       "3                                                                                                                                                                                                                                                                                                                                                                                                                                                                                                                                                                                                                                                                                                                                                                                                                                                                                                                                        What gorgeous language! What an incredible writer! The Last Life is one of  the best written novels I have ever read. This incredible novel contains  various elements of fiction: historical, philosophical, and just the right  touch of magical realism.\\nThe story is about a French-Algerian family  and the constant moving to different parts of the world -- the South of  France, the East Coast of the U.S. and Algeria -- has affected each of  their lives. It seems as though each family member has found his or her  identity in one of the many places they have been. As a result, they never  feel like they have found a home. The thing that struck me most when  reading this book was how the author described life in the lost world of  French Algeria in the 1950's. The historical part of the novel is  incredibly accurate. Let me tell you that I have learned a lot of important  parts of history in this book. I also love the fact that the story is told  through the eyes of fourteen-year-old Lagesse, seen through the eyes of  innocence indeed!  The Last Life is -- without a  stretch of doubt -- the best historical fiction novel I have ever read.  This novel should not be overlooked. Run along and get it!   \n",
       "4                                                                                                                                                                                                                                                                                                                                                                                                                                                                                                                                                                                                                                                                                                       I was taken in by reviews that compared this book with The Leopard or promised a bildungsroman set in a family that is isolated and on the move.  Well...I didn't feel any parallel with The Leopard and the author overstuffs her story with so many events that isolation is lost in the opportunity for  so many subplots.  And who's moving - in any sense - in this novel?  Where's the \"bildung?\"  The denouement?  The dsillusionner?  I must have  skimmed the wrong paragraph.\\nI do agree that parts of the novel are very  engaging.  They are.  And, like some other readers, I did enjoy the events  in Algeria.  This is the strongest part of the novel, perhaps because it is  not so deeply stuck in the protagonist's life that had the unfortunate  knack of boring me in the first-person!  (Yeah, that's what I mean.)  Overall, the novel is just a bit overdone.  I prefer a bildungsroman - if  that's what this should be - to show me a growth, not tell me all about the  all-too-interesting things that happened along the way.\\nIf you're the  kind of person who can sit for hours and listen to a friend tell you  endless stories about herself that you can't help but suspect are just a  tad trumped up, then you might really dig into this novel.  Otherwise you  might have an experience more like mine which was one of detached interest.  For my part, I was relieved that I could close the book whenever I wanted  to quiet my jabbery friend.   \n",
       "\n",
       "                                                        summary  \\\n",
       "0                                                A star is born   \n",
       "1                               A stream of consciousness novel   \n",
       "2  I'm a huge fan of the author and this one did not disappoint   \n",
       "3                     The most beautiful book I have ever read!   \n",
       "4                                   A dissenting view--In part.   \n",
       "\n",
       "   unixReviewTime image  \n",
       "0       937612800   NaN  \n",
       "1      1382486400   NaN  \n",
       "2      1220313600   NaN  \n",
       "3       968025600   NaN  \n",
       "4       949622400   NaN  "
      ]
     },
     "execution_count": 18,
     "metadata": {},
     "output_type": "execute_result"
    }
   ],
   "source": [
    "df_import.head()"
   ]
  },
  {
   "cell_type": "code",
   "execution_count": 19,
   "id": "8b00ca29",
   "metadata": {
    "colab": {
     "base_uri": "https://localhost:8080/",
     "height": 545
    },
    "id": "8b00ca29",
    "outputId": "2c738a2a-86fa-4389-da06-2d3eebd3165e"
   },
   "outputs": [
    {
     "data": {
      "text/html": [
       "\n",
       "  <div id=\"df-69901a9d-2a03-46a1-aa99-11d5d7662819\">\n",
       "    <div class=\"colab-df-container\">\n",
       "      <div>\n",
       "<style scoped>\n",
       "    .dataframe tbody tr th:only-of-type {\n",
       "        vertical-align: middle;\n",
       "    }\n",
       "\n",
       "    .dataframe tbody tr th {\n",
       "        vertical-align: top;\n",
       "    }\n",
       "\n",
       "    .dataframe thead th {\n",
       "        text-align: right;\n",
       "    }\n",
       "</style>\n",
       "<table border=\"1\" class=\"dataframe\">\n",
       "  <thead>\n",
       "    <tr style=\"text-align: right;\">\n",
       "      <th></th>\n",
       "      <th>overall</th>\n",
       "      <th>vote</th>\n",
       "      <th>verified</th>\n",
       "      <th>reviewTime</th>\n",
       "      <th>reviewerID</th>\n",
       "      <th>asin</th>\n",
       "      <th>style</th>\n",
       "      <th>reviewerName</th>\n",
       "      <th>reviewText</th>\n",
       "      <th>summary</th>\n",
       "      <th>unixReviewTime</th>\n",
       "      <th>image</th>\n",
       "    </tr>\n",
       "  </thead>\n",
       "  <tbody>\n",
       "    <tr>\n",
       "      <th>6739585</th>\n",
       "      <td>4.0</td>\n",
       "      <td>NaN</td>\n",
       "      <td>True</td>\n",
       "      <td>03 21, 2017</td>\n",
       "      <td>A33MAQA919J2V8</td>\n",
       "      <td>B01HJH40WU</td>\n",
       "      <td>NaN</td>\n",
       "      <td>Kurt Wurm</td>\n",
       "      <td>These seem like quality USB cables, time will tell</td>\n",
       "      <td>Four Stars</td>\n",
       "      <td>1490054400</td>\n",
       "      <td>NaN</td>\n",
       "    </tr>\n",
       "    <tr>\n",
       "      <th>6739586</th>\n",
       "      <td>4.0</td>\n",
       "      <td>NaN</td>\n",
       "      <td>True</td>\n",
       "      <td>01 9, 2017</td>\n",
       "      <td>A1AKHSCPD1BHM4</td>\n",
       "      <td>B01HJH40WU</td>\n",
       "      <td>NaN</td>\n",
       "      <td>C.L Momof3</td>\n",
       "      <td>Works great, love the longer cord. As with any cord you buy they don't last but these did for longer than I expected. Arrived on time and well packaged.</td>\n",
       "      <td>Nice long cord</td>\n",
       "      <td>1483920000</td>\n",
       "      <td>NaN</td>\n",
       "    </tr>\n",
       "    <tr>\n",
       "      <th>6739587</th>\n",
       "      <td>5.0</td>\n",
       "      <td>2.0</td>\n",
       "      <td>True</td>\n",
       "      <td>12 1, 2016</td>\n",
       "      <td>A2HUZO7MQAY5I2</td>\n",
       "      <td>B01HJH40WU</td>\n",
       "      <td>NaN</td>\n",
       "      <td>michael clontz</td>\n",
       "      <td>Ok here is an odd thing that happened to me, I clicked on a sales item that was a 3ft, 6ft and 10ft cable. What I received was 3 6ft cables. To be honest I only need a 6ft and 10ft. As far as the cables themselves, they are pretty nice. They are nylon braided and plug in tight and do not wobble like a cheap pair (that they are replacing) would do. I am disappointed still that I did not get the 10ft but I checked the receipt and it says 3 6ft so I guess I can't complain. It must have been an error in the link within Amazon.</td>\n",
       "      <td>Not the correct product as linked in the sale.</td>\n",
       "      <td>1480550400</td>\n",
       "      <td>NaN</td>\n",
       "    </tr>\n",
       "    <tr>\n",
       "      <th>6739588</th>\n",
       "      <td>5.0</td>\n",
       "      <td>2.0</td>\n",
       "      <td>True</td>\n",
       "      <td>11 29, 2016</td>\n",
       "      <td>AJJ7VX2L91X2W</td>\n",
       "      <td>B01HJH40WU</td>\n",
       "      <td>NaN</td>\n",
       "      <td>Faith</td>\n",
       "      <td>Works well.</td>\n",
       "      <td>Five Stars</td>\n",
       "      <td>1480377600</td>\n",
       "      <td>NaN</td>\n",
       "    </tr>\n",
       "    <tr>\n",
       "      <th>6739589</th>\n",
       "      <td>5.0</td>\n",
       "      <td>NaN</td>\n",
       "      <td>True</td>\n",
       "      <td>03 31, 2017</td>\n",
       "      <td>A1FGCIRPRNZWD5</td>\n",
       "      <td>B01HJF704M</td>\n",
       "      <td>NaN</td>\n",
       "      <td>Brando</td>\n",
       "      <td>I have it plugged into a usb extension on my gaming pc that is ideally placed in a trailer about 50 yards from the wifi router inside the house, also placed in best location. My signal strength is Excellent.\\nI currently get a rating of 10-11mbps rating on google speed test. I've had the speed up to 15-17mbps under better conditions.\\nThis is just something you can expect at least and a comparison. Your provider obviously matters.</td>\n",
       "      <td>Works well enough..</td>\n",
       "      <td>1490918400</td>\n",
       "      <td>NaN</td>\n",
       "    </tr>\n",
       "  </tbody>\n",
       "</table>\n",
       "</div>\n",
       "      <button class=\"colab-df-convert\" onclick=\"convertToInteractive('df-69901a9d-2a03-46a1-aa99-11d5d7662819')\"\n",
       "              title=\"Convert this dataframe to an interactive table.\"\n",
       "              style=\"display:none;\">\n",
       "        \n",
       "  <svg xmlns=\"http://www.w3.org/2000/svg\" height=\"24px\"viewBox=\"0 0 24 24\"\n",
       "       width=\"24px\">\n",
       "    <path d=\"M0 0h24v24H0V0z\" fill=\"none\"/>\n",
       "    <path d=\"M18.56 5.44l.94 2.06.94-2.06 2.06-.94-2.06-.94-.94-2.06-.94 2.06-2.06.94zm-11 1L8.5 8.5l.94-2.06 2.06-.94-2.06-.94L8.5 2.5l-.94 2.06-2.06.94zm10 10l.94 2.06.94-2.06 2.06-.94-2.06-.94-.94-2.06-.94 2.06-2.06.94z\"/><path d=\"M17.41 7.96l-1.37-1.37c-.4-.4-.92-.59-1.43-.59-.52 0-1.04.2-1.43.59L10.3 9.45l-7.72 7.72c-.78.78-.78 2.05 0 2.83L4 21.41c.39.39.9.59 1.41.59.51 0 1.02-.2 1.41-.59l7.78-7.78 2.81-2.81c.8-.78.8-2.07 0-2.86zM5.41 20L4 18.59l7.72-7.72 1.47 1.35L5.41 20z\"/>\n",
       "  </svg>\n",
       "      </button>\n",
       "      \n",
       "  <style>\n",
       "    .colab-df-container {\n",
       "      display:flex;\n",
       "      flex-wrap:wrap;\n",
       "      gap: 12px;\n",
       "    }\n",
       "\n",
       "    .colab-df-convert {\n",
       "      background-color: #E8F0FE;\n",
       "      border: none;\n",
       "      border-radius: 50%;\n",
       "      cursor: pointer;\n",
       "      display: none;\n",
       "      fill: #1967D2;\n",
       "      height: 32px;\n",
       "      padding: 0 0 0 0;\n",
       "      width: 32px;\n",
       "    }\n",
       "\n",
       "    .colab-df-convert:hover {\n",
       "      background-color: #E2EBFA;\n",
       "      box-shadow: 0px 1px 2px rgba(60, 64, 67, 0.3), 0px 1px 3px 1px rgba(60, 64, 67, 0.15);\n",
       "      fill: #174EA6;\n",
       "    }\n",
       "\n",
       "    [theme=dark] .colab-df-convert {\n",
       "      background-color: #3B4455;\n",
       "      fill: #D2E3FC;\n",
       "    }\n",
       "\n",
       "    [theme=dark] .colab-df-convert:hover {\n",
       "      background-color: #434B5C;\n",
       "      box-shadow: 0px 1px 3px 1px rgba(0, 0, 0, 0.15);\n",
       "      filter: drop-shadow(0px 1px 2px rgba(0, 0, 0, 0.3));\n",
       "      fill: #FFFFFF;\n",
       "    }\n",
       "  </style>\n",
       "\n",
       "      <script>\n",
       "        const buttonEl =\n",
       "          document.querySelector('#df-69901a9d-2a03-46a1-aa99-11d5d7662819 button.colab-df-convert');\n",
       "        buttonEl.style.display =\n",
       "          google.colab.kernel.accessAllowed ? 'block' : 'none';\n",
       "\n",
       "        async function convertToInteractive(key) {\n",
       "          const element = document.querySelector('#df-69901a9d-2a03-46a1-aa99-11d5d7662819');\n",
       "          const dataTable =\n",
       "            await google.colab.kernel.invokeFunction('convertToInteractive',\n",
       "                                                     [key], {});\n",
       "          if (!dataTable) return;\n",
       "\n",
       "          const docLinkHtml = 'Like what you see? Visit the ' +\n",
       "            '<a target=\"_blank\" href=https://colab.research.google.com/notebooks/data_table.ipynb>data table notebook</a>'\n",
       "            + ' to learn more about interactive tables.';\n",
       "          element.innerHTML = '';\n",
       "          dataTable['output_type'] = 'display_data';\n",
       "          await google.colab.output.renderOutput(dataTable, element);\n",
       "          const docLink = document.createElement('div');\n",
       "          docLink.innerHTML = docLinkHtml;\n",
       "          element.appendChild(docLink);\n",
       "        }\n",
       "      </script>\n",
       "    </div>\n",
       "  </div>\n",
       "  "
      ],
      "text/plain": [
       "         overall vote  verified   reviewTime      reviewerID        asin  \\\n",
       "6739585      4.0  NaN      True  03 21, 2017  A33MAQA919J2V8  B01HJH40WU   \n",
       "6739586      4.0  NaN      True   01 9, 2017  A1AKHSCPD1BHM4  B01HJH40WU   \n",
       "6739587      5.0  2.0      True   12 1, 2016  A2HUZO7MQAY5I2  B01HJH40WU   \n",
       "6739588      5.0  2.0      True  11 29, 2016   AJJ7VX2L91X2W  B01HJH40WU   \n",
       "6739589      5.0  NaN      True  03 31, 2017  A1FGCIRPRNZWD5  B01HJF704M   \n",
       "\n",
       "        style    reviewerName  \\\n",
       "6739585   NaN       Kurt Wurm   \n",
       "6739586   NaN      C.L Momof3   \n",
       "6739587   NaN  michael clontz   \n",
       "6739588   NaN           Faith   \n",
       "6739589   NaN          Brando   \n",
       "\n",
       "                                                                                                                                                                                                                                                                                                                                                                                                                                                                                                                                               reviewText  \\\n",
       "6739585                                                                                                                                                                                                                                                                                                                                                                                                                                                                                                These seem like quality USB cables, time will tell   \n",
       "6739586                                                                                                                                                                                                                                                                                                                                                                                          Works great, love the longer cord. As with any cord you buy they don't last but these did for longer than I expected. Arrived on time and well packaged.   \n",
       "6739587  Ok here is an odd thing that happened to me, I clicked on a sales item that was a 3ft, 6ft and 10ft cable. What I received was 3 6ft cables. To be honest I only need a 6ft and 10ft. As far as the cables themselves, they are pretty nice. They are nylon braided and plug in tight and do not wobble like a cheap pair (that they are replacing) would do. I am disappointed still that I did not get the 10ft but I checked the receipt and it says 3 6ft so I guess I can't complain. It must have been an error in the link within Amazon.   \n",
       "6739588                                                                                                                                                                                                                                                                                                                                                                                                                                                                                                                                       Works well.   \n",
       "6739589                                                                                                I have it plugged into a usb extension on my gaming pc that is ideally placed in a trailer about 50 yards from the wifi router inside the house, also placed in best location. My signal strength is Excellent.\\nI currently get a rating of 10-11mbps rating on google speed test. I've had the speed up to 15-17mbps under better conditions.\\nThis is just something you can expect at least and a comparison. Your provider obviously matters.   \n",
       "\n",
       "                                                summary  unixReviewTime image  \n",
       "6739585                                      Four Stars      1490054400   NaN  \n",
       "6739586                                  Nice long cord      1483920000   NaN  \n",
       "6739587  Not the correct product as linked in the sale.      1480550400   NaN  \n",
       "6739588                                      Five Stars      1480377600   NaN  \n",
       "6739589                             Works well enough..      1490918400   NaN  "
      ]
     },
     "execution_count": 19,
     "metadata": {},
     "output_type": "execute_result"
    }
   ],
   "source": [
    "df_import.tail(5)"
   ]
  },
  {
   "cell_type": "code",
   "execution_count": 20,
   "id": "13390f3e",
   "metadata": {
    "colab": {
     "base_uri": "https://localhost:8080/"
    },
    "id": "13390f3e",
    "outputId": "651f1933-802e-468a-cc5c-6479d75208cf"
   },
   "outputs": [
    {
     "data": {
      "text/plain": [
       "(6739590, 12)"
      ]
     },
     "execution_count": 20,
     "metadata": {},
     "output_type": "execute_result"
    }
   ],
   "source": [
    "df_import.shape"
   ]
  },
  {
   "cell_type": "markdown",
   "id": "l5J1_XfL-mic",
   "metadata": {
    "id": "l5J1_XfL-mic"
   },
   "source": [
    "Exemplary 5 Star review"
   ]
  },
  {
   "cell_type": "code",
   "execution_count": 21,
   "id": "-GpJyiDs9uBn",
   "metadata": {
    "colab": {
     "base_uri": "https://localhost:8080/",
     "height": 36
    },
    "id": "-GpJyiDs9uBn",
    "outputId": "9c99c220-e0ca-4abd-975d-038bee62360d"
   },
   "outputs": [
    {
     "data": {
      "application/vnd.google.colaboratory.intrinsic+json": {
       "type": "string"
      },
      "text/plain": [
       "'Cool'"
      ]
     },
     "execution_count": 21,
     "metadata": {},
     "output_type": "execute_result"
    }
   ],
   "source": [
    "df_import.loc[df_import['overall']==5.0,'reviewText'].iloc[10]"
   ]
  },
  {
   "cell_type": "markdown",
   "id": "lZ7pgnzr-63O",
   "metadata": {
    "id": "lZ7pgnzr-63O"
   },
   "source": [
    "Exemplary 4 Start review"
   ]
  },
  {
   "cell_type": "code",
   "execution_count": 22,
   "id": "O8Aads0M-6Ot",
   "metadata": {
    "colab": {
     "base_uri": "https://localhost:8080/",
     "height": 53
    },
    "id": "O8Aads0M-6Ot",
    "outputId": "34d4f992-55dc-4f8c-e062-49e1a1bf2055"
   },
   "outputs": [
    {
     "data": {
      "application/vnd.google.colaboratory.intrinsic+json": {
       "type": "string"
      },
      "text/plain": [
       "\"is not 400x600 compatible but just disconnect one of the screw from the extension arm and move it forward one more, and it will fit, but you will just have 2 screw on the bottem arms and not 3, but it's okay i mounted it like that and it stable. I like it a lot.\""
      ]
     },
     "execution_count": 22,
     "metadata": {},
     "output_type": "execute_result"
    }
   ],
   "source": [
    "df_import.loc[df_import['overall']==4.0,'reviewText'].iloc[100]"
   ]
  },
  {
   "cell_type": "markdown",
   "id": "Ez3ou0wY-p86",
   "metadata": {
    "id": "Ez3ou0wY-p86"
   },
   "source": [
    "Exemplary 1 Star review"
   ]
  },
  {
   "cell_type": "code",
   "execution_count": 23,
   "id": "Ec308aEl9uD9",
   "metadata": {
    "colab": {
     "base_uri": "https://localhost:8080/",
     "height": 36
    },
    "id": "Ec308aEl9uD9",
    "outputId": "41e874c5-48bd-4cdd-80c8-b033f8e5e49d"
   },
   "outputs": [
    {
     "data": {
      "application/vnd.google.colaboratory.intrinsic+json": {
       "type": "string"
      },
      "text/plain": [
       "'Returned it.  It doesnt allow you to adjust it in order to center the tv in the space you want.'"
      ]
     },
     "execution_count": 23,
     "metadata": {},
     "output_type": "execute_result"
    }
   ],
   "source": [
    "df_import.loc[df_import['overall']==1.0,'reviewText'].iloc[10]"
   ]
  },
  {
   "cell_type": "markdown",
   "id": "8qC4UQA2-wuQ",
   "metadata": {
    "id": "8qC4UQA2-wuQ"
   },
   "source": [
    "Comment: Reviews seem to contain a lot of product information that does not contain their sentiment about the products which could lead to noise. Also, language is not pre-defined per category which means that predicting the exact category will most likely be very difficult. Merely identifying a positive or a negative sentiment however should be much easier."
   ]
  },
  {
   "cell_type": "markdown",
   "id": "f3c21a76",
   "metadata": {
    "id": "f3c21a76"
   },
   "source": [
    "# Initial data cleaning"
   ]
  },
  {
   "cell_type": "markdown",
   "id": "2763edff",
   "metadata": {
    "id": "2763edff"
   },
   "source": [
    "## Remove columns and rows not needed / wanted in analysis"
   ]
  },
  {
   "cell_type": "code",
   "execution_count": 24,
   "id": "16896013",
   "metadata": {
    "id": "16896013"
   },
   "outputs": [],
   "source": [
    "# Remove non-verified reviews\n",
    "df_import = df_import.loc[df_import['verified']==True,:]"
   ]
  },
  {
   "cell_type": "code",
   "execution_count": 25,
   "id": "810b062d",
   "metadata": {
    "colab": {
     "base_uri": "https://localhost:8080/"
    },
    "id": "810b062d",
    "outputId": "e0b2b3ba-edef-4d5e-b31d-3d90d5ff83fd"
   },
   "outputs": [
    {
     "data": {
      "text/plain": [
       "Index(['overall', 'vote', 'verified', 'reviewTime', 'reviewerID', 'asin',\n",
       "       'style', 'reviewerName', 'reviewText', 'summary', 'unixReviewTime',\n",
       "       'image'],\n",
       "      dtype='object')"
      ]
     },
     "execution_count": 25,
     "metadata": {},
     "output_type": "execute_result"
    }
   ],
   "source": [
    "# Check\n",
    "df_import.columns"
   ]
  },
  {
   "cell_type": "code",
   "execution_count": 26,
   "id": "fa1fd72d",
   "metadata": {
    "id": "fa1fd72d"
   },
   "outputs": [],
   "source": [
    "# Drop columns that won't be used for analysis\n",
    "columns_to_drop = ['verified', 'reviewTime', 'reviewerID', 'asin', 'style',\n",
    "       'reviewerName', 'unixReviewTime', 'vote',\n",
    "       'image']\n",
    "\n",
    "df_import.drop(columns_to_drop,axis=1,inplace=True)"
   ]
  },
  {
   "cell_type": "code",
   "execution_count": 27,
   "id": "a3cfa24a",
   "metadata": {
    "id": "a3cfa24a"
   },
   "outputs": [],
   "source": [
    "# Remove rows with '<' as these are likely to contain html labels\n",
    "df_import.drop(df_import[df_import['reviewText'].str.contains('<', regex=False)==True].index,inplace=True)"
   ]
  },
  {
   "cell_type": "markdown",
   "id": "80f4737c",
   "metadata": {
    "id": "80f4737c"
   },
   "source": [
    "## Remove null values"
   ]
  },
  {
   "cell_type": "markdown",
   "id": "3411c99a",
   "metadata": {
    "id": "3411c99a"
   },
   "source": [
    "Simplified approach where all rows will be dropped that contain null values as only a small subset will be used for analysis and original dataset is large."
   ]
  },
  {
   "cell_type": "code",
   "execution_count": 28,
   "id": "01e6a5bd",
   "metadata": {
    "colab": {
     "base_uri": "https://localhost:8080/"
    },
    "id": "01e6a5bd",
    "outputId": "1a0d89b9-f5f4-477e-aed3-99b0ea135280"
   },
   "outputs": [
    {
     "name": "stdout",
     "output_type": "stream",
     "text": [
      "<class 'pandas.core.frame.DataFrame'>\n",
      "Int64Index: 5997085 entries, 0 to 6739589\n",
      "Data columns (total 3 columns):\n",
      " #   Column      Dtype  \n",
      "---  ------      -----  \n",
      " 0   overall     float64\n",
      " 1   reviewText  object \n",
      " 2   summary     object \n",
      "dtypes: float64(1), object(2)\n",
      "memory usage: 183.0+ MB\n"
     ]
    }
   ],
   "source": [
    "df_import.info()"
   ]
  },
  {
   "cell_type": "code",
   "execution_count": 29,
   "id": "b87979b9",
   "metadata": {
    "id": "b87979b9"
   },
   "outputs": [],
   "source": [
    "# drop any rows with null values\n",
    "df_import.dropna(inplace=True)"
   ]
  },
  {
   "cell_type": "code",
   "execution_count": 30,
   "id": "af9fd77e",
   "metadata": {
    "id": "af9fd77e"
   },
   "outputs": [],
   "source": [
    "df_import = df_import[~(df_import.reviewText != 'null') |\n",
    "                      (df_import.reviewText != 'NaN') |\n",
    "                      (df_import.reviewText != 'N/A') |\n",
    "                      (df_import.summary != 'null') |\n",
    "                      (df_import.summary != 'NaN') |\n",
    "                      (df_import.summary != 'N/A')\n",
    "                     ]"
   ]
  },
  {
   "cell_type": "code",
   "execution_count": 31,
   "id": "e0f0c2c1",
   "metadata": {
    "colab": {
     "base_uri": "https://localhost:8080/"
    },
    "id": "e0f0c2c1",
    "outputId": "c1a50c5e-598c-401e-8365-8280f206e541"
   },
   "outputs": [
    {
     "data": {
      "text/plain": [
       "(5995107, 3)"
      ]
     },
     "execution_count": 31,
     "metadata": {},
     "output_type": "execute_result"
    }
   ],
   "source": [
    "# Check\n",
    "df_import.shape"
   ]
  },
  {
   "cell_type": "code",
   "execution_count": 32,
   "id": "2576c0c3",
   "metadata": {
    "colab": {
     "base_uri": "https://localhost:8080/"
    },
    "id": "2576c0c3",
    "outputId": "a7f8547e-18e5-4f5c-9700-f5810764ec2c"
   },
   "outputs": [
    {
     "name": "stdout",
     "output_type": "stream",
     "text": [
      "<class 'pandas.core.frame.DataFrame'>\n",
      "Int64Index: 5995107 entries, 0 to 6739589\n",
      "Data columns (total 3 columns):\n",
      " #   Column      Dtype  \n",
      "---  ------      -----  \n",
      " 0   overall     float64\n",
      " 1   reviewText  object \n",
      " 2   summary     object \n",
      "dtypes: float64(1), object(2)\n",
      "memory usage: 183.0+ MB\n"
     ]
    }
   ],
   "source": [
    "# Check if there are any null values left\n",
    "df_import.info()"
   ]
  },
  {
   "cell_type": "markdown",
   "id": "8eb4767d",
   "metadata": {
    "id": "8eb4767d"
   },
   "source": [
    "## Remove duplicates"
   ]
  },
  {
   "cell_type": "markdown",
   "id": "204e3629",
   "metadata": {
    "id": "204e3629"
   },
   "source": [
    "Simplified approach where all duplicate rows will be dropped as only a small subset will be used for analysis and original dataset is large."
   ]
  },
  {
   "cell_type": "code",
   "execution_count": 33,
   "id": "9a940389",
   "metadata": {
    "id": "9a940389"
   },
   "outputs": [],
   "source": [
    "df_import.drop_duplicates(inplace=True)"
   ]
  },
  {
   "cell_type": "code",
   "execution_count": 34,
   "id": "9996d375",
   "metadata": {
    "colab": {
     "base_uri": "https://localhost:8080/",
     "height": 50
    },
    "id": "9996d375",
    "outputId": "08aebba7-4e16-4a60-c2dd-381c536c8e52"
   },
   "outputs": [
    {
     "data": {
      "text/html": [
       "\n",
       "  <div id=\"df-d1c6055c-0b91-48aa-b256-8bbf7c8e360b\">\n",
       "    <div class=\"colab-df-container\">\n",
       "      <div>\n",
       "<style scoped>\n",
       "    .dataframe tbody tr th:only-of-type {\n",
       "        vertical-align: middle;\n",
       "    }\n",
       "\n",
       "    .dataframe tbody tr th {\n",
       "        vertical-align: top;\n",
       "    }\n",
       "\n",
       "    .dataframe thead th {\n",
       "        text-align: right;\n",
       "    }\n",
       "</style>\n",
       "<table border=\"1\" class=\"dataframe\">\n",
       "  <thead>\n",
       "    <tr style=\"text-align: right;\">\n",
       "      <th></th>\n",
       "      <th>overall</th>\n",
       "      <th>reviewText</th>\n",
       "      <th>summary</th>\n",
       "    </tr>\n",
       "  </thead>\n",
       "  <tbody>\n",
       "  </tbody>\n",
       "</table>\n",
       "</div>\n",
       "      <button class=\"colab-df-convert\" onclick=\"convertToInteractive('df-d1c6055c-0b91-48aa-b256-8bbf7c8e360b')\"\n",
       "              title=\"Convert this dataframe to an interactive table.\"\n",
       "              style=\"display:none;\">\n",
       "        \n",
       "  <svg xmlns=\"http://www.w3.org/2000/svg\" height=\"24px\"viewBox=\"0 0 24 24\"\n",
       "       width=\"24px\">\n",
       "    <path d=\"M0 0h24v24H0V0z\" fill=\"none\"/>\n",
       "    <path d=\"M18.56 5.44l.94 2.06.94-2.06 2.06-.94-2.06-.94-.94-2.06-.94 2.06-2.06.94zm-11 1L8.5 8.5l.94-2.06 2.06-.94-2.06-.94L8.5 2.5l-.94 2.06-2.06.94zm10 10l.94 2.06.94-2.06 2.06-.94-2.06-.94-.94-2.06-.94 2.06-2.06.94z\"/><path d=\"M17.41 7.96l-1.37-1.37c-.4-.4-.92-.59-1.43-.59-.52 0-1.04.2-1.43.59L10.3 9.45l-7.72 7.72c-.78.78-.78 2.05 0 2.83L4 21.41c.39.39.9.59 1.41.59.51 0 1.02-.2 1.41-.59l7.78-7.78 2.81-2.81c.8-.78.8-2.07 0-2.86zM5.41 20L4 18.59l7.72-7.72 1.47 1.35L5.41 20z\"/>\n",
       "  </svg>\n",
       "      </button>\n",
       "      \n",
       "  <style>\n",
       "    .colab-df-container {\n",
       "      display:flex;\n",
       "      flex-wrap:wrap;\n",
       "      gap: 12px;\n",
       "    }\n",
       "\n",
       "    .colab-df-convert {\n",
       "      background-color: #E8F0FE;\n",
       "      border: none;\n",
       "      border-radius: 50%;\n",
       "      cursor: pointer;\n",
       "      display: none;\n",
       "      fill: #1967D2;\n",
       "      height: 32px;\n",
       "      padding: 0 0 0 0;\n",
       "      width: 32px;\n",
       "    }\n",
       "\n",
       "    .colab-df-convert:hover {\n",
       "      background-color: #E2EBFA;\n",
       "      box-shadow: 0px 1px 2px rgba(60, 64, 67, 0.3), 0px 1px 3px 1px rgba(60, 64, 67, 0.15);\n",
       "      fill: #174EA6;\n",
       "    }\n",
       "\n",
       "    [theme=dark] .colab-df-convert {\n",
       "      background-color: #3B4455;\n",
       "      fill: #D2E3FC;\n",
       "    }\n",
       "\n",
       "    [theme=dark] .colab-df-convert:hover {\n",
       "      background-color: #434B5C;\n",
       "      box-shadow: 0px 1px 3px 1px rgba(0, 0, 0, 0.15);\n",
       "      filter: drop-shadow(0px 1px 2px rgba(0, 0, 0, 0.3));\n",
       "      fill: #FFFFFF;\n",
       "    }\n",
       "  </style>\n",
       "\n",
       "      <script>\n",
       "        const buttonEl =\n",
       "          document.querySelector('#df-d1c6055c-0b91-48aa-b256-8bbf7c8e360b button.colab-df-convert');\n",
       "        buttonEl.style.display =\n",
       "          google.colab.kernel.accessAllowed ? 'block' : 'none';\n",
       "\n",
       "        async function convertToInteractive(key) {\n",
       "          const element = document.querySelector('#df-d1c6055c-0b91-48aa-b256-8bbf7c8e360b');\n",
       "          const dataTable =\n",
       "            await google.colab.kernel.invokeFunction('convertToInteractive',\n",
       "                                                     [key], {});\n",
       "          if (!dataTable) return;\n",
       "\n",
       "          const docLinkHtml = 'Like what you see? Visit the ' +\n",
       "            '<a target=\"_blank\" href=https://colab.research.google.com/notebooks/data_table.ipynb>data table notebook</a>'\n",
       "            + ' to learn more about interactive tables.';\n",
       "          element.innerHTML = '';\n",
       "          dataTable['output_type'] = 'display_data';\n",
       "          await google.colab.output.renderOutput(dataTable, element);\n",
       "          const docLink = document.createElement('div');\n",
       "          docLink.innerHTML = docLinkHtml;\n",
       "          element.appendChild(docLink);\n",
       "        }\n",
       "      </script>\n",
       "    </div>\n",
       "  </div>\n",
       "  "
      ],
      "text/plain": [
       "Empty DataFrame\n",
       "Columns: [overall, reviewText, summary]\n",
       "Index: []"
      ]
     },
     "execution_count": 34,
     "metadata": {},
     "output_type": "execute_result"
    }
   ],
   "source": [
    "# Check\n",
    "df_import.loc[df_import.duplicated()>=1,:]"
   ]
  },
  {
   "cell_type": "markdown",
   "id": "77cd2e29",
   "metadata": {
    "id": "77cd2e29"
   },
   "source": [
    "## Join summary and review text"
   ]
  },
  {
   "cell_type": "code",
   "execution_count": 35,
   "id": "19670623",
   "metadata": {
    "id": "19670623"
   },
   "outputs": [],
   "source": [
    "#Combine summary and review text \n",
    "df_import['review'] = df_import[['summary', 'reviewText']].astype(str).apply(' '.join, axis=1)"
   ]
  },
  {
   "cell_type": "code",
   "execution_count": 36,
   "id": "dca54bd3",
   "metadata": {
    "colab": {
     "base_uri": "https://localhost:8080/",
     "height": 298
    },
    "id": "dca54bd3",
    "outputId": "b3a8cdff-ab27-43a5-bd07-f5f95d98eaa4"
   },
   "outputs": [
    {
     "data": {
      "text/html": [
       "\n",
       "  <div id=\"df-d743569d-2668-4059-b4f9-369e455278e2\">\n",
       "    <div class=\"colab-df-container\">\n",
       "      <div>\n",
       "<style scoped>\n",
       "    .dataframe tbody tr th:only-of-type {\n",
       "        vertical-align: middle;\n",
       "    }\n",
       "\n",
       "    .dataframe tbody tr th {\n",
       "        vertical-align: top;\n",
       "    }\n",
       "\n",
       "    .dataframe thead th {\n",
       "        text-align: right;\n",
       "    }\n",
       "</style>\n",
       "<table border=\"1\" class=\"dataframe\">\n",
       "  <thead>\n",
       "    <tr style=\"text-align: right;\">\n",
       "      <th></th>\n",
       "      <th>overall</th>\n",
       "      <th>reviewText</th>\n",
       "      <th>summary</th>\n",
       "      <th>review</th>\n",
       "    </tr>\n",
       "  </thead>\n",
       "  <tbody>\n",
       "    <tr>\n",
       "      <th>0</th>\n",
       "      <td>5.0</td>\n",
       "      <td>This is the best novel I have read in 2 or 3 years.  It is everything that fiction should be -- beautifully written, engaging, well-plotted and structured.  It has several layers of meanings -- historical, family,  philosophical and more -- and blends them all skillfully and interestingly.  It makes the American grad student/writers' workshop \"my parents were  mean to me and then my professors were mean to me\" trivia look  childish and silly by comparison, as they are.\\nAnyone who says this is an  adolescent girl's coming of age story is trivializing it.  Ignore them.  Read this book if you love literature.\\nI was particularly impressed with  this young author's grasp of the meaning and texture of the lost world of  French Algeria in the 1950's and '60's...particularly poignant when read in  1999 from another ruined and abandoned French colony, amid the decaying  buildings of Phnom Penh...\\nI hope the author will write many more books  and that her publishers will bring her first novel back into print -- I  want to read it.  Thank you, Ms. Messud, for writing such a wonderful work.</td>\n",
       "      <td>A star is born</td>\n",
       "      <td>A star is born This is the best novel I have read in 2 or 3 years.  It is everything that fiction should be -- beautifully written, engaging, well-plotted and structured.  It has several layers of meanings -- historical, family,  philosophical and more -- and blends them all skillfully and interestingly.  It makes the American grad student/writers' workshop \"my parents were  mean to me and then my professors were mean to me\" trivia look  childish and silly by comparison, as they are.\\nAnyone who says this is an  adolescent girl's coming of age story is trivializing it.  Ignore them.  Read this book if you love literature.\\nI was particularly impressed with  this young author's grasp of the meaning and texture of the lost world of  French Algeria in the 1950's and '60's...particularly poignant when read in  1999 from another ruined and abandoned French colony, amid the decaying  buildings of Phnom Penh...\\nI hope the author will write many more books  and that her publishers will bring her first novel back into print -- I  want to read it.  Thank you, Ms. Messud, for writing such a wonderful work.</td>\n",
       "    </tr>\n",
       "  </tbody>\n",
       "</table>\n",
       "</div>\n",
       "      <button class=\"colab-df-convert\" onclick=\"convertToInteractive('df-d743569d-2668-4059-b4f9-369e455278e2')\"\n",
       "              title=\"Convert this dataframe to an interactive table.\"\n",
       "              style=\"display:none;\">\n",
       "        \n",
       "  <svg xmlns=\"http://www.w3.org/2000/svg\" height=\"24px\"viewBox=\"0 0 24 24\"\n",
       "       width=\"24px\">\n",
       "    <path d=\"M0 0h24v24H0V0z\" fill=\"none\"/>\n",
       "    <path d=\"M18.56 5.44l.94 2.06.94-2.06 2.06-.94-2.06-.94-.94-2.06-.94 2.06-2.06.94zm-11 1L8.5 8.5l.94-2.06 2.06-.94-2.06-.94L8.5 2.5l-.94 2.06-2.06.94zm10 10l.94 2.06.94-2.06 2.06-.94-2.06-.94-.94-2.06-.94 2.06-2.06.94z\"/><path d=\"M17.41 7.96l-1.37-1.37c-.4-.4-.92-.59-1.43-.59-.52 0-1.04.2-1.43.59L10.3 9.45l-7.72 7.72c-.78.78-.78 2.05 0 2.83L4 21.41c.39.39.9.59 1.41.59.51 0 1.02-.2 1.41-.59l7.78-7.78 2.81-2.81c.8-.78.8-2.07 0-2.86zM5.41 20L4 18.59l7.72-7.72 1.47 1.35L5.41 20z\"/>\n",
       "  </svg>\n",
       "      </button>\n",
       "      \n",
       "  <style>\n",
       "    .colab-df-container {\n",
       "      display:flex;\n",
       "      flex-wrap:wrap;\n",
       "      gap: 12px;\n",
       "    }\n",
       "\n",
       "    .colab-df-convert {\n",
       "      background-color: #E8F0FE;\n",
       "      border: none;\n",
       "      border-radius: 50%;\n",
       "      cursor: pointer;\n",
       "      display: none;\n",
       "      fill: #1967D2;\n",
       "      height: 32px;\n",
       "      padding: 0 0 0 0;\n",
       "      width: 32px;\n",
       "    }\n",
       "\n",
       "    .colab-df-convert:hover {\n",
       "      background-color: #E2EBFA;\n",
       "      box-shadow: 0px 1px 2px rgba(60, 64, 67, 0.3), 0px 1px 3px 1px rgba(60, 64, 67, 0.15);\n",
       "      fill: #174EA6;\n",
       "    }\n",
       "\n",
       "    [theme=dark] .colab-df-convert {\n",
       "      background-color: #3B4455;\n",
       "      fill: #D2E3FC;\n",
       "    }\n",
       "\n",
       "    [theme=dark] .colab-df-convert:hover {\n",
       "      background-color: #434B5C;\n",
       "      box-shadow: 0px 1px 3px 1px rgba(0, 0, 0, 0.15);\n",
       "      filter: drop-shadow(0px 1px 2px rgba(0, 0, 0, 0.3));\n",
       "      fill: #FFFFFF;\n",
       "    }\n",
       "  </style>\n",
       "\n",
       "      <script>\n",
       "        const buttonEl =\n",
       "          document.querySelector('#df-d743569d-2668-4059-b4f9-369e455278e2 button.colab-df-convert');\n",
       "        buttonEl.style.display =\n",
       "          google.colab.kernel.accessAllowed ? 'block' : 'none';\n",
       "\n",
       "        async function convertToInteractive(key) {\n",
       "          const element = document.querySelector('#df-d743569d-2668-4059-b4f9-369e455278e2');\n",
       "          const dataTable =\n",
       "            await google.colab.kernel.invokeFunction('convertToInteractive',\n",
       "                                                     [key], {});\n",
       "          if (!dataTable) return;\n",
       "\n",
       "          const docLinkHtml = 'Like what you see? Visit the ' +\n",
       "            '<a target=\"_blank\" href=https://colab.research.google.com/notebooks/data_table.ipynb>data table notebook</a>'\n",
       "            + ' to learn more about interactive tables.';\n",
       "          element.innerHTML = '';\n",
       "          dataTable['output_type'] = 'display_data';\n",
       "          await google.colab.output.renderOutput(dataTable, element);\n",
       "          const docLink = document.createElement('div');\n",
       "          docLink.innerHTML = docLinkHtml;\n",
       "          element.appendChild(docLink);\n",
       "        }\n",
       "      </script>\n",
       "    </div>\n",
       "  </div>\n",
       "  "
      ],
      "text/plain": [
       "   overall  \\\n",
       "0      5.0   \n",
       "\n",
       "                                                                                                                                                                                                                                                                                                                                                                                                                                                                                                                                                                                                                                                                                                                                                                                                                                                                                                                                                                                                                                                                                                                                   reviewText  \\\n",
       "0  This is the best novel I have read in 2 or 3 years.  It is everything that fiction should be -- beautifully written, engaging, well-plotted and structured.  It has several layers of meanings -- historical, family,  philosophical and more -- and blends them all skillfully and interestingly.  It makes the American grad student/writers' workshop \"my parents were  mean to me and then my professors were mean to me\" trivia look  childish and silly by comparison, as they are.\\nAnyone who says this is an  adolescent girl's coming of age story is trivializing it.  Ignore them.  Read this book if you love literature.\\nI was particularly impressed with  this young author's grasp of the meaning and texture of the lost world of  French Algeria in the 1950's and '60's...particularly poignant when read in  1999 from another ruined and abandoned French colony, amid the decaying  buildings of Phnom Penh...\\nI hope the author will write many more books  and that her publishers will bring her first novel back into print -- I  want to read it.  Thank you, Ms. Messud, for writing such a wonderful work.   \n",
       "\n",
       "          summary  \\\n",
       "0  A star is born   \n",
       "\n",
       "                                                                                                                                                                                                                                                                                                                                                                                                                                                                                                                                                                                                                                                                                                                                                                                                                                                                                                                                                                                                                                                                                                                                                      review  \n",
       "0  A star is born This is the best novel I have read in 2 or 3 years.  It is everything that fiction should be -- beautifully written, engaging, well-plotted and structured.  It has several layers of meanings -- historical, family,  philosophical and more -- and blends them all skillfully and interestingly.  It makes the American grad student/writers' workshop \"my parents were  mean to me and then my professors were mean to me\" trivia look  childish and silly by comparison, as they are.\\nAnyone who says this is an  adolescent girl's coming of age story is trivializing it.  Ignore them.  Read this book if you love literature.\\nI was particularly impressed with  this young author's grasp of the meaning and texture of the lost world of  French Algeria in the 1950's and '60's...particularly poignant when read in  1999 from another ruined and abandoned French colony, amid the decaying  buildings of Phnom Penh...\\nI hope the author will write many more books  and that her publishers will bring her first novel back into print -- I  want to read it.  Thank you, Ms. Messud, for writing such a wonderful work.  "
      ]
     },
     "execution_count": 36,
     "metadata": {},
     "output_type": "execute_result"
    }
   ],
   "source": [
    "df_import.head(1)"
   ]
  },
  {
   "cell_type": "code",
   "execution_count": 37,
   "id": "669eba05",
   "metadata": {
    "id": "669eba05"
   },
   "outputs": [],
   "source": [
    "#Drop columns\n",
    "df_import.drop(['summary','reviewText'], axis=1, inplace=True)"
   ]
  },
  {
   "cell_type": "markdown",
   "id": "f2c36fb3",
   "metadata": {
    "id": "f2c36fb3"
   },
   "source": [
    "# Take sample"
   ]
  },
  {
   "cell_type": "code",
   "execution_count": 38,
   "id": "6b784ef7",
   "metadata": {
    "colab": {
     "base_uri": "https://localhost:8080/",
     "height": 307
    },
    "id": "6b784ef7",
    "outputId": "f864e7bc-77f3-4fbe-84ff-2f1f30f58729"
   },
   "outputs": [
    {
     "data": {
      "text/plain": [
       "<matplotlib.axes._subplots.AxesSubplot at 0x7f132241e110>"
      ]
     },
     "execution_count": 38,
     "metadata": {},
     "output_type": "execute_result"
    },
    {
     "data": {
      "image/png": "[encoded data removed]",
      "text/plain": [
       "<Figure size 432x288 with 1 Axes>"
      ]
     },
     "metadata": {
      "needs_background": "light"
     },
     "output_type": "display_data"
    }
   ],
   "source": [
    "# Check if dataset is balanced or imbalanced\n",
    "sns.countplot(x=df_import['overall'])"
   ]
  },
  {
   "cell_type": "code",
   "execution_count": 39,
   "id": "bae70097",
   "metadata": {
    "id": "bae70097"
   },
   "outputs": [],
   "source": [
    "# Dataset it imbalanced and simplified approach to taking stratified sample\n",
    "\n",
    "df_list=[]\n",
    "for score in sorted(df_import['overall'].unique().tolist()):\n",
    "    current_df = df_import.loc[df_import['overall']==score,:]\n",
    "    df_list.append(current_df.sample(n=50000,random_state=42))"
   ]
  },
  {
   "cell_type": "code",
   "execution_count": 40,
   "id": "95f1486f",
   "metadata": {
    "id": "95f1486f"
   },
   "outputs": [],
   "source": [
    "df = pd.concat(df_list)"
   ]
  },
  {
   "cell_type": "code",
   "execution_count": 41,
   "id": "bec55e0c",
   "metadata": {
    "id": "bec55e0c"
   },
   "outputs": [],
   "source": [
    "# rename columns\n",
    "df.rename(columns={'overall':'label_rating'},inplace=True)"
   ]
  },
  {
   "cell_type": "code",
   "execution_count": 42,
   "id": "d3262de7",
   "metadata": {
    "colab": {
     "base_uri": "https://localhost:8080/",
     "height": 226
    },
    "id": "d3262de7",
    "outputId": "51f503e8-af79-4f65-ade1-2848fd79e8dd"
   },
   "outputs": [
    {
     "data": {
      "text/html": [
       "\n",
       "  <div id=\"df-026ab82c-e7fd-4839-bbc0-5483565d34e8\">\n",
       "    <div class=\"colab-df-container\">\n",
       "      <div>\n",
       "<style scoped>\n",
       "    .dataframe tbody tr th:only-of-type {\n",
       "        vertical-align: middle;\n",
       "    }\n",
       "\n",
       "    .dataframe tbody tr th {\n",
       "        vertical-align: top;\n",
       "    }\n",
       "\n",
       "    .dataframe thead th {\n",
       "        text-align: right;\n",
       "    }\n",
       "</style>\n",
       "<table border=\"1\" class=\"dataframe\">\n",
       "  <thead>\n",
       "    <tr style=\"text-align: right;\">\n",
       "      <th></th>\n",
       "      <th>label_rating</th>\n",
       "      <th>review</th>\n",
       "    </tr>\n",
       "  </thead>\n",
       "  <tbody>\n",
       "    <tr>\n",
       "      <th>5402842</th>\n",
       "      <td>1.0</td>\n",
       "      <td>Pretty poor performance. I purchased these because I wanted to try a set of wireless bluetooth earbuds and honestly, they aren't very good.\\n\\nAfter connecting my ipod to the earbuds, I put my ipod into my pocket.  Just walking with it like this caused the earbuds to crackle and lose signal.  It couldn't have been more than a few feet of distance between them but this problem was happening way too frequently.  It was so bad I went back to my old wired headphones.\\n\\nI guess these might be for someone, but if the range is going to be this restricted, don't even bother.  If you plan on using these while exercising or even just walking you should probably pass.\\n\\nUpdate:  they really suck.  Worst headphones I've ever purchased.  The bluetooth is garbage.\\n\\nThe company is from China so good luck getting a return.</td>\n",
       "    </tr>\n",
       "    <tr>\n",
       "      <th>6343421</th>\n",
       "      <td>1.0</td>\n",
       "      <td>bad buy my hand book recommends that for my nokia but phone couldn't recognise it so very disappointed with it because it is junk</td>\n",
       "    </tr>\n",
       "  </tbody>\n",
       "</table>\n",
       "</div>\n",
       "      <button class=\"colab-df-convert\" onclick=\"convertToInteractive('df-026ab82c-e7fd-4839-bbc0-5483565d34e8')\"\n",
       "              title=\"Convert this dataframe to an interactive table.\"\n",
       "              style=\"display:none;\">\n",
       "        \n",
       "  <svg xmlns=\"http://www.w3.org/2000/svg\" height=\"24px\"viewBox=\"0 0 24 24\"\n",
       "       width=\"24px\">\n",
       "    <path d=\"M0 0h24v24H0V0z\" fill=\"none\"/>\n",
       "    <path d=\"M18.56 5.44l.94 2.06.94-2.06 2.06-.94-2.06-.94-.94-2.06-.94 2.06-2.06.94zm-11 1L8.5 8.5l.94-2.06 2.06-.94-2.06-.94L8.5 2.5l-.94 2.06-2.06.94zm10 10l.94 2.06.94-2.06 2.06-.94-2.06-.94-.94-2.06-.94 2.06-2.06.94z\"/><path d=\"M17.41 7.96l-1.37-1.37c-.4-.4-.92-.59-1.43-.59-.52 0-1.04.2-1.43.59L10.3 9.45l-7.72 7.72c-.78.78-.78 2.05 0 2.83L4 21.41c.39.39.9.59 1.41.59.51 0 1.02-.2 1.41-.59l7.78-7.78 2.81-2.81c.8-.78.8-2.07 0-2.86zM5.41 20L4 18.59l7.72-7.72 1.47 1.35L5.41 20z\"/>\n",
       "  </svg>\n",
       "      </button>\n",
       "      \n",
       "  <style>\n",
       "    .colab-df-container {\n",
       "      display:flex;\n",
       "      flex-wrap:wrap;\n",
       "      gap: 12px;\n",
       "    }\n",
       "\n",
       "    .colab-df-convert {\n",
       "      background-color: #E8F0FE;\n",
       "      border: none;\n",
       "      border-radius: 50%;\n",
       "      cursor: pointer;\n",
       "      display: none;\n",
       "      fill: #1967D2;\n",
       "      height: 32px;\n",
       "      padding: 0 0 0 0;\n",
       "      width: 32px;\n",
       "    }\n",
       "\n",
       "    .colab-df-convert:hover {\n",
       "      background-color: #E2EBFA;\n",
       "      box-shadow: 0px 1px 2px rgba(60, 64, 67, 0.3), 0px 1px 3px 1px rgba(60, 64, 67, 0.15);\n",
       "      fill: #174EA6;\n",
       "    }\n",
       "\n",
       "    [theme=dark] .colab-df-convert {\n",
       "      background-color: #3B4455;\n",
       "      fill: #D2E3FC;\n",
       "    }\n",
       "\n",
       "    [theme=dark] .colab-df-convert:hover {\n",
       "      background-color: #434B5C;\n",
       "      box-shadow: 0px 1px 3px 1px rgba(0, 0, 0, 0.15);\n",
       "      filter: drop-shadow(0px 1px 2px rgba(0, 0, 0, 0.3));\n",
       "      fill: #FFFFFF;\n",
       "    }\n",
       "  </style>\n",
       "\n",
       "      <script>\n",
       "        const buttonEl =\n",
       "          document.querySelector('#df-026ab82c-e7fd-4839-bbc0-5483565d34e8 button.colab-df-convert');\n",
       "        buttonEl.style.display =\n",
       "          google.colab.kernel.accessAllowed ? 'block' : 'none';\n",
       "\n",
       "        async function convertToInteractive(key) {\n",
       "          const element = document.querySelector('#df-026ab82c-e7fd-4839-bbc0-5483565d34e8');\n",
       "          const dataTable =\n",
       "            await google.colab.kernel.invokeFunction('convertToInteractive',\n",
       "                                                     [key], {});\n",
       "          if (!dataTable) return;\n",
       "\n",
       "          const docLinkHtml = 'Like what you see? Visit the ' +\n",
       "            '<a target=\"_blank\" href=https://colab.research.google.com/notebooks/data_table.ipynb>data table notebook</a>'\n",
       "            + ' to learn more about interactive tables.';\n",
       "          element.innerHTML = '';\n",
       "          dataTable['output_type'] = 'display_data';\n",
       "          await google.colab.output.renderOutput(dataTable, element);\n",
       "          const docLink = document.createElement('div');\n",
       "          docLink.innerHTML = docLinkHtml;\n",
       "          element.appendChild(docLink);\n",
       "        }\n",
       "      </script>\n",
       "    </div>\n",
       "  </div>\n",
       "  "
      ],
      "text/plain": [
       "         label_rating  \\\n",
       "5402842           1.0   \n",
       "6343421           1.0   \n",
       "\n",
       "                                                                                                                                                                                                                                                                                                                                                                                                                                                                                                                                                                                                                                                                                                                                                                                                                                                         review  \n",
       "5402842  Pretty poor performance. I purchased these because I wanted to try a set of wireless bluetooth earbuds and honestly, they aren't very good.\\n\\nAfter connecting my ipod to the earbuds, I put my ipod into my pocket.  Just walking with it like this caused the earbuds to crackle and lose signal.  It couldn't have been more than a few feet of distance between them but this problem was happening way too frequently.  It was so bad I went back to my old wired headphones.\\n\\nI guess these might be for someone, but if the range is going to be this restricted, don't even bother.  If you plan on using these while exercising or even just walking you should probably pass.\\n\\nUpdate:  they really suck.  Worst headphones I've ever purchased.  The bluetooth is garbage.\\n\\nThe company is from China so good luck getting a return.  \n",
       "6343421                                                                                                                                                                                                                                                                                                                                                                                                                                                                                                                                                                                                                                                                                                                       bad buy my hand book recommends that for my nokia but phone couldn't recognise it so very disappointed with it because it is junk  "
      ]
     },
     "execution_count": 42,
     "metadata": {},
     "output_type": "execute_result"
    }
   ],
   "source": [
    "df.head(2)"
   ]
  },
  {
   "cell_type": "code",
   "execution_count": 43,
   "id": "1848ff62",
   "metadata": {
    "colab": {
     "base_uri": "https://localhost:8080/"
    },
    "id": "1848ff62",
    "outputId": "a04de2e7-d213-4636-94c9-ed45742fbc03"
   },
   "outputs": [
    {
     "name": "stdout",
     "output_type": "stream",
     "text": [
      "<class 'pandas.core.frame.DataFrame'>\n",
      "Int64Index: 250000 entries, 5402842 to 5439887\n",
      "Data columns (total 2 columns):\n",
      " #   Column        Non-Null Count   Dtype  \n",
      "---  ------        --------------   -----  \n",
      " 0   label_rating  250000 non-null  float64\n",
      " 1   review        250000 non-null  object \n",
      "dtypes: float64(1), object(1)\n",
      "memory usage: 5.7+ MB\n"
     ]
    }
   ],
   "source": [
    "df.info()"
   ]
  },
  {
   "cell_type": "code",
   "execution_count": 44,
   "id": "717HAtvASrR_",
   "metadata": {
    "colab": {
     "base_uri": "https://localhost:8080/",
     "height": 297
    },
    "id": "717HAtvASrR_",
    "outputId": "7efd4af4-a284-44fe-ce36-f682c22d9b66"
   },
   "outputs": [
    {
     "data": {
      "text/plain": [
       "<matplotlib.axes._subplots.AxesSubplot at 0x7f1369833cd0>"
      ]
     },
     "execution_count": 44,
     "metadata": {},
     "output_type": "execute_result"
    },
    {
     "data": {
      "image/png": "[encoded data removed]",
      "text/plain": [
       "<Figure size 432x288 with 1 Axes>"
      ]
     },
     "metadata": {
      "needs_background": "light"
     },
     "output_type": "display_data"
    }
   ],
   "source": [
    "# balanced dataset\n",
    "sns.countplot(x=df['label_rating'])"
   ]
  },
  {
   "cell_type": "code",
   "execution_count": 45,
   "id": "208a8d8b",
   "metadata": {
    "colab": {
     "base_uri": "https://localhost:8080/",
     "height": 395
    },
    "id": "208a8d8b",
    "outputId": "662dc8d9-47d2-4670-a12f-34091787db44"
   },
   "outputs": [
    {
     "data": {
      "text/html": [
       "\n",
       "  <div id=\"df-8572afe9-6209-4de3-ad84-aeb255e58897\">\n",
       "    <div class=\"colab-df-container\">\n",
       "      <div>\n",
       "<style scoped>\n",
       "    .dataframe tbody tr th:only-of-type {\n",
       "        vertical-align: middle;\n",
       "    }\n",
       "\n",
       "    .dataframe tbody tr th {\n",
       "        vertical-align: top;\n",
       "    }\n",
       "\n",
       "    .dataframe thead th {\n",
       "        text-align: right;\n",
       "    }\n",
       "</style>\n",
       "<table border=\"1\" class=\"dataframe\">\n",
       "  <thead>\n",
       "    <tr style=\"text-align: right;\">\n",
       "      <th></th>\n",
       "      <th>label_rating</th>\n",
       "      <th>review</th>\n",
       "    </tr>\n",
       "  </thead>\n",
       "  <tbody>\n",
       "    <tr>\n",
       "      <th>count</th>\n",
       "      <td>250000.000000</td>\n",
       "      <td>250000</td>\n",
       "    </tr>\n",
       "    <tr>\n",
       "      <th>unique</th>\n",
       "      <td>NaN</td>\n",
       "      <td>249985</td>\n",
       "    </tr>\n",
       "    <tr>\n",
       "      <th>top</th>\n",
       "      <td>NaN</td>\n",
       "      <td>works great works great</td>\n",
       "    </tr>\n",
       "    <tr>\n",
       "      <th>freq</th>\n",
       "      <td>NaN</td>\n",
       "      <td>2</td>\n",
       "    </tr>\n",
       "    <tr>\n",
       "      <th>mean</th>\n",
       "      <td>3.000000</td>\n",
       "      <td>NaN</td>\n",
       "    </tr>\n",
       "    <tr>\n",
       "      <th>std</th>\n",
       "      <td>1.414216</td>\n",
       "      <td>NaN</td>\n",
       "    </tr>\n",
       "    <tr>\n",
       "      <th>min</th>\n",
       "      <td>1.000000</td>\n",
       "      <td>NaN</td>\n",
       "    </tr>\n",
       "    <tr>\n",
       "      <th>25%</th>\n",
       "      <td>2.000000</td>\n",
       "      <td>NaN</td>\n",
       "    </tr>\n",
       "    <tr>\n",
       "      <th>50%</th>\n",
       "      <td>3.000000</td>\n",
       "      <td>NaN</td>\n",
       "    </tr>\n",
       "    <tr>\n",
       "      <th>75%</th>\n",
       "      <td>4.000000</td>\n",
       "      <td>NaN</td>\n",
       "    </tr>\n",
       "    <tr>\n",
       "      <th>max</th>\n",
       "      <td>5.000000</td>\n",
       "      <td>NaN</td>\n",
       "    </tr>\n",
       "  </tbody>\n",
       "</table>\n",
       "</div>\n",
       "      <button class=\"colab-df-convert\" onclick=\"convertToInteractive('df-8572afe9-6209-4de3-ad84-aeb255e58897')\"\n",
       "              title=\"Convert this dataframe to an interactive table.\"\n",
       "              style=\"display:none;\">\n",
       "        \n",
       "  <svg xmlns=\"http://www.w3.org/2000/svg\" height=\"24px\"viewBox=\"0 0 24 24\"\n",
       "       width=\"24px\">\n",
       "    <path d=\"M0 0h24v24H0V0z\" fill=\"none\"/>\n",
       "    <path d=\"M18.56 5.44l.94 2.06.94-2.06 2.06-.94-2.06-.94-.94-2.06-.94 2.06-2.06.94zm-11 1L8.5 8.5l.94-2.06 2.06-.94-2.06-.94L8.5 2.5l-.94 2.06-2.06.94zm10 10l.94 2.06.94-2.06 2.06-.94-2.06-.94-.94-2.06-.94 2.06-2.06.94z\"/><path d=\"M17.41 7.96l-1.37-1.37c-.4-.4-.92-.59-1.43-.59-.52 0-1.04.2-1.43.59L10.3 9.45l-7.72 7.72c-.78.78-.78 2.05 0 2.83L4 21.41c.39.39.9.59 1.41.59.51 0 1.02-.2 1.41-.59l7.78-7.78 2.81-2.81c.8-.78.8-2.07 0-2.86zM5.41 20L4 18.59l7.72-7.72 1.47 1.35L5.41 20z\"/>\n",
       "  </svg>\n",
       "      </button>\n",
       "      \n",
       "  <style>\n",
       "    .colab-df-container {\n",
       "      display:flex;\n",
       "      flex-wrap:wrap;\n",
       "      gap: 12px;\n",
       "    }\n",
       "\n",
       "    .colab-df-convert {\n",
       "      background-color: #E8F0FE;\n",
       "      border: none;\n",
       "      border-radius: 50%;\n",
       "      cursor: pointer;\n",
       "      display: none;\n",
       "      fill: #1967D2;\n",
       "      height: 32px;\n",
       "      padding: 0 0 0 0;\n",
       "      width: 32px;\n",
       "    }\n",
       "\n",
       "    .colab-df-convert:hover {\n",
       "      background-color: #E2EBFA;\n",
       "      box-shadow: 0px 1px 2px rgba(60, 64, 67, 0.3), 0px 1px 3px 1px rgba(60, 64, 67, 0.15);\n",
       "      fill: #174EA6;\n",
       "    }\n",
       "\n",
       "    [theme=dark] .colab-df-convert {\n",
       "      background-color: #3B4455;\n",
       "      fill: #D2E3FC;\n",
       "    }\n",
       "\n",
       "    [theme=dark] .colab-df-convert:hover {\n",
       "      background-color: #434B5C;\n",
       "      box-shadow: 0px 1px 3px 1px rgba(0, 0, 0, 0.15);\n",
       "      filter: drop-shadow(0px 1px 2px rgba(0, 0, 0, 0.3));\n",
       "      fill: #FFFFFF;\n",
       "    }\n",
       "  </style>\n",
       "\n",
       "      <script>\n",
       "        const buttonEl =\n",
       "          document.querySelector('#df-8572afe9-6209-4de3-ad84-aeb255e58897 button.colab-df-convert');\n",
       "        buttonEl.style.display =\n",
       "          google.colab.kernel.accessAllowed ? 'block' : 'none';\n",
       "\n",
       "        async function convertToInteractive(key) {\n",
       "          const element = document.querySelector('#df-8572afe9-6209-4de3-ad84-aeb255e58897');\n",
       "          const dataTable =\n",
       "            await google.colab.kernel.invokeFunction('convertToInteractive',\n",
       "                                                     [key], {});\n",
       "          if (!dataTable) return;\n",
       "\n",
       "          const docLinkHtml = 'Like what you see? Visit the ' +\n",
       "            '<a target=\"_blank\" href=https://colab.research.google.com/notebooks/data_table.ipynb>data table notebook</a>'\n",
       "            + ' to learn more about interactive tables.';\n",
       "          element.innerHTML = '';\n",
       "          dataTable['output_type'] = 'display_data';\n",
       "          await google.colab.output.renderOutput(dataTable, element);\n",
       "          const docLink = document.createElement('div');\n",
       "          docLink.innerHTML = docLinkHtml;\n",
       "          element.appendChild(docLink);\n",
       "        }\n",
       "      </script>\n",
       "    </div>\n",
       "  </div>\n",
       "  "
      ],
      "text/plain": [
       "         label_rating                   review\n",
       "count   250000.000000                   250000\n",
       "unique            NaN                   249985\n",
       "top               NaN  works great works great\n",
       "freq              NaN                        2\n",
       "mean         3.000000                      NaN\n",
       "std          1.414216                      NaN\n",
       "min          1.000000                      NaN\n",
       "25%          2.000000                      NaN\n",
       "50%          3.000000                      NaN\n",
       "75%          4.000000                      NaN\n",
       "max          5.000000                      NaN"
      ]
     },
     "execution_count": 45,
     "metadata": {},
     "output_type": "execute_result"
    }
   ],
   "source": [
    "df.describe(include='all')"
   ]
  },
  {
   "cell_type": "markdown",
   "id": "7b1e71f4",
   "metadata": {
    "id": "7b1e71f4"
   },
   "source": [
    "# Prepare data for sentiment analysis"
   ]
  },
  {
   "cell_type": "markdown",
   "id": "518659f6",
   "metadata": {
    "id": "518659f6"
   },
   "source": [
    "## Pre-process data"
   ]
  },
  {
   "cell_type": "markdown",
   "id": "7dbce16c",
   "metadata": {
    "id": "7dbce16c"
   },
   "source": [
    "**Steps**\n",
    "\n",
    "- Set text to lowercase\n",
    "- Remove the HTML tags and URLs\n",
    "- Remove contractions\n",
    "- Remove punctuation\n",
    "- Remove stopwords\n",
    "- optional: Lemmatization"
   ]
  },
  {
   "cell_type": "code",
   "execution_count": 46,
   "id": "3bb86bf5",
   "metadata": {
    "id": "3bb86bf5"
   },
   "outputs": [],
   "source": [
    "# convert review text to lower case\n",
    "df['review_clean'] = df['review'].apply(lambda s: s.lower())"
   ]
  },
  {
   "cell_type": "code",
   "execution_count": 48,
   "id": "939285c5",
   "metadata": {
    "colab": {
     "base_uri": "https://localhost:8080/",
     "height": 381
    },
    "id": "939285c5",
    "outputId": "b85a6a58-2312-4618-9e5e-4ec5c6d74bc4"
   },
   "outputs": [
    {
     "ename": "KeyboardInterrupt",
     "evalue": "ignored",
     "output_type": "error",
     "traceback": [
      "\u001b[0;31m---------------------------------------------------------------------------\u001b[0m",
      "\u001b[0;31mKeyboardInterrupt\u001b[0m                         Traceback (most recent call last)",
      "\u001b[0;32m<ipython-input-48-d02f419429d3>\u001b[0m in \u001b[0;36m<module>\u001b[0;34m\u001b[0m\n\u001b[1;32m      2\u001b[0m \u001b[0;34m\u001b[0m\u001b[0m\n\u001b[1;32m      3\u001b[0m \u001b[0;31m# via beautifulsoup\u001b[0m\u001b[0;34m\u001b[0m\u001b[0;34m\u001b[0m\u001b[0;34m\u001b[0m\u001b[0m\n\u001b[0;32m----> 4\u001b[0;31m \u001b[0mdf\u001b[0m\u001b[0;34m[\u001b[0m\u001b[0;34m'review_clean'\u001b[0m\u001b[0;34m]\u001b[0m \u001b[0;34m=\u001b[0m \u001b[0mdf\u001b[0m\u001b[0;34m[\u001b[0m\u001b[0;34m'review_clean'\u001b[0m\u001b[0;34m]\u001b[0m\u001b[0;34m.\u001b[0m\u001b[0mapply\u001b[0m\u001b[0;34m(\u001b[0m\u001b[0;32mlambda\u001b[0m \u001b[0mx\u001b[0m\u001b[0;34m:\u001b[0m \u001b[0mBeautifulSoup\u001b[0m\u001b[0;34m(\u001b[0m\u001b[0mx\u001b[0m\u001b[0;34m)\u001b[0m\u001b[0;34m.\u001b[0m\u001b[0mget_text\u001b[0m\u001b[0;34m(\u001b[0m\u001b[0;34m)\u001b[0m\u001b[0;34m)\u001b[0m\u001b[0;34m\u001b[0m\u001b[0;34m\u001b[0m\u001b[0m\n\u001b[0m\u001b[1;32m      5\u001b[0m \u001b[0;34m\u001b[0m\u001b[0m\n\u001b[1;32m      6\u001b[0m \u001b[0;31m# via regex\u001b[0m\u001b[0;34m\u001b[0m\u001b[0;34m\u001b[0m\u001b[0;34m\u001b[0m\u001b[0m\n",
      "\u001b[0;32m/usr/local/lib/python3.7/dist-packages/pandas/core/series.py\u001b[0m in \u001b[0;36mapply\u001b[0;34m(self, func, convert_dtype, args, **kwargs)\u001b[0m\n\u001b[1;32m   4355\u001b[0m         \u001b[0mdtype\u001b[0m\u001b[0;34m:\u001b[0m \u001b[0mfloat64\u001b[0m\u001b[0;34m\u001b[0m\u001b[0;34m\u001b[0m\u001b[0m\n\u001b[1;32m   4356\u001b[0m         \"\"\"\n\u001b[0;32m-> 4357\u001b[0;31m         \u001b[0;32mreturn\u001b[0m \u001b[0mSeriesApply\u001b[0m\u001b[0;34m(\u001b[0m\u001b[0mself\u001b[0m\u001b[0;34m,\u001b[0m \u001b[0mfunc\u001b[0m\u001b[0;34m,\u001b[0m \u001b[0mconvert_dtype\u001b[0m\u001b[0;34m,\u001b[0m \u001b[0margs\u001b[0m\u001b[0;34m,\u001b[0m \u001b[0mkwargs\u001b[0m\u001b[0;34m)\u001b[0m\u001b[0;34m.\u001b[0m\u001b[0mapply\u001b[0m\u001b[0;34m(\u001b[0m\u001b[0;34m)\u001b[0m\u001b[0;34m\u001b[0m\u001b[0;34m\u001b[0m\u001b[0m\n\u001b[0m\u001b[1;32m   4358\u001b[0m \u001b[0;34m\u001b[0m\u001b[0m\n\u001b[1;32m   4359\u001b[0m     def _reduce(\n",
      "\u001b[0;32m/usr/local/lib/python3.7/dist-packages/pandas/core/apply.py\u001b[0m in \u001b[0;36mapply\u001b[0;34m(self)\u001b[0m\n\u001b[1;32m   1041\u001b[0m             \u001b[0;32mreturn\u001b[0m \u001b[0mself\u001b[0m\u001b[0;34m.\u001b[0m\u001b[0mapply_str\u001b[0m\u001b[0;34m(\u001b[0m\u001b[0;34m)\u001b[0m\u001b[0;34m\u001b[0m\u001b[0;34m\u001b[0m\u001b[0m\n\u001b[1;32m   1042\u001b[0m \u001b[0;34m\u001b[0m\u001b[0m\n\u001b[0;32m-> 1043\u001b[0;31m         \u001b[0;32mreturn\u001b[0m \u001b[0mself\u001b[0m\u001b[0;34m.\u001b[0m\u001b[0mapply_standard\u001b[0m\u001b[0;34m(\u001b[0m\u001b[0;34m)\u001b[0m\u001b[0;34m\u001b[0m\u001b[0;34m\u001b[0m\u001b[0m\n\u001b[0m\u001b[1;32m   1044\u001b[0m \u001b[0;34m\u001b[0m\u001b[0m\n\u001b[1;32m   1045\u001b[0m     \u001b[0;32mdef\u001b[0m \u001b[0magg\u001b[0m\u001b[0;34m(\u001b[0m\u001b[0mself\u001b[0m\u001b[0;34m)\u001b[0m\u001b[0;34m:\u001b[0m\u001b[0;34m\u001b[0m\u001b[0;34m\u001b[0m\u001b[0m\n",
      "\u001b[0;32m/usr/local/lib/python3.7/dist-packages/pandas/core/apply.py\u001b[0m in \u001b[0;36mapply_standard\u001b[0;34m(self)\u001b[0m\n\u001b[1;32m   1099\u001b[0m                     \u001b[0mvalues\u001b[0m\u001b[0;34m,\u001b[0m\u001b[0;34m\u001b[0m\u001b[0;34m\u001b[0m\u001b[0m\n\u001b[1;32m   1100\u001b[0m                     \u001b[0mf\u001b[0m\u001b[0;34m,\u001b[0m  \u001b[0;31m# type: ignore[arg-type]\u001b[0m\u001b[0;34m\u001b[0m\u001b[0;34m\u001b[0m\u001b[0m\n\u001b[0;32m-> 1101\u001b[0;31m                     \u001b[0mconvert\u001b[0m\u001b[0;34m=\u001b[0m\u001b[0mself\u001b[0m\u001b[0;34m.\u001b[0m\u001b[0mconvert_dtype\u001b[0m\u001b[0;34m,\u001b[0m\u001b[0;34m\u001b[0m\u001b[0;34m\u001b[0m\u001b[0m\n\u001b[0m\u001b[1;32m   1102\u001b[0m                 )\n\u001b[1;32m   1103\u001b[0m \u001b[0;34m\u001b[0m\u001b[0m\n",
      "\u001b[0;32m/usr/local/lib/python3.7/dist-packages/pandas/_libs/lib.pyx\u001b[0m in \u001b[0;36mpandas._libs.lib.map_infer\u001b[0;34m()\u001b[0m\n",
      "\u001b[0;32m<ipython-input-48-d02f419429d3>\u001b[0m in \u001b[0;36m<lambda>\u001b[0;34m(x)\u001b[0m\n\u001b[1;32m      2\u001b[0m \u001b[0;34m\u001b[0m\u001b[0m\n\u001b[1;32m      3\u001b[0m \u001b[0;31m# via beautifulsoup\u001b[0m\u001b[0;34m\u001b[0m\u001b[0;34m\u001b[0m\u001b[0;34m\u001b[0m\u001b[0m\n\u001b[0;32m----> 4\u001b[0;31m \u001b[0mdf\u001b[0m\u001b[0;34m[\u001b[0m\u001b[0;34m'review_clean'\u001b[0m\u001b[0;34m]\u001b[0m \u001b[0;34m=\u001b[0m \u001b[0mdf\u001b[0m\u001b[0;34m[\u001b[0m\u001b[0;34m'review_clean'\u001b[0m\u001b[0;34m]\u001b[0m\u001b[0;34m.\u001b[0m\u001b[0mapply\u001b[0m\u001b[0;34m(\u001b[0m\u001b[0;32mlambda\u001b[0m \u001b[0mx\u001b[0m\u001b[0;34m:\u001b[0m \u001b[0mBeautifulSoup\u001b[0m\u001b[0;34m(\u001b[0m\u001b[0mx\u001b[0m\u001b[0;34m)\u001b[0m\u001b[0;34m.\u001b[0m\u001b[0mget_text\u001b[0m\u001b[0;34m(\u001b[0m\u001b[0;34m)\u001b[0m\u001b[0;34m)\u001b[0m\u001b[0;34m\u001b[0m\u001b[0;34m\u001b[0m\u001b[0m\n\u001b[0m\u001b[1;32m      5\u001b[0m \u001b[0;34m\u001b[0m\u001b[0m\n\u001b[1;32m      6\u001b[0m \u001b[0;31m# via regex\u001b[0m\u001b[0;34m\u001b[0m\u001b[0;34m\u001b[0m\u001b[0;34m\u001b[0m\u001b[0m\n",
      "\u001b[0;32m/usr/local/lib/python3.7/dist-packages/bs4/__init__.py\u001b[0m in \u001b[0;36m__init__\u001b[0;34m(self, markup, features, builder, parse_only, from_encoding, exclude_encodings, **kwargs)\u001b[0m\n\u001b[1;32m    280\u001b[0m             \u001b[0mself\u001b[0m\u001b[0;34m.\u001b[0m\u001b[0mreset\u001b[0m\u001b[0;34m(\u001b[0m\u001b[0;34m)\u001b[0m\u001b[0;34m\u001b[0m\u001b[0;34m\u001b[0m\u001b[0m\n\u001b[1;32m    281\u001b[0m             \u001b[0;32mtry\u001b[0m\u001b[0;34m:\u001b[0m\u001b[0;34m\u001b[0m\u001b[0;34m\u001b[0m\u001b[0m\n\u001b[0;32m--> 282\u001b[0;31m                 \u001b[0mself\u001b[0m\u001b[0;34m.\u001b[0m\u001b[0m_feed\u001b[0m\u001b[0;34m(\u001b[0m\u001b[0;34m)\u001b[0m\u001b[0;34m\u001b[0m\u001b[0;34m\u001b[0m\u001b[0m\n\u001b[0m\u001b[1;32m    283\u001b[0m                 \u001b[0;32mbreak\u001b[0m\u001b[0;34m\u001b[0m\u001b[0;34m\u001b[0m\u001b[0m\n\u001b[1;32m    284\u001b[0m             \u001b[0;32mexcept\u001b[0m \u001b[0mParserRejectedMarkup\u001b[0m\u001b[0;34m:\u001b[0m\u001b[0;34m\u001b[0m\u001b[0;34m\u001b[0m\u001b[0m\n",
      "\u001b[0;32m/usr/local/lib/python3.7/dist-packages/bs4/__init__.py\u001b[0m in \u001b[0;36m_feed\u001b[0;34m(self)\u001b[0m\n\u001b[1;32m    341\u001b[0m         \u001b[0mself\u001b[0m\u001b[0;34m.\u001b[0m\u001b[0mbuilder\u001b[0m\u001b[0;34m.\u001b[0m\u001b[0mreset\u001b[0m\u001b[0;34m(\u001b[0m\u001b[0;34m)\u001b[0m\u001b[0;34m\u001b[0m\u001b[0;34m\u001b[0m\u001b[0m\n\u001b[1;32m    342\u001b[0m \u001b[0;34m\u001b[0m\u001b[0m\n\u001b[0;32m--> 343\u001b[0;31m         \u001b[0mself\u001b[0m\u001b[0;34m.\u001b[0m\u001b[0mbuilder\u001b[0m\u001b[0;34m.\u001b[0m\u001b[0mfeed\u001b[0m\u001b[0;34m(\u001b[0m\u001b[0mself\u001b[0m\u001b[0;34m.\u001b[0m\u001b[0mmarkup\u001b[0m\u001b[0;34m)\u001b[0m\u001b[0;34m\u001b[0m\u001b[0;34m\u001b[0m\u001b[0m\n\u001b[0m\u001b[1;32m    344\u001b[0m         \u001b[0;31m# Close out any unfinished strings and close all the open tags.\u001b[0m\u001b[0;34m\u001b[0m\u001b[0;34m\u001b[0m\u001b[0;34m\u001b[0m\u001b[0m\n\u001b[1;32m    345\u001b[0m         \u001b[0mself\u001b[0m\u001b[0;34m.\u001b[0m\u001b[0mendData\u001b[0m\u001b[0;34m(\u001b[0m\u001b[0;34m)\u001b[0m\u001b[0;34m\u001b[0m\u001b[0;34m\u001b[0m\u001b[0m\n",
      "\u001b[0;32m/usr/local/lib/python3.7/dist-packages/bs4/builder/_lxml.py\u001b[0m in \u001b[0;36mfeed\u001b[0;34m(self, markup)\u001b[0m\n\u001b[1;32m    252\u001b[0m         \u001b[0;32mtry\u001b[0m\u001b[0;34m:\u001b[0m\u001b[0;34m\u001b[0m\u001b[0;34m\u001b[0m\u001b[0m\n\u001b[1;32m    253\u001b[0m             \u001b[0mself\u001b[0m\u001b[0;34m.\u001b[0m\u001b[0mparser\u001b[0m \u001b[0;34m=\u001b[0m \u001b[0mself\u001b[0m\u001b[0;34m.\u001b[0m\u001b[0mparser_for\u001b[0m\u001b[0;34m(\u001b[0m\u001b[0mencoding\u001b[0m\u001b[0;34m)\u001b[0m\u001b[0;34m\u001b[0m\u001b[0;34m\u001b[0m\u001b[0m\n\u001b[0;32m--> 254\u001b[0;31m             \u001b[0mself\u001b[0m\u001b[0;34m.\u001b[0m\u001b[0mparser\u001b[0m\u001b[0;34m.\u001b[0m\u001b[0mfeed\u001b[0m\u001b[0;34m(\u001b[0m\u001b[0mmarkup\u001b[0m\u001b[0;34m)\u001b[0m\u001b[0;34m\u001b[0m\u001b[0;34m\u001b[0m\u001b[0m\n\u001b[0m\u001b[1;32m    255\u001b[0m             \u001b[0mself\u001b[0m\u001b[0;34m.\u001b[0m\u001b[0mparser\u001b[0m\u001b[0;34m.\u001b[0m\u001b[0mclose\u001b[0m\u001b[0;34m(\u001b[0m\u001b[0;34m)\u001b[0m\u001b[0;34m\u001b[0m\u001b[0;34m\u001b[0m\u001b[0m\n\u001b[1;32m    256\u001b[0m         \u001b[0;32mexcept\u001b[0m \u001b[0;34m(\u001b[0m\u001b[0mUnicodeDecodeError\u001b[0m\u001b[0;34m,\u001b[0m \u001b[0mLookupError\u001b[0m\u001b[0;34m,\u001b[0m \u001b[0metree\u001b[0m\u001b[0;34m.\u001b[0m\u001b[0mParserError\u001b[0m\u001b[0;34m)\u001b[0m \u001b[0;32mas\u001b[0m \u001b[0me\u001b[0m\u001b[0;34m:\u001b[0m\u001b[0;34m\u001b[0m\u001b[0;34m\u001b[0m\u001b[0m\n",
      "\u001b[0;31mKeyboardInterrupt\u001b[0m: "
     ]
    }
   ],
   "source": [
    "# Remove the HTML tags and URLs from reviews if still existent\n",
    "\n",
    "# via beautifulsoup\n",
    "df['review_clean'] = df['review_clean'].apply(lambda x: BeautifulSoup(x).get_text())\n",
    "\n",
    "# via regex\n",
    "df['review_clean'] = df['review_clean'].apply(lambda x: re.sub(r'http\\S+', '', x))"
   ]
  },
  {
   "cell_type": "code",
   "execution_count": 50,
   "id": "972f9289",
   "metadata": {
    "id": "972f9289"
   },
   "outputs": [],
   "source": [
    "def remove_contractions(c):\n",
    "    c = re.sub(r'\\’m', ' am', c)\n",
    "    c = re.sub(r'\\’d', ' would',c)\n",
    "    c = re.sub(r'can\\’t', 'can not',c)\n",
    "    c = re.sub(r'n\\’t', ' not', c)\n",
    "    c= re.sub(r'\\’re', ' are', c)\n",
    "    c = re.sub(r'\\’s', ' is', c)\n",
    "    c = re.sub(r'\\’ll', ' will', c)\n",
    "    c = re.sub(r'\\’t', ' not', c)\n",
    "    c = re.sub(r'\\’ve', ' have', c)\n",
    "    c = re.sub(r'won’t', 'will not',c)\n",
    "    c = re.sub(r'would’t', 'would not',c)\n",
    "    c = re.sub(r'could’t', 'could not',c)\n",
    "\n",
    "    return c\n",
    "\n",
    "df['review_clean'] = df['review_clean'].apply(lambda x: remove_contractions(x))"
   ]
  },
  {
   "cell_type": "code",
   "execution_count": 51,
   "id": "2237119f",
   "metadata": {
    "id": "2237119f"
   },
   "outputs": [],
   "source": [
    "# remove punctuation\n",
    "df['review_clean']=[re.sub('[^\\w\\s]+', '', s) for s in df['review'].tolist()]"
   ]
  },
  {
   "cell_type": "code",
   "execution_count": 52,
   "id": "c5c7e614",
   "metadata": {
    "id": "c5c7e614"
   },
   "outputs": [],
   "source": [
    "# remove digits\n",
    "df['review_clean']=[re.sub('[\\d+]+', '', s) for s in df['review'].tolist()]"
   ]
  },
  {
   "cell_type": "code",
   "execution_count": 53,
   "id": "925271ac",
   "metadata": {
    "colab": {
     "base_uri": "https://localhost:8080/"
    },
    "id": "925271ac",
    "outputId": "2e566c0f-bdce-4a00-95c2-198266c55236"
   },
   "outputs": [
    {
     "name": "stdout",
     "output_type": "stream",
     "text": [
      "frozenset({'onto', 'indeed', 'really', 'amount', 'those', 'i', 'everywhere', 'why', 'anyway', 'within', 'except', 'everything', 'are', 'up', 'besides', 'take', 'give', 'her', 'where', 'you', 'yourselves', 'doing', 'seem', 'herein', 'bill', 'whom', 'rather', 'three', 'himself', 'de', 'describe', 'whereas', 'eg', 'him', 'out', 'an', 'please', 'into', 'often', 'nevertheless', 'sometimes', 'part', 'whatever', 'whereupon', 'again', 'around', 'two', 'latter', 'be', 'afterwards', 'first', 'being', 'front', 'either', 'could', 'we', 'at', 'my', 'other', 'becomes', 'nothing', 'thereafter', 'against', 'can', 'over', 'what', 'when', 'done', 'neither', 'never', 'themselves', 'thick', 'thin', 'mine', 'move', 'it', 'nowhere', 'amoungst', 'under', 'six', 'find', 'seeming', 'just', 'one', 'twelve', 'perhaps', 'fify', 'any', 'hereafter', 'me', 'wherein', 'hasnt', 'had', 'through', 'if', 'thru', 'five', 'namely', 'unless', 'here', 'which', 'anyhow', 'cry', 'down', 'anyone', 'now', 'much', 'then', 'once', 'toward', 'these', 'see', 'twenty', 'some', 'per', 'didn', 'go', 'beforehand', 'made', 'us', 'there', 'for', 'etc', 'found', 'so', 'the', 'thus', 'during', 'even', 'myself', 'seems', 'almost', 'more', 'hereupon', 'whereby', 'that', 'but', 'must', 'become', 'serious', 'meanwhile', 'system', 'same', 'did', 'anything', 'show', 'sincere', 'and', 'should', 'across', 'detail', 'top', 'forty', 'as', 'thereupon', 'doesn', 'each', 'full', 'not', 'mostly', 'in', 'has', 'mill', 'whence', 'towards', 'none', 'ltd', 'empty', 'nor', 'whether', 'couldnt', 'ever', 'several', 'fire', 'eleven', 'is', 'noone', 'eight', 'among', 'after', 'will', 'hereby', 'behind', 'formerly', 'about', 'beyond', 'below', 'whenever', 'how', 'their', 'off', 'somewhere', 'another', 'been', 'together', 'would', 'due', 'un', 'various', 'yourself', 'otherwise', 'was', 'sixty', 'inc', 'yet', 'or', 'well', 'kg', 'enough', 'cant', 'don', 'third', 'else', 'ourselves', 'already', 'throughout', 'until', 'something', 'though', 'than', 'along', 'were', 'keep', 'do', 'have', 'your', 'latterly', 'many', 'may', 'his', 'by', 'someone', 'make', 'while', 'con', 'because', 'from', 'without', 'whole', 'side', 'nobody', 'above', 'thence', 'others', 'own', 'put', 'to', 'ie', 'very', 'former', 'ours', 'whither', 'fifteen', 'moreover', 'next', 'last', 'does', 'get', 'all', 'they', 'a', 'fill', 'less', 'via', 'everyone', 'co', 'somehow', 'its', 'bottom', 'sometime', 'became', 'thereby', 'further', 'only', 'therein', 'our', 'computer', 'no', 'whereafter', 'itself', 'still', 'nine', 'hence', 'always', 'although', 'whoever', 'most', 'he', 'this', 'too', 'whose', 'cannot', 'elsewhere', 'becoming', 'call', 'using', 'name', 'amongst', 'on', 'since', 'upon', 'regarding', 'least', 'herself', 'say', 'who', 'beside', 're', 'used', 'am', 'four', 'both', 'between', 'back', 'anywhere', 'wherever', 'such', 'seemed', 'might', 'quite', 'interest', 'every', 'hers', 'before', 'them', 'km', 'with', 'also', 'she', 'however', 'therefore', 'few', 'hundred', 'alone', 'of', 'yours', 'ten'})\n"
     ]
    }
   ],
   "source": [
    "# use gensim to remove stopwords\n",
    "print(STOPWORDS)\n",
    "\n",
    "# do not remove 'not'\n",
    "\n",
    "all_stopwords_gensim = STOPWORDS\n",
    "sw_list = {\"not\"}\n",
    "all_stopwords_gensim = STOPWORDS.difference(sw_list)\n",
    "\n",
    "df['review_clean'] = df['review_clean'].apply(lambda x: ' '.join([word for word in x.split() if word not in (all_stopwords_gensim)]))"
   ]
  },
  {
   "cell_type": "code",
   "execution_count": 54,
   "id": "6fb7ea87",
   "metadata": {
    "id": "6fb7ea87"
   },
   "outputs": [],
   "source": [
    "# Lemmatize with spacy\n",
    "## Initialize spacy ‘en’ model, keeping only the component required for lemmatization and creating an engine:\n",
    "\n",
    "nlp = spacy.load('en_core_web_sm', disable=['tagger', 'parser', 'ner'])\n",
    "\n",
    "def lemmatize_pipe(doc):\n",
    "    lemma_list = [str(tok.lemma_).lower() for tok in doc]\n",
    "    return lemma_list\n",
    "\n",
    "\n",
    "def preprocess_pipe(texts):\n",
    "    preproc_pipe = []\n",
    "    for doc in nlp.pipe(texts, batch_size=20):\n",
    "        preproc_pipe.append(lemmatize_pipe(doc))\n",
    "    return preproc_pipe"
   ]
  },
  {
   "cell_type": "code",
   "execution_count": 55,
   "id": "68641047",
   "metadata": {
    "id": "68641047"
   },
   "outputs": [],
   "source": [
    "# df['review_lemma'] = preprocess_pipe(df['review_clean'])\n",
    "\n",
    "# df.head()"
   ]
  },
  {
   "cell_type": "markdown",
   "id": "qFtpSbmpp8dy",
   "metadata": {
    "id": "qFtpSbmpp8dy"
   },
   "source": [
    "## Visualize word frequency"
   ]
  },
  {
   "cell_type": "code",
   "execution_count": 56,
   "id": "bce9aa6e",
   "metadata": {
    "id": "bce9aa6e"
   },
   "outputs": [],
   "source": [
    "#Filter data\n",
    "review_1 = df[df[\"label_rating\"]==1].dropna()\n",
    "review_2 = df[df[\"label_rating\"]==2].dropna()\n",
    "review_3 = df[df[\"label_rating\"]==3].dropna()\n",
    "review_4 = df[df[\"label_rating\"]==4].dropna()\n",
    "review_5 = df[df[\"label_rating\"]==5].dropna()"
   ]
  },
  {
   "cell_type": "code",
   "execution_count": 57,
   "id": "9e25fb2c",
   "metadata": {
    "id": "9e25fb2c"
   },
   "outputs": [],
   "source": [
    "# custom function for ngrams\n",
    "def generate_ngrams(text, n_gram=1):\n",
    "    token = [token for token in text.lower().split(\" \") if token != \"\" if token not in STOPWORDS]\n",
    "    ngrams = zip(*[token[i:] for i in range(n_gram)])\n",
    "    return [\" \".join(ngram) for ngram in ngrams]"
   ]
  },
  {
   "cell_type": "code",
   "execution_count": 58,
   "id": "392ff704",
   "metadata": {
    "colab": {
     "base_uri": "https://localhost:8080/",
     "height": 1000
    },
    "id": "392ff704",
    "outputId": "b54f993c-93fa-4cb3-f3c7-998f1b5ef069"
   },
   "outputs": [
    {
     "data": {
      "text/html": [
       "<html>\n",
       "<head><meta charset=\"utf-8\" /></head>\n",
       "<body>\n",
       "    <div>            <script src=\"https://cdnjs.cloudflare.com/ajax/libs/mathjax/2.7.5/MathJax.js?config=TeX-AMS-MML_SVG\"></script><script type=\"text/javascript\">if (window.MathJax) {MathJax.Hub.Config({SVG: {font: \"STIX-Web\"}});}</script>                <script type=\"text/javascript\">window.PlotlyConfig = {MathJaxConfig: 'local'};</script>\n",
       "        <script src=\"https://cdn.plot.ly/plotly-2.8.3.min.js\"></script>                <div id=\"7a939774-2c2d-425f-b6a0-c7ba83af2707\" class=\"plotly-graph-div\" style=\"height:1200px; width:900px;\"></div>            <script type=\"text/javascript\">                                    window.PLOTLYENV=window.PLOTLYENV || {};                                    if (document.getElementById(\"7a939774-2c2d-425f-b6a0-c7ba83af2707\")) {                    Plotly.newPlot(                        \"7a939774-2c2d-425f-b6a0-c7ba83af2707\",                        [{\"marker\":{\"color\":\"green\"},\"orientation\":\"h\",\"showlegend\":false,\"x\":[4014,4045,4106,4185,4355,4514,4646,4663,4694,4766,4807,4815,5001,5102,5438,5912,6043,6228,7200,8479,8991,9143,12744,14488,23452],\"xaxis\":\"x\",\"y\":[\"need\",\"perfect\",\"-\",\"camera\",\"don't\",\"cable\",\"work\",\"little\",\"it.\",\"case\",\"sound\",\"product\",\"price\",\"bought\",\"nice\",\"quality\",\"easy\",\"love\",\"it's\",\"like\",\"stars\",\"use\",\"good\",\"works\",\"great\"],\"yaxis\":\"y\",\"type\":\"bar\"},{\"marker\":{\"color\":\"lightgreen\"},\"orientation\":\"h\",\"showlegend\":false,\"x\":[5040,5119,5315,5383,5477,5772,5805,5920,5923,6244,6261,6691,6868,6975,7201,7355,8016,9057,9233,12538,12750,13466,15813,17876,22395],\"xaxis\":\"x2\",\"y\":[\"bit\",\"bought\",\"product\",\"need\",\"better\",\"i'm\",\"it.\",\"easy\",\"-\",\"camera\",\"price\",\"quality\",\"work\",\"case\",\"sound\",\"don't\",\"nice\",\"little\",\"stars\",\"use\",\"it's\",\"like\",\"works\",\"great\",\"good\"],\"yaxis\":\"y2\",\"type\":\"bar\"},{\"marker\":{\"color\":\"grey\"},\"orientation\":\"h\",\"showlegend\":false,\"x\":[4858,4864,4864,5235,5298,5338,5533,5622,5983,6242,6246,6406,6737,6829,7026,7417,8535,9059,9254,9434,10740,12145,12457,14626,16347],\"xaxis\":\"x3\",\"y\":[\"nice\",\"need\",\"...\",\"product\",\"time\",\"doesn't\",\"bought\",\"camera\",\"i'm\",\"it.\",\"-\",\"little\",\"case\",\"better\",\"quality\",\"sound\",\"don't\",\"stars\",\"great\",\"work\",\"works\",\"use\",\"like\",\"it's\",\"good\"],\"yaxis\":\"y3\",\"type\":\"bar\"},{\"marker\":{\"color\":\"red\"},\"orientation\":\"h\",\"showlegend\":false,\"x\":[4838,5396,5502,5673,5701,6021,6024,6083,6168,6199,6204,6287,6856,6950,6965,7413,7565,7702,7838,8944,11199,11270,11607,11614,12041],\"xaxis\":\"x4\",\"y\":[\"worked\",\"case\",\"camera\",\"got\",\"2\",\"doesn't\",\"product\",\"works\",\"time\",\"didn't\",\"better\",\"i'm\",\"bought\",\"great\",\"-\",\"it.\",\"sound\",\"quality\",\"stars\",\"don't\",\"it's\",\"use\",\"work\",\"good\",\"like\"],\"yaxis\":\"y4\",\"type\":\"bar\"},{\"marker\":{\"color\":\"darkred\"},\"orientation\":\"h\",\"showlegend\":false,\"x\":[4381,4408,4757,4810,5094,5102,5232,5276,5560,5753,6042,6230,6468,6901,6917,7018,7046,7268,7687,7818,8130,8256,8274,9347,13138],\"xaxis\":\"x5\",\"y\":[\"bad\",\"cable\",\"camera\",\"i'm\",\"return\",\"worked\",\"quality\",\"2\",\"tried\",\"doesn't\",\"got\",\"didn't\",\"-\",\"bought\",\"time\",\"it.\",\"good\",\"star\",\"buy\",\"it's\",\"product\",\"like\",\"use\",\"don't\",\"work\"],\"yaxis\":\"y5\",\"type\":\"bar\"}],                        {\"annotations\":[{\"font\":{\"size\":16},\"showarrow\":false,\"text\":\"Frequent words of 5 Star reviews\",\"x\":0.5,\"xanchor\":\"center\",\"xref\":\"paper\",\"y\":1.0,\"yanchor\":\"bottom\",\"yref\":\"paper\"},{\"font\":{\"size\":16},\"showarrow\":false,\"text\":\"Frequent words of 4 Star reviews\",\"x\":0.5,\"xanchor\":\"center\",\"xref\":\"paper\",\"y\":0.792,\"yanchor\":\"bottom\",\"yref\":\"paper\"},{\"font\":{\"size\":16},\"showarrow\":false,\"text\":\"Frequent words of 3 Star reviews\",\"x\":0.5,\"xanchor\":\"center\",\"xref\":\"paper\",\"y\":0.584,\"yanchor\":\"bottom\",\"yref\":\"paper\"},{\"font\":{\"size\":16},\"showarrow\":false,\"text\":\"Frequent words of 2 Star reviews\",\"x\":0.5,\"xanchor\":\"center\",\"xref\":\"paper\",\"y\":0.376,\"yanchor\":\"bottom\",\"yref\":\"paper\"},{\"font\":{\"size\":16},\"showarrow\":false,\"text\":\"Frequent words of 1 Star reviews\",\"x\":0.5,\"xanchor\":\"center\",\"xref\":\"paper\",\"y\":0.16799999999999998,\"yanchor\":\"bottom\",\"yref\":\"paper\"}],\"height\":1200,\"paper_bgcolor\":\"rgb(233,233,233)\",\"template\":{\"data\":{\"barpolar\":[{\"marker\":{\"line\":{\"color\":\"#E5ECF6\",\"width\":0.5},\"pattern\":{\"fillmode\":\"overlay\",\"size\":10,\"solidity\":0.2}},\"type\":\"barpolar\"}],\"bar\":[{\"error_x\":{\"color\":\"#2a3f5f\"},\"error_y\":{\"color\":\"#2a3f5f\"},\"marker\":{\"line\":{\"color\":\"#E5ECF6\",\"width\":0.5},\"pattern\":{\"fillmode\":\"overlay\",\"size\":10,\"solidity\":0.2}},\"type\":\"bar\"}],\"carpet\":[{\"aaxis\":{\"endlinecolor\":\"#2a3f5f\",\"gridcolor\":\"white\",\"linecolor\":\"white\",\"minorgridcolor\":\"white\",\"startlinecolor\":\"#2a3f5f\"},\"baxis\":{\"endlinecolor\":\"#2a3f5f\",\"gridcolor\":\"white\",\"linecolor\":\"white\",\"minorgridcolor\":\"white\",\"startlinecolor\":\"#2a3f5f\"},\"type\":\"carpet\"}],\"choropleth\":[{\"colorbar\":{\"outlinewidth\":0,\"ticks\":\"\"},\"type\":\"choropleth\"}],\"contourcarpet\":[{\"colorbar\":{\"outlinewidth\":0,\"ticks\":\"\"},\"type\":\"contourcarpet\"}],\"contour\":[{\"colorbar\":{\"outlinewidth\":0,\"ticks\":\"\"},\"colorscale\":[[0.0,\"#0d0887\"],[0.1111111111111111,\"#46039f\"],[0.2222222222222222,\"#7201a8\"],[0.3333333333333333,\"#9c179e\"],[0.4444444444444444,\"#bd3786\"],[0.5555555555555556,\"#d8576b\"],[0.6666666666666666,\"#ed7953\"],[0.7777777777777778,\"#fb9f3a\"],[0.8888888888888888,\"#fdca26\"],[1.0,\"#f0f921\"]],\"type\":\"contour\"}],\"heatmapgl\":[{\"colorbar\":{\"outlinewidth\":0,\"ticks\":\"\"},\"colorscale\":[[0.0,\"#0d0887\"],[0.1111111111111111,\"#46039f\"],[0.2222222222222222,\"#7201a8\"],[0.3333333333333333,\"#9c179e\"],[0.4444444444444444,\"#bd3786\"],[0.5555555555555556,\"#d8576b\"],[0.6666666666666666,\"#ed7953\"],[0.7777777777777778,\"#fb9f3a\"],[0.8888888888888888,\"#fdca26\"],[1.0,\"#f0f921\"]],\"type\":\"heatmapgl\"}],\"heatmap\":[{\"colorbar\":{\"outlinewidth\":0,\"ticks\":\"\"},\"colorscale\":[[0.0,\"#0d0887\"],[0.1111111111111111,\"#46039f\"],[0.2222222222222222,\"#7201a8\"],[0.3333333333333333,\"#9c179e\"],[0.4444444444444444,\"#bd3786\"],[0.5555555555555556,\"#d8576b\"],[0.6666666666666666,\"#ed7953\"],[0.7777777777777778,\"#fb9f3a\"],[0.8888888888888888,\"#fdca26\"],[1.0,\"#f0f921\"]],\"type\":\"heatmap\"}],\"histogram2dcontour\":[{\"colorbar\":{\"outlinewidth\":0,\"ticks\":\"\"},\"colorscale\":[[0.0,\"#0d0887\"],[0.1111111111111111,\"#46039f\"],[0.2222222222222222,\"#7201a8\"],[0.3333333333333333,\"#9c179e\"],[0.4444444444444444,\"#bd3786\"],[0.5555555555555556,\"#d8576b\"],[0.6666666666666666,\"#ed7953\"],[0.7777777777777778,\"#fb9f3a\"],[0.8888888888888888,\"#fdca26\"],[1.0,\"#f0f921\"]],\"type\":\"histogram2dcontour\"}],\"histogram2d\":[{\"colorbar\":{\"outlinewidth\":0,\"ticks\":\"\"},\"colorscale\":[[0.0,\"#0d0887\"],[0.1111111111111111,\"#46039f\"],[0.2222222222222222,\"#7201a8\"],[0.3333333333333333,\"#9c179e\"],[0.4444444444444444,\"#bd3786\"],[0.5555555555555556,\"#d8576b\"],[0.6666666666666666,\"#ed7953\"],[0.7777777777777778,\"#fb9f3a\"],[0.8888888888888888,\"#fdca26\"],[1.0,\"#f0f921\"]],\"type\":\"histogram2d\"}],\"histogram\":[{\"marker\":{\"pattern\":{\"fillmode\":\"overlay\",\"size\":10,\"solidity\":0.2}},\"type\":\"histogram\"}],\"mesh3d\":[{\"colorbar\":{\"outlinewidth\":0,\"ticks\":\"\"},\"type\":\"mesh3d\"}],\"parcoords\":[{\"line\":{\"colorbar\":{\"outlinewidth\":0,\"ticks\":\"\"}},\"type\":\"parcoords\"}],\"pie\":[{\"automargin\":true,\"type\":\"pie\"}],\"scatter3d\":[{\"line\":{\"colorbar\":{\"outlinewidth\":0,\"ticks\":\"\"}},\"marker\":{\"colorbar\":{\"outlinewidth\":0,\"ticks\":\"\"}},\"type\":\"scatter3d\"}],\"scattercarpet\":[{\"marker\":{\"colorbar\":{\"outlinewidth\":0,\"ticks\":\"\"}},\"type\":\"scattercarpet\"}],\"scattergeo\":[{\"marker\":{\"colorbar\":{\"outlinewidth\":0,\"ticks\":\"\"}},\"type\":\"scattergeo\"}],\"scattergl\":[{\"marker\":{\"colorbar\":{\"outlinewidth\":0,\"ticks\":\"\"}},\"type\":\"scattergl\"}],\"scattermapbox\":[{\"marker\":{\"colorbar\":{\"outlinewidth\":0,\"ticks\":\"\"}},\"type\":\"scattermapbox\"}],\"scatterpolargl\":[{\"marker\":{\"colorbar\":{\"outlinewidth\":0,\"ticks\":\"\"}},\"type\":\"scatterpolargl\"}],\"scatterpolar\":[{\"marker\":{\"colorbar\":{\"outlinewidth\":0,\"ticks\":\"\"}},\"type\":\"scatterpolar\"}],\"scatter\":[{\"marker\":{\"colorbar\":{\"outlinewidth\":0,\"ticks\":\"\"}},\"type\":\"scatter\"}],\"scatterternary\":[{\"marker\":{\"colorbar\":{\"outlinewidth\":0,\"ticks\":\"\"}},\"type\":\"scatterternary\"}],\"surface\":[{\"colorbar\":{\"outlinewidth\":0,\"ticks\":\"\"},\"colorscale\":[[0.0,\"#0d0887\"],[0.1111111111111111,\"#46039f\"],[0.2222222222222222,\"#7201a8\"],[0.3333333333333333,\"#9c179e\"],[0.4444444444444444,\"#bd3786\"],[0.5555555555555556,\"#d8576b\"],[0.6666666666666666,\"#ed7953\"],[0.7777777777777778,\"#fb9f3a\"],[0.8888888888888888,\"#fdca26\"],[1.0,\"#f0f921\"]],\"type\":\"surface\"}],\"table\":[{\"cells\":{\"fill\":{\"color\":\"#EBF0F8\"},\"line\":{\"color\":\"white\"}},\"header\":{\"fill\":{\"color\":\"#C8D4E3\"},\"line\":{\"color\":\"white\"}},\"type\":\"table\"}]},\"layout\":{\"annotationdefaults\":{\"arrowcolor\":\"#2a3f5f\",\"arrowhead\":0,\"arrowwidth\":1},\"autotypenumbers\":\"strict\",\"coloraxis\":{\"colorbar\":{\"outlinewidth\":0,\"ticks\":\"\"}},\"colorscale\":{\"diverging\":[[0,\"#8e0152\"],[0.1,\"#c51b7d\"],[0.2,\"#de77ae\"],[0.3,\"#f1b6da\"],[0.4,\"#fde0ef\"],[0.5,\"#f7f7f7\"],[0.6,\"#e6f5d0\"],[0.7,\"#b8e186\"],[0.8,\"#7fbc41\"],[0.9,\"#4d9221\"],[1,\"#276419\"]],\"sequential\":[[0.0,\"#0d0887\"],[0.1111111111111111,\"#46039f\"],[0.2222222222222222,\"#7201a8\"],[0.3333333333333333,\"#9c179e\"],[0.4444444444444444,\"#bd3786\"],[0.5555555555555556,\"#d8576b\"],[0.6666666666666666,\"#ed7953\"],[0.7777777777777778,\"#fb9f3a\"],[0.8888888888888888,\"#fdca26\"],[1.0,\"#f0f921\"]],\"sequentialminus\":[[0.0,\"#0d0887\"],[0.1111111111111111,\"#46039f\"],[0.2222222222222222,\"#7201a8\"],[0.3333333333333333,\"#9c179e\"],[0.4444444444444444,\"#bd3786\"],[0.5555555555555556,\"#d8576b\"],[0.6666666666666666,\"#ed7953\"],[0.7777777777777778,\"#fb9f3a\"],[0.8888888888888888,\"#fdca26\"],[1.0,\"#f0f921\"]]},\"colorway\":[\"#636efa\",\"#EF553B\",\"#00cc96\",\"#ab63fa\",\"#FFA15A\",\"#19d3f3\",\"#FF6692\",\"#B6E880\",\"#FF97FF\",\"#FECB52\"],\"font\":{\"color\":\"#2a3f5f\"},\"geo\":{\"bgcolor\":\"white\",\"lakecolor\":\"white\",\"landcolor\":\"#E5ECF6\",\"showlakes\":true,\"showland\":true,\"subunitcolor\":\"white\"},\"hoverlabel\":{\"align\":\"left\"},\"hovermode\":\"closest\",\"mapbox\":{\"style\":\"light\"},\"paper_bgcolor\":\"white\",\"plot_bgcolor\":\"#E5ECF6\",\"polar\":{\"angularaxis\":{\"gridcolor\":\"white\",\"linecolor\":\"white\",\"ticks\":\"\"},\"bgcolor\":\"#E5ECF6\",\"radialaxis\":{\"gridcolor\":\"white\",\"linecolor\":\"white\",\"ticks\":\"\"}},\"scene\":{\"xaxis\":{\"backgroundcolor\":\"#E5ECF6\",\"gridcolor\":\"white\",\"gridwidth\":2,\"linecolor\":\"white\",\"showbackground\":true,\"ticks\":\"\",\"zerolinecolor\":\"white\"},\"yaxis\":{\"backgroundcolor\":\"#E5ECF6\",\"gridcolor\":\"white\",\"gridwidth\":2,\"linecolor\":\"white\",\"showbackground\":true,\"ticks\":\"\",\"zerolinecolor\":\"white\"},\"zaxis\":{\"backgroundcolor\":\"#E5ECF6\",\"gridcolor\":\"white\",\"gridwidth\":2,\"linecolor\":\"white\",\"showbackground\":true,\"ticks\":\"\",\"zerolinecolor\":\"white\"}},\"shapedefaults\":{\"line\":{\"color\":\"#2a3f5f\"}},\"ternary\":{\"aaxis\":{\"gridcolor\":\"white\",\"linecolor\":\"white\",\"ticks\":\"\"},\"baxis\":{\"gridcolor\":\"white\",\"linecolor\":\"white\",\"ticks\":\"\"},\"bgcolor\":\"#E5ECF6\",\"caxis\":{\"gridcolor\":\"white\",\"linecolor\":\"white\",\"ticks\":\"\"}},\"title\":{\"x\":0.05},\"xaxis\":{\"automargin\":true,\"gridcolor\":\"white\",\"linecolor\":\"white\",\"ticks\":\"\",\"title\":{\"standoff\":15},\"zerolinecolor\":\"white\",\"zerolinewidth\":2},\"yaxis\":{\"automargin\":true,\"gridcolor\":\"white\",\"linecolor\":\"white\",\"ticks\":\"\",\"title\":{\"standoff\":15},\"zerolinecolor\":\"white\",\"zerolinewidth\":2}}},\"title\":{\"text\":\"Word Count Plots\"},\"width\":900,\"xaxis\":{\"anchor\":\"y\",\"domain\":[0.0,1.0]},\"yaxis\":{\"anchor\":\"x\",\"domain\":[0.832,1.0]},\"xaxis2\":{\"anchor\":\"y2\",\"domain\":[0.0,1.0]},\"yaxis2\":{\"anchor\":\"x2\",\"domain\":[0.624,0.792]},\"xaxis3\":{\"anchor\":\"y3\",\"domain\":[0.0,1.0]},\"yaxis3\":{\"anchor\":\"x3\",\"domain\":[0.416,0.584]},\"xaxis4\":{\"anchor\":\"y4\",\"domain\":[0.0,1.0]},\"yaxis4\":{\"anchor\":\"x4\",\"domain\":[0.208,0.376]},\"xaxis5\":{\"anchor\":\"y5\",\"domain\":[0.0,1.0]},\"yaxis5\":{\"anchor\":\"x5\",\"domain\":[0.0,0.16799999999999998]}},                        {\"responsive\": true}                    ).then(function(){\n",
       "                            \n",
       "var gd = document.getElementById('7a939774-2c2d-425f-b6a0-c7ba83af2707');\n",
       "var x = new MutationObserver(function (mutations, observer) {{\n",
       "        var display = window.getComputedStyle(gd).display;\n",
       "        if (!display || display === 'none') {{\n",
       "            console.log([gd, 'removed!']);\n",
       "            Plotly.purge(gd);\n",
       "            observer.disconnect();\n",
       "        }}\n",
       "}});\n",
       "\n",
       "// Listen for the removal of the full notebook cells\n",
       "var notebookContainer = gd.closest('#notebook-container');\n",
       "if (notebookContainer) {{\n",
       "    x.observe(notebookContainer, {childList: true});\n",
       "}}\n",
       "\n",
       "// Listen for the clearing of the current output cell\n",
       "var outputEl = gd.closest('.output');\n",
       "if (outputEl) {{\n",
       "    x.observe(outputEl, {childList: true});\n",
       "}}\n",
       "\n",
       "                        })                };                            </script>        </div>\n",
       "</body>\n",
       "</html>"
      ]
     },
     "metadata": {},
     "output_type": "display_data"
    }
   ],
   "source": [
    "# custom function for horizontal bar chart\n",
    "def horizontal_bar_chart(df, color):\n",
    "    trace = go.Bar(\n",
    "        y=df[\"word\"].values[::-1],\n",
    "        x=df[\"wordcount\"].values[::-1],\n",
    "        showlegend=False,\n",
    "        orientation = 'h',\n",
    "        marker=dict(\n",
    "            color=color,\n",
    "        ),\n",
    "    )\n",
    "    return trace\n",
    "\n",
    "# Bar chart for 5 Star Reviews\n",
    "\n",
    "freq_dict = defaultdict(int)\n",
    "for sent in review_5[\"review\"]:\n",
    "    for word in generate_ngrams(sent):\n",
    "        freq_dict[word] += 1\n",
    "fd_sorted = pd.DataFrame(sorted(freq_dict.items(), key=lambda x: x[1])[::-1])\n",
    "fd_sorted.columns = [\"word\", \"wordcount\"]\n",
    "trace0 = horizontal_bar_chart(fd_sorted.head(25), 'green')\n",
    "\n",
    "# Bar chart for 4 Star Reviews\n",
    "\n",
    "freq_dict = defaultdict(int)\n",
    "for sent in review_4[\"review\"]:\n",
    "    for word in generate_ngrams(sent):\n",
    "        freq_dict[word] += 1\n",
    "fd_sorted = pd.DataFrame(sorted(freq_dict.items(), key=lambda x: x[1])[::-1])\n",
    "fd_sorted.columns = [\"word\", \"wordcount\"]\n",
    "trace1 = horizontal_bar_chart(fd_sorted.head(25), 'lightgreen')\n",
    "\n",
    "# Bar chart for 3 Star Reviews\n",
    "\n",
    "freq_dict = defaultdict(int)\n",
    "for sent in review_3[\"review\"]:\n",
    "    for word in generate_ngrams(sent):\n",
    "        freq_dict[word] += 1\n",
    "fd_sorted = pd.DataFrame(sorted(freq_dict.items(), key=lambda x: x[1])[::-1])\n",
    "fd_sorted.columns = [\"word\", \"wordcount\"]\n",
    "trace2 = horizontal_bar_chart(fd_sorted.head(25), 'grey')\n",
    "\n",
    "# Bar chart for 2 Star \n",
    "\n",
    "freq_dict = defaultdict(int)\n",
    "for sent in review_2[\"review\"]:\n",
    "    for word in generate_ngrams(sent):\n",
    "        freq_dict[word] += 1\n",
    "fd_sorted = pd.DataFrame(sorted(freq_dict.items(), key=lambda x: x[1])[::-1])\n",
    "fd_sorted.columns = [\"word\", \"wordcount\"]\n",
    "trace3 = horizontal_bar_chart(fd_sorted.head(25), 'red')\n",
    "\n",
    "# Bar chart for 1 Star Reviews\n",
    "\n",
    "freq_dict = defaultdict(int)\n",
    "for sent in review_1[\"review\"]:\n",
    "    for word in generate_ngrams(sent):\n",
    "        freq_dict[word] += 1\n",
    "fd_sorted = pd.DataFrame(sorted(freq_dict.items(), key=lambda x: x[1])[::-1])\n",
    "fd_sorted.columns = [\"word\", \"wordcount\"]\n",
    "trace4 = horizontal_bar_chart(fd_sorted.head(25), 'darkred')\n",
    "\n",
    "# Create subplots\n",
    "fig = tls.make_subplots(rows=5, cols=1, vertical_spacing=0.04,\n",
    "                          subplot_titles=[\"Frequent words of 5 Star reviews\", \"Frequent words of 4 Star reviews\",\n",
    "                                          \"Frequent words of 3 Star reviews\",\"Frequent words of 2 Star reviews\",\"Frequent words of 1 Star reviews\"])\n",
    "\n",
    "fig.append_trace(trace0, 1, 1)\n",
    "fig.append_trace(trace1, 2, 1)\n",
    "fig.append_trace(trace2, 3, 1)\n",
    "fig.append_trace(trace3, 4, 1)\n",
    "fig.append_trace(trace4, 5, 1)\n",
    "fig['layout'].update(height=1200, width=900, paper_bgcolor='rgb(233,233,233)', title=\"Word Count Plots\")\n",
    "iplot(fig, filename='word-plots')"
   ]
  },
  {
   "cell_type": "markdown",
   "id": "05f4fd59",
   "metadata": {
    "id": "05f4fd59"
   },
   "source": [
    "# Base model"
   ]
  },
  {
   "cell_type": "code",
   "execution_count": 59,
   "id": "0Zu359i14dZv",
   "metadata": {
    "id": "0Zu359i14dZv"
   },
   "outputs": [],
   "source": [
    "# convert dataframe to numpy array\n",
    "\n",
    "data = df.to_numpy()"
   ]
  },
  {
   "cell_type": "code",
   "execution_count": 60,
   "id": "mUhnWWd84hB1",
   "metadata": {
    "id": "mUhnWWd84hB1"
   },
   "outputs": [],
   "source": [
    "# Set first column 'label_rating' as label and column 2 'review' as feature\n",
    "\n",
    "y = data[:, 0].astype('float32')  # Label=0 oder 1\n",
    "X = data[:, 2]"
   ]
  },
  {
   "cell_type": "markdown",
   "id": "913ec4c4",
   "metadata": {
    "id": "913ec4c4"
   },
   "source": [
    "## Split data in train and test datasets"
   ]
  },
  {
   "cell_type": "code",
   "execution_count": 61,
   "id": "dd40c6e7",
   "metadata": {
    "id": "dd40c6e7"
   },
   "outputs": [],
   "source": [
    "X_train, X_test, y_train, y_test = train_test_split(X, y, test_size=0.2, random_state=42)"
   ]
  },
  {
   "cell_type": "markdown",
   "id": "a845768e",
   "metadata": {
    "id": "a845768e"
   },
   "source": [
    "## Tokenize text"
   ]
  },
  {
   "cell_type": "code",
   "execution_count": 62,
   "id": "219bc59e",
   "metadata": {
    "colab": {
     "base_uri": "https://localhost:8080/"
    },
    "id": "219bc59e",
    "outputId": "bf501b2f-a643-44fc-a4d3-bc66a27e0a87"
   },
   "outputs": [
    {
     "data": {
      "text/plain": [
       "CountVectorizer(max_features=10000)"
      ]
     },
     "execution_count": 62,
     "metadata": {},
     "output_type": "execute_result"
    }
   ],
   "source": [
    "vectorizer = CountVectorizer(max_features=10000)\n",
    "vectorizer.fit(X_train)"
   ]
  },
  {
   "cell_type": "code",
   "execution_count": 63,
   "id": "9bbf4c56",
   "metadata": {
    "colab": {
     "base_uri": "https://localhost:8080/"
    },
    "id": "9bbf4c56",
    "outputId": "edb395cb-80ac-49a9-fae9-1c1797de0d51"
   },
   "outputs": [
    {
     "name": "stdout",
     "output_type": "stream",
     "text": [
      "{'carefull': 1237, 'purchased': 6730, 'old': 5880, 'files': 3224, 'ide': 4188, 'drives': 2591, 'first': 3278, 'able': 10, 'seat': 7596, 'dock': 2480, 'buy': 1128, 'extention': 3071, 'cable': 1149, 'power': 6496, 'extender': 3062, 'work': 9833, 'at': 514, 'unit': 9278, 'worked': 9837, 'wonderfully': 9819, 'simply': 7871, 'turn': 9152, 'remove': 7107, 'drive': 2587, 'when': 9710, 'that': 8791, 'to': 8936, 'sector': 7610, 'corrupted': 1849, 'this': 8836, 'google': 3713, 'backup': 635, 'sync': 8622, 'working': 9842, 'probably': 6595, 'so': 8029, 'turned': 9153, 'ruined': 7424, 'camera': 1184, 'tripod': 9106, 'great': 3760, 'glasses': 3669, 'fit': 3284, 'look': 5028, 'better': 783, 'receive': 6912, 'doa': 2477, 'not': 5748, 'charge': 1348, 'small': 7978, 'reset': 7191, 'button': 1126, 'usb': 9384, 'input': 4379, 'plug': 6392, 'push': 6742, 'blink': 856, 'orange': 5950, 'ready': 6880, 'start': 8276, 'charging': 1353, 'bright': 1018, 'idea': 4189, 'seam': 7586, 'plastic': 6356, 'right': 7318, 'rubs': 7420, 'ears': 2685, 'these': 8814, 'aren': 434, 'comfortable': 1587, 'the': 8793, 'sound': 8097, 'good': 3706, 'shape': 7730, 'feels': 3190, 'like': 4939, 'it': 4552, 'going': 3698, 'cut': 2012, 'on': 5891, 'should': 7810, 've': 9445, 'returned': 7268, 'waited': 9574, 'long': 5024, 'late': 4807, 'return': 7266, 'works': 9846, 'ok': 5877, 'but': 1123, 'canon': 1205, 'shutter': 7832, 'release': 7065, 'lost': 5054, 'bought': 955, 'thought': 8843, 'try': 9130, 'expensive': 3024, 'neewer': 5655, 'don': 2505, 'wrong': 9888, 'fine': 3245, 'spoiled': 8190, 'solid': 8053, 'cord': 1830, 'thinner': 8831, 'flexible': 3331, 'plain': 6344, 'lose': 5048, 'only': 5900, 'tape': 8671, 'body': 899, 'won': 9815, 'case': 1256, 'fits': 3288, 'sx': 8615, 'new': 5683, 'hood': 4082, 'sling': 7954, 'attached': 528, 'speedlite': 8160, 'ex': 2954, 'too': 8962, 'tight': 8888, 'love': 5064, 'lightweight': 4938, 'really': 6888, 'poor': 6444, 'multi': 5575, 'zone': 9987, 'capability': 1212, 'avr': 594, 'quality': 6768, 'gui': 3809, 'primary': 6576, 'reasons': 6898, 'receiver': 6914, 'replace': 7139, 'denon': 2189, 'support': 8542, 'turns': 9155, 'out': 5992, 'however': 4129, 'useless': 9393, 'setup': 7702, 'play': 6368, 'audio': 556, 'independently': 4322, 'main': 5144, 'analog': 311, 'inputs': 4380, 'if': 4205, 'use': 9387, 'bluetooth': 883, 'airplay': 220, 'music': 5583, 'services': 7690, 'attempt': 534, 'device': 2270, 'switches': 8609, 'source': 8108, 'well': 9695, 'switching': 8610, 'sat': 7481, 'stops': 8352, 'playing': 6375, 'as': 470, 'cheaper': 1363, 'models': 5460, 'consider': 1739, 'cheap': 1362, 'digital': 2312, 'sources': 8109, 'set': 7694, 'want': 9594, 'time': 8904, 'anyway': 370, 'in': 4273, 'addition': 111, 'control': 1788, 'off': 5855, 'select': 7632, 'etc': 2916, 'remotely': 7103, 'eliminating': 2768, 'ability': 8, 'standing': 8267, 'either': 2739, 'buttons': 1127, 'eliminates': 2767, 'mobile': 5451, 'app': 381, 'home': 4070, 'controller': 1790, 'amazon': 287, 'echo': 2699, 'harmony': 3892, 'remote': 7102, 'hub': 4143, 'just': 4648, 'disappointing': 2367, 'me': 5265, 'unfortunately': 9259, 'months': 5508, 'installed': 4408, 'gone': 3703, 'back': 617, 'now': 5778, 'sell': 7641, 'higher': 4017, 'end': 2811, 'capabilities': 1211, 'totally': 8982, 'trustworthy': 9127, 'glad': 3663, 'them': 8800, 'weather': 9667, 'sleep': 7932, 'windows': 9763, 'open': 5910, 'died': 2295, 'june': 4643, 'battery': 695, 'corrosion': 1847, 'my': 5593, 'fault': 3159, 'kept': 4671, 'inside': 4392, 'such': 8485, 'no': 5722, 'quickly': 6782, 'flashing': 3314, 'light': 4927, 'indicate': 4326, 'problem': 6597, 'batteries': 694, 'second': 7602, 'alarm': 226, 'feature': 3175, 'since': 7875, 'taken': 8650, 'can': 1191, 'confident': 1701, 'product': 6615, 'dell': 2181, 'venue': 9461, 'tablet': 8636, 'perfect': 6219, 'bend': 768, 'top': 8968, 'tabs': 8640, 'inward': 4507, 'slightly': 7950, 'slide': 7942, 'side': 7838, 'keyboard': 4674, 'feel': 3187, 'auto': 570, 'connects': 1733, 'price': 6568, 'beat': 715, 'takes': 8651, 'days': 2073, 'china': 1393, 'one': 5894, 'star': 8272, 'heavy': 3970, 'crashing': 1928, 'didn': 2292, 'description': 2214, 'think': 8827, 'led': 4863, 'believe': 753, 'would': 9863, 'decide': 2111, 'bother': 945, 'returning': 7269, 'item': 4554, 'hope': 4092, 'what': 9703, 'waste': 9634, 'money': 5496, 'weeks': 9685, 'pretty': 6560, 'stick': 8321, 'brand': 988, 'pictures': 6293, 'shows': 7822, 'mah': 5138, 'sent': 7662, 'upgrading': 9353, 'original': 5971, 'usable': 9382, 'ubuntu': 9194, 'chromebook': 1417, 'was': 9623, 'maker': 5157, 'seller': 7642, 'advertised': 155, 'recommend': 6944, 'interested': 4456, 'buying': 1131, 'broke': 1035, 'gopro': 3718, 'theory': 8805, 'nice': 5698, 'bare': 666, 'frame': 3460, 'housing': 4124, 'room': 7374, 'lcd': 4832, 'screen': 7555, 'extended': 3061, 'pack': 6063, 'comes': 1585, 'uv': 9414, 'filter': 3234, 'bonus': 911, 'ended': 2812, 'incredibly': 4317, 'mistake': 5436, 'regret': 7038, 'industry': 4340, 'professional': 6621, 'multitude': 5580, 'frames': 3462, 'housings': 4125, 'available': 582, 'needed': 5650, 'hero': 3991, 'black': 829, 'allowed': 254, 'access': 35, 'ports': 6468, 'after': 180, 'receiving': 6917, 'carefully': 1238, 'inserted': 4388, 'actually': 96, 'corner': 1836, 'near': 5638, 'lens': 4883, 'sure': 8551, 'happened': 3871, 'kind': 4701, 'defect': 2139, 'place': 6337, 'ordered': 5953, 'mount': 5532, 'soon': 8082, 'arrives': 455, 'pull': 6716, 'need': 5649, 'straight': 8363, 'trash': 9064, 'break': 998, 'before': 736, 'cases': 1258, 'both': 944, 'mind': 5392, 'wasting': 9636, 'thing': 8824, 'having': 3911, 'damage': 2036, 'caused': 1278, 'ugh': 9198, 'moving': 5552, 'two': 9180, 'stars': 8275, 'excellent': 2968, 'got': 3721, 'phone': 6263, 'securely': 7614, 'gave': 3596, 'simple': 7865, 'drop': 2599, 'test': 8769, 'wooden': 9825, 'desk': 2230, 'happen': 3870, 'different': 2300, 'passes': 6149, 'flying': 3367, 'colors': 1572, 'feet': 3192, 'more': 5512, 'pops': 6451, 'tries': 9096, 'result': 7242, 'refund': 7016, 'have': 3908, 'for': 3409, 'nd': 5636, 'family': 3130, 'member': 5305, 'instructions': 4420, 'clear': 1472, 'tell': 8735, 'telephone': 8728, 'wasn': 9631, 'hook': 4084, 'land': 4773, 'line': 4953, 'clearer': 1475, 'helped': 3982, 'expect': 3016, 'true': 9121, 'dropped': 2603, 'macbook': 5104, 'okay': 5878, 'dented': 2193, 'padding': 6075, 'received': 6913, 'cover': 1885, 'although': 277, 'ipad': 4515, 'snugly': 8028, 'magnets': 5134, 'closed': 1505, 'described': 2211, 'over': 6020, 'flops': 3355, 'and': 319, 'folded': 3383, 'read': 6870, 'secure': 7612, 'doesn': 2493, 'experience': 3025, 'reading': 6875, 'book': 913, 'all': 249, 'careful': 1236, 'slip': 7956, 'hands': 3856, 'lap': 4787, 'material': 5233, 'leather': 4856, 'slick': 7940, 'touch': 8984, 'hard': 3877, 'hold': 4058, 'little': 4986, 'frustrating': 3512, 'deceiving': 2106, 'strap': 8372, 'extremely': 3080, 'wish': 9790, 'noticeable': 5762, 'cool': 1813, 'about': 11, 'year': 9937, 'later': 4810, 'portable': 6460, 'needs': 5654, 'person': 6246, 'brain': 983, 'patience': 6163, 'haven': 3909, 'stations': 8295, 'though': 8842, 'steep': 8308, 'learning': 4852, 'curve': 1998, 'direct': 2339, 'tuning': 9149, 'hurts': 4168, 'bit': 821, 'manual': 5182, 'adjusted': 127, 'frequency': 3488, 'isn': 4540, 'even': 2930, 'sw': 8585, 'radios': 6805, 'took': 8963, 'figure': 3217, 'radio': 6804, 'let': 4892, 'scan': 7515, 'range': 6825, 'bands': 657, 'lock': 5007, 'memory': 5312, 'own': 6051, 'international': 4473, 'short': 7793, 'wave': 9647, 'extend': 3060, 'telescoping': 8732, 'antenna': 353, 'removable': 7105, 'bar': 665, 'local': 5001, 'am': 282, 'helps': 3986, 'funky': 3540, 'college': 1566, 'finally': 3239, 'signal': 7847, 'house': 4121, 'ran': 6822, 'ethernet': 2919, 'hooked': 4085, 'run': 7430, 'wifi': 9747, 'super': 8526, 'easy': 2694, 'up': 9341, 'grand': 3741, 'daughter': 2069, 'loved': 5065, 'failed': 3109, 'sept': 7673, 'aug': 562, 'completely': 1649, 'dead': 2085, 'perfectly': 6221, 'fact': 3099, 'flawed': 3323, 'design': 2220, 'knife': 4720, 'blade': 834, 'tip': 8920, 'flat': 3318, 'piece': 6295, 'considering': 1744, 'tool': 8964, 'pliers': 6391, 'screwdriver': 7560, 'greatly': 3763, 'oversized': 6046, 'couldn': 1863, 'dimensions': 2318, 'page': 6077, 'acer': 64, 'aspire': 484, 'figured': 3218, 'model': 5458, 'nope': 5740, 'cooler': 1815, 'pad': 6073, 'inches': 4288, 'wider': 9738, 'netbook': 5672, 'itself': 4561, 'there': 8806, 'way': 9651, 'll': 4992, 'designed': 2222, 'size': 7898, 'functionally': 3535, 'keeps': 4667, 'supposed': 8547, 'wide': 9736, 'makes': 5159, 'irrelevant': 4532, 'purposes': 6740, 'bottom': 953, 'width': 9743, 'matter': 5241, 'you': 9958, 'five': 3292, 'nvr': 5807, 'claimed': 1446, 'coolpix': 1820, 'charged': 1349, 'charger': 1350, 'goes': 3695, 'minutes': 5411, 'nikon': 5713, 'requested': 7172, 'guess': 3804, 'pay': 6175, 'shipping': 7773, 'sense': 7655, 'splice': 8183, 'cables': 1151, 'sits': 7891, 'drawer': 2569, 'they': 8816, 'flash': 3310, 'win': 9759, 'other': 5982, 'times': 8910, 'unsure': 9327, 'laptop': 4790, 'anymore': 366, 'touchscreen': 8989, 'handy': 3863, 'mouse': 5539, 'sticks': 8326, 'stuck': 8422, 'twice': 9173, 'school': 7532, 'felt': 3195, 'change': 1336, 'setting': 7697, 'choice': 1403, 'nov': 5773, 'update': 9344, 'review': 7283, 'continues': 1777, 'understand': 9241, 'upgrade': 9350, 'external': 3073, 'did': 2291, 'search': 7590, 'net': 5671, 'why': 9733, 'microsoft': 5366, 'bug': 1074, 'errors': 2895, 'speakers': 8133, 'low': 5071, 'awful': 603, 'hardly': 3882, 'hear': 3954, 'anything': 368, 'devices': 2271, 'blu': 876, 'older': 5881, 'version': 9473, 'newer': 5686, 'husband': 4169, 'said': 7459, 'smart': 7982, 'seems': 7625, 'he': 3934, 'causing': 1280, 'headaches': 3937, 'things': 8825, 'complicated': 1653, 'navigate': 5627, 'connect': 1724, 'laptops': 4791, 'go': 3691, 'lately': 4808, 'researching': 7185, 'mainly': 5146, 'gym': 3824, 'running': 7433, 'outdoor': 5997, 'riding': 7314, 'mountain': 5534, 'bike': 800, 'quick': 6780, 'decision': 2115, 'major': 5154, 'research': 7183, 'testing': 8772, 'tested': 8770, 'jaybird': 4586, 'bluebuds': 878, 'twin': 9174, 'sony': 8079, 'ear': 2669, 'headset': 3949, 'currently': 1996, 'popular': 6452, 'nicely': 5699, 'built': 1082, 'come': 1584, 'beautiful': 719, 'package': 6064, 'save': 7497, 'basic': 680, 'box': 966, 'properly': 6668, 'earbuds': 2671, 'stay': 8298, 'tried': 9095, 'possible': 6480, 'combination': 1576, 'eartips': 2687, 'weight': 9690, 'pulling': 6718, 'know': 4729, 'wired': 9784, 'brands': 991, 'ultimate': 9207, 'worn': 9852, 'big': 796, 'prolonged': 6645, 'period': 6230, 'level': 4899, 'iphone': 4518, 'controls': 1793, 'technology': 8715, 'couple': 1875, 'years': 9938, 'smaller': 7979, 'lighter': 4930, 'units': 9280, 'overpriced': 6041, 'are': 431, 'runs': 7434, 'half': 3838, 'hour': 4119, 'might': 5375, 'background': 622, 'apps': 413, 'ridiculous': 7312, 'does': 2492, 'fast': 3146, 'anker': 331, 'contacted': 1761, 'directly': 2344, 'replaced': 7141, 'customer': 2006, 'service': 7687, 'products': 6620, 'replacement': 7142, 'slower': 7968, 'plugged': 6395, 'hours': 4120, 'factory': 3102, 'oem': 5853, 'gets': 3636, 'avoid': 591, 'performance': 6223, 'loud': 5058, 'impressed': 4259, 'amplified': 304, 'edition': 2713, 'inch': 4287, 'tweeter': 9169, 'sharp': 7738, 'important': 4252, 'terrible': 8765, 'pair': 6088, 'far': 3140, 'written': 9887, 'risk': 7334, 'asking': 479, 'bud': 1063, 'jiggle': 4600, 'squeeze': 8225, 'left': 4866, 'continuously': 1781, 'weak': 9658, 'around': 445, 'went': 9696, 'rubber': 7415, 'pointless': 6421, 'expected': 3020, 'regard': 7027, 'strongly': 8413, 'justify': 4651, 'calling': 1174, 'mic': 5356, 'bad': 640, 'people': 6212, 'heard': 3955, 'embarrassing': 2780, 'calls': 1175, 'getting': 3637, 'afford': 175, 'company': 1613, 'history': 4044, 'nylon': 5811, 'braided': 982, 'mediocre': 5288, 'owned': 6052, 'ipods': 4522, 'disappointed': 2366, 'nano': 5612, 'looks': 5031, 'list': 4970, 'pros': 6675, 'cons': 1734, 'compact': 1609, 'rugged': 7422, 'integrates': 4435, 'itunes': 4562, 'msrp': 5565, 'gb': 3597, 'placement': 6339, 'checked': 1372, 'causes': 1279, 'problems': 6599, 'trying': 9132, 'multiple': 5579, 'tracks': 9016, 'buggy': 1075, 'software': 8044, 'must': 5587, 'subscription': 8466, 'limiting': 4951, 'display': 2425, 'font': 3396, 'clearly': 1476, 'rhapsody': 7301, 'sansa': 7477, 'view': 9503, 'sonos': 8077, 'tivo': 8932, 'happier': 3874, 'streams': 8384, 'seamlessly': 7588, 'download': 2533, 'mp': 5555, 'players': 6374, 'any': 363, 'computer': 1671, 'bye': 1139, 'exactly': 2956, 'do': 2476, 'flimsy': 3341, 'pro': 6593, 'looking': 5030, 'sd': 7574, 'card': 1230, 'reader': 6872, 'mbp': 5257, 'compare': 1618, 'sandisk': 7473, 'satechi': 7483, 'winner': 9773, 'heat': 3960, 'hot': 4113, 'linux': 4966, 'sometime': 8069, 'mode': 5457, 'best': 779, 'portrait': 6466, 'bokeh': 902, 'effect': 2720, 'focusing': 3377, 'event': 2933, 'photography': 6274, 'highly': 4021, 'improvement': 4268, 'value': 9427, 'flow': 3357, 'decent': 2108, 'fan': 3132, 'hopes': 4096, 'monitoring': 5498, 'property': 6670, 'sitting': 7892, 'closet': 1510, 'truly': 9122, 'with': 9796, 'interior': 4466, 'office': 5861, 'recipient': 6936, 'has': 3895, 'picture': 6291, 'connecting': 1727, 'gift': 3644, 'wireless': 9785, 'network': 5676, 'wow': 9868, 'unpacked': 9301, 'played': 6372, 'while': 9717, 'wouldn': 9864, 'literally': 4983, 'originals': 5973, 'rest': 7226, 'necessarily': 5645, 'issue': 4548, 'tecsun': 8718, 'whole': 9731, 'defective': 2141, 'immediately': 4235, 'pl': 6336, 'week': 9681, 'lasted': 4799, 'router': 7397, 'amazing': 285, 'month': 5506, 'point': 6417, 'rebooted': 6903, 'daily': 2034, 'reconnect': 6952, 'longer': 5025, 'trusted': 9125, 'worth': 9859, 'prepared': 6539, 'modify': 5472, 'opening': 5913, 'horrible': 4103, 'coating': 1538, 'which': 9715, 'tad': 8644, 'rockford': 7356, 'fosgate': 3448, 'rx': 7443, 'modification': 5468, 'razor': 6857, 'rear': 6892, 'bench': 765, 'classic': 1462, 'four': 3451, 'gaming': 3577, 'machine': 5107, 'issues': 4550, 'powershot': 6504, 'barely': 667, 'extra': 3075, 'backpacks': 630, 'inexpensive': 4345, 'solution': 8056, 'carry': 1249, 'dslr': 2616, 'equipment': 2879, 'field': 3211, 'straps': 8374, 'reviewer': 7285, 'anchors': 317, 'middle': 5371, 'prevent': 6561, 'compartment': 1624, 'gear': 3601, 'posted': 6484, 'aid': 205, 'readers': 6873, 'shoulder': 7811, 'padded': 6074, 'backpack': 628, 'hurt': 4166, 'shoulders': 7812, 'zipper': 9982, 'outside': 6013, 'pockets': 6408, 'sides': 7840, 'velcro': 9449, 'may': 5251, 'suitable': 8509, 'water': 9642, 'bottle': 950, 'its': 4560, 'capable': 1213, 'mid': 5370, 'manfrotto': 5178, 'puts': 6747, 'afraid': 178, 'purpose': 6738, 'trip': 9104, 'also': 268, 'buckles': 1061, 'difficult': 2302, 'attach': 527, 'require': 7175, 'bag': 642, 'allow': 253, 'elsewhere': 2773, 'floor': 3350, 'wear': 9663, 'close': 1504, 'compartments': 1625, 'arranged': 448, 'cards': 1232, 'holders': 4060, 'loaded': 4998, 'personal': 6247, 'items': 4555, 'overhead': 6026, 'aircraft': 215, 'overall': 6021, 'lenses': 4885, 'including': 4297, 'telephoto': 8729, 'chargers': 1351, 'waterproof': 9643, 'floating': 3347, 'cell': 1300, 'magazines': 5122, 'protect': 6677, 'storing': 8358, 'away': 600, 'relatively': 7061, 'alot': 262, 'kitchen': 4715, 'counter': 1867, 'outlet': 6002, 'charges': 1352, 'clocks': 1498, 'lamps': 4771, 'appliances': 396, 'progress': 6636, 'optics': 5938, 'average': 584, 'sigma': 7845, 'glass': 3668, 'adequate': 118, 'accept': 30, 'lower': 5073, 'situations': 7895, 'life': 4918, 'pathetic': 6162, 'wi': 9734, 'fi': 3202, 'sends': 7650, 'pics': 6290, 'mac': 5103, 'overheats': 6030, 'shuts': 7831, 'down': 2527, 'mins': 5407, 'uninterrupted': 9275, 'single': 7879, 'slippery': 7958, 'impossible': 4255, 'type': 9184, 'grip': 3774, 'handed': 3847, 'handling': 3855, 'basically': 681, 'pocketable': 6407, 'answers': 349, 'question': 6775, 'larger': 4794, 'metal': 5337, 'hits': 4048, 'hit': 4045, 'corners': 1837, 'fairly': 3116, 'seldom': 7631, 'sadly': 7450, 'snug': 8025, 'stress': 8389, 'upper': 9360, 'loosen': 5037, 'stitches': 8337, 'teeth': 8724, 'making': 5160, 'headphones': 3946, 'whether': 9714, 'yoga': 9954, 'gripe': 3775, 're': 6862, 'listening': 4976, 'trouble': 9113, 'standards': 8265, 'despite': 2236, 'positive': 6475, 'reviews': 7288, 'disc': 2374, 'dissappointed': 2436, 'san': 7470, 'disk': 2414, 'storage': 8353, 'slot': 7964, 'smartphone': 7985, 'data': 2064, 'cleaned': 1467, 'media': 5283, 'nest': 5670, 'color': 1567, 'blends': 850, 'colored': 1569, 'wall': 9586, 'clean': 1466, 'loose': 5035, 'wires': 9787, 'collecting': 1562, 'dust': 2648, 'large': 4792, 'systems': 8632, 'branch': 986, 'trunk': 9123, 'individual': 4335, 'components': 1658, 'tree': 9079, 'opened': 5911, 'poorly': 6447, 'belkin': 757, 'port': 6457, 'another': 345, 'advertized': 160, 'unwilling': 9339, 'trust': 9124, 'used': 9389, 'take': 8649, 'surge': 8558, 'strip': 8401, 'tilts': 8903, 'night': 5706, 'pulled': 6717, 'sit': 7888, 'horizontally': 4100, 'hang': 3865, 'function': 3532, 'travel': 9066, 'awesome': 602, 'hotel': 4114, 'rooms': 7376, 'provided': 6695, 'then': 8803, 'clearance': 1473, 'voyager': 9562, 'legend': 4871, 'comparison': 1622, 'pal': 6092, 'selector': 7638, 'ntsc': 5787, 'android': 320, 'tv': 9160, 'key': 4673, 'board': 894, 'unplug': 9304, 'vision': 9523, 'lousy': 5063, 'produce': 6610, 'images': 4227, 'downside': 2540, 'lots': 5056, 'lighting': 4932, 'powerful': 6498, 'landscape': 4777, 'lights': 4936, 'numbers': 5797, 'dim': 2315, 'settings': 7698, 'clock': 1496, 'junk': 4644, 'packaging': 6067, 'very': 9478, 'real': 6881, 'stop': 8347, 'here': 3989, 'owner': 6053, 'reviewers': 7286, 'mentioned': 5316, 'user': 9394, 'spend': 8165, 'gadgets': 3564, 'nature': 5625, 'lives': 4989, 'learn': 4850, 'get': 3635, 'numerous': 5799, 'eventually': 2935, 'angles': 326, 'press': 6552, 'force': 3410, 'locations': 5006, 'functions': 3538, 'intuitive': 4487, 'make': 5156, 'construction': 1754, 'everything': 2943, 'order': 5952, 'window': 9762, 'suction': 8491, 'cup': 1989, 'clip': 1492, 'strong': 8410, 'vehicle': 9447, 'prefer': 6523, 'windshield': 9766, 'last': 4798, 'crazy': 1930, 'glue': 3684, 'gap': 3580, 'instead': 4416, 'disassembled': 2372, 'operating': 5920, 'system': 8631, 'slow': 7966, 'thinks': 8830, 'weird': 9693, 'particular': 6134, 'rely': 7084, 'remember': 7094, 'file': 3222, 'stamp': 8260, 'stored': 8355, 'somewhere': 8072, 'folders': 3385, 'necessary': 5646, 'exist': 3000, 'again': 186, 'once': 5893, 'recording': 6962, 'date': 2066, 'verify': 9467, 'correct': 1839, 'day': 2071, 'driving': 2593, 'microphone': 5361, 'audible': 553, 'bird': 817, 'talk': 8653, 'passenger': 6148, 'recorded': 6959, 'cameras': 1185, 'clips': 1495, 'opinion': 5925, 'stopped': 8349, 'cop': 1823, 'care': 1233, 'thinking': 8828, 'prove': 6690, 'record': 6957, 'encountered': 2807, 'installation': 4406, 'reverse': 7277, 'assuming': 504, 'dashcam': 2063, 'done': 2506, 'started': 8278, 'practice': 6510, 'formatted': 3433, 'showed': 7818, 'mb': 5254, 'same': 7465, 'thumb': 8867, 'store': 8354, 'worthless': 9860, 'therefore': 8809, 'hate': 3901, 'cd': 1293, 'rom': 7371, 'motherboard': 5521, 'supports': 8545, 'sata': 7482, 'needing': 5651, 'floppy': 3354, 'uses': 9397, 'special': 8137, 'trick': 9091, 'player': 6373, 'acceptable': 31, 'build': 1077, 'arrived': 454, 'head': 3935, 'schedule': 7529, 'ford': 3414, 'motorhome': 5528, 'concert': 1680, 'hall': 3840, 'we': 9657, 'hearing': 3956, 'high': 4016, 'note': 5753, 'aware': 599, 'narrow': 5614, 'angle': 324, 'says': 7508, 'degrees': 2163, 'total': 8981, 'walk': 9580, 'trigger': 9097, 'adjust': 124, 'supplying': 8541, 'connected': 1725, 'lamp': 4770, 'entry': 2861, 'door': 2510, 'fish': 3280, 'switch': 8606, 'evening': 2931, 'positioned': 6472, 'yet': 9944, 'often': 5868, 'live': 4987, 'feed': 3183, 'watch': 9637, 'fully': 3528, 'seconds': 7605, 'video': 9496, 'starts': 8282, 'pixelated': 6332, 'tearing': 8702, 'ac': 25, 'ghz': 3642, 'nearly': 5641, 'sight': 7844, 'connectivity': 1730, 'mounting': 5537, 'bracket': 979, 'screwed': 7562, 'flush': 3365, 'brick': 1009, 'creating': 1937, 'worried': 9853, 'rain': 6812, 'moisture': 5480, 'fix': 3294, 'appreciate': 404, 'suggestions': 8506, 'fence': 3197, 'keeping': 4666, 'purchasing': 6734, 'gtx': 3797, 'happy': 3876, 'bind': 806, 'failing': 3110, 'covered': 1887, 'warranty': 9618, 'sturdy': 8440, 'smooth': 8001, 'gives': 3660, 'trade': 9017, 'troubleshooting': 9116, 'guide': 3811, 'friend': 3497, 'deliver': 2176, 'satellite': 7484, 'disappointment': 2368, 'grainy': 3740, 'output': 6007, 'sending': 7649, 'sender': 7648, 'upstairs': 9369, 'bedroom': 725, 'ft': 3517, 'yes': 9942, 'direction': 2341, 'antennas': 355, 'pitiful': 6325, 'hoping': 4097, 'choose': 1405, 'apparently': 384, 'decided': 2112, 'shooting': 7787, 'resolution': 7200, 'birthday': 820, 'present': 6543, 'premiere': 6535, 'owners': 6054, 'provides': 6698, 'features': 3177, 'stream': 8379, 'netflix': 5674, 'manage': 5169, 'season': 7594, 'premier': 6534, 'mini': 5397, 'strictly': 8396, 'streaming': 8382, 'channel': 1341, 'bulb': 1083, 'wanted': 9595, 'child': 1388, 'volume': 9555, 'tiny': 8919, 'of': 5854, 'remain': 7086, 'powered': 6497, 'indication': 4330, 'had': 3832, 'missed': 5432, 'knew': 4719, 'third': 8833, 'number': 5796, 'emailed': 2776, 'zero': 9978, 'response': 7220, 'loop': 5032, 'reliable': 7072, 'be': 706, 'asus': 513, 'reseller': 7186, 'state': 8285, 'standard': 8264, 'connection': 1728, 'blue': 877, 'tooth': 8967, 'lagging': 4764, 'typing': 9189, 'connectors': 1732, 'cumbersome': 1988, 'apple': 392, 'request': 7171, 'manufacturer': 5187, 'hardware': 3885, 'magic': 5125, 'converter': 1803, 'distorted': 2446, 'washed': 9626, 'lack': 4755, 'three': 8852, 'where': 9712, 'knockoffs': 4727, 'toshiba': 8976, 'pc': 6181, 'inserts': 4391, 'speaker': 8131, 'mom': 5487, 'initially': 4368, 'interface': 4459, 'program': 6628, 'enjoys': 2842, 'jamming': 4575, 'thx': 8875, 'dolby': 2498, 'slips': 7960, 'xbox': 9902, 'games': 3576, 'perform': 6222, 'joke': 4618, 'pocket': 6406, 'casts': 1266, 'cost': 1854, 'send': 7647, 'pause': 6170, 'headsets': 3950, 'write': 9883, 'link': 4960, 'requires': 7179, 'thats': 8792, 'cr': 1901, 'lasts': 4802, 'legs': 4875, 'weaker': 9659, 'compared': 1619, 'attractive': 545, 'monopod': 5503, 'hell': 3978, 'dissapointed': 2433, 'say': 7506, 'studio': 8426, 'monitors': 5499, 'bargain': 668, 'name': 5608, 'tech': 8704, 'pci': 6183, 'express': 3056, 'hitch': 4047, 'computers': 1672, 'challenging': 1331, 'pleasant': 6380, 'surprise': 8561, 'drivers': 2590, 'wife': 9745, 'loves': 5069, 'christmas': 1413, 'she': 7746, 'excited': 2981, 'miss': 5431, 'photo': 6267, 'moment': 5488, 'personally': 6248, 'forget': 3422, 'replacing': 7145, 'sets': 7696, 'elements': 2759, 'less': 4888, 'antec': 351, 'latched': 4804, 'doors': 2512, 'non': 5732, 'gamer': 3574, 'still': 8331, 'odd': 5848, 'choices': 1404, 'hide': 4010, 'trace': 9007, 'removed': 7108, 'plasticy': 6359, 'air': 214, 'intake': 4431, 'fans': 3136, 'quiet': 6784, 'came': 1183, 'studs': 8428, 'adapters': 103, 'tangle': 8664, 'spins': 8180, 'please': 6382, 'competitor': 1638, 'offerings': 5859, 'pounds': 6495, 'anywhere': 372, 'dvdr': 2653, 'bringing': 1026, 'fills': 3230, 'bill': 803, 'course': 1880, 'coming': 1590, 'deal': 2088, 'ram': 6820, 'added': 108, 'handles': 3854, 'general': 3611, 'familiar': 3129, 'machines': 5109, 'previous': 6566, 'pda': 6188, 'difference': 2298, 'usability': 9381, 'huge': 4148, 'comfortably': 1588, 'eee': 2717, 'word': 9829, 'processing': 6607, 'spreadsheets': 8211, 'internet': 4474, 'applications': 399, 'known': 4733, 'pain': 6080, 'pleasure': 6385, 'comment': 1593, 'stock': 8341, 'debian': 2098, 'warm': 9602, 'quirks': 6788, 'terms': 8763, 'touchpad': 8988, 'exceptionally': 2973, 'university': 9282, 'authorization': 568, 'faster': 3152, 'space': 8113, 'biggest': 798, 'configure': 1707, 'automatically': 574, 'drains': 2560, 'alive': 247, 'overnight': 6039, 'shut': 7828, 'hibernation': 4005, 'swap': 8589, 'ago': 197, 'fitness': 3287, 'trainer': 9028, 'books': 915, 'separate': 7666, 'safe': 7452, 'clothing': 1515, 'pens': 6209, 'fat': 3154, 'meter': 5339, 'fun': 3531, 'raspberry': 6835, 'pi': 6281, 'project': 6638, 'circuit': 1432, 'boards': 895, 'follow': 3390, 'proper': 6667, 'code': 1543, 'writing': 9886, 'speed': 8156, 'switched': 8607, 'tx': 9181, 'dev': 2262, 'kit': 4714, 'sale': 7461, 'stable': 8251, 'random': 6823, 'freezes': 3482, 'boot': 926, 'fails': 3111, 'editor': 2714, 'browser': 1043, 'alpha': 263, 'beta': 782, 'production': 6616, 'environment': 2863, 'load': 4997, 'bones': 910, 'stability': 8245, 'troubleshoot': 9115, 'nvidia': 5805, 'fancy': 3134, 'lacie': 4754, 'job': 4608, 'printer': 6583, 'medialink': 5285, 'adapter': 102, 'ip': 4514, 'could': 1862, 'print': 6580, 'without': 9799, 'hassle': 3897, 'dime': 2316, 'sized': 7899, 'affects': 172, 'viewing': 9508, 'messes': 5333, 'ya': 9925, 'nothing': 5759, 'fail': 3108, 'repeated': 7132, 'attempts': 537, 'recognize': 6938, 'verizon': 9468, 'modems': 5462, 'english': 2831, 'solving': 8061, 'users': 9396, 'beware': 785, 'suggestion': 8505, 'compatible': 1629, 'inherent': 4365, 'yn': 9952, 'usa': 9380, 'ttl': 9135, 'transceiver': 9031, 'shoe': 7781, 'seated': 7597, 'correctly': 1843, 'yongnuo': 9955, 'together': 8942, 'specifically': 8143, 'some': 8062, 'stated': 8286, 'modified': 5470, 'thoroughly': 8839, 'searched': 7591, 'widely': 9737, 'answer': 346, 'certainly': 1316, 'manuals': 5184, 'rubbish': 7419, 'offer': 5856, 'youtube': 9965, 'us': 9379, 'rep': 7125, 'tutorial': 9158, 'ive': 4565, 'reports': 7156, 'appears': 391, 'crap': 1921, 'shoot': 7784, 'easily': 2692, 'heads': 3948, 'elbow': 2747, 'hdmi': 3928, 'face': 3091, 'connector': 1731, 'facing': 3098, 'throwing': 8862, 'garbage': 3583, 'attention': 538, 'missing': 5434, 'en': 2796, 'el': 2744, 'rechargeable': 6927, 'li': 4909, 'ion': 4511, 'mh': 5352, 'bs': 1049, 'accessory': 41, 'bf': 789, 'cap': 1210, 'an': 310, 'movie': 5550, 'reference': 6994, 'durable': 2643, 'flawlessly': 3325, 'surprised': 8562, 'entered': 2850, 'contact': 1760, 'free': 3474, 'rma': 7342, 'wait': 9573, 'parts': 6142, 'pos': 6469, 'universal': 9281, 'tips': 8923, 'yi': 9946, 'absolutely': 18, 'rd': 6860, 'previously': 6567, 'records': 6964, 'internally': 4471, 'microsd': 5364, 'allows': 256, 'motion': 5523, 'detection': 2251, 'specific': 8142, 'area': 432, 'image': 4226, 'monitor': 5497, 'entire': 2857, 'spending': 8166, 'continue': 1775, 'friends': 3499, 'crappy': 1923, 'everthing': 2938, 'holds': 4062, 'blackberry': 830, 'organize': 5960, 'manager': 5173, 'check': 1371, 'yuck': 9968, 'paint': 6085, 'chips': 1399, 'stylus': 8449, 'medium': 5289, 'help': 3981, 'section': 7608, 'almost': 258, 'scenario': 7525, 'noted': 5756, 'similar': 7863, 'foolishly': 3403, 'dec': 2101, 'foolish': 3402, 'selling': 7644, 'dash': 2061, 'cams': 1190, 'thread': 8848, 'stripping': 8404, 'putting': 6748, 'rotating': 7387, 'click': 1481, 'gently': 3627, 'pop': 6448, 'suspect': 8577, 'threads': 8851, 'mm': 5449, 'barrel': 672, 'luck': 5087, 'magazine': 5121, 'photographer': 6269, 'rolled': 7367, 'dice': 2289, 'son': 8073, 'purchase': 6729, 'ipod': 4521, 'maybe': 5252, 'mos': 5516, 'definitely': 2152, 'anyone': 367, 'cross': 1958, 'engineered': 2827, 'areas': 433, 'empty': 2795, 'stuff': 8431, 'carrying': 1250, 'bucket': 1059, 'suspicious': 8581, 'holding': 4061, 'flap': 3307, 'thin': 8823, 'fabric': 3089, 'transparent': 9058, 'besides': 778, 'enough': 2845, 'materials': 5234, 'front': 3505, 'hidden': 4009, 'buckle': 1060, 'enormous': 2844, 'clicky': 1486, 'noise': 5727, 'organized': 5961, 'internal': 4470, 'bose': 940, 'hung': 4159, 'shelf': 7753, 'de': 2084, 'iris': 4528, 'vignette': 9511, 'samsung': 7468, 'nx': 5808, 'tamron': 8662, 'is': 4537, 'focal': 3373, 'length': 4879, 'aperture': 378, 'annoying': 340, 'infinity': 4351, 'hasn': 3896, 'photos': 6275, 'detail': 2245, 'oh': 5869, 'been': 731, 'add': 107, 'confirmed': 1712, 'nada': 5602, 'zip': 9979, 'turning': 9154, 'conclusion': 1684, 'policies': 6434, 'beforehand': 737, 'prime': 6577, 'configuring': 1709, 'updating': 9348, 'cords': 1833, 'updates': 9347, 'wakes': 9577, 'recognizes': 6940, 'wake': 9576, 'ever': 2936, 'ms': 5562, 'unpleasant': 9303, 'experiences': 3027, 'talking': 8656, 'ai': 204, 'artificial': 467, 'human': 4152, 'being': 752, 'sir': 7882, 'round': 7392, 'clue': 1520, 'painful': 6081, 'generally': 3612, 'recommended': 6947, 'self': 7639, 'somebody': 8063, 'tea': 8694, 'constantly': 1752, 'costumer': 1859, 'walmart': 9589, 'genuine': 3628, 'beats': 718, 'suggest': 8502, 'honest': 4076, 'folding': 3386, 'tab': 8633, 'stand': 8262, 'lie': 4915, 'table': 8634, 'lean': 4845, 'secured': 7613, 'fire': 3264, 'usually': 9403, 'protecting': 6679, 'signs': 7853, 'dirt': 2349, 'stickers': 8323, 'calm': 1176, 'significant': 7851, 'lenovo': 4882, 'dongles': 2508, 'compliant': 1652, 'edimax': 2709, 'dongle': 2507, 'extension': 3066, 'easier': 2690, 'fear': 3172, 'breaking': 1003, 'tipped': 8921, 'micro': 5359, 'fiber': 3204, 'filtering': 3236, 'boxes': 969, 'scroll': 7566, 'bars': 674, 'performing': 6226, 'desktop': 2232, 'wire': 9782, 'scratching': 7549, 'protector': 6682, 'glides': 3671, 'pass': 6144, 'static': 8289, 'ish': 4538, 'sounds': 8105, 'listen': 4972, 'option': 5944, 'additionally': 113, 'cam': 1178, 'virus': 9517, 'lucky': 5089, 'protection': 6680, 'googled': 3714, 'doable': 2478, 'provision': 6701, 'given': 3659, 'struggle': 8417, 'programs': 6635, 'consuming': 1758, 'frustration': 3513, 'results': 7245, 'parental': 6123, 'default': 2133, 'configuration': 1705, 'site': 7889, 'individually': 4336, 'initial': 4366, 'tp': 9003, 'resolved': 7203, 'required': 7176, 'firmware': 3277, 'tether': 8774, 'discovering': 2401, 'linksys': 4964, 'chance': 1334, 'ease': 2688, 'convenience': 1794, 'suddenly': 8493, 'install': 4405, 'depends': 2200, 'configured': 1708, 'raid': 6809, 'breeze': 1008, 'resolve': 7202, 'refurbished': 7021, 'spare': 8124, 'laying': 4826, 'breath': 1005, 'rating': 6842, 'otherwise': 5984, 'especially': 2902, 'walking': 9583, 'expecting': 3021, 'perfection': 6220, 'attachments': 532, 'pod': 6409, 'covers': 1889, 'fall': 3122, 'defeats': 2138, 'autofocus': 571, 'iq': 4525, 'match': 5227, 'olympus': 5886, 'didnt': 2293, 'realize': 6885, 'kids': 4695, 'toy': 9000, 'tough': 8991, 'transmit': 9052, 'movements': 5548, 'tune': 9144, 'adjustment': 130, 'workouts': 9845, 'rig': 7316, 'restrictions': 7240, 'vendor': 9453, 'included': 4295, 'becuase': 723, 'management': 5172, 'task': 8681, 'whim': 9719, 'hz': 4179, 'khz': 4686, 'admit': 136, 'pairs': 6091, 'buds': 1067, 'pricey': 6571, 'priced': 6569, 'panasonic': 6097, 'spec': 8136, 'weren': 9699, 'doubts': 2526, 'claim': 1445, 'exact': 2955, 'bass': 686, 'exaggerated': 2957, 'into': 4482, 'tap': 8670, 'impressive': 4262, 'dropouts': 2602, 'voices': 9546, 'muddy': 5571, 'sometimes': 8070, 'perspective': 6250, 'miracles': 5414, 'primarily': 6575, 'watching': 9641, 'throws': 8864, 'lot': 5055, 'made': 5118, 'nex': 5690, 'aa': 0, 'ti': 8876, 'bulkier': 1088, 'ergonomic': 2889, 'grips': 3779, 'reasonable': 6896, 'surround': 8566, 'living': 4991, 'logitech': 5019, 'bank': 662, 'complaint': 1644, 'activity': 93, 'illuminate': 4218, 'starter': 8279, 'cpu': 1899, 'uno': 9296, 'programming': 6634, 'arduino': 430, 'processor': 6608, 'attaches': 529, 'tools': 8966, 'examples': 2960, 'headphone': 3945, 'blocks': 866, 'headed': 3939, 'adults': 147, 'tightness': 8895, 'cushioning': 2003, 'soft': 8038, 'shave': 7745, 'uneven': 9251, 'aesthetically': 166, 'pleasing': 6384, 'survive': 8573, 'stepped': 8315, 'nervous': 5669, 'snapping': 8014, 'leave': 4858, 'white': 9727, 'green': 3764, 'ones': 5896, 'broken': 1036, 'dir': 2338, 'worse': 9857, 'improve': 4266, 'located': 5004, 'basement': 678, 'tower': 8996, 'stays': 8301, 'ground': 3786, 'wheel': 9708, 'transfer': 9033, 'ways': 9653, 'scale': 7511, 'shower': 7819, 'enclosure': 2803, 'using': 9398, 'microfiber': 5360, 'cloth': 1513, 'methods': 5343, 'popping': 6450, 'articles': 463, 'forums': 3443, 'looked': 5029, 'shown': 7821, 'spray': 8208, 'delivered': 2177, 'pictured': 6292, 'cloths': 1516, 'car': 1227, 'washes': 9629, 'dying': 2660, 'caller': 1172, 'id': 4187, 'receipt': 6911, 'recall': 6909, 'saying': 7507, 'department': 2195, 'phones': 6264, 'displays': 2430, 'cordless': 1832, 'apparent': 383, 'useful': 9390, 'pieces': 6296, 'landline': 4776, 'utilize': 9408, 'att': 526, 'based': 677, 'voice': 9544, 'mail': 5139, 'messages': 5330, 'functional': 3533, 'mean': 5266, 'picks': 6287, 'stutter': 8441, 'dial': 2282, 'tone': 8958, 'fashioned': 3145, 'most': 5518, 'toys': 9002, 'handset': 3857, 'pricing': 6573, 'fragile': 3459, 'confirm': 1710, 'mounts': 5538, 'polk': 6440, 'tossed': 8979, 'screws': 7564, 'mounted': 5536, 'favor': 3163, 'drywall': 2612, 'story': 8361, 'angled': 325, 'tighten': 8889, 'base': 675, 'compatibility': 1628, 'arms': 443, 'strange': 8370, 'wind': 9760, 'pushing': 6745, 'deep': 2128, 'closer': 1507, 'pointing': 6420, 'forward': 3444, 'safely': 7453, 'permanently': 6238, 'holes': 4064, 'caveat': 1284, 'wont': 9823, 'yesterday': 9943, 'theater': 8794, 'team': 8700, 'upset': 9366, 'grateful': 3755, 'wrote': 9889, 'sealing': 7584, 'contacts': 1763, 'locate': 5003, 'shipped': 7771, 'assembled': 488, 'folks': 3389, 'liked': 4940, 'information': 4356, 'post': 6482, 'asap': 471, 'protective': 6681, 'coin': 1553, 'keys': 4681, 'repeat': 7131, 'rate': 6838, 'variable': 9432, 'remotes': 7104, 'wrist': 9881, 'splitter': 8187, 'galaxy': 3568, 'crossed': 1960, 'noticed': 5764, 'arm': 439, 'chair': 1326, 'regular': 7042, 'forced': 3411, 'position': 6471, 'isolation': 4545, 'else': 2772, 'windy': 9767, 'helmet': 3980, 'motorcycle': 5527, 'softer': 8042, 'lol': 5023, 'depending': 2199, 'application': 398, 'strength': 8387, 'sq': 8217, 'sun': 8518, 'city': 1440, 'vizio': 9536, 'aaa': 1, 'likely': 4941, 'ir': 4526, 'red': 6976, 'sensor': 7660, 'thorough': 8838, 'functionality': 3534, 'emitting': 2789, 'insert': 4387, 'appear': 387, 'emits': 2785, 'minor': 5406, 'negatives': 5658, 'megapixel': 5297, 'pickup': 6288, 'zoom': 9989, 'plus': 6401, 'xp': 9915, 'hp': 4131, 'vista': 9527, 'pcs': 6186, 'edit': 2710, 'claims': 1448, 'supposedly': 8548, 'flip': 3342, 'reason': 6895, 'shotgun': 7808, 'uncomfortable': 9232, 'ssd': 8237, 'suits': 8513, 'hdd': 3924, 'effective': 2721, 'palm': 6094, 'rejection': 7056, 'latitude': 4812, 'eraser': 2886, 'pen': 6204, 'step': 8314, 'backward': 637, 'none': 5733, 'fisheye': 3281, 'dual': 2622, 'pencil': 6205, 'styrofoam': 8451, 'reach': 6863, 'airplane': 218, 'negative': 5657, 'edges': 2708, 'scratched': 7547, 'variety': 9437, 'earlier': 2674, 'ps': 6705, 'game': 3572, 'study': 8429, 'crystal': 1980, 'logo': 5020, 'tray': 9072, 'plan': 6345, 'plenty': 6387, 'instruction': 4418, 'ten': 8749, 'gotta': 3722, 'turntable': 9156, 'fm': 3368, 'tuner': 9146, 'sucks': 8490, 'forever': 3420, 'frequencies': 3487, 'means': 5268, 'idiot': 4197, 'appliance': 395, 'programmed': 6632, 'stupid': 8436, 'marketing': 5211, 'fulfill': 3523, 'hyped': 4177, 'drops': 2605, 'establish': 2908, 'videos': 9499, 'streamed': 8380, 'hardwired': 3887, 'experiment': 3029, 'rule': 7427, 'isp': 4547, 'culprit': 1987, 'channels': 1342, 'determine': 2257, 'provide': 6694, 'alas': 228, 'core': 1834, 'gigabit': 3647, 'outdated': 5996, 'minute': 5410, 'fitting': 3290, 'nut': 5801, 'intended': 4442, 'retaining': 7253, 'twist': 9175, 'oddly': 5849, 'placed': 6338, 'center': 1308, 'hole': 4063, 'soldering': 8050, 'imagine': 4229, 'ss': 8235, 'silent': 7855, 'speedy': 8163, 'whatsoever': 9707, 'lightning': 4934, 'insanely': 4385, 'drawbacks': 2568, 'folds': 3387, 'packs': 6072, 'convenient': 1795, 'rotates': 7386, 'beautifully': 720, 'additional': 112, 'visible': 9520, 'crease': 1932, 'photographing': 6272, 'virtually': 9516, 'tend': 8750, 'creep': 1942, 'gray': 3757, 'backgrounds': 623, 'photograph': 6268, 'height': 3976, 'tall': 8658, 'particularly': 6135, 'adjusts': 132, 'upward': 9372, 'stands': 8270, 'appropriate': 408, 'failure': 3112, 'between': 784, 'cooling': 1819, 'pads': 6076, 'past': 6156, 'th': 8785, 'heading': 3942, 'landfill': 4775, 'shortly': 7804, 'account': 58, 'audiophile': 559, 'aux': 577, 'ancient': 318, 'marantz': 5197, 'reciever': 6935, 'ripped': 7329, 'lossless': 5053, 'fair': 3115, 'outstanding': 6014, 'acoustic': 71, 'suspension': 8580, 'ported': 6462, 'style': 8444, 'favorable': 3164, 'terminal': 8760, 'banana': 654, 'plugs': 6399, 'ceiling': 1297, 'drilling': 2585, 'extensive': 3068, 'alter': 271, 'highs': 4022, 'woofer': 9827, 'comparing': 1621, 'earphones': 2680, 'starting': 8281, 'matching': 5230, 'slightest': 7949, 'bump': 1095, 'cause': 1277, 'jump': 4635, 'owning': 6056, 'realtek': 6889, 'path': 6161, 'performs': 6227, 'erratic': 2892, 'speeds': 8161, 'maximum': 5250, 'opposed': 5930, 'under': 9237, 'luckily': 5088, 'alfa': 237, 'downstairs': 2542, 'troublesome': 9117, 'throughput': 8860, 'satisfied': 7490, 'mbps': 5258, 'modem': 5461, 'abit': 9, 'reception': 6922, 'found': 3450, 'unreliable': 9314, 'spot': 8201, 'ice': 4182, 'shot': 7807, 'bi': 791, 'film': 3231, 'cylinder': 2029, 'leds': 4864, 'next': 5691, 'types': 9186, 'shoots': 7788, 'dragging': 2553, 'ideal': 4190, 'flickering': 3334, 'dimmed': 2324, 'spontaneously': 8194, 'eye': 3081, 'altered': 272, 'shots': 7809, 'dozen': 2546, 'consistently': 1747, 'reliably': 7073, 'cc': 1289, 'cutting': 2018, 'happens': 3873, 'ball': 649, 'frustrated': 3511, 'never': 5681, 'guy': 3820, 'bay': 699, 'those': 8840, 'rare': 6833, 'thanks': 8790, 'movies': 5551, 'flashlight': 3315, 'options': 5946, 'brightness': 1022, 'sort': 8091, 'lepai': 4887, 'finds': 3244, 'station': 8293, 'selected': 7633, 'enhance': 2832, 'br': 977, 'ht': 4136, 'awkwardly': 608, 'sufficient': 8500, 'cheaply': 1366, 'perhaps': 6228, 'techy': 8717, 'crush': 1975, 'ty': 9182, 'hooking': 4086, 'reply': 7152, 'tempted': 8748, 'fluke': 3363, 'dark': 2054, 'refunded': 7017, 'minus': 5409, 'restocking': 7235, 'fee': 3182, 'offered': 5857, 'zune': 9996, 'stores': 8356, 'slim': 7951, 'saving': 7501, 'bulky': 1089, 'camper': 1187, 'van': 9429, 'custom': 2005, 'told': 8946, 'wanna': 9592, 'performed': 6224, 'thrown': 8863, 'flawless': 3324, 'highest': 4018, 'graphics': 3751, 'skyrim': 7922, 'exceeded': 2962, 'expectations': 3019, 'amateur': 283, 'node': 5726, 'overkill': 6031, 'im': 4224, 'hf': 4000, 'modes': 5466, 'purchases': 6733, 'sabrent': 7446, 'soundcard': 8101, 'hum': 4151, 'vox': 9560, 'triggers': 9100, 'ill': 4216, 'revise': 7289, 'feedback': 3184, 'creative': 1938, 'labs': 4753, 'soundblaster': 8099, 'nintendo': 5717, 'closing': 1511, 'disconnected': 2391, 'gs': 3794, 'socket': 8033, 'screw': 7559, 'filled': 3227, 'comments': 1595, 'durability': 2642, 'arrive': 453, 'bent': 777, 'downstream': 2543, 'recorder': 6960, 'affect': 169, 'pouch': 6491, 'met': 5336, 'rated': 6839, 'normal': 5743, 'many': 5191, 'bags': 643, 'someone': 8066, 'call': 1170, 'him': 4031, 'his': 4041, 'ass': 486, 'absolute': 17, 'skeptical': 7903, 'behold': 750, 'by': 1138, 'suprised': 8550, 'combined': 1579, 'freaking': 3473, 'peace': 6190, 'lg': 4907, 'le': 4833, 'success': 8482, 'pcm': 6185, 'optical': 5936, 'taking': 8652, 'stereo': 8318, 'road': 7344, 'glide': 3670, 'tail': 8647, 'always': 281, 'klipsch': 4718, 'fyi': 3560, 'sr': 8231, 'license': 4912, 'plates': 6362, 'latest': 4811, 'tear': 8701, 'usage': 9383, 'technician': 8709, 'em': 2774, 'motherboards': 5522, 'fried': 3496, 'compaq': 1614, 'supplies': 8539, 'pin': 6304, 'atx': 550, 'form': 3430, 'factor': 3100, 'bridged': 1013, 'accidentally': 44, 'jabra': 4567, 'earbud': 2670, 'regularly': 7043, 'clutter': 1524, 'careless': 1239, 'forgetting': 3424, 'pants': 6109, 'plantronics': 6354, 'broadcast': 1031, 'gps': 3726, 'location': 5005, 'relied': 7074, 'complaints': 1645, 'co': 1531, 'workers': 9839, 'customers': 2007, 'cancellation': 1198, 'announces': 335, 'instant': 4414, 'polaroid': 6430, 'flights': 3339, 'crash': 1925, 'geek': 3604, 'spent': 8168, 'sophisticated': 8087, 'share': 7733, 'functioned': 3536, 'crashed': 1926, 'permanent': 6237, 'death': 2095, 'cardboard': 1231, 'quad': 6765, 'phantom': 6255, 'released': 7066, 'destroyed': 2239, 'blown': 874, 'hover': 4126, 'fantastic': 3137, 'sensitivity': 7659, 'already': 266, 'blades': 835, 'wipe': 9778, 'debris': 2099, 'stains': 8258, 'fly': 3366, 'hey': 3999, 'opposite': 5931, 'resulted': 7243, 'falling': 3124, 'shock': 7776, 'scuffs': 7572, 'trees': 9080, 'website': 9674, 'limited': 4949, 'comprehensive': 1663, 'selection': 7635, 'publish': 6714, 'dji': 2469, 'provider': 6696, 'staff': 8254, 'waiting': 9575, 'inquiry': 4381, 'qr': 6764, 'lame': 4769, 'accurately': 62, 'reflect': 7001, 'changes': 1339, 'confusing': 1721, 'describes': 2212, 'include': 4294, 'label': 4747, 'helpful': 3984, 'footprint': 3408, 'wanting': 9596, 'pale': 6093, 'senior': 7651, 'hoped': 4093, 'wii': 9752, 'extras': 3078, 'productive': 6617, 'couch': 1861, 'action': 81, 'amazingly': 286, 'forms': 3437, 'cent': 1307, 'os': 5975, 'gamers': 3575, 'delay': 2165, 'challenge': 1328, 'letting': 4898, 'collection': 1563, 'giving': 3661, 'clunky': 1523, 'rock': 7351, 'groove': 3783, 'stabilize': 8247, 'selfie': 7640, 'her': 3988, 'resorted': 7207, 'operated': 5918, 'timer': 8908, 'integrated': 4434, 'hd': 3922, 'tuners': 9147, 'shop': 7789, 'age': 188, 'electrician': 2752, 'stereos': 8319, 'vehicles': 9448, 'pioneer': 6313, 'phd': 6257, 'truck': 9119, 'emit': 2784, 'upon': 9359, 'evidence': 2948, 'pointed': 6418, 'connections': 1729, 'avail': 580, 'symptoms': 8621, 'steps': 8317, 'curious': 1993, 'wondered': 9817, 'experienced': 3026, 'nevertheless': 5682, 'dealer': 2090, 'promptly': 6657, 'sooner': 8083, 'promised': 6648, 'promises': 6649, 'protects': 6684, 'grease': 3758, 'fingerprints': 3252, 'usual': 9402, 'placing': 6341, 'seal': 7582, 'sporadic': 8196, 'ripping': 7330, 'prior': 6587, 'rips': 7331, 'bd': 704, 'utility': 9407, 'checks': 1374, 'operation': 5921, 'indicated': 4327, 'bus': 1116, 'tests': 8773, 'thicker': 8818, 'supply': 8540, 'kidding': 4694, 'asked': 478, 'questions': 6777, 'dealing': 2091, 'ray': 6854, 'downgrading': 2531, 'shouldn': 7813, 'sentence': 7663, 'structure': 8416, 'consideration': 1742, 'plex': 6389, 'server': 7684, 'slots': 7965, 'existing': 3005, 'rw': 7442, 'rays': 6855, 'dvd': 2652, 'hiccups': 4007, 'or': 5949, 'smallest': 7980, 'comparable': 1615, 'unlock': 9288, 'potential': 6489, 'assistance': 498, 'finding': 3242, 'mention': 5315, 'ahead': 203, 'email': 2775, 'thursday': 8873, 'actual': 95, 'early': 2675, 'following': 3392, 'monday': 5495, 'emails': 2778, 'forwarded': 3445, 'installing': 4410, 'straightforward': 8366, 'selecting': 7634, 'increase': 4311, 'regarding': 7028, 'attest': 540, 'content': 1770, 'sake': 7460, 'mobo': 5453, 'master': 5225, 'compress': 1664, 'mps': 5560, 'rip': 7327, 'noisy': 5730, 'verdict': 9464, 'alone': 259, 'plate': 6360, 'thermal': 8812, 'paste': 6157, 'building': 1079, 'liquid': 4969, 'temps': 8747, 'teen': 8720, 'effects': 2724, 'trained': 9027, 'taste': 8683, 'lacked': 4756, 'recovery': 6969, 'producing': 6614, 'complex': 1650, 'sennheiser': 7652, 'gifts': 3645, 'hifi': 4014, 'seem': 7622, 'hiking': 4027, 'along': 260, 'npr': 5782, 'morning': 5514, 'patio': 6165, 'plans': 6352, 'paired': 6089, 'rca': 6859, 'heck': 3971, 'myself': 5597, 'accurate': 61, 'beef': 729, 'pressed': 6553, 'accidently': 45, 'threw': 8854, 'several': 7705, 'wd': 9656, 'caviar': 1286, 'slides': 7945, 'firmly': 3276, 'tightened': 8890, 'dimming': 2326, 'proven': 6692, 'capturing': 1226, 'providing': 6699, 'sb': 7509, 'suit': 8508, 'obviously': 5830, 'compete': 1633, 'videographer': 9497, 'lit': 4981, 'subject': 8456, 'alpine': 265, 'ca': 1144, 'eneloops': 2818, 'brother': 1038, 'law': 4820, 'enclosed': 2802, 'kindle': 4703, 'vs': 9565, 'wonder': 9816, 'exposed': 3052, 'instance': 4412, 'occasional': 5833, 'paperclip': 6111, 'smashed': 7990, 'pages': 6078, 'magnetic': 5131, 'track': 9008, 'current': 1995, 'heaven': 3967, 'magnet': 5130, 'touches': 8986, 'somehow': 8065, 'seen': 7626, 'dx': 2658, 'investment': 4500, 'hint': 4037, 'includes': 4296, 'ties': 8885, 'hauppauge': 3907, 'pvr': 6751, 'sad': 7449, 'crisp': 1949, 'text': 8777, 'lacking': 4757, 'considerably': 1741, 'tvs': 9162, 'clasp': 1458, 'ez': 3088, 'will': 9756, 'bolts': 906, 'moved': 5546, 'tops': 8971, 'securing': 7616, 'tilt': 8900, 'swivel': 8611, 'movement': 5547, 'printers': 6584, 'sideways': 7841, 'lift': 4924, 'adjustments': 131, 'lastly': 4801, 'rotate': 7384, 'upside': 9368, 'config': 1703, 'agree': 199, 'limit': 4946, 'breaker': 1001, 'rivals': 7337, 'mark': 5205, 'iii': 4215, 'weddings': 9677, 'events': 2934, 'session': 7692, 'corrupt': 1848, 'garage': 3582, 'thirty': 8835, 'dollars': 2501, 'marginal': 5202, 'jewel': 4598, 'burning': 1111, 'developed': 2264, 'bothered': 946, 'their': 8798, 'web': 9669, 'chat': 1360, 'sorry': 8090, 'sonys': 8080, 'jacks': 4570, 'jack': 4568, 'programmable': 6631, 'states': 8288, 'pre': 6514, 'mine': 5394, 'false': 3127, 'advertising': 159, 'vcr': 9443, 'impression': 4260, 'complaining': 1642, 'ordering': 5954, 'peel': 6195, 'persons': 6249, 'language': 4781, 'bt': 1052, 'yamaha': 9928, 'plugging': 6396, 'mono': 5501, 'meant': 5269, 'transmitter': 9055, 'applies': 401, 'doubles': 2522, 'much': 5568, 'beyond': 787, 'hideous': 4011, 'conflicts': 1716, 'knock': 4723, 'wood': 9824, 'addressed': 115, 'blocked': 863, 'called': 1171, 'ring': 7324, 'procedure': 6600, 'block': 862, 'manually': 5183, 'lazy': 4829, 'raise': 6816, 'unwanted': 9336, 'fake': 3120, 'pleased': 6383, 'info': 4354, 'disconnect': 2390, 'series': 7679, 'corded': 1831, 'bases': 679, 'because': 722, 'blocker': 864, 'knowing': 4730, 'future': 3553, 'parallel': 6119, 'mute': 5588, 'greater': 3761, 'technical': 8707, 'specifications': 8145, 'football': 3406, 'miniature': 5398, 'security': 7617, 'viewer': 9506, 'inadequate': 4279, 'bubble': 1056, 'outer': 5999, 'inner': 4375, 'cosmetic': 1853, 'commented': 1594, 'atsc': 525, 'picked': 6285, 'boston': 942, 'ma': 5102, 'misses': 5433, 'res': 7181, 'av': 579, 'lithium': 4985, 'harder': 3880, 'sealed': 7583, 'surprisingly': 8565, 'complain': 1640, 'sub': 8453, 'everywhere': 2945, 'ts': 9133, 'subwoofer': 8478, 'typical': 9187, 'constructed': 1753, 'backlight': 625, 'pole': 6431, 'adds': 117, 'versatility': 9471, 'hesitate': 3996, 'modifier': 5471, 'combo': 1581, 'collapses': 1558, 'stiff': 8328, 'feeling': 3188, 'worst': 9858, 'pick': 6284, 'equalizer': 2876, 'ooma': 5905, 'cute': 2013, 'spots': 8204, 'sites': 7890, 'online': 5899, 'listed': 4971, 'accessible': 38, 'put': 6746, 'lesson': 4890, 'los': 5047, 'trackpad': 9015, 'unusable': 9331, 'judging': 4631, 'gotten': 3723, 'lemon': 4877, 'scrolling': 7567, 'updated': 9345, 'driver': 2589, 'outages': 5994, 'advice': 161, 'http': 4140, 'www': 9897, 'com': 1575, 'gp': 3724, 'ref': 6991, 'oh_details_o_s_i': 5871, 'directional': 2342, 'hdtv': 3931, 'tinny': 8916, 'volt': 9551, 'polarity': 6426, 'attachment': 531, 'corsair': 1851, 'kingston': 4709, 'lanyard': 4785, 'approximately': 412, 'reformat': 7010, 'copying': 1829, 'foam': 3371, 'lining': 4959, 'mad': 5116, 'kicker': 4689, 'ohm': 5872, 'bucks': 1062, 'loading': 4999, 'utilities': 9406, 'indicates': 4328, 'wants': 9597, 'erase': 2884, 'boat': 896, 'anchor': 316, 'redeeming': 6977, 'unless': 9284, 'searching': 7593, 'losing': 5050, 'garmins': 3587, 'garmin': 3586, 'nuvi': 5804, 'street': 8385, 'serious': 7680, 'streets': 8386, 'address': 114, 'miles': 5384, 'highway': 4023, 'calculate': 1160, 'occasions': 5835, 'outcome': 5995, 'mailed': 5141, 'displeased': 2431, 'proceeded': 6603, 'responded': 7217, 'pitch': 6323, 'ink': 4373, 'maps': 5195, 'contract': 1783, 'party': 6143, 'caps': 1220, 'part': 6129, 'ask': 477, 'error': 2894, 'message': 5329, 'map': 5192, 'pushed': 6743, 'nearest': 5640, 'houses': 4123, 'stayed': 8299, 'changed': 1337, 'buried': 1106, 'six': 7896, 'chicago': 1386, 'lane': 4779, 'dedicated': 2124, 'lanes': 4780, 'fourth': 3452, 'enter': 2849, 'exit': 3007, 'stating': 8292, 'route': 7395, 'updater': 9346, 'score': 7537, 'bmw': 891, 'cracked': 1903, 'residue': 7195, 'dozens': 2547, 'scratches': 7548, 'claiming': 1447, 'cpus': 1900, 'unlike': 9285, 'certain': 1315, 'reputable': 7169, 'manufacturers': 5188, 'upgrades': 9352, 'supported': 8543, 'chipset': 1400, 'rates': 6840, 'kbps': 4660, 'xmas': 9912, 'complained': 1641, 'applied': 400, 'bubbles': 1057, 'clarity': 1457, 'responsive': 7224, 'band': 655, 'comcast': 1583, 'solve': 8058, 'sorely': 8089, 'muffled': 5573, 'balanced': 647, 'somewhat': 8071, 'keep': 4664, 'report': 7153, 'shack': 7716, 'unknown': 9283, 'thank': 8787, 'goodness': 3709, 'generous': 3621, 'policy': 6435, 'experimentation': 3030, 'bridge': 1012, 'alternative': 274, 'wasted': 9635, 'bummed': 1093, 'shake': 7723, 'nook': 5739, 'handle': 3850, 'pairing': 6090, 'process': 6604, 'completed': 1648, 'digit': 2311, 'ironically': 4530, 'popup': 6454, 'typed': 9185, 'incorrect': 4309, 'codes': 1547, 'widest': 9740, 'fingers': 3253, 'hand': 3846, 'tired': 8925, 'warning': 9609, 'giant': 3643, 'bust': 1120, 'budget': 1066, 'bedside': 727, 'complete': 1647, 'horribly': 4104, 'breaks': 1004, 'compelled': 1630, 'hinge': 4034, 'absurd': 20, 'sounding': 8103, 'tweeters': 9170, 'midrange': 5373, 'lows': 5079, 'see': 7618, 'exchange': 2978, 'sleeve': 7935, 'notice': 5761, 'cannot': 1204, 'recently': 6919, 'seeing': 7619, 'instantly': 4415, 'shiny': 7768, 'steady': 8303, 'disconnecting': 2392, 'fixed': 3296, 'measured': 5273, 'faint': 3114, 'heart': 3958, 'apply': 402, 'underwhelmed': 9246, 'bios': 816, 'geared': 3602, 'mainstream': 5148, 'confused': 1720, 'behaves': 747, 'countless': 1870, 'tweak': 9165, 'ultimately': 9208, 'flaky': 3305, 'act': 78, 'belt': 764, 'slider': 7943, 'slid': 7941, 'guts': 3819, 'behind': 749, 'raw': 6853, 'capacity': 1217, 'reported': 7154, 'osx': 5978, 'snow': 8023, 'leopard': 4886, 'bytes': 1143, 'partition': 6137, 'doesnt': 2494, 'physical': 6278, 'rarely': 6834, 'noisier': 5729, 'imac': 4225, 'imovie': 4238, 'seagate': 7581, 'tb': 8688, 'settled': 7700, 'yrs': 9967, 'immediate': 4234, 'annoyance': 337, 'clicking': 1484, 'consistent': 1746, 'hmmm': 4052, 'kensington': 4669, 'knockoff': 4726, 'spotting': 8205, 'repeatedly': 7133, 'basket': 684, 'eh': 2735, 'falls': 3126, 'fitbit': 3285, 'pebble': 6193, 'starters': 8280, 'grew': 3765, 'retro': 7264, 'boy': 973, 'texas': 8776, 'instruments': 4422, 'few': 3199, 'least': 4855, 'silicone': 7857, 'sweaty': 8595, 'stretchy': 8395, 'texture': 8780, 'collects': 1565, 'lint': 4965, 'fuzz': 3555, 'resistant': 7198, 'proof': 6664, 'watches': 9640, 'scuba': 7569, 'diving': 2465, 'surfing': 8557, 'sports': 8200, 'wet': 9702, 'leakage': 4841, 'ruining': 7425, 'gorilla': 3720, 'painted': 6086, 'grey': 3766, 'bezel': 788, 'surrounding': 8568, 'breathe': 1006, 'paper': 6110, 'passed': 6147, 'plethora': 6388, 'faces': 3095, 'annoy': 336, 'calendar': 1163, 'alerts': 235, 'vibrating': 9491, 'notifications': 5768, 'glitchy': 3674, 'repair': 7127, 'smartwatch': 7988, 'glance': 3665, 'alert': 234, 'health': 3952, 'funny': 3541, 'quirky': 6789, 'remind': 7098, 'opinions': 5926, 'anyways': 371, 'gadget': 3563, 'refuse': 7022, 'shell': 7754, 'glitches': 3673, 'tuned': 9145, 'everyday': 2941, 'admin': 133, 'dd': 2081, 'wrt': 9890, 'equivalent': 2881, 'restart': 7227, 'notebook': 5754, 'distances': 2441, 'dad': 2033, 'yard': 9932, 'drastically': 2565, 'social': 8032, 'nexus': 5692, 'tpu': 9005, 'offers': 5860, 'cutouts': 2015, 'bulk': 1087, 'par': 6116, 'courses': 1881, 'gathering': 3594, 'cage': 1157, 'tightening': 8891, 'lever': 4902, 'rod': 7359, 'rods': 7361, 'focus': 3374, 'streamlined': 8383, 'kinda': 4702, 'pound': 6493, 'exclusively': 2985, 'respond': 7216, 'cheep': 1375, 'paid': 6079, 'september': 7674, 'restarting': 7229, 'lan': 4772, 'hotels': 4115, 'temporary': 8746, 'passwords': 6155, 'awkward': 607, 'meaning': 5267, 'binoculars': 814, 'how': 4127, 'possibly': 6481, 'bluray': 885, 'brainer': 984, 'plays': 6378, 'encryption': 2810, 'cancel': 1195, 'navigating': 5628, 'hulu': 4150, 'concept': 1675, 'delivery': 2180, 'reboot': 6902, 'cranked': 1919, 'engage': 2822, 'tricky': 9094, 'edge': 2707, 'panel': 6102, 'align': 241, 'displayport': 2429, 'partially': 6131, 'preference': 6526, 'thick': 8817, 'held': 3977, 'informed': 4358, 'december': 2107, 'indicating': 4329, 'referring': 6996, 'upgraded': 9351, 'flashdrive': 3311, 'quite': 6791, 'slipping': 7959, 'purse': 6741, 'lanyards': 4786, 'keychain': 4677, 'gold': 3700, 'rose': 7381, 'detect': 2248, 'copy': 1828, 'printed': 6582, 'chart': 1355, 'subjects': 8459, 'passport': 6152, 'bigger': 797, 'every': 2939, 'differences': 2299, 'resist': 7196, 'gentle': 3626, 'ridges': 7311, 'accommodate': 47, 'manufacturing': 5190, 'began': 739, 'everytime': 2944, 'balance': 646, 'equal': 2874, 'tl': 8933, 'expand': 3009, 'vpn': 9563, 'ups': 9363, 'earpiece': 2681, 'walkie': 9582, 'ie': 4202, 'utf': 9404, 'psc': 6706, 'fold': 3381, 'solidly': 8054, 'sorts': 8095, 'sink': 7880, 'intel': 4438, 'realized': 6886, 'temp': 8739, 'slr': 7974, 'manages': 5174, 'situation': 7894, 'underneath': 9238, 'flaps': 3308, 'lowepro': 5072, 'stylish': 8448, 'seeking': 7621, 'deals': 2092, 'cyber': 2021, 'ridiculously': 7313, 'jaws': 4585, 'flex': 3328, 'clamp': 1450, 'adjustable': 126, 'neck': 5648, 'achieving': 68, 'diameter': 2287, 'cm': 1526, 'minimum': 5403, 'bending': 770, 'degree': 2162, 'shocked': 7777, 'planning': 6351, 'africa': 179, 'photographs': 6273, 'camcorder': 1181, 'stills': 8332, 'wording': 9830, 'reads': 6879, 'capture': 1223, 'yea': 9935, 'roll': 7366, 'shame': 7729, 'buyer': 1129, 'double': 2520, 'brilliant': 1023, 'justice': 4649, 'format': 3431, 'resource': 7208, 'pig': 6298, 'sizes': 7900, 'fell': 3193, 'reorder': 7123, 'ar': 421, 'wobbles': 9809, 'shift': 7761, 'leaks': 4844, 'managed': 5171, 'rv': 7441, 'king': 4708, 'dish': 2411, 'baseball': 676, 'pivot': 6327, 'stack': 8252, 'hissing': 4043, 'hello': 3979, 'sister': 7887, 'till': 8899, 'siriusxm': 7886, 'whats': 9706, 'roku': 7364, 'xs': 9918, 'tolerance': 8948, 'example': 2959, 'shield': 7757, 'lifted': 4925, 'chose': 1411, 'scratch': 7546, 'lite': 4982, 'flashes': 3313, 'blowing': 873, 'cuz': 2019, 'efficiently': 2727, 'something': 8068, 'blinding': 854, 'recharge': 6926, 'cycle': 2025, 'decently': 2109, 'noticeably': 5763, 'randomly': 6824, 'electrical': 2750, 'shocks': 7779, 'costs': 1858, 'economy': 2703, 'companion': 1612, 'worry': 9855, 'parents': 6124, 'laws': 4822, 'granted': 3748, 'lasting': 4800, 'treated': 9076, 'reduction': 6988, 'produces': 6613, 'massive': 5223, 'ambient': 291, 'covering': 1888, 'microphones': 5362, 'improves': 4270, 'flaw': 3322, 'essentially': 2906, 'clumsy': 1522, 'vouch': 9559, 'timed': 8905, 'thousand': 8846, 'openings': 5914, 'wrap': 9873, 'surface': 8554, 'stinks': 8334, 'undone': 9249, 'ati': 519, 'unable': 9216, 'costing': 1856, 'rid': 7307, 'duo': 2638, 'messing': 5334, 'move': 5545, 'traveling': 9069, 'faulty': 3161, 'seemed': 7623, 'habit': 3826, 'regardless': 7029, 'circumstances': 1437, 'briefly': 1017, 'alright': 267, 'axis': 611, 'skype': 7921, 'conversations': 1799, 'producer': 6612, 'manufactured': 5186, 'colorful': 1570, 'smell': 7993, 'today': 8939, 'dropping': 2604, 'reviewing': 7287, 'sincerely': 7876, 'casual': 1267, 'advanced': 149, 'heres': 3990, 'mids': 5374, 'hip': 4039, 'hop': 4091, 'electronic': 2754, 'logitec': 5018, 'generation': 3617, 'ssds': 8238, 'unexpected': 9252, 'losses': 5052, 'pace': 6061, 'from': 3504, 'modeling': 5459, 'adobe': 139, 'cs': 1981, 'meets': 5294, 'assist': 497, 'uhd': 9201, 'prices': 6570, 'rent': 7118, 'rows': 7404, 'cells': 1303, 'database': 2065, 'vudu': 9567, 'recognition': 6937, 'subpar': 8463, 'tomorrow': 8954, 'arrow': 457, 'lacks': 4759, 'bitrate': 823, 'fios': 3262, 'seattle': 7600, 'electronics': 2756, 'notes': 5758, 'below': 763, 'fluctuates': 3361, 'artifacts': 466, 'scenes': 7528, 'ramp': 6821, 'measure': 5272, 'trailer': 9024, 'exception': 2971, 'train': 9026, 'dragon': 2554, 'discuss': 2406, 'cheapest': 1364, 'max': 5246, 'ride': 7308, 'mph': 5558, 'mediabridge': 5284, 'snaps': 8016, 'rpi': 7407, 'ends': 2816, 'yellow': 9939, 'anticipated': 358, 'sorting': 8094, 'pressure': 6556, 'saver': 7499, 'deduct': 2125, 'nero': 5668, 'crashes': 1927, 'skipping': 7915, 'string': 8399, 'listened': 4974, 'thus': 8874, 'reflection': 7004, 'loudly': 5061, 'concerning': 1678, 'shabby': 7715, 'taped': 8672, 'labeled': 4748, 'wrapped': 9874, 'keeper': 4665, 'glove': 3679, 'wonderful': 9818, 'subjective': 8458, 'cups': 1990, 'prong': 6660, 'engine': 2825, 'ticket': 8878, 'affordable': 176, 'operate': 5917, 'during': 2646, 'mile': 5382, 'radius': 6807, 'networks': 5679, 'accounts': 59, 'attic': 541, 'directv': 2348, 'reached': 6864, 'professionally': 6622, 'female': 3196, 'male': 5161, 'chinese': 1394, 'happily': 3875, 'places': 6340, 'projected': 6639, 'foot': 3404, 'hi': 4003, 'bummer': 1094, 'meh': 5300, 'others': 5983, 'monoprice': 5504, 'honestly': 4077, 'acoustics': 72, 'blew': 852, 'suppose': 8546, 'shorting': 7803, 'loosing': 5043, 'pity': 6326, 'stacked': 8253, 'dirty': 2350, 'swipe': 8602, 'opportunity': 5929, 'enjoying': 2840, 'flexibility': 3330, 'hundreds': 4158, 'poe': 6413, 'vac': 9418, 'forth': 3438, 'damaged': 2037, 'calibrated': 1165, 'hears': 3957, 'speak': 8130, 'spoke': 8191, 'touching': 8987, 'icon': 4184, 'conversation': 1798, 'ending': 2813, 'operates': 5919, 'theirs': 8799, 'girlfriend': 3656, 'shopping': 7791, 'yo': 9953, 'wasabi': 9624, 'cybershot': 2024, 'recharging': 6932, 'reasonably': 6897, 'suited': 8512, 'moderate': 5463, 'television': 8733, 'substitute': 8473, 'burned': 1108, 'circuits': 1434, 'weakness': 9661, 'carries': 1248, 'electricity': 2753, 'spark': 8126, 'affected': 170, 'repairing': 7129, 'solved': 8059, 'xti': 9921, 'eyecup': 3082, 'attempting': 536, 'saw': 7505, 'viewfinder': 9507, 'diopter': 2335, 'moon': 5510, 'extenders': 3063, 'powerline': 6501, 'linked': 4961, 'endless': 2814, 'buffering': 1072, 'blur': 884, 'cat': 1268, 'paces': 6062, 'concluded': 1683, 'perixx': 6236, 'px': 6755, 'gauge': 3595, 'tactile': 8643, 'modern': 5465, 'intensity': 4445, 'grippy': 3778, 'underside': 9240, 'preventing': 6563, 'sliding': 7947, 'hanger': 3866, 'clever': 1479, 'hanging': 3867, 'nails': 5606, 'hooks': 4087, 'beneath': 772, 'turtle': 9157, 'beach': 707, 'supporting': 8544, 'retina': 7256, 'blows': 875, 'rounded': 7393, 'forgot': 3427, 'wacom': 9571, 'drawing': 2570, 'touched': 8985, 'horrific': 4106, 'lion': 4967, 'respective': 7213, 'existence': 3003, 'altogether': 278, 'booted': 928, 'installer': 4409, 'recognized': 6939, 'booting': 930, 'method': 5342, 'constant': 1751, 'escape': 2899, 'applicable': 397, 'gains': 3567, 'reliability': 7071, 'changing': 1340, 'stood': 8346, 'inexplicably': 4346, 'deeply': 2130, 'dislike': 2417, 'vent': 9456, 'torn': 8973, 'doubt': 2524, 'contacting': 1762, 'structural': 8415, 'brittle': 1028, 'spigen': 8170, 'counting': 1869, 'intend': 4441, 'ship': 7769, 'approved': 410, 'scam': 7514, 'legitimate': 4874, 'consoles': 1750, 'console': 1749, 'portability': 6459, 'reminds': 7101, 'eneloop': 2817, 'parrot': 6128, 'drone': 2597, 'workmanship': 9843, 'plated': 6361, 'chrome': 1416, 'conductor': 1694, 'positives': 6477, 'negligible': 5659, 'suffers': 8498, 'neat': 5642, 'students': 8425, 'layer': 4824, 'reflective': 7006, 'indoors': 4338, 'absent': 16, 'aspect': 482, 'laggy': 4765, 'capacitive': 1214, 'sold': 8047, 'ebay': 2698, 'pelican': 6203, 'vocals': 9543, 'jbl': 4589, 'revised': 7290, 'concerned': 1677, 'explained': 3039, 'boost': 921, 'nicer': 5700, 'solves': 8060, 'assume': 502, 'strips': 8405, 'tube': 9137, 'scrolls': 7568, 'entering': 2851, 'moves': 5549, 'loosely': 5036, 'papers': 6112, 'chip': 1396, 'charm': 1354, 'bundle': 1103, 'goodies': 3708, 'vivitar': 9533, 'contain': 1764, 'accessories': 40, 'tightly': 8894, 'dividers': 2464, 'diffuser': 2306, 'bouncing': 959, 'plugin': 6397, 'firefox': 3266, 'login': 5017, 'webcam': 9670, 'renting': 7121, 'cctv': 1292, 'dvr': 2656, 'drawback': 2567, 'competitive': 1637, 'struggled': 8418, 'continually': 1774, 'woke': 9812, 'reporting': 7155, 'solutions': 8057, 'frequently': 3490, 'cleaning': 1469, 'wiping': 9781, 'finishing': 3259, 'supplied': 8536, 'minimal': 5399, 'effort': 2728, 'excess': 2975, 'otterbox': 5986, 'defender': 2143, 'likes': 4942, 'natural': 5623, 'drag': 2551, 'lifetime': 4923, 'replacements': 7143, 'obvious': 5829, 'newbie': 5684, 'create': 1934, 'root': 7378, 'kernel': 4672, 'panic': 6104, 'freeze': 3480, 'police': 6433, 'amp': 298, 'mushy': 5582, 'pyle': 6756, 'precise': 6517, 'drums': 2609, 'latch': 4803, 'exterior': 3072, 'solely': 8052, 'excuse': 2986, 'lowered': 5074, 'within': 9797, 'coiled': 1551, 'transport': 9059, 'appealing': 386, 'texts': 8779, 'competing': 1635, 'basis': 683, 'invest': 4494, 'points': 6422, 'wiring': 9788, 'separating': 7670, 'compromised': 1668, 'transporting': 9061, 'maintaining': 5151, 'louder': 5059, 'saturday': 7495, 'theme': 8801, 'hrs': 4133, 'normally': 5744, 'automatic': 573, 'welcome': 9694, 'header': 3940, 'documentation': 2488, 'implies': 4248, 'recessed': 6924, 'corresponding': 1845, 'remains': 7089, 'idle': 4200, 'illuminated': 4219, 'show': 7817, 'presence': 6542, 'icy': 4186, 'behavior': 748, 'bays': 701, 'occupied': 5836, 'dummy': 2634, 'finish': 3256, 'fades': 3106, 'ultra': 9209, 'bee': 728, 'inconvenience': 4305, 'blessing': 851, 'satisfying': 7492, 'sleek': 7931, 'metallic': 5338, 'mechanical': 5278, 'neither': 5663, 'horizontal': 4099, 'moderately': 5464, 'qualities': 6767, 'cancelling': 1200, 'extending': 3064, 'doubled': 2521, 'outdoors': 5998, 'corrected': 1840, 'caddy': 1155, 'overseas': 6044, 'germany': 3632, 'stitch': 8335, 'vivid': 9532, 'oregon': 5957, 'adventures': 153, 'navigation': 5629, 'roads': 7345, 'directions': 2343, 'destination': 2237, 'handheld': 3849, 'navigator': 5630, 'title': 8930, 'planned': 6350, 'htpc': 4139, 'obstructions': 5824, 'satisfactorily': 7488, 'buys': 1132, 'platform': 6363, 'targus': 8679, 'trackball': 9009, 'tangled': 8665, 'hubs': 4145, 'factors': 3101, 'halves': 3843, 'fastened': 3148, 'glued': 3685, 'fused': 3547, 'friendly': 3498, 'serviced': 7689, 'above': 12, 'sans': 7476, 'associated': 500, 'penny': 6208, 'hence': 3987, 'excessive': 2976, 'simpler': 7866, 'packed': 6068, 'speakerphone': 8132, 'eyes': 3086, 'song': 8074, 'con': 1674, 'prone': 6659, 'overload': 6034, 'gain': 3565, 'coax': 1539, 'isolated': 4543, 'intent': 4447, 'sdr': 7577, 'north': 5745, 'america': 294, 'cracks': 1909, 'signals': 7848, 'closest': 1509, 'diamond': 2288, 'repeater': 7134, 'html': 4138, 'intense': 4444, 'town': 8998, 'towel': 8995, 'nasty': 5618, 'difficulty': 2304, 'tile': 8897, 'interesting': 4457, 'watts': 9646, 'nissan': 5718, 'burner': 1109, 'burn': 1107, 'leading': 4836, 'peice': 6202, 'flipped': 3343, 'messed': 5331, 'protected': 6678, 'demand': 2183, 'foremost': 3416, 'environments': 2864, 'incredible': 4316, 'acts': 94, 'abused': 23, 'assure': 507, 'occasion': 5832, 'sp': 8112, 'movable': 5544, 'faux': 3162, 'heavier': 3968, 'lay': 4823, 'slight': 7948, 'serves': 7686, 'sweet': 8596, 'tf': 8782, 'easiest': 2691, 'shuffle': 7826, 'through': 8858, 'pressing': 6555, 'downfall': 2528, 'serve': 7682, 'fps': 3455, 'fifth': 3213, 'upstream': 9370, 'dcs': 2080, 'providers': 6697, 'full': 3526, 'reduced': 6984, 'outgoing': 6001, 'se': 7579, 'allowing': 255, 'baked': 645, 'steel': 8307, 'optional': 5945, 'problematic': 6598, 'fitted': 3289, 'beer': 735, 'cans': 1207, 'lovely': 5066, 'eq': 2873, 'bow': 963, 'trips': 9111, 'holder': 4059, 'pink': 6309, 'partial': 6130, 'cropped': 1956, 'wedding': 9676, 'duty': 2650, 'caution': 1281, 'flange': 3306, 'crack': 1902, 'egg': 2734, 'fool': 3399, 'distance': 2440, 'activate': 84, 'blinking': 857, 'discourage': 2398, 'finder': 3241, 'yards': 9933, 'naked': 5607, 'sellers': 7643, 'leaves': 4859, 'unsightly': 9322, 'mess': 5328, 'specialty': 8141, 'trendnet': 9085, 'dbi': 2077, 'identify': 4196, 'hopefully': 4095, 'reviewed': 7284, 'vhs': 9483, 'reps': 7166, 'credit': 1940, 'lo': 4996, 'mailing': 5142, 'albeit': 230, 'awaiting': 597, 'kudos': 4742, 'recordable': 6958, 'discs': 2405, 'saved': 7498, 'grief': 3768, 'sequence': 7675, 'clone': 1500, 'guys': 3821, 'iron': 4529, 'wrinkles': 9880, 'market': 5209, 'common': 1598, 'crackle': 1905, 'begin': 740, 'craps': 1924, 'screens': 7556, 'speedtest': 8162, 'glitch': 3672, 'business': 1118, 'rolling': 7369, 'dud': 2626, 'offering': 5858, 'coffee': 1549, 'renders': 7116, 'edits': 2715, 'downloaded': 2535, 'assign': 493, 'inconvenient': 4306, 'orbit': 5951, 'meantime': 5270, 'unplugged': 9305, 'pins': 6312, 'listing': 4978, 'checking': 1373, 'repurchase': 7168, 'tt': 9134, 'filters': 3237, 'trails': 9025, 'gas': 3589, 'sunglasses': 8520, 'lightening': 4929, 'preface': 6521, 'omg': 5889, 'sensation': 7654, 'pinky': 6310, 'finger': 3248, 'god': 3693, 'elegant': 2757, 'arris': 451, 'automated': 572, 'tells': 8737, 'receives': 6916, 'interference': 4463, 'mdr': 5264, 'nc': 5635, 'amplifier': 305, 'definetly': 2150, 'increased': 4312, 'disadvantage': 2356, 'sensitive': 7658, 'cellphone': 1301, 'tendency': 8752, 'organizer': 5962, 'dvds': 2654, 'advertisement': 156, 'killed': 4697, 'disconnects': 2394, 'related': 7057, 'macbookpro': 5105, 'requiring': 7180, 'btw': 1054, 'mileage': 5383, 'vary': 9438, 'earth': 2686, 'insufficient': 4423, 'micca': 5357, 'reversed': 7278, 'impulse': 4272, 'replay': 7146, 'skip': 7913, 'exceptional': 2972, 'bugs': 1076, 'technicians': 8710, 'refurb': 7020, 'detailed': 2246, 'tastes': 8684, 'receivers': 6915, 'seriously': 7681, 'than': 8786, 'delivering': 2178, 'standby': 8266, 'sharper': 7739, 'array': 450, 'coaxial': 1540, 'ipads': 4516, 'doubtful': 2525, 'onkyo': 5898, 'artist': 468, 'knocks': 4728, 'disagree': 2358, 'logic': 5015, 'ii': 4214, 'retain': 7250, 'cuts': 2016, 'enhances': 2836, 'benefit': 774, 'fronts': 3506, 'subwoofers': 8479, 'desired': 2229, 'unusually': 9335, 'accessed': 36, 'menu': 5319, 'override': 6043, 'volumes': 9556, 'experimenting': 3032, 'froze': 3508, 'ceased': 1295, 'occasionally': 5834, 'powering': 6500, 'shutting': 7833, 'instances': 4413, 'cycling': 2028, 'bone': 909, 'suspected': 8578, 'improper': 4264, 'routing': 7402, 'remedy': 7093, 'operational': 5922, 'accidental': 43, 'potentially': 6490, 'damaging': 2039, 'eardrums': 2673, 'learned': 4851, 'blast': 842, 'irritating': 4534, 'clipping': 1494, 'relief': 7075, 'sounded': 8102, 'inclined': 4293, 'lowering': 5075, 'arise': 436, 'tapped': 8675, 'subscribe': 8465, 'discovered': 2400, 'st': 8244, 'ad': 98, 'blister': 859, 'dismay': 2422, 'misleading': 5426, 'darn': 2058, 'class': 1460, 'deaf': 2087, 'setups': 7703, 'pitched': 6324, 'scratchy': 7550, 'questionable': 6776, 'programing': 6630, 'presentations': 6545, 'inconsistent': 4304, 'hiss': 4042, 'summary': 8516, 'plague': 6342, 'appearance': 388, 'generic': 3620, 'evident': 2949, 'cheapness': 1367, 'matters': 5242, 'plagued': 6343, 'register': 7032, 'profile': 6625, 'emphasis': 2790, 'tones': 8959, 'edited': 2711, 'toss': 8978, 'rattle': 6845, 'bang': 659, 'your': 9962, 'buck': 1058, 'aging': 196, 'forcing': 3413, 'were': 9698, 'fax': 3167, 'answered': 347, 'handshake': 3860, 'optimized': 5942, 'communicate': 1600, 'communications': 1603, 'commands': 1592, 'raised': 6817, 'corrects': 1844, 'comfy': 1589, 'overly': 6038, 'backside': 633, 'originally': 5972, 'friction': 3493, 'locked': 5008, 'backing': 624, 'anybody': 364, 'reinstalling': 7053, 'fresh': 3491, 'modest': 5467, 'cache': 1153, 'presumably': 6557, 'uninstalling': 9274, 'disabled': 2353, 'entirely': 2858, 'episode': 2869, 'rescue': 7182, 'ordinary': 5956, 'functioning': 3537, 'increasing': 4314, 'greatest': 3762, 'routers': 7398, 'configurable': 1704, 'guest': 3807, 'enabled': 2798, 'periodically': 6232, 'locks': 5010, 'disabling': 2355, 'wan': 9590, 'acceleration': 27, 'disable': 2352, 'occurs': 5841, 'character': 1344, 'packets': 6070, 'virtual': 9515, 'korea': 4739, 'observed': 5820, 'rev': 7273, 'logged': 5013, 'timeout': 8907, 'interval': 4480, 'prompted': 6656, 'bin': 805, 'unzip': 9340, 'retail': 7247, 'loudness': 5062, 'ideally': 4191, 'inventory': 4491, 'cash': 1259, 'toll': 8951, 'goodbye': 3707, 'whine': 9720, 'whining': 9721, 'bathroom': 691, 'carpet': 1244, 'portraits': 6467, 'execution': 2990, 'recent': 6918, 'term': 8759, 'observations': 5819, 'repairs': 7130, 'repeating': 7136, 'appeared': 389, 'evo': 2952, 'initialize': 4367, 'whatever': 9704, 'ata': 515, 'password': 6154, 'unsupported': 9326, 'detected': 2249, 'bumped': 1096, 'dissipation': 2439, 'snap': 8012, 'partitions': 6139, 'inability': 4274, 'blank': 840, 'cleaner': 1468, 'jam': 4572, 'buzzes': 1135, 'jams': 4576, 'row': 7403, 'springs': 8213, 'terminals': 8761, 'repaired': 7128, 'vents': 9460, 'unstable': 9323, 'impact': 4239, 'hr': 4132, 'thru': 8865, 'burners': 1110, 'looses': 5042, 'rests': 7241, 'chances': 1335, 'engineers': 2829, 'walls': 9588, 'lifesaver': 4921, 'strands': 8369, 'copper': 1826, 'crimped': 1945, 'versatile': 9470, 'sick': 7837, 'fussing': 3551, 'draw': 2566, 'reboots': 6905, 'catch': 1269, 'al': 225, 'dynamic': 2661, 'inactivity': 4278, 'improved': 4267, 'editing': 2712, 'kodak': 4735, 'discount': 2396, 'posts': 6487, 'voltage': 9552, 'kvm': 4744, 'stopping': 8351, 'words': 9831, 'debating': 2097, 'jeep': 4592, 'levels': 4901, 'pool': 6443, 'deciding': 2114, 'loss': 5051, 'broadcasting': 1032, 'log': 5012, 'portal': 6461, 'world': 9850, 'clicks': 1485, 'malfunction': 5162, 'gunk': 3817, 'packet': 6069, 'shoddy': 7780, 'booklet': 914, 'readable': 6871, 'hindsight': 4033, 'mem': 5304, 'paying': 6177, 'rental': 7119, 'nose': 5747, 'equipped': 2880, 'moki': 5481, 'designs': 2226, 'ridge': 7310, 'formed': 3435, 'pronounced': 6663, 'lip': 4968, 'overcome': 6025, 'refined': 6999, 'pattern': 6167, 'outs': 6012, 'precisely': 6518, 'looser': 5041, 'advantages': 151, 'bumps': 1100, 'luggage': 5091, 'tighter': 8893, 'distinct': 2443, 'implemented': 4247, 'aesthetic': 165, 'perimeter': 6229, 'envelope': 2862, 'panels': 6103, 'cutout': 2014, 'protrude': 6686, 'vertically': 9477, 'lying': 5101, 'plane': 6346, 'sharing': 7736, 'removal': 7106, 'elastic': 2746, 'deducted': 2126, 'shortcomings': 7795, 'hinged': 4035, 'leaving': 4860, 'cradle': 1910, 'browse': 1042, 'stow': 8362, 'carried': 1246, 'bring': 1025, 'lag': 4762, 'horrendous': 4102, 'client': 1487, 'minimalist': 5400, 'cages': 1158, 'chill': 1390, 'matt': 5239, 'fabulous': 3090, 'disconcerting': 2389, 'kid': 4693, 'tapes': 8673, 'buzz': 1133, 'songs': 8075, 'fill': 3226, 'playlist': 6376, 'exhibited': 2998, 'decreased': 2122, 'wound': 9866, 'shielded': 7758, 'rg': 7299, 'adapt': 100, 'caught': 1276, 'pulls': 6719, 'comfort': 1586, 'secondary': 7603, 'kb': 4659, 'tore': 8972, 'unpacking': 9302, 'relationship': 7059, 'skullcandy': 7918, 'tunes': 9148, 'sennheisers': 7653, 'gun': 3816, 'alcohol': 233, 'swapped': 8590, 'sc': 7510, 'soundstage': 8106, 'nibs': 5696, 'popped': 6449, 'skull': 7917, 'candy': 1201, 'curved': 1999, 'sturdier': 8438, 'tons': 8961, 'abuse': 22, 'enjoyed': 2839, 'continued': 1776, 'agreed': 200, 'borrow': 938, 'credited': 1941, 'york': 9956, 'frequent': 3489, 'nyc': 5810, 'loses': 5049, 'buildings': 1080, 'cities': 1439, 'lines': 4957, 'vacation': 9419, 'thankfully': 8789, 'exists': 3006, 'headband': 3938, 'snapped': 8013, 'strangely': 8371, 'prominent': 6646, 'guessed': 3805, 'volts': 9554, 'mains': 5147, 'sees': 7627, 'mild': 5380, 'leaf': 4838, 'spring': 8212, 'traditional': 9021, 'ireland': 4527, 'rented': 7120, 'referred': 6995, 'stretch': 8391, 'stretches': 8393, 'unfortunate': 9258, 'descriptions': 2215, 'basics': 682, 'warehouse': 9601, 'videosecu': 9500, 'lesser': 4889, 'faceplate': 3094, 'foldable': 3382, 'kinks': 4712, 'smoothly': 8003, 'treadmill': 9074, 'sketchy': 7904, 'microwave': 5368, 'kicked': 4688, 'closure': 1512, 'disks': 2415, 'stk': 8339, 'lists': 4980, 'specification': 8144, 'physically': 6279, 'protectors': 6683, 'asks': 480, 'dealt': 2093, 'squeegee': 8224, 'zagg': 9971, 'invisible': 4502, 'streaks': 8378, 'tends': 8753, 'streak': 8377, 'teenage': 8721, 'boys': 975, 'seperate': 7672, 'cranking': 1920, 'flaws': 3326, 'yeah': 9936, 'eats': 2697, 'burns': 1112, 'greasy': 3759, 'zippered': 9983, 'otter': 5985, 'adult': 146, 'japan': 4579, 'tan': 8663, 'carbon': 1229, 'aluminum': 280, 'mentioning': 5317, 'actiontec': 83, 'purely': 6736, 'follows': 3393, 'sections': 7609, 'motorola': 5530, 'degrades': 2160, 'reducing': 6987, 'bandwidth': 658, 'diagram': 2280, 'moca': 5454, 'guides': 3813, 'unusual': 9334, 'fuss': 3550, 'ping': 6308, 'latency': 4809, 'spikes': 8172, 'workable': 9834, 'unboxed': 9229, 'critical': 1952, 'rendering': 7115, 'companies': 1611, 'topic': 8969, 'give': 3658, 'min': 5391, 'consumers': 1757, 'impress': 4258, 'miracast': 5412, 'unpack': 9300, 'infrared': 4359, 'reluctant': 7082, 'vaio': 9423, 'quit': 6790, 'explorer': 3048, 'surprising': 8564, 'casio': 1261, 'negates': 5656, 'dodge': 2491, 'mirror': 5415, 'activation': 88, 'mechanism': 5281, 'ton': 8956, 'dolly': 2502, 'swear': 8592, 'temporarily': 8745, 'digits': 2314, 'letters': 4897, 'benq': 776, 'projector': 6642, 'hubby': 4144, 'followed': 3391, 'magnetized': 5133, 'underpowered': 9239, 'realistic': 6882, 'jumpers': 4638, 'foscam': 3447, 'wouldnt': 9865, 'realizing': 6887, 'haul': 3905, 'concern': 1676, 'wander': 9591, 'relative': 7060, 'molding': 5485, 'robust': 7350, 'guarantees': 3801, 'satisfactory': 7489, 'savy': 7504, 'crucial': 1969, 'chore': 1410, 'square': 8218, 'biggie': 799, 'considered': 1743, 'switcher': 8608, 'displaying': 2427, 'vice': 9494, 'versa': 9469, 'quirk': 6787, 'displayed': 2426, 'active': 89, 'italy': 4553, 'tripods': 9107, 'sag': 7456, 'beginners': 742, 'nzxt': 5812, 'slows': 7973, 'fortune': 3441, 'intuos': 4488, 'tablets': 8638, 'seven': 7704, 'competitors': 1639, 'activates': 86, 'disadvantages': 2357, 'generates': 3615, 'confidence': 1700, 'malfunctioned': 5163, 'expired': 3036, 'sporadically': 8197, 'plugable': 6393, 'superb': 8527, 'partly': 6140, 'reflects': 7009, 'lemons': 4878, 'chromebox': 1419, 'resolutions': 7201, 'lengths': 4880, 'amplifiers': 306, 'expert': 3033, 'needless': 5653, 'amps': 308, 'na': 5600, 'pinch': 6305, 'reposition': 7157, 'rigid': 7320, 'tie': 8882, 'kicking': 4690, 'insure': 4428, 'apart': 375, 'softboxes': 8040, 'counterfeit': 1868, 'booster': 923, 'jobs': 4609, 'monster': 5505, 'maximize': 5249, 'passive': 6151, 'engineering': 2828, 'skills': 7908, 'assemble': 487, 'radeon': 6801, 'defaults': 2134, 'backdrop': 619, 'wobbly': 9811, 'treble': 9078, 'convinced': 1809, 'definite': 2151, 'enjoy': 2837, 'showing': 7820, 'silver': 7859, 'polished': 6437, 'pure': 6735, 'yanked': 9930, 'pet': 6251, 'knows': 4734, 'crimping': 1947, 'ehh': 2736, 'contrary': 1785, 'vulnerable': 9568, 'leviton': 4904, 'keystone': 4682, 'substandard': 8470, 'couplers': 1878, 'tilting': 8902, 'wheels': 9709, 'collapsed': 1557, 'wise': 9789, 'cisco': 1438, 'adjusting': 129, 'joints': 4617, 'maneuver': 5177, 'brackets': 980, 'slowly': 7971, 'downward': 2545, 'further': 3543, 'weigh': 9686, 'specified': 8147, 'downgraded': 2530, 'sons': 8078, 'altec': 270, 'competent': 1634, 'workout': 9844, 'wearing': 9664, 'anti': 356, 'glare': 3666, 'ha': 3825, 'kindles': 4704, 'androids': 321, 'teeny': 8723, 'allen': 250, 'tension': 8754, 'crew': 1943, 'converts': 1807, 'speck': 8149, 'determined': 2258, 'holster': 4068, 'smelled': 7994, 'headache': 3936, 'ugly': 9199, 'unbelievable': 9226, 'smells': 7995, 'stink': 8333, 'reflected': 7002, 'fluid': 3362, 'indeed': 4319, 'sustain': 8582, 'defeat': 2135, 'nas': 5617, 'synology': 8628, 'cloud': 1517, 'reds': 6982, 'valuable': 9426, 'dlna': 2472, 'certified': 1317, 'spaces': 8118, 'consistency': 1745, 'stranded': 8368, 'rail': 6810, 'netgear': 5675, 'screwing': 7563, 'urc': 9376, 'viewsonic': 9510, 'jvc': 4652, 'filling': 3229, 'solder': 8048, 'reprogram': 7165, 'polite': 6439, 'fed': 3180, 'onboard': 5892, 'obscure': 5817, 'understanding': 9243, 'annoyed': 339, 'lowest': 5078, 'reusable': 7271, 'unreal': 9311, 'msi': 5564, 'newest': 5687, 'rog': 7362, 'served': 7683, 'reluctantly': 7083, 'entertainment': 2854, 'itx': 4563, 'paragraph': 6118, 'closely': 1506, 'killer': 4698, 'pcie': 6184, 'incompatible': 4301, 'secondly': 7604, 'warn': 9606, 'blame': 837, 'overclock': 6022, 'warned': 9607, 'military': 5385, 'grade': 3736, 'pump': 6721, 'thereafter': 8807, 'conveniently': 1796, 'recharged': 6929, 'weekly': 9684, 'settle': 7699, 'gpu': 3728, 'delivers': 2179, 'architecture': 426, 'mar': 5196, 'guidance': 3810, 'amd': 293, 'march': 5200, 'overclocked': 6023, 'achieved': 67, 'investing': 4499, 'workstation': 9848, 'manufactures': 5189, 'realy': 6890, 'transferred': 9036, 'uploaded': 9355, 'figuring': 3220, 'batch': 689, 'layout': 4827, 'squeezed': 8227, 'kink': 4711, 'mesh': 5327, 'lifespan': 4922, 'engineer': 2826, 'docking': 2482, 'costly': 1857, 'album': 231, 'art': 459, 'walkman': 9584, 'links': 4963, 'uninstall': 9272, 'reinstall': 7051, 'sorted': 8093, 'unlikely': 9286, 'restricted': 7239, 'csr': 1982, 'implementation': 4246, 'swabs': 8587, 'ds': 2613, 'eclipse': 2700, 'bends': 771, 'swab': 8586, 'oily': 5876, 'eliminate': 2765, 'passing': 6150, 'unreasonable': 9312, 'vastly': 9441, 'inferior': 4348, 'ergonomics': 2891, 'effectively': 2722, 'unnecessarily': 9294, 'taps': 8677, 'subsequently': 8468, 'europe': 2924, 'asia': 473, 'respectively': 7214, 'varying': 9439, 'importance': 4251, 'positions': 6474, 'upwards': 9373, 'purposely': 6739, 'ettl': 2921, 'bounce': 956, 'transmitting': 9057, 'reducer': 6985, 'celestron': 1299, 'ccd': 1291, 'caveats': 1285, 'machined': 5108, 'threading': 8850, 'threaded': 8849, 'lense': 4884, 'rattling': 6848, 'badly': 641, 'aligned': 242, 'removing': 7110, 'reflector': 7007, 'telescope': 8730, 'eyepiece': 3084, 'achieve': 66, 'eyepieces': 3085, 'enlarge': 2843, 'reduce': 6983, 'magnification': 5135, 'imaging': 4231, 'solar': 8046, 'planets': 6349, 'marked': 5206, 'frankly': 3466, 'tag': 8645, 'knobs': 4722, 'affixed': 174, 'fallen': 3123, 'twisted': 9176, 'podcasts': 6411, 'interruption': 4477, 'phenomenal': 6259, 'majority': 5155, 'chosen': 1412, 'oval': 6018, 'muffs': 5574, 'proved': 6691, 'strikes': 8398, 'mistakenly': 5438, 'hype': 4176, 'juice': 4632, 'indicators': 4332, 'dc': 2079, 'useable': 9388, 'kills': 4700, 'replaceable': 7140, 'wiggle': 9748, 'insertion': 4390, 'knob': 4721, 'cruise': 1972, 'fortunately': 3440, 'photographers': 6270, 'disclaimer': 2383, 'suggesting': 8504, 'distorts': 2450, 'avid': 590, 'percentage': 6217, 'trimming': 9103, 'swiss': 8605, 'brass': 992, 'variation': 9433, 'trim': 9101, 'rhyme': 7302, 'rotary': 7383, 'drill': 2583, 'incomplete': 4303, 'expense': 3023, 'explanation': 3042, 'fl': 3300, 'our': 5990, 'paranoid': 6121, 'bold': 903, 'surveillance': 8571, 'scared': 7522, 'members': 5306, 'bsod': 1050, 'scream': 7551, 'stare': 8273, 'serial': 7678, 'refusing': 7025, 'wobble': 9808, 'keystroke': 4683, 'keyboards': 4675, 'superior': 8531, 'slowing': 7970, 'regards': 7030, 'fiw': 3293, 'nighttime': 5711, 'damn': 2040, 'peripherals': 6235, 'interchangeable': 4453, 'shorter': 7801, 'vertical': 9476, 'washers': 9628, 'fittings': 3291, 'pays': 6179, 'opt': 5932, 'substantial': 8471, 'thumbs': 8869, 'vignetting': 9512, 'properties': 6669, 'membership': 5307, 'component': 1657, 'bundled': 1104, 'recovered': 6967, 'bunch': 1102, 'ratio': 6844, 'incorrectly': 4310, 'touchy': 8990, 'sheet': 7751, 'willing': 9757, 'literature': 4984, 'submitted': 8461, 'accomplished': 54, 'folio': 3388, 'pixel': 6331, 'prefect': 6522, 'leg': 4868, 'panning': 6105, 'disturb': 2458, 'dumb': 2633, 'lapse': 4789, 'depleted': 2202, 'swapping': 8591, 'rainy': 6815, 'weekend': 9682, 'yosemite': 9957, 'op': 5908, 'doubling': 2523, 'bu': 1055, 'hardshell': 3884, 'spacious': 8120, 'skips': 7916, 'sluggish': 7975, 'kick': 4687, 'crud': 1970, 'steve': 8320, 'binocs': 812, 'loosens': 5040, 'pistol': 6321, 'ravelli': 6850, 'distortion': 2448, 'detector': 2252, 'accordingly': 57, 'gripes': 3776, 'sudden': 8492, 'undo': 9248, 'velvet': 9451, 'rapidly': 6832, 'decreases': 2123, 'jjc': 4604, 'vendors': 9454, 'hoods': 4083, 'copied': 1824, 'fuji': 3520, 'dsl': 2615, 'sys': 8630, 'descent': 2209, 'dome': 2504, 'farther': 3143, 'expanded': 3011, 'blind': 853, 'lux': 5098, 'fade': 3104, 'porch': 6456, 'networking': 5678, 'bear': 710, 'novice': 5777, 'spy': 8216, 'trial': 9088, 'tracking': 9013, 'stationary': 8294, 'bullet': 1091, 'hootoo': 4090, 'respectable': 7211, 'improvements': 4269, 'exceed': 2961, 'ptz': 6711, 'expansion': 3015, 'bam': 652, 'indoor': 4337, 'urban': 9375, 'rural': 7436, 'conditions': 1691, 'nbc': 5634, 'emergencies': 2782, 'rectangle': 6970, 'frustrations': 3514, 'thermaltake': 8813, 'wrapping': 9875, 'stuffing': 8433, 'rosewill': 7382, 'heatsink': 3965, 'heatsinks': 3966, 'forces': 3412, 'flexing': 3332, 'builds': 1081, 'biased': 793, 'molded': 5484, 'depth': 2208, 'assumed': 503, 'disappoints': 2370, 'washing': 9630, 'semi': 7646, 'intensive': 4446, 'innovative': 4377, 'freeway': 3479, 'sky': 7919, 'adjacent': 123, 'zooms': 9992, 'wildly': 9755, 'sea': 7580, 'england': 2830, 'mis': 5420, 'arrival': 452, 'traffic': 9022, 'posting': 6486, 'rushed': 7438, 'routes': 7399, 'woods': 9826, 'navigon': 5631, 'reality': 6884, 'availability': 581, 'decides': 2113, 'warrant': 9614, 'furthermore': 3544, 'crowd': 1965, 'populated': 6453, 'chooses': 1406, 'announce': 332, 'names': 5610, 'menus': 5320, 'extreme': 3079, 'temperature': 8741, 'joint': 4616, 'created': 1935, 'standalone': 8263, 'indefinitely': 4320, 'advertises': 158, 'cure': 1991, 'wore': 9832, 'jog': 4612, 'cramped': 1915, 'torque': 8974, 'tho': 8837, 'cushions': 2004, 'apartment': 376, 'stretched': 8392, 'pile': 6300, 'beginning': 743, 'hookup': 4088, 'diy': 2467, 'projects': 6644, 'specs': 8151, 'flipping': 3344, 'identical': 4193, 'oversight': 6045, 'consumer': 1756, 'requirement': 7177, 'retailers': 7249, 'dlp': 2473, 'flips': 3345, 'startup': 8283, 'restarts': 7230, 'fingerprint': 3251, 'inspiron': 4403, 'swell': 8597, 'alienware': 240, 'macs': 5115, 'difficulties': 2303, 'drilled': 2584, 'roof': 7373, 'reconnected': 6953, 'park': 6125, 'jumped': 4636, 'microscope': 5363, 'samples': 7467, 'cents': 1312, 'glowing': 3682, 'thousands': 8847, 'expose': 3051, 'smoke': 7998, 'corporate': 1838, 'absence': 15, 'rebate': 6900, 'insult': 4426, 'injury': 4372, 'timely': 8906, 'fashion': 3144, 'american': 295, 'integrity': 4437, 'photoshop': 6276, 'abysmal': 24, 'reload': 7079, 'final': 3238, 'straw': 8375, 'upc': 9342, 'documents': 2490, 'denied': 2188, 'docs': 2484, 'advise': 162, 'steer': 8309, 'umbrella': 9212, 'destroy': 2238, 'technically': 8708, 'locking': 5009, 'resort': 7206, 'dug': 2630, 'mod': 5455, 'dull': 2632, 'tint': 8917, 'contrast': 1786, 'gorgeous': 3719, 'object': 5813, 'refresh': 7013, 'secs': 7607, 'iluv': 4223, 'emphasize': 2791, 'spotify': 8202, 'transistor': 9041, 'telling': 8736, 'zooming': 9991, 'seams': 7589, 'sewn': 7710, 'hmm': 4051, 'tinkering': 8915, 'successfully': 8484, 'molex': 5486, 'motor': 5526, 'neutral': 5680, 'recordings': 6963, 'db': 2076, 'hdtvs': 3932, 'attempted': 535, 'requesting': 7173, 'dear': 2094, 'sales': 7462, 'tax': 8686, 'benchmark': 766, 'pny': 6405, 'elite': 2769, 'benchmarks': 767, 'wattage': 9645, 'deck': 2117, 'unhappy': 9262, 'picking': 6286, 'officially': 5864, 'astro': 510, 'yr': 9966, 'abc': 5, 'accustomed': 63, 'accuracy': 60, 'hunt': 4162, 'splitters': 8188, 'stronger': 8411, 'honda': 4075, 'outputs': 6008, 'limitation': 4947, 'etrex': 2920, 'walks': 9585, 'meet': 5291, 'spacing': 8119, 'overlap': 6032, 'aii': 207, 'winter': 9775, 'coat': 1536, 'reconsider': 6956, 'rebooting': 6904, 'wirelessly': 9786, 'boring': 936, 'mostly': 5519, 'mice': 5358, 'balancing': 648, 'spreadsheet': 8210, 'combine': 1578, 'unfamiliar': 9255, 'packaged': 6065, 'hitting': 4049, 'monthly': 5507, 'fees': 3191, 'saves': 7500, 'gateway': 3592, 'downloads': 2537, 'ssids': 8242, 'public': 6713, 'prevents': 6564, 'reduces': 6986, 'hacked': 3829, 'detachable': 2243, 'carabiner': 1228, 'france': 3464, 'strain': 8367, 'scotch': 7540, 'brought': 1040, 'warrenty': 9619, 'lansing': 4783, 'jawbone': 4584, 'backbeat': 618, 'transmitted': 9054, 'wrangler': 9872, 'convertible': 1805, 'august': 563, 'remained': 7087, 'gladly': 3664, 'queue': 6778, 'peripheral': 6234, 'bet': 781, 'evidently': 2950, 'olds': 5883, 'awsome': 609, 'pricy': 6574, 'cushion': 2001, 'stitching': 8338, 'zippers': 9984, 'sweat': 8593, 'imitation': 4233, 'dot': 2518, 'crisper': 1950, 'consequently': 1737, 'rabbit': 6796, 'definition': 2153, 'freezing': 3483, 'kits': 4717, 'backdrops': 620, 'restored': 7237, 'senses': 7656, 'obsolete': 5821, 'accompanied': 50, 'mfg': 5350, 'verified': 9466, 'vlc': 9539, 'returns': 7270, 'library': 4911, 'terrain': 8764, 'firewire': 3272, 'downloading': 2536, 'doing': 2497, 'branded': 989, 'sags': 7458, 'alternatives': 275, 'fancier': 3133, 'pk': 6335, 'payed': 6176, 'obnoxious': 5816, 'dangling': 2051, 'libraries': 4910, 'suck': 8486, 'resets': 7192, 'thinkpad': 8829, 'expresscard': 3057, 'websites': 9675, 'hopeful': 4094, 'native': 5621, 'delayed': 2166, 'degraded': 2159, 'qc': 6759, 'harsh': 3894, 'booth': 929, 'news': 5689, 'fastest': 3153, 'weighs': 9689, 'recomend': 6942, 'rc': 6858, 'smartphones': 7986, 'wallet': 9587, 'discharges': 2381, 'impractical': 4256, 'subtle': 8475, 'favorite': 3165, 'discreet': 2403, 'longevity': 5027, 'filing': 3225, 'fewer': 3200, 'marks': 5215, 'hoya': 4130, 'matte': 5240, 'quarter': 6771, 'sim': 7862, 'teenager': 8722, 'skin': 7909, 'neoprene': 5666, 'matched': 5228, 'trimmed': 9102, 'serving': 7691, 'thickness': 8819, 'fading': 3107, 'moko': 5482, 'organizing': 5963, 'fastening': 3151, 'tote': 8983, 'aspects': 483, 'who': 9729, 'ideas': 4192, 'civic': 1441, 'macro': 5113, 'pun': 6723, 'ranges': 6826, 'farm': 3142, 'wobbling': 9810, 'cars': 1251, 'hdds': 3925, 'ejecting': 2742, 'whistles': 9726, 'capacitor': 1215, 'eject': 2740, 'bum': 1092, 'longest': 5026, 'technologies': 8714, 'tremendous': 9082, 'unacceptable': 9217, 'baofeng': 664, 'ra': 6795, 'underwater': 9245, 'pouches': 6492, 'marginally': 5203, 'begins': 744, 'shine': 7765, 'maxed': 5247, 'zvox': 9997, 'contains': 1768, 'innovation': 4376, 'mix': 5441, 'tent': 8755, 'scope': 7536, 'astronomy': 511, 'target': 8678, 'jupiter': 4646, 'nonetheless': 5734, 'unimpressive': 9271, 'viewed': 9505, 'summer': 8517, 'saturn': 7496, 'planet': 6348, 'orion': 5974, 'cloudy': 1518, 'objects': 5815, 'unsuccessful': 9324, 'skill': 7907, 'strike': 8397, 'nights': 5709, 'utterly': 9413, 'laser': 4797, 'pointer': 6419, 'worthwhile': 9861, 'beginner': 741, 'overwhelming': 6049, 'tutorials': 9159, 'discover': 2399, 'backyard': 639, 'trivial': 9112, 'winds': 9764, 'brighter': 1019, 'views': 9509, 'raspbian': 6836, 'surely': 8552, 'lowers': 5076, 'foggy': 3379, 'smoking': 8000, 'flashed': 3312, 'umbrellas': 9213, 'gigabyte': 3648, 'dinged': 2331, 'dumped': 2636, 'dump': 2635, 'fired': 3265, 'reveal': 7274, 'registered': 7033, 'reputation': 7170, 'marketed': 5210, 'razer': 6856, 'resulting': 7244, 'unnecessary': 9295, 'warped': 9613, 'warp': 9612, 'shaky': 7726, 'recomended': 6943, 'bounces': 958, 'choppy': 1408, 'podcast': 6410, 'tub': 9136, 'safari': 7451, 'incapable': 4285, 'jogging': 4613, 'finicky': 3255, 'sticky': 8327, 'due': 2629, 'cx': 2020, 'handlebars': 3852, 'revision': 7292, 'uncovered': 9235, 'advance': 148, 'lets': 4894, 'witch': 9795, 'harddrive': 3879, 'exchanged': 2979, 'philips': 6260, 'lumix': 5096, 'dmc': 2474, 'suggested': 8503, 'quieter': 6785, 'goal': 3692, 'arctic': 429, 'throw': 8861, 'sign': 7846, 'cruzer': 1977, 'swipes': 8603, 'rapid': 6831, 'sec': 7601, 'pw': 6752, 'category': 1274, 'amazed': 284, 'opted': 5933, 'mike': 5379, 'yeti': 9945, 'refer': 6993, 'canned': 1202, 'split': 8185, 'fringe': 3501, 'bot': 943, 'gonna': 3704, 'hobbyist': 4055, 'coupler': 1877, 'ns': 5784, 'evaluation': 2928, 'younger': 9961, 'south': 8110, 'florida': 3356, 'decades': 2103, 'regretted': 7040, 'largest': 4795, 'valid': 9424, 'signature': 7849, 'developers': 2266, 'gig': 3646, 'sdhc': 7576, 'locally': 5002, 'etymotic': 2922, 'lawn': 4821, 'trackballs': 9010, 'merchant': 5323, 'positively': 6476, 'according': 56, 'communication': 1602, 'hdcp': 3923, 'essential': 2905, 'chromecast': 1420, 'tied': 8883, 'criticism': 1953, 'reconnecting': 6954, 'coupled': 1876, 'commercial': 1596, 'awhile': 606, 'separation': 7671, 'aim': 208, 'leery': 4865, 'conventional': 1797, 'condo': 1692, 'pleasantly': 6381, 'blend': 849, 'benefits': 775, 'wondering': 9820, 'fare': 3141, 'classical': 1463, 'nu': 5788, 'jazz': 4588, 'illustration': 4222, 'translates': 9047, 'chain': 1324, 'alarms': 227, 'screaming': 7552, 'suffer': 8495, 'nail': 5605, 'official': 5863, 'transferring': 9037, 'attaching': 530, 'visual': 9528, 'writes': 9885, 'indestructible': 4323, 'wizard': 9802, 'chamber': 1332, 'dry': 2610, 'watched': 9639, 'trail': 9023, 'cleans': 1471, 'contour': 1782, 'terribly': 8766, 'picky': 6289, 'clipped': 1493, 'shirt': 7775, 'granddaughter': 3743, 'prints': 6586, 'passable': 6145, 'saturation': 7494, 'efforts': 2731, 'novelty': 5775, 'student': 8424, 'extensively': 3069, 'bat': 688, 'ap': 374, 'dsc': 2614, 'hated': 3902, 'trashed': 9065, 'enclosures': 2804, 'enterprise': 2852, 'isolate': 4542, 'acronis': 75, 'narrowed': 5615, 'backups': 636, 'cools': 1821, 'creates': 1936, 'diagnose': 2276, 'upload': 9354, 'nfc': 5693, 'clears': 1477, 'interfere': 4461, 'quicker': 6781, 'efficient': 2726, 'supplier': 8537, 'skipped': 7914, 'backwards': 638, 'aside': 475, 'impacts': 4240, 'packages': 6066, 'tcp': 8691, 'nat': 5619, 'averaged': 585, 'mbit': 5256, 'module': 5477, 'emergency': 2783, 'recover': 6966, 'named': 5609, 'dns': 2475, 'snapshots': 8018, 'gpio': 3725, 'mods': 5474, 'summarize': 8515, 'army': 444, 'muted': 5589, 'anemic': 322, 'blow': 871, 'duds': 2628, 'frills': 3500, 'separated': 7667, 'ereader': 2887, 'recognizing': 6941, 'routinely': 7401, 'command': 1591, 'april': 415, 'evaluate': 2927, 'experimented': 3031, 'grain': 3739, 'colour': 1573, 'estimate': 2912, 'csx': 1983, 'lb': 4830, 'smoked': 7999, 'inverter': 4493, 'fuse': 3546, 'boom': 917, 'sparks': 8127, 'epson': 2872, 'vibrate': 9489, 'vibrates': 9490, 'diagnostic': 2277, 'downs': 2539, 'operations': 5923, 'oops': 5907, 'backs': 632, 'extensions': 3067, 'silly': 7858, 'rocket': 7354, 'feelings': 3189, 'western': 9701, 'beast': 714, 'camping': 1188, 'srs': 8234, 'deeper': 2129, 'dose': 2515, 'extent': 3070, 'wishing': 9793, 'fatiguing': 3158, 'intervals': 4481, 'auxiliary': 578, 'ought': 5988, 'enjoyment': 2841, 'premium': 6536, 'shells': 7755, 'produced': 6611, 'inevitable': 4342, 'occur': 5837, 'themselves': 8802, 'reminded': 7099, 'packing': 6071, 'username': 9395, 'shipment': 7770, 'enable': 2797, 'dinner': 2334, 'viewable': 9504, 'announcement': 334, 'outlook': 6004, 'continuing': 1778, 'fro': 3503, 'playback': 6370, 'folder': 3384, 'gallery': 3569, 'sms': 8004, 'chunk': 1421, 'segment': 7628, 'whatnot': 9705, 'unbelievably': 9227, 'feasible': 3173, 'nightmare': 5708, 'particle': 6132, 'psu': 6708, 'january': 4578, 'february': 3179, 'noises': 5728, 'remaining': 7088, 'submit': 8460, 'priority': 6588, 'straightened': 8365, 'existent': 3004, 'yourself': 9964, 'superspeed': 8532, 'liking': 4944, 'hog': 4057, 'onscreen': 5902, 'flicker': 3333, 'flickers': 3335, 'stud': 8423, 'tilted': 8901, 'magnetically': 5132, 'voyage': 9561, 'shaped': 7731, 'manner': 5181, 'fastener': 3149, 'outweigh': 6017, 'origami': 5969, 'terminated': 8762, 'drain': 2557, 'wrench': 9877, 'banding': 656, 'stone': 8345, 'pushes': 6744, 'rolls': 7370, 'floors': 3351, 'taller': 8659, 'desks': 2231, 'loosened': 5038, 'xl': 9909, 'nr': 5783, 'towers': 8997, 'surrounds': 8570, 'calibration': 1167, 'guage': 3798, 'dates': 2068, 'returnable': 7267, 'hazard': 3915, 'rich': 7305, 'beefy': 730, 'audiophiles': 560, 'dream': 2578, 'dents': 2194, 'intermittent': 4468, 'disappear': 2361, 'unresponsive': 9315, 'shutdown': 7829, 'unsuitable': 9325, 'presently': 6547, 'experiencing': 3028, 'debug': 2100, 'reproduce': 7163, 'investigate': 4496, 'withstand': 9800, 'resetting': 7193, 'matches': 5229, 'detecting': 2250, 'hardest': 3881, 'barrier': 673, 'transcend': 9032, 'jlabs': 4607, 'lightly': 4933, 'stressed': 8390, 'godox': 3694, 'abruptly': 14, 'daughters': 2070, 'silverstone': 7861, 'sirius': 7885, 'xm': 9911, 'rec': 6908, 'indicator': 4331, 'differently': 2301, 'controlled': 1789, 'guests': 3808, 'pamphlet': 6095, 'finishes': 3258, 'digging': 2310, 'slate': 7929, 'transfers': 9038, 'practical': 6508, 'october': 5845, 'gigs': 3651, 'noting': 5771, 'versions': 9474, 'dissatisfied': 2437, 'sensors': 7661, 'specks': 8150, 'magnifying': 5137, 'terrific': 8767, 'internals': 4472, 'spongy': 8193, 'mechanically': 5279, 'bolt': 904, 'qa': 6757, 'recess': 6923, 'tc': 8689, 'details': 2247, 'earned': 2677, 'toilet': 8944, 'snappy': 8015, 'anytime': 369, 'happening': 3872, 'releasing': 7068, 'representative': 7160, 'ea': 2665, 'url': 9378, 'presented': 6546, 'status': 8297, 'duplex': 2639, 'script': 7565, 'refused': 7023, 'bypass': 1141, 'tasks': 8682, 'hire': 4040, 'speaking': 8134, 'countries': 1871, 'earn': 2676, 'labor': 4752, 'aggravation': 194, 'audiobooks': 558, 'enthusiasts': 2856, 'shifts': 7764, 'wings': 9771, 'sol': 8045, 'skiing': 7906, 'ur': 9374, 'dlink': 2471, 'tplink': 9004, 'browsing': 1045, 'armorsuit': 442, 'father': 3156, 'downhill': 2532, 'hbs': 3920, 'sockets': 8034, 'sleeping': 7933, 'leak': 4840, 'compensate': 1631, 'uniden': 9265, 'invoice': 4503, 'calculator': 1162, 'tracker': 9012, 'compensation': 1632, 'rails': 6811, 'disappears': 2364, 'notch': 5751, 'grab': 3731, 'ux': 9416, 'increments': 4318, 'phase': 6256, 'until': 9329, 'gumdrop': 3815, 'young': 9960, 'flop': 3352, 'admittedly': 138, 'reinforced': 7047, 'heavily': 3969, 'upright': 9362, 'rotated': 7385, 'inflexible': 4353, 'dependable': 2197, 'depend': 2196, 'exercise': 2992, 'detach': 2242, 'permit': 6241, 'zones': 9988, 'calories': 1177, 'graphic': 3750, 'meters': 5341, 'guessing': 3806, 'uncomfortably': 9233, 'scanner': 7517, 'kenwood': 4670, 'cushioned': 2002, 'fasteners': 3150, 'sticker': 8322, 'steam': 8306, 'footage': 3405, 'ocz': 5847, 'controllers': 1791, 'casing': 1260, 'catching': 1271, 'installs': 4411, 'aka': 223, 'glaring': 3667, 'idk': 4199, 'gel': 3607, 'strobe': 8406, 'gels': 3608, 'fonts': 3397, 'sufficiently': 8501, 'roughly': 7391, 'county': 1874, 'staticy': 8291, 'war': 9599, 'bodies': 898, 'host': 4112, 'expectation': 3018, 'rounds': 7394, 'hunting': 4163, 'abilities': 7, 'scheme': 7531, 'hesitant': 3995, 'mildly': 5381, 'cycles': 2027, 'blemishes': 848, 'chemicals': 1380, 'refill': 6997, 'subs': 8464, 'shallow': 7728, 'spectacular': 8152, 'ips': 4523, 'glow': 3681, 'bleed': 846, 'blacks': 833, 'vesa': 9479, 'boosting': 924, 'jumbo': 4634, 'mirroring': 5417, 'celsius': 1305, 'fx': 3559, 'clocked': 1497, 'battlefield': 697, 'compound': 1662, 'phanteks': 6254, 'pwr': 6754, 'appeal': 385, 'buyers': 1130, 'ensuring': 2848, 'sport': 8198, 'runners': 7432, 'exercising': 2993, 'sweating': 8594, 'seals': 7585, 'gaps': 3581, 'canal': 1193, 'dramatically': 2563, 'rough': 7390, 'span': 8122, 'predecessor': 6520, 'narrower': 5616, 'esata': 2897, 'anyhow': 365, 'glossy': 3678, 'flag': 3302, 'falsely': 3128, 'guarantee': 3799, 'league': 4839, 'titles': 8931, 'choosing': 1407, 'staying': 8300, 'interact': 4451, 'unscrew': 9319, 'holy': 4069, 'rocking': 7357, 'unscrewing': 9321, 'man': 5168, 'byte': 1142, 'trend': 9084, 'un': 9214, 'usefull': 9391, 'snorkeling': 8022, 'hawaii': 3912, 'sliced': 7939, 'neatly': 5643, 'wrinkled': 9879, 'containing': 1767, 'ba': 614, 'recieved': 6934, 'lbs': 4831, 'hefty': 3975, 'nikons': 5714, 'million': 5388, 'jittery': 4603, 'hobby': 4054, 'calibrate': 1164, 'prob': 6594, 'bite': 822, 'toslink': 8977, 'aweful': 601, 'tiniest': 8913, 'geforce': 3606, 'gt': 3796, 'mother': 5520, 'proprietary': 6673, 'fraction': 3458, 'xps': 9917, 'rj': 7340, 'avg': 588, 'dance': 2044, 'headrest': 3947, 'executed': 2989, 'hangs': 3869, 'authentication': 567, 'webpage': 9672, 'pentium': 6211, 'assortment': 501, 'vast': 9440, 'multimedia': 5577, 'rather': 6841, 'grown': 3793, 'dependent': 2198, 'accomplish': 53, 'servers': 7685, 'bumping': 1099, 'crawl': 1929, 'frozen': 3509, 'attribute': 547, 'designing': 2225, 'mhz': 5354, 'ntfs': 5786, 'rings': 7326, 'fe': 3171, 'cycled': 2026, 'puppy': 6728, 'suburban': 8476, 'stuttering': 8442, 'prongs': 6662, 'receptacles': 6921, 'circle': 1430, 'receptacle': 6920, 'pic': 6283, 'spilled': 8174, 'defects': 2142, 'uhs': 9203, 'sticking': 8325, 'contents': 1771, 'rotation': 7388, 'crackling': 1907, 'thumping': 8871, 'adding': 110, 'cheers': 1376, 'ab': 3, 'advantage': 150, 'cinch': 1426, 'annual': 343, 'streamer': 8381, 'brings': 1027, 'partner': 6141, 'fog': 3378, 'banging': 661, 'unprotected': 9309, 'void': 9547, 'ed': 2706, 'hikvision': 4028, 'assembly': 490, 'barn': 671, 'drastic': 2564, 'typically': 9188, 'praise': 6512, 'mountains': 5535, 'amazonbasics': 288, 'zenbook': 9976, 'pd': 6187, 'accepts': 34, 'resume': 7246, 'metra': 5344, 'steering': 8310, 'count': 1865, 'brown': 1041, 'iems': 4204, 'tweezers': 9171, 'disappoint': 2365, 'fpv': 3456, 'salvage': 7464, 'rocker': 7353, 'treat': 9075, 'race': 6797, 'wash': 9625, 'ocean': 5843, 'rust': 7439, 'haha': 3835, 'unexpectedly': 9253, 'crop': 1955, 'bedrooms': 726, 'except': 2970, 'aggravating': 193, 'sorta': 8092, 'htc': 4137, 'nor': 5741, 'buffers': 1073, 'blurry': 889, 'techs': 8716, 'grandkids': 3744, 'opera': 5916, 'cpl': 1898, 'intermittently': 4469, 'printing': 6585, 'beeps': 734, 'warmer': 9604, 'projection': 6641, 'daylight': 2072, 'savings': 7502, 'merely': 5325, 'ravpower': 6852, 'rp': 7406, 'turbo': 9151, 'circular': 1435, 'symbol': 8618, 'languages': 4782, 'disclosure': 2385, 'gx': 3823, 'surfaces': 8555, 'exhaust': 2995, 'cigarette': 1425, 'odor': 5851, 'faded': 3105, 'loops': 5034, 'bottles': 952, 'separately': 7668, 'outage': 5993, 'translation': 9048, 'restoring': 7238, 'fixes': 3297, 'ui': 9204, 'dac': 2032, 'ssh': 8239, 'oct': 5844, 'dramatic': 2562, 'vw': 9569, 'hdx': 3933, 'lengthy': 4881, 'captions': 1222, 'canvas': 1209, 'shy': 7835, 'tiffen': 8886, 'overheated': 6028, 'overheat': 6027, 'swr': 8614, 'needle': 5652, 'heed': 3972, 'firm': 3274, 'reveals': 7276, 'ruin': 7423, 'children': 1389, 'ninja': 5716, 'airflow': 216, 'counted': 1866, 'tom': 8952, 'pa': 6059, 'stolen': 8344, 'worthy': 9862, 'triple': 9105, 'retractable': 7259, 'gesture': 3633, 'desire': 2228, 'curiosity': 1992, 'logical': 5016, 'sequences': 7676, 'noticing': 5766, 'ghosting': 3641, 'struggling': 8420, 'deliberate': 2171, 'unique': 9277, 'shapes': 7732, 'playlists': 6377, 'sequential': 7677, 'painfully': 6082, 'oldest': 5882, 'rubbed': 7414, 'depicted': 2201, 'lexar': 4905, 'vinyl': 9514, 'performer': 6225, 'imo': 4237, 'til': 8896, 'patient': 6164, 'timing': 8911, 'transfered': 9034, 'entries': 2860, 'lid': 4914, 'configurations': 1706, 'prop': 6666, 'pillow': 6302, 'bed': 724, 'cram': 1913, 'jacket': 4569, 'scuff': 7570, 'guard': 3802, 'rubbery': 7417, 'suede': 8494, 'orientation': 5966, 'halfway': 3839, 'wonders': 9821, 'gmc': 3689, 'gripping': 3777, 'kaput': 4655, 'each': 2666, 'electronically': 2755, 'century': 1313, 'refrigerator': 7015, 'oven': 6019, 'washer': 9627, 'dryer': 2611, 'loads': 5000, 'aids': 206, 'blocking': 865, 'competition': 1636, 'generated': 3614, 'unimpressed': 9270, 'boots': 931, 'ssid': 8241, 'fs': 3516, 'jumping': 4639, 'ect': 2705, 'dorm': 2513, 'fox': 3454, 'commercials': 1597, 'mo': 5450, 'significantly': 7852, 'arrangement': 449, 'qualify': 6766, 'delicate': 2173, 'keystrokes': 4684, 'bothersome': 949, 'pauses': 6172, 'mall': 5166, 'macbooks': 5106, 'ghost': 3640, 'earplugs': 2683, 'fumble': 3529, 'comply': 1656, 'spread': 8209, 'waking': 9578, 'fintie': 3261, 'wtf': 9895, 'find': 3240, 'cassettes': 1263, 'ate': 516, 'energy': 2821, 'cassette': 1262, 'suite': 8511, 'sunday': 8519, 'hack': 3828, 'animation': 330, 'dre': 2575, 'iphones': 4519, 'deteriorated': 2256, 'keycaps': 4676, 'cherry': 1381, 'lettering': 4896, 'letter': 4895, 'rgb': 7300, 'alt': 269, 'backlighting': 626, 'wrists': 9882, 'downloadable': 2534, 'leads': 4837, 'faq': 3139, 'crank': 1918, 'optimal': 5939, 'eu': 2923, 'snuggly': 8027, 'weighted': 9691, 'recommends': 6949, 'interest': 4455, 'cold': 1555, 'temperatures': 8742, 'rendered': 7114, 'launch': 4816, 'favorites': 3166, 'labeling': 4749, 'labels': 4751, 'desktops': 2233, 'cube': 1986, 'periods': 6233, 'definately': 2147, 'rewind': 7296, 'bound': 960, 'dayton': 2075, 'kicks': 4691, 'drove': 2606, 'efficiency': 2725, 'bookshelf': 916, 'effortlessly': 2730, 'rave': 6849, 'ga': 3562, 'flac': 3301, 'differ': 2297, 'copies': 1825, 'opens': 5915, 'dj': 2468, 'pixels': 6334, 'versus': 9475, 'shade': 7717, 'afterwards': 185, 'estate': 2910, 'tokina': 8945, 'electric': 2749, 'awake': 598, 'coworkers': 1894, 'superglue': 8530, 'combining': 1580, 'splits': 8186, 'canceling': 1197, 'whilst': 9718, 'inspection': 4401, 'lead': 4834, 'lover': 5067, 'unpredictable': 9308, 'mk': 5445, 'siri': 7884, 'fixing': 3298, 'per': 6214, 'kinds': 4706, 'albums': 232, 'afterward': 184, 'planes': 6347, 'offices': 5862, 'messy': 5335, 'feeding': 3185, 'shrink': 7824, 'taping': 8674, 'shorten': 7799, 'parking': 6127, 'guidelines': 3812, 'daytime': 2074, 'tiger': 8887, 'comparatively': 1617, 'finer': 3246, 'compromise': 1667, 'exposure': 3054, 'pinpoint': 6311, 'saturated': 7493, 'varies': 9436, 'restore': 7236, 'quicktime': 6783, 'hue': 4146, 'gamma': 3578, 'sharpness': 7742, 'dimmer': 2325, 'condition': 1688, 'eat': 2695, 'inflated': 4352, 'retracted': 7260, 'gen': 3610, 'fiio': 3221, 'passthrough': 6153, 'infrequent': 4360, 'preview': 6565, 'elgato': 2763, 'weights': 9692, 'sinks': 7881, 'friday': 3494, 'successful': 8483, 'dog': 2495, 'cleanly': 1470, 'lexus': 4906, 'hassles': 3898, 'shifted': 7762, 'satellites': 7485, 'unbearable': 9224, 'wasnt': 9632, 'cannon': 1203, 'severely': 7707, 'mistaken': 5437, 'replug': 7150, 'assembling': 489, 'incase': 4286, 'smoother': 8002, 'customized': 2011, 'forgotten': 3428, 'specifics': 8146, 'refuses': 7024, 'wiggles': 9750, 'freely': 3477, 'bout': 962, 'beeping': 733, 'yank': 9929, 'compliments': 1655, 'desirable': 2227, 'silence': 7854, 'imho': 4232, 'boxed': 967, 'cake': 1159, 'consequence': 1736, 'cbs': 1288, 'pbs': 6180, 'warner': 9608, 'spin': 8176, 'elliptical': 2770, 'responsible': 7223, 'ehhh': 2737, 'basketball': 685, 'landed': 4774, 'fork': 3429, 'mystery': 5599, 'indispensable': 4333, 'authorized': 569, 'furniture': 3542, 'bootable': 927, 'dos': 2514, 'propping': 6672, 'nifty': 5705, 'fifty': 3214, 'stm': 8340, 'bearable': 711, 'compression': 1666, 'taught': 8685, 'gh': 3639, 'dvi': 2655, 'lined': 4955, 'manipulate': 5179, 'someplace': 8067, 'experts': 3035, 'math': 5235, 'unfriendly': 9260, 'idiots': 4198, 'del': 2164, 'strobes': 8407, 'rectangular': 6971, 'reflectors': 7008, 'reflecting': 7003, 'tin': 8912, 'foil': 3380, 'damp': 2042, 'tuesday': 9142, 'pm': 6403, 'offs': 5866, 'disney': 2424, 'filler': 3228, 'existed': 3002, 'focused': 3375, 'hdr': 3929, 'scene': 7527, 'dont': 2509, 'inserting': 4389, 'accident': 42, 'import': 4250, 'delete': 2168, 'speeding': 8157, 'overlay': 6033, 'mouth': 5542, 'unplugging': 9306, 'inline': 4374, 'vga': 9481, 'din': 2329, 'demands': 2185, 'pretend': 6559, 'ejected': 2741, 'accidents': 46, 'logging': 5014, 'hotter': 4118, 'captured': 1224, 'doctor': 2486, 'naturally': 5624, 'installations': 4407, 'ads': 144, 'distracted': 2451, 'retrieve': 7263, 'generate': 3613, 'ios': 4513, 'workaround': 9835, 'outlets': 6003, 'strings': 8400, 'dies': 2296, 'conditioning': 1690, 'memorex': 5310, 'directory': 2347, 'artists': 469, 'genres': 3625, 'yep': 9941, 'ashamed': 472, 'unused': 9333, 'nic': 5697, 'doc': 2479, 'resources': 7209, 'embedded': 2781, 'scanned': 7516, 'hgst': 4001, 'sells': 7645, 'survived': 8574, 'ages': 192, 'portion': 6464, 'decal': 2104, 'estimated': 2913, 'prepare': 6538, 'climb': 1490, 'convince': 1808, 'aluminium': 279, 'borders': 934, 'scaling': 7513, 'mirrorless': 5418, 'marker': 5207, 'designer': 2223, 'periodic': 6231, 'bearings': 713, 'shielding': 7759, 'duh': 2631, 'airport': 221, 'wep': 9697, 'admirably': 135, 'mated': 5232, 'televisions': 8734, 'firing': 3273, 'necessity': 5647, 'suffice': 8499, 'blog': 867, 'cursor': 1997, 'decisions': 2116, 'den': 2187, 'european': 2925, 'fatal': 3155, 'flatten': 3320, 'griffin': 3769, 'obtain': 5825, 'ota': 5980, 'furthest': 3545, 'mohu': 5479, 'advised': 163, 'transmission': 9050, 'wished': 9791, 'stabilizer': 8249, 'stabilization': 8246, 'robbed': 7347, 'generations': 3618, 'genius': 3623, 'fumbling': 3530, 'quibble': 6779, 'continuous': 1780, 'triggered': 9098, 'unlimited': 9287, 'beneficial': 773, 'involved': 4504, 'oled': 5884, 'chroma': 1414, 'hundred': 4157, 'rocks': 7358, 'ptt': 6710, 'desperately': 2235, 'transmissions': 9051, 'verbatim': 9463, 'paperweight': 6113, 'girls': 3657, 'steal': 8304, 'dreaded': 2576, 'disposable': 2432, 'shall': 7727, 'inoperable': 4378, 'helping': 3985, 'vixia': 9535, 'jpeg': 4624, 'udma': 9195, 'downgrade': 2529, 'bursts': 1115, 'ddns': 2082, 'jan': 4577, 'fuzzy': 3556, 'pluses': 6402, 'composition': 1661, 'collapse': 1556, 'july': 4633, 'cheetah': 1378, 'accepted': 32, 'coby': 1542, 'synced': 8623, 'valley': 9425, 'deg': 2156, 'fibers': 3205, 'theres': 8811, 'explain': 3038, 'region': 7031, 'velour': 9450, 'dye': 2659, 'stain': 8256, 'leaking': 4843, 'hiding': 4013, 'hair': 3836, 'embarrassed': 2779, 'incident': 4289, 'responsibility': 7222, 'acknowledge': 69, 'finished': 3257, 'distribution': 2456, 'silicon': 7856, 'dogs': 2496, 'substance': 8469, 'wast': 9633, 'roomy': 7377, 'stitched': 8336, 'sand': 7471, 'conform': 1717, 'curl': 1994, 'bean': 709, 'vibration': 9492, 'tossing': 8980, 'apologize': 380, 'legible': 4872, 'resistance': 7197, 'crimp': 1944, 'softbox': 8039, 'grace': 3735, 'confusion': 1722, 'pandora': 6101, 'busy': 1122, 'shorted': 7798, 'cds': 1294, 'spinning': 8179, 'irregular': 4531, 'stunning': 8435, 'focuses': 3376, 'om': 5887, 'omd': 5888, 'bleeding': 847, 'syndrome': 8627, 'encounter': 2806, 'disturbing': 2459, 'iterations': 4557, 'characteristic': 1345, 'recommendation': 6945, 'articulating': 465, 'gestures': 3634, 'distracting': 2452, 'adhesive': 122, 'grid': 3767, 'witness': 9801, 'economical': 2702, 'accompany': 51, 'attributes': 548, 'interfered': 4462, 'ignition': 4207, 'keen': 4663, 'adp': 143, 'https': 4141, 'oh_aui_detailpage_o_s': 5870, 'concerns': 1679, 'armor': 441, 'crooked': 1954, 'vague': 9422, 'dent': 2192, 'strokes': 8409, 'babies': 615, 'soo': 8081, 'everyone': 2942, 'compressed': 1665, 'asian': 474, 'cow': 1890, 'nm': 5721, 'coverage': 1886, 'rms': 7343, 'sheets': 7752, 'joy': 4622, 'wraps': 9876, 'surgery': 8559, 'pleather': 6386, 'dis': 2351, 'global': 3675, 'emitters': 2788, 'emitter': 2787, 'multifunction': 5576, 'syncing': 8625, 'dp': 2548, 'stutters': 8443, 'powers': 6503, 'forest': 3419, 'afternoon': 182, 'raining': 6814, 'haswell': 3899, 'horsepower': 4109, 'deserved': 2218, 'formatting': 3434, 'cluttered': 1525, 'distant': 2442, 'pie': 6294, 'optoma': 5948, 'framerate': 3461, 'correction': 1842, 'attenuation': 539, 'projectors': 6643, 'cheesy': 1377, 'hollow': 4067, 'tubes': 9138, 'earpieces': 2682, 'researched': 7184, 'explore': 3046, 'mt': 5566, 'fond': 3394, 'patriot': 6166, 'tug': 9143, 'flatter': 3321, 'balls': 651, 'ejects': 2743, 'reaching': 6866, 'occurred': 5838, 'unaware': 9222, 'dashboard': 2062, 'distraction': 2453, 'detects': 2254, 'horror': 4107, 'brag': 981, 'slideshow': 7946, 'ownership': 6055, 'optiplex': 5947, 'atleast': 521, 'tolerable': 8947, 'adequately': 119, 'dollar': 2500, 'twenty': 9172, 'proceed': 6602, 'winding': 9761, 'reel': 6990, 'incoming': 4299, 'considerable': 1740, 'limitations': 4948, 'transmits': 9053, 'aimed': 209, 'notify': 5770, 'crushed': 1976, 'quest': 6774, 'unreadable': 9310, 'outright': 6011, 'excessively': 2977, 'toggle': 8943, 'react': 6867, 'joystick': 4623, 'explains': 3041, 'hat': 3900, 'formats': 3432, 'tremendously': 9083, 'bias': 792, 'freak': 3471, 'applying': 403, 'jerk': 4595, 'peeling': 6197, 'insides': 4393, 'cf': 1319, 'resting': 7234, 'pans': 6108, 'brazil': 995, 'fir': 3263, 'emptor': 2794, 'converted': 1802, 'netbooks': 5673, 'combos': 1582, 'backspace': 634, 'shocking': 7778, 'mixed': 5442, 'ic': 4181, 'ham': 3844, 'pan': 6096, 'invalid': 4489, 'registration': 7036, 'asset': 492, 'processed': 6605, 'cate': 1272, 'rf': 7298, 'decade': 2102, 'limits': 4952, 'wlan': 9804, 'strapped': 8373, 'boomy': 920, 'crossover': 1963, 'ken': 4668, 'champ': 1333, 'simultaneously': 7874, 'catches': 1270, 'navy': 5632, 'darker': 2056, 'gf': 3638, 'neo': 5664, 'replied': 7148, 'shipper': 7772, 'fedex': 3181, 'mistakes': 5439, 'eliminated': 2766, 'expires': 3037, 'firewall': 3271, 'vlans': 9538, 'vlan': 9537, 'zyxel': 9999, 'routed': 7396, 'dhcp': 2275, 'objective': 5814, 'filming': 3232, 'grandson': 3747, 'swim': 8598, 'rack': 6799, 'manageable': 5170, 'rim': 7323, 'meanwhile': 5271, 'comp': 1608, 'motors': 5531, 'sided': 7839, 'docked': 2481, 'shuttle': 7834, 'gbs': 3599, 'ample': 302, 'rs': 7410, 'osmo': 5977, 'selections': 7636, 'savvy': 7503, 'zs': 9995, 'customize': 2010, 'royal': 7405, 'oppo': 5927, 'degradation': 2157, 'rubberized': 7416, 'practically': 6509, 'legal': 4870, 'firestick': 3269, 'midland': 5372, 'cb': 1287, 'involves': 4505, 'bolted': 905, 'cement': 1306, 'impressively': 4263, 'crt': 1968, 'sunset': 8524, 'failures': 3113, 'confortable': 1718, 'deserve': 2217, 'ding': 2330, 'addendum': 109, 'fairness': 3117, 'kinivo': 4710, 'ihome': 4213, 'mentions': 5318, 'permissions': 6240, 'uploading': 9356, 'diagrams': 2281, 'clients': 1488, 'grabbing': 3733, 'specially': 8140, 'forgive': 3425, 'pogo': 6415, 'shared': 7734, 'shares': 7735, 'deadline': 2086, 'releases': 7067, 'shattered': 7744, 'io': 4508, 'offline': 5865, 'spun': 8215, 'conclude': 1682, 'susceptible': 8576, 'ratings': 6843, 'oriented': 5968, 'relax': 7062, 'earphone': 2679, 'quits': 6792, 'honor': 4080, 'sleeves': 7937, 'handsome': 3861, 'geocaching': 3630, 'november': 5776, 'honesty': 4078, 'nonexistent': 5735, 'booming': 919, 'sucker': 8488, 'sewing': 7709, 'thoughts': 8845, 'gpus': 3729, 'corruption': 1850, 'excitement': 2982, 'responding': 7218, 'gimmick': 3653, 'controlling': 1792, 'angry': 327, 'birds': 819, 'wears': 9665, 'nonsense': 5737, 'incompatibility': 4300, 'laid': 4767, 'pip': 6315, 'vibrations': 9493, 'regretting': 7041, 'ls': 5084, 'feeds': 3186, 'backed': 621, 'chevy': 1383, 'chipped': 1397, 'ware': 9600, 'marvell': 5218, 'communicating': 1601, 'parameters': 6120, 'rebel': 6901, 'extraneous': 3077, 'broadband': 1030, 'overheating': 6029, 'perpendicular': 6242, 'revising': 7291, 'wart': 9621, 'translucent': 9049, 'beam': 708, 'darkness': 2057, 'handlebar': 3851, 'defeated': 2136, 'beating': 717, 'requests': 7174, 'degrade': 2158, 'promising': 6650, 'adapted': 101, 'country': 1872, 'kodi': 4736, 'maintained': 5150, 'phrase': 6277, 'attracts': 546, 'physics': 6280, 'homework': 4074, 'preferred': 6528, 'pivoting': 6328, 'maintenance': 5153, 'scores': 7538, 'resolves': 7204, 'accompanying': 52, 'tack': 8641, 'magically': 5127, 'sore': 8088, 'shadow': 7719, 'mi': 5355, 'staticky': 8290, 'sucking': 8489, 'tedious': 8719, 'shines': 7766, 'bothers': 948, 'adaptor': 104, 'born': 937, 'maintain': 5149, 'burst': 1114, 'blower': 872, 'ocd': 5842, 'food': 3398, 'vids': 9501, 'mask': 5221, 'plasma': 6355, 'thirds': 8834, 'wps': 9870, 'hadn': 3833, 'transition': 9043, 'plugins': 6398, 'guitar': 3814, 'sucked': 8487, 'hiccup': 4006, 'viruses': 9518, 'tougher': 8992, 'exceptions': 2974, 'membrane': 5308, 'watt': 9644, 'insulation': 4425, 'responds': 7219, 'particles': 6133, 'hazy': 3918, 'ignore': 4209, 'ensure': 2846, 'amperage': 301, 'hardwire': 3886, 'recycle': 6973, 'googling': 3715, 'extends': 3065, 'abandoned': 4, 'replicate': 7147, 'chest': 1382, 'statement': 8287, 'meeting': 5292, 'uninstalled': 9273, 'misplaced': 5429, 'homes': 4073, 'ge': 3600, 'voip': 9549, 'natively': 5622, 'modulator': 5476, 'talked': 8654, 'dials': 2286, 'beep': 732, 'illumination': 4221, 'startech': 8277, 'promise': 6647, 'cnet': 1530, 'die': 2294, 'career': 1235, 'adorable': 141, 'inadvertently': 4280, 'dangerous': 2049, 'melted': 5302, 'burnt': 1113, 'disapointed': 2359, 'instructional': 4419, 'lug': 5090, 'attract': 543, 'walked': 9581, 'amazons': 289, 'stats': 8296, 'agent': 190, 'foreign': 3415, 'hammer': 3845, 'everybody': 2940, 'sum': 8514, 'bells': 759, 'hdhomerun': 3927, 'twc': 9164, 'tier': 8884, 'ddr': 2083, 'index': 4324, 'conductors': 1695, 'memories': 5311, 'comparably': 1616, 'harmon': 3891, 'kardon': 4656, 'hk': 4050, 'dimension': 2317, 'darkened': 2055, 'oils': 5875, 'canals': 1194, 'reproduction': 7164, 'amounts': 297, 'reinstalled': 7052, 'dv': 2651, 'handful': 3848, 'tonight': 8960, 'tabletop': 8637, 'shades': 7718, 'worrying': 9856, 'depress': 2205, 'fn': 3369, 'ctrl': 1985, 'tapping': 8676, 'coast': 1533, 'gross': 3785, 'organization': 5959, 'fraying': 3470, 'toyota': 9001, 'ver': 9462, 'iv': 4564, 'blutooth': 890, 'vantec': 9431, 'owc': 6050, 'manufacture': 5185, 'lockup': 5011, 'alaska': 229, 'remembered': 7095, 'fingertips': 3254, 'pristine': 6589, 'ax': 610, 'patch': 6159, 'sessions': 7693, 'removes': 7109, 'koss': 4741, 'porta': 6458, 'spouse': 8207, 'styli': 8446, 'forum': 3442, 'spectrum': 8154, 'analyzer': 314, 'reservations': 7188, 'duck': 2624, 'uhf': 9202, 'requirements': 7178, 'respect': 7210, 'budge': 1065, 'finest': 3247, 'grado': 3737, 'holiday': 4065, 'akg': 224, 'beauty': 721, 'aftermarket': 181, 'twitter': 9179, 'alternator': 276, 'boss': 941, 'bearing': 712, 'osd': 5976, 'stories': 8357, 'blaming': 839, 'borrowed': 939, 'mics': 5369, 'bc': 703, 'prompt': 6655, 'gloves': 3680, 'paperwhite': 6114, 'doorbell': 2511, 'inaccurate': 4276, 'harness': 3893, 'fuses': 3548, 'keywords': 4685, 'qid': 6761, 'ref_': 6992, 'sr__': 8232, 'ubiquiti': 9193, 'aps': 416, 'scenarios': 7526, 'warnings': 9610, 'importantly': 4253, 'deformed': 2155, 'aiming': 210, 'jet': 4597, 'chewed': 1385, 'moto': 5525, 'cooled': 1814, 'interstate': 4479, 'worries': 9854, 'forwarding': 3446, 'leash': 4854, 'hazardous': 3916, 'feb': 3178, 'wiped': 9779, 'supervisor': 8533, 'disgusted': 2409, 'attitude': 542, 'southern': 8111, 'california': 1169, 'protruding': 6688, 'relying': 7085, 'appreciated': 405, 'stellar': 8311, 'deducting': 2127, 'grill': 3770, 'patterns': 6168, 'aint': 212, 'plant': 6353, 'confidently': 1702, 'yay': 9934, 'lp': 5081, 'safety': 7455, 'ep': 2867, 'cowboy': 1891, 'muslin': 5586, 'wrinkle': 9878, 'projecting': 6640, 'slanted': 7926, 'viable': 9486, 'lags': 4766, 'demanding': 2184, 'lightroom': 4935, 'destroying': 2240, 'synch': 8624, 'oculus': 5846, 'rift': 7315, 'craftsmanship': 1912, 'actions': 82, 'rubbing': 7418, 'flight': 3338, 'leans': 4847, 'heater': 3962, 'coz': 1896, 'shove': 7815, 'retainer': 7252, 'platinum': 6366, 'crimper': 1946, 'precision': 6519, 'isolating': 4544, 'poetic': 6414, 'slimline': 7952, 'closes': 1508, 'techie': 8705, 'deficiencies': 2146, 'omni': 5890, 'tipping': 8922, 'ignorance': 4208, 'couldnt': 1864, 'dated': 2067, 'pray': 6513, 'fooling': 3401, 'workarounds': 9836, 'fwiw': 3558, 'banged': 660, 'vented': 9457, 'insane': 4384, 'repeaters': 7135, 'faithful': 3119, 'continual': 1773, 'epic': 2868, 'proximity': 6702, 'discounted': 2397, 'chemical': 1379, 'dresser': 2580, 'intact': 4430, 'flower': 3358, 'joby': 4610, 'talkies': 8655, 'concerts': 1681, 'nowadays': 5779, 'sporting': 8199, 'sacrificing': 7448, 'amplification': 303, 'interrupted': 4476, 'unpowered': 9307, 'sacrifice': 7447, 'weighed': 9687, 'spares': 8125, 'repackaged': 7126, 'regrets': 7039, 'faults': 3160, 'hinder': 4032, 'fishing': 3282, 'encrypted': 2809, 'export': 3050, 'xmp': 9913, 'evga': 2947, 'hybrid': 4175, 'blaster': 843, 'sm': 7976, 'sooooo': 8086, 'hs': 4134, 'underwhelming': 9247, 'frayed': 3469, 'tripped': 9109, 'enjoyable': 2838, 'xbmc': 9901, 'aquos': 420, 'kill': 4696, 'overlooked': 6037, 'depot': 2204, 'repositioning': 7158, 'transformer': 9039, 'cambridge': 1180, 'similarly': 7864, 'redirect': 6980, 'soundbot': 8100, 'sheer': 7750, 'niece': 5704, 'eating': 2696, 'consists': 1748, 'hairs': 3837, 'surf': 8553, 'fantastically': 3138, 'imagined': 4230, 'widescreen': 9739, 'sonic': 8076, 'dig': 2309, 'restarted': 7228, 'via': 9485, 'apr': 414, 'explicitly': 3044, 'yielded': 9948, 'distributor': 2457, 'vital': 9530, 'redesign': 6978, 'container': 1766, 'shakes': 7724, 'ratchet': 6837, 'dots': 2519, 'topo': 8970, 'traveled': 9067, 'national': 5620, 'cox': 1895, 'boxwave': 971, 'offset': 5867, 'swimming': 8599, 'activities': 92, 'laps': 4788, 'training': 9029, 'displaylink': 2428, 'docks': 2483, 'ssb': 8236, 'driveway': 2592, 'freq': 3486, 'backlit': 627, 'hikes': 4026, 'buzzing': 1136, 'intention': 4448, 'inaudible': 4283, 'recommending': 6948, 'illuminates': 4220, 'spotty': 8206, 'rt': 7411, 'iogear': 4509, 'hxv': 4174, 'wx': 9898, 'minimize': 5402, 'sheathing': 7748, 'twisting': 9177, 'mass': 5222, 'footer': 3407, 'ibm': 4180, 'thunderbolt': 8872, 'measurements': 5275, 'flexes': 3329, 'interfering': 4465, 'slope': 7962, 'fight': 3215, 'horse': 4108, 'hockey': 4056, 'magical': 5126, 'converting': 1806, 'fractal': 3457, 'worlds': 9851, 'wiggling': 9751, 'chunky': 1422, 'composite': 1660, 'activated': 85, 'bath': 690, 'cabinets': 1148, 'execute': 2988, 'dangle': 2050, 'leverage': 4903, 'spacer': 8116, 'trek': 9081, 'engaged': 2823, 'lmt': 4995, 'opaque': 5909, 'fireplace': 3267, 'alexa': 236, 'def': 2132, 'bills': 804, 'thereof': 8810, 'expandable': 3010, 'stroke': 8408, 'document': 2487, 'whoever': 9730, 'interfaces': 4460, 'tomtom': 8955, 'contained': 1765, 'pdf': 6189, 'withing': 9798, 'bizarre': 825, 'staples': 8271, 'recycled': 6974, 'waist': 9572, 'visor': 9526, 'float': 3346, 'jerky': 4596, 'lifting': 4926, 'absorb': 19, 'deserves': 2219, 'metric': 5345, 'judge': 4629, 'miserably': 5424, 'forewarned': 3421, 'jammed': 4574, 'pry': 6703, 'ymmv': 9951, 'lies': 4917, 'bloody': 870, 'miserable': 5423, 'lied': 4916, 'snugg': 8026, 'bushnell': 1117, 'nowhere': 5780, 'impaired': 4241, 'lighted': 4928, 'girl': 3655, 'magnavox': 5129, 'serviceable': 7688, 'enhancement': 2834, 'rpm': 7408, 'unbeatable': 9225, 'pegs': 6201, 'grate': 3754, 'scare': 7521, 'pods': 6412, 'skins': 7912, 'fighting': 3216, 'bw': 1137, 'hardrive': 3883, 'phenom': 6258, 'fingernail': 3249, 'visually': 9529, 'techno': 8712, 'uh': 9200, 'identified': 4195, 'ef': 2719, 'filed': 3223, 'occurrence': 5839, 'slam': 7925, 'xfinity': 9905, 'cotton': 1860, 'mx': 5592, 'professionals': 6623, 'relation': 7058, 'macros': 5114, 'reaches': 6865, 'parked': 6126, 'diminishes': 2320, 'spills': 8175, 'brushed': 1047, 'tacky': 8642, 'rtsp': 7412, 'accessing': 39, 'surfboard': 8556, 'pipe': 6316, 'honored': 4081, 'hurry': 4165, 'armband': 440, 'gravity': 3756, 'dang': 2047, 'fiance': 3203, 'studying': 8430, 'hertz': 3993, 'punch': 6724, 'woofers': 9828, 'da': 2030, 'bomb': 907, 'wich': 9735, 'invented': 4490, 'msata': 5563, 'looping': 5033, 'persists': 6245, 'dh': 2274, 'ships': 7774, 'readily': 6874, 'advertise': 154, 'divided': 2462, 'playbook': 6371, 'gmrs': 3690, 'handsets': 3858, 'odds': 5850, 'centered': 1309, 'titanium': 8929, 'complement': 1646, 'vc': 9442, 'clones': 1502, 'pt': 6709, 'presses': 6554, 'mapping': 5194, 'grit': 3780, 'antena': 352, 'transaction': 9030, 'mydlink': 5595, 'canada': 1192, 'expanding': 3013, 'mexico': 5348, 'weatherproof': 9668, 'briefcase': 1016, 'suitcase': 8510, 'trucks': 9120, 'authentic': 566, 'tickets': 8879, 'annoyingly': 341, 'compromises': 1669, 'india': 4325, 'discrete': 2404, 'gmail': 3688, 'rights': 7319, 'thieves': 8822, 'drum': 2608, 'heartbeat': 3959, 'dismount': 2423, 'conflicting': 1715, 'household': 4122, 'blamed': 838, 'invested': 4495, 'binder': 807, 'lunch': 5097, 'throttle': 8857, 'es': 2896, 'iffy': 4206, 'tripp': 9108, 'listener': 4975, 'across': 76, 'oe': 5852, 'zx': 9998, 'camara': 1179, 'cleared': 1474, 'avoided': 592, 'bits': 824, 'sustained': 8583, 'affecting': 171, 'utilizing': 9411, 'recommendations': 6946, 'instrument': 4421, 'troubles': 9114, 'compliment': 1654, 'buddy': 1064, 'pricier': 6572, 'fellow': 3194, 'merchandise': 5322, 'overclocking': 6024, 'liner': 4956, 'firmer': 3275, 'slimmer': 7953, 'preferences': 6527, 'seamless': 7587, 'directed': 2340, 'fujifilm': 3521, 'noaa': 5723, 'outputting': 6009, 'buffalo': 1070, 'pulse': 6720, 'compares': 1620, 'church': 1423, 'livescribe': 4990, 'blah': 836, 'archive': 427, 'dept': 2207, 'uber': 9192, 'dancing': 2045, 'discarded': 2376, 'clamps': 1453, 'brief': 1015, 'hc': 3921, 'alike': 245, 'whites': 9728, 'lived': 4988, 'introduced': 4484, 'bulbs': 1084, 'theft': 8797, 'moments': 5491, 'adventure': 152, 'privacy': 6590, 'stupidly': 8437, 'bling': 855, 'carrier': 1247, 'defense': 2144, 'secret': 7606, 'dissipate': 2438, 'brightest': 1020, 'stage': 8255, 'discomfort': 2388, 'taiwan': 8648, 'slave': 7930, 'primitive': 6578, 'ev': 2926, 'opportunities': 5928, 'electrically': 2751, 'fov': 3453, 'alignment': 244, 'stamped': 8261, 'drawn': 2572, 'principle': 6579, 'collar': 1560, 'reminder': 7100, 'leica': 4876, 'pentax': 6210, 'xf': 9904, 'miracle': 5413, 'cartridge': 1253, 'knocked': 4724, 'monkey': 5500, 'keypad': 4679, 'flare': 3309, 'modules': 5478, 'peoples': 6213, 'discern': 2377, 'retracts': 7262, 'usbs': 9385, 'dare': 2053, 'commonly': 1599, 'transportation': 9060, 'motions': 5524, 'sdxc': 7578, 'komputerbay': 4737, 'reserve': 7189, 'rub': 7413, 'texting': 8778, 'null': 5794, 'shifting': 7763, 'ah': 201, 'buffer': 1071, 'nib': 5695, 'customizable': 2008, 'uniformity': 9268, 'dslrs': 2617, 'swivels': 8613, 'counts': 1873, 'peaking': 6192, 'snapshot': 8017, 'teh': 8725, 'sunlight': 8521, 'compose': 1659, 'evf': 2946, 'malfunctioning': 5164, 'bored': 935, 'gbps': 3598, 'men': 5314, 'pissed': 6320, 'agents': 191, 'disaster': 2373, 'template': 8744, 'measurement': 5274, 'spacers': 8117, 'fortunate': 3439, 'lowes': 5077, 'evenly': 2932, 'marking': 5213, 'sandwich': 7474, 'horizon': 4098, 'nuts': 5802, 'damages': 2038, 'avoiding': 593, 'chapter': 1343, 'wma': 9805, 'af': 168, 'nikkor': 5712, 'vr': 9564, 'fz': 3561, 'replaces': 7144, 'visibly': 9521, 'stairs': 8259, 'cab': 1145, 'inappropriate': 4281, 'scythe': 7573, 'humming': 4155, 'distort': 2445, 'producto': 6619, 'la': 4745, 'por': 6455, 'mpow': 5559, 'coil': 1550, 'convert': 1801, 'workflow': 9840, 'readout': 6878, 'compatable': 1627, 'mines': 5396, 'writer': 9884, 'understandable': 9242, 'circles': 1431, 'zalman': 9972, 'hex': 3998, 'stripped': 8403, 'bikes': 801, 'shortcoming': 7794, 'bicycle': 795, 'stem': 8312, 'substantially': 8472, 'optic': 5935, 'shorts': 7805, 'integral': 4432, 'verse': 9472, 'rds': 6861, 'revisit': 7293, 'drawings': 2571, 'ain': 211, 'soften': 8041, 'landscapes': 4778, 'ignored': 4210, 'essentials': 2907, 'variations': 9434, 'redundant': 6989, 'xlr': 9910, 'grow': 3791, 'sunny': 8522, 'percent': 6216, 'dunno': 2637, 'dialog': 2284, 'integration': 4436, 'viera': 9502, 'conjunction': 1723, 'gradually': 3738, 'cant': 1208, 'utter': 9412, 'xi': 9908, 'nearby': 5639, 'ruins': 7426, 'portions': 6465, 'mails': 5143, 'classy': 1465, 'presentation': 6544, 'gained': 3566, 'tele': 8726, 'refills': 6998, 'severe': 7706, 'fatigue': 3157, 'combinations': 1577, 'adata': 106, 'touted': 8994, 'arrange': 447, 'subway': 8477, 'neighborhood': 5661, 'actively': 90, 'waze': 9654, 'sierra': 7842, 'escort': 2900, 'incidents': 4291, 'archos': 428, 'believed': 754, 'processors': 6609, 'cream': 1931, 'noctua': 5725, 'fray': 3468, 'repetitive': 7138, 'transmitters': 9056, 'refunding': 7018, 'unfold': 9257, 'grocery': 3781, 'hike': 4025, 'boyfriend': 974, 'unsatisfactory': 9317, 'exposures': 3055, 'breakage': 999, 'keyring': 4680, 'triangle': 9089, 'soldered': 8049, 'baby': 616, 'west': 9700, 'winegard': 9769, 'shopped': 7790, 'squelch': 8229, 'ons': 5901, 'scraping': 7545, 'cares': 1240, 'clicked': 1482, 'exe': 2987, 'mov': 5543, 'cyberpower': 2023, 'rearview': 6894, 'scrap': 7542, 'ongoing': 5897, 'lumens': 5093, 'matrix': 5238, 'stb': 8302, 'explanatory': 3043, 'reinsert': 7049, 'intentions': 4450, 'jumpy': 4641, 'coworker': 1893, 'batter': 693, 'pilot': 6303, 'chord': 1409, 'believing': 756, 'zeikos': 9973, 'faith': 3118, 'bricked': 1010, 'cared': 1234, 'apc': 377, 'leader': 4835, 'shure': 7827, 'discharge': 2379, 'reverted': 7282, 'antennae': 354, 'korean': 4740, 'qwerty': 6794, 'sleeps': 7934, 'squishy': 8230, 'fd': 3170, 'jot': 4620, 'adonit': 140, 'depressed': 2206, 'boxy': 972, 'spoken': 8192, 'filtered': 3235, 'disapointing': 2360, 'detached': 2244, 'xd': 9903, 'detract': 2261, 'opteka': 5934, 'np': 5781, 'nighthawk': 5707, 'encourage': 2808, 'reserved': 7190, 'explaining': 3040, 'relieved': 7078, 'surprises': 8563, 'infinite': 4349, 'shadows': 7720, 'messenger': 5332, 'complexity': 1651, 'mighty': 5376, 'gang': 3579, 'crowded': 1966, 'metro': 5346, 'tags': 8646, 'jury': 4647, 'mkv': 5447, 'facts': 3103, 'kdlinks': 4662, 'ff': 3201, 'united': 9279, 'retired': 7257, 'styluses': 8450, 'orders': 5955, 'snooze': 8021, 'golf': 3702, 'byone': 1140, 'vhf': 9482, 'mixer': 5443, 'gigantic': 3650, 'dive': 2461, 'registering': 7034, 'xt': 9920, 'aligning': 243, 'medical': 5287, 'scaled': 7512, 'oz': 6058, 'retention': 7255, 'maddening': 5117, 'disappeared': 2362, 'motorized': 5529, 'coarse': 1532, 'automotive': 576, 'lil': 4945, 'codec': 1544, 'shrill': 7823, 'seiki': 7630, 'journey': 4621, 'travels': 9071, 'relegated': 7069, 'goose': 3716, 'poi': 6416, 'supplement': 8535, 'taotronics': 8669, 'rumble': 7429, 'oontz': 5906, 'impressions': 4261, 'pinched': 6306, 'squeezing': 8228, 'reinforce': 7046, 'haze': 3917, 'precious': 6516, 'scrambled': 7541, 'essence': 2904, 'broadcasts': 1033, 'tweaking': 9167, 'orient': 5965, 'gimbal': 3652, 'woman': 9813, 'buff': 1069, 'joe': 4611, 'brace': 978, 'increasingly': 4315, 'vest': 9480, 'sensing': 7657, 'ins': 4383, 'uverse': 9415, 'cats': 1275, 'deleting': 2170, 'preloaded': 6531, 'visit': 9524, 'retract': 7258, 'mixing': 5444, 'cone': 1697, 'crown': 1967, 'appletv': 394, 'ml': 5448, 'specialized': 8139, 'alien': 239, 'rode': 7360, 'thrilled': 8855, 'weighing': 9688, 'published': 6715, 'scary': 7523, 'hurting': 4167, 'dremel': 2579, 'trapped': 9063, 'fingernails': 3250, 'fixable': 3295, 'cabinet': 1147, 'famous': 3131, 'kinect': 4707, 'mowing': 5554, 'grass': 3753, 'draining': 2559, 'prepaid': 6537, 'warranted': 9615, 'handled': 3853, 'degrading': 2161, 'integrate': 4433, 'simplified': 7869, 'alternate': 273, 'intentionally': 4449, 'tomato': 8953, 'safer': 7454, 'assigned': 494, 'addresses': 116, 'atrocious': 524, 'optimistic': 5940, 'mbs': 5260, 'robot': 7349, 'numeric': 5798, 'programed': 6629, 'dvrs': 2657, 'soundbar': 8098, 'esp': 2901, 'hates': 3903, 'makers': 5158, 'distinguish': 2444, 'appearing': 390, 'dt': 2619, 'rectify': 6972, 'rii': 7322, 'stainless': 8257, 'rechargable': 6925, 'conversion': 1800, 'sample': 7466, 'mediasonic': 5286, 'uspeed': 9400, 'dr': 2550, 'fiddle': 3206, 'conference': 1698, 'butt': 1124, 'eos': 2866, 'dimm': 2322, 'mw': 5591, 'cheapo': 1368, 'chromatic': 1415, 'aberration': 6, 'humidity': 4154, 'gimmicky': 3654, 'weakest': 9660, 'roommate': 7375, 'droid': 2596, 'grooves': 3784, 'apu': 419, 'ether': 2918, 'definitive': 2154, 'migration': 5378, 'magician': 5128, 'poles': 6432, 'chassis': 1359, 'weekends': 9683, 'patches': 6160, 'tunnel': 9150, 'positioning': 6473, 'beaten': 716, 'evil': 2951, 'shortcuts': 7797, 'someday': 8064, 'um': 9211, 'singing': 7878, 'rattled': 6846, 'animals': 329, 'pipes': 6318, 'busted': 1121, 'interruptions': 4478, 'draws': 2573, 'trading': 9020, 'divider': 2463, 'hesitation': 3997, 'lumia': 5094, 'groups': 3790, 'lectures': 4862, 'airplanes': 219, 'rejected': 7055, 'spike': 8171, 'conditioner': 1689, 'rainbow': 6813, 'sl': 7923, 'largely': 4793, 'ventilated': 9458, 'riser': 7333, 'imprecise': 4257, 'suggests': 8507, 'docsis': 2485, 'oil': 5874, 'galore': 3570, 'kayak': 4657, 'meetings': 5293, 'cabin': 1146, 'extract': 3076, 'ch': 1323, 'coincidence': 1554, 'excel': 2965, 'minecraft': 5395, 'brush': 1046, 'painless': 6083, 'german': 3631, 'sunpak': 8523, 'phillips': 6261, 'expectancy': 3017, 'warrantee': 9616, 'fiddling': 3208, 'squeezebox': 8226, 'leaning': 4846, 'mpbs': 5556, 'unmount': 9292, 'hardcore': 3878, 'teal': 8699, 'ho': 4053, 'relevant': 7070, 'specify': 8148, 'captures': 1225, 'sizing': 7901, 'calibrating': 1166, 'tcl': 8690, 'complains': 1643, 'squeak': 8220, 'va': 9417, 'exploded': 3045, 'instructed': 4417, 'gw': 3822, 'shops': 7792, 'uncommon': 9234, 'trickle': 9092, 'hungry': 4160, 'pita': 6322, 'monocular': 5502, 'thump': 8870, 'enables': 2799, 'momentary': 5490, 'icons': 4185, 'ot': 5979, 'goods': 3710, 'bloated': 860, 'dsp': 2618, 'cabling': 1152, 'assurance': 506, 'astounding': 509, 'implement': 4245, 'grandchildren': 3742, 'possibility': 6479, 'luxury': 5099, 'asrock': 485, 'retailer': 7248, 'sine': 7877, 'polarizer': 6428, 'fires': 3268, 'textured': 8781, 'junction': 4642, 'asin': 476, 'entrance': 2859, 'hallway': 3841, 'purple': 6737, 'unuseable': 9332, 'iso': 4541, 'speaks': 8135, 'compactness': 1610, 'preset': 6550, 'usm': 9399, 'typist': 9190, 'cousin': 1884, 'facebook': 3092, 'join': 4614, 'pivots': 6329, 'cropping': 1957, 'dislodged': 2420, 'simplest': 7867, 'modular': 5475, 'jiggling': 4601, 'plastics': 6358, 'neighbor': 5660, 'darned': 2059, 'neighbors': 5662, 'uploads': 9357, 'cancelled': 1199, 'visiting': 9525, 'boosted': 922, 'acknowledged': 70, 'microusb': 5367, 'activating': 87, 'group': 3789, 'injector': 4371, 'jeans': 4591, 'tester': 8771, 'timers': 8909, 'employees': 2793, 'slipped': 7957, 'shook': 7783, 'satin': 7486, 'spindle': 8177, 'itouch': 4558, 'loyal': 5080, 'elevated': 2761, 'intermediate': 4467, 'teach': 8696, 'obstructed': 5822, 'stopper': 8350, 'reacts': 6869, 'succeeded': 8481, 'undamaged': 9236, 'macintosh': 5110, 'snuff': 8024, 'unfinished': 9256, 'slowest': 7969, 'todays': 8940, 'nonstop': 5738, 'solo': 8055, 'existant': 3001, 'answering': 348, 'improperly': 4265, 'drift': 2582, 'clueless': 1521, 'cast': 1264, 'disappearing': 2363, 'describing': 2213, 'private': 6591, 'zen': 9975, 'fulfilled': 3524, 'role': 7365, 'misaligned': 5421, 'hde': 3926, 'mee': 5290, 'audi': 552, 'holidays': 4066, 'laughable': 4815, 'haf': 3834, 'rice': 7304, 'dealbreaker': 2089, 'confirming': 1713, 'instability': 4404, 'guaranteed': 3800, 'beyerdynamic': 786, 'impedance': 4243, 'procedures': 6601, 'rocketfish': 7355, 'thier': 8821, 'dl': 2470, 'stealth': 8305, 'heft': 3974, 'horrid': 4105, 'fist': 3283, 'voila': 9548, 'productivity': 6618, 'elph': 2771, 'delays': 2167, 'remembers': 7097, 'established': 2909, 'hunk': 4161, 'dropcam': 2601, 'deceptive': 2110, 'upfront': 9349, 'standpoint': 8269, 'speech': 8155, 'broad': 1029, 'killing': 4699, 'banks': 663, 'theatre': 8795, 'rattles': 6847, 'inspected': 4399, 'persisted': 6243, 'unboxing': 9230, 'element': 2758, 'bumper': 1097, 'clarify': 1455, 'bough': 954, 'determining': 2259, 'owns': 6057, 'flies': 3337, 'clamped': 1451, 'flew': 3327, 'trusty': 9128, 'unattended': 9220, 'shaking': 7725, 'bundles': 1105, 'detectors': 2253, 'crapped': 1922, 'cobra': 1541, 'jaybirds': 4587, 'layers': 4825, 'tft': 8783, 'inexcusable': 4344, 'bothering': 947, 'hinges': 4036, 'costco': 1855, 'whichever': 9716, 'develops': 2269, 'tuck': 9140, 'diagnostics': 2278, 'scientific': 7534, 'metropolitan': 5347, 'itrip': 4559, 'discontinued': 2395, 'int': 4429, 'crossing': 1962, 'arthritis': 460, 'defected': 2140, 'reconnects': 6955, 'heats': 3964, 'respected': 7212, 'speedlight': 8158, 'apertures': 379, 'classroom': 1464, 'splash': 8182, 'retracting': 7261, 'disliked': 2418, 'justified': 4650, 'peeve': 6199, 'codecs': 1545, 'aac': 2, 'momentum': 5492, 'magenta': 5124, 'argue': 435, 'num': 5795, 'lt': 5085, 'seating': 7598, 'dab': 2031, 'central': 1311, 'stiffness': 8330, 'rap': 6830, 'hyper': 4178, 'replugging': 7151, 'toddler': 8941, 'pets': 6252, 'branches': 987, 'deer': 2131, 'exceeds': 2964, 'crummy': 1974, 'airline': 217, 'rise': 7332, 'standoffs': 8268, 'ventilation': 9459, 'quantity': 6769, 'enemy': 2819, 'squeal': 8223, 'upcoming': 9343, 'processes': 6606, 'accessibility': 37, 'slowness': 7972, 'ensures': 2847, 'recovering': 6968, 'ext': 3059, 'lte': 5086, 'blogs': 868, 'industrial': 4339, 'binocular': 813, 'pix': 6330, 'profit': 6627, 'margin': 5201, 'flaking': 3304, 'prize': 6592, 'notebooks': 5755, 'pinching': 6307, 'slowed': 7967, 'issued': 4549, 'permission': 6239, 'aggressive': 195, 'pronged': 6661, 'muddled': 5570, 'technica': 8706, 'malware': 5167, 'antivirus': 361, 'markings': 5214, 'spool': 8195, 'painting': 6087, 'bait': 644, 'smartthings': 7987, 'cracking': 1904, 'rush': 7437, 'behringer': 751, 'gizmo': 3662, 'converters': 1804, 'tracked': 9011, 'raises': 6818, 'deterrent': 2260, 'transit': 9042, 'platforms': 6364, 'lifeproof': 4920, 'diminished': 2319, 'bowl': 965, 'gears': 3603, 'scuffed': 7571, 'travelling': 9070, 'cellphones': 1302, 'consume': 1755, 'mirrors': 5419, 'humid': 4153, 'cramps': 1916, 'nuisance': 5793, 'scans': 7520, 'comparisons': 1623, 'artic': 461, 'dropbox': 2600, 'parties': 6136, 'revert': 7281, 'titan': 8928, 'qam': 6758, 'adhere': 121, 'smudged': 8006, 'shouldnt': 7814, 'clad': 1444, 'cca': 1290, 'gr': 3730, 'onto': 5903, 'hbo': 3919, 'coasters': 1535, 'widget': 9741, 'seats': 7599, 'sixth': 7897, 'clack': 1443, 'digitizer': 2313, 'belong': 760, 'ribbon': 7303, 'mechanics': 5280, 'varied': 9435, 'photive': 6266, 'kickstand': 4692, 'encased': 2801, 'loosening': 5039, 'redo': 6981, 'fuller': 3527, 'garden': 3585, 'mere': 5324, 'ny': 5809, 'cigar': 1424, 'raising': 6819, 'column': 1574, 'outfit': 6000, 'yours': 9963, 'flashy': 3317, 'equals': 2878, 'adjustability': 125, 'mega': 5296, 'spite': 8181, 'mycloud': 5594, 'huh': 4149, 'thingy': 8826, 'mood': 5509, 'breakers': 1002, 'disclose': 2384, 'stumbled': 8434, 'assigning': 495, 'healthy': 3953, 'truth': 9129, 'splitting': 8189, 'accord': 55, 'audioquest': 561, 'dragonfly': 2555, 'amount': 296, 'deleted': 2169, 'ignoring': 4212, 'cloned': 1501, 'declined': 2118, 'stems': 8313, 'tamrac': 8661, 'syba': 8616, 'pfsense': 6253, 'stoped': 8348, 'leftover': 4867, 'scanning': 7519, 'simplicity': 7868, 'migrate': 5377, 'surges': 8560, 'golden': 3701, 'restaurants': 7232, 'cutter': 2017, 'leveling': 4900, 'brushes': 1048, 'loving': 5070, 'cloning': 1503, 'retrospect': 7265, 'scissors': 7535, 'hacking': 3830, 'accepting': 33, 'poorest': 6446, 'stabilized': 8248, 'boo': 912, 'enabling': 2800, 'workhorse': 9841, 'commute': 1605, 'adaptors': 105, 'mouses': 5541, 'suv': 8584, 'fitment': 3286, 'cad': 1154, 'alittle': 246, 'shelves': 7756, 'nephew': 5667, 'mainboard': 5145, 'magnifier': 5136, 'shady': 7721, 'knowledge': 4731, 'apples': 393, 'fotodiox': 3449, 'lm': 4994, 'highways': 4024, 'nav': 5626, 'grounded': 3787, 'ue': 9196, 'survey': 8572, 'sexy': 7711, 'cl': 1442, 'lab': 4746, 'tucked': 9141, 'hoops': 4089, 'samsungs': 7469, 'panoramic': 6107, 'goofy': 3712, 'conscious': 1735, 'bic': 794, 'acquire': 73, 'struggles': 8419, 'defined': 2149, 'soda': 8036, 'maintains': 5152, 'erratically': 2893, 'anticipate': 357, 'reccomend': 6910, 'elaborate': 2745, 'roller': 7368, 'biking': 802, 'camcorders': 1182, 'sanyo': 7478, 'jl': 4605, 'blueray': 880, 'ours': 5991, 'sentences': 7664, 'alleviate': 251, 'tolerances': 8949, 'chipping': 1398, 'sharpie': 7741, 'gate': 3591, 'gasket': 3590, 'rusted': 7440, 'concrete': 1686, 'represented': 7161, 'visibility': 9519, 'sigh': 7843, 'deliberately': 2172, 'arc': 422, 'obtrusive': 5828, 'bluerigger': 881, 'dialogue': 2285, 'belongs': 761, 'arises': 437, 'overwhelmed': 6048, 'freedom': 3476, 'measures': 5276, 'lineup': 4958, 'gpt': 3727, 'irritation': 4535, 'administrator': 134, 'mercedes': 5321, 'blues': 882, 'jostled': 4619, 'devise': 2273, 'understood': 9244, 'birding': 818, 'premature': 6532, 'alphabetical': 264, 'gary': 3588, 'fong': 3395, 'diffusers': 2307, 'awg': 605, 'modifications': 5469, 'values': 9428, 'genuinely': 3629, 'powerhouse': 6499, 'playable': 6369, 'fiddled': 3207, 'disables': 2354, 'mag': 5120, 'blackout': 832, 'jpg': 4626, 'approx': 411, 'watchable': 9638, 'plasticky': 6357, 'firetv': 3270, 'audacity': 551, 'vacuum': 9421, 'bloatware': 861, 'optimum': 5943, 'earpods': 2684, 'winxp': 9777, 'ditch': 2460, 'conflict': 1714, 'notches': 5752, 'plunge': 6400, 'zmodo': 9986, 'ferrite': 3198, 'delighted': 2175, 'unavailable': 9221, 'imported': 4254, 'bogus': 901, 'satisfy': 7491, 'article': 462, 'community': 1604, 'vibrant': 9488, 'coils': 1552, 'melting': 5303, 'yup': 9969, 'asleep': 481, 'norm': 5742, 'respects': 7215, 'coolest': 1818, 'millimeter': 5386, 'shortened': 7800, 'situated': 7893, 'hitachi': 4046, 'tears': 8703, 'risky': 7336, 'knowledgeable': 4732, 'calculations': 1161, 'crackles': 1906, 'unobtrusive': 9298, 'accommodates': 48, 'usd': 9386, 'explored': 3047, 'eligible': 2764, 'pending': 6206, 'easel': 2689, 'thrive': 8856, 'portfolio': 6463, 'antiquated': 360, 'bottleneck': 951, 'bulge': 1085, 'acquired': 74, 'cellular': 1304, 'routine': 7400, 'vivo': 9534, 'loudest': 5060, 'xtreme': 9922, 'ni': 5694, 'hides': 4012, 'headunit': 3951, 'wth': 9896, 'customization': 2009, 'linear': 4954, 'profiles': 6626, 'vender': 9452, 'nuc': 5790, 'spaced': 8115, 'dialed': 2283, 'almond': 257, 'imply': 4249, 'wavy': 9649, 'unglued': 9261, 'decorative': 2120, 'whistler': 9725, 'ul': 9206, 'struck': 8414, 'bassy': 687, 'clothes': 1514, 'compass': 1626, 'conserve': 1738, 'cp': 1897, 'cec': 1296, 'unhelpful': 9263, 'mbr': 5259, 'smc': 7991, 'photographic': 6271, 'rechargeables': 6928, 'poster': 6485, 'breakdown': 1000, 'investigation': 4498, 'revealed': 7275, 'xfx': 9906, 'freesync': 3478, 'chalk': 1327, 'cook': 1811, 'inspecting': 4400, 'characters': 1347, 'educational': 2716, 'wr': 9871, 'danger': 2048, 'blinks': 858, 'ath': 517, 'earpads': 2678, 'begun': 745, 'ranging': 6827, 'unclear': 9231, 'tiles': 8898, 'tank': 8668, 'excellently': 2969, 'responsiveness': 7225, 'jambox': 4573, 'arriving': 456, 'reordered': 7124, 'growing': 3792, 'droop': 2598, 'swinging': 8601, 'binos': 815, 'bull': 1090, 'headline': 3944, 'imperfections': 4244, 'tg': 8784, 'tr': 9006, 'er': 2882, 'richer': 7306, 'kd': 4661, 'marketplace': 5212, 'sparse': 8128, 'eight': 2738, 'aio': 213, 'lays': 4828, 'relies': 7076, 'ergo': 2888, 'pcb': 6182, 'trays': 9073, 'slack': 7924, 'prevented': 6562, 'cinema': 1427, 'reloading': 7080, 'rebuild': 6906, 'highlight': 4019, 'effectiveness': 2723, 'radiator': 6802, 'muy': 5590, 'genie': 3622, 'subaru': 8454, 'usefulness': 9392, 'gluing': 3686, 'fooled': 3400, 'plating': 6365, 'unwatchable': 9337, 'novel': 5774, 'harm': 3889, 'jpegs': 4625, 'minolta': 5405, 'megapixels': 5298, 'wins': 9774, 'blurred': 887, 'legacy': 4869, 'barley': 669, 'whip': 9722, 'yields': 9949, 'mat': 5226, 'duracell': 2644, 'quantum': 6770, 'imagination': 4228, 'dusty': 2649, 'envy': 2865, 'casting': 1265, 'floats': 3348, 'aw': 596, 'creases': 1933, 'iomega': 4510, 'republic': 7167, 'nobody': 5724, 'audiobook': 557, 'lecture': 4861, 'equally': 2877, 'drobo': 2595, 'initiate': 4369, 'macos': 5111, 'java': 4582, 'launched': 4817, 'inspect': 4398, 'callers': 1173, 'unbiased': 9228, 'kiss': 4713, 'gooseneck': 3717, 'crane': 1917, 'bell': 758, 'operator': 5924, 'collector': 1564, 'clamshell': 1454, 'kaito': 4654, 'vintage': 9513, 'audience': 554, 'corroded': 1846, 'tolerate': 8950, 'responses': 7221, 'decoder': 2119, 'laugh': 4814, 'glorified': 3676, 'mr': 5561, 'gamble': 3571, 'worker': 9838, 'prying': 6704, 'butter': 1125, 'musician': 5585, 'nabi': 5601, 'stripe': 8402, 'fallout': 3125, 'vegas': 9446, 'syncs': 8626, 'jaw': 4583, 'mba': 5255, 'intellimouse': 4440, 'registers': 7035, 'scheduled': 7530, 'discharged': 2380, 'crafted': 1911, 'ultrabook': 9210, 'xoom': 9914, 'hifiman': 4015, 'iem': 4203, 'moda': 5456, 'attracted': 544, 'trs': 9118, 'effortless': 2729, 'notably': 5750, 'involving': 4506, 'presents': 6548, 'cling': 1491, 'tweaks': 9168, 'vote': 9558, 'approach': 406, 'ohms': 5873, 'dynamics': 2662, 'musical': 5584, 'fidelity': 3210, 'warmed': 9603, 'accents': 29, 'wary': 9622, 'qos': 6763, 'inspire': 4402, 'wrtg': 9891, 'playstation': 6379, 'misrepresented': 5430, 'mysteriously': 5598, 'sectors': 7611, 'nub': 5789, 'mapped': 5193, 'pwm': 6753, 'mate': 5231, 'thief': 8820, 'fringing': 3502, 'shooter': 7785, 'decrease': 2121, 'atlanta': 520, 'nb': 5633, 'capitan': 1219, 'perceived': 6215, 'ant': 350, 'classes': 1461, 'reflections': 7005, 'reservation': 7187, 'density': 2191, 'tiring': 8926, 'rude': 7421, 'crumbs': 1973, 'esc': 2898, 'terabyte': 8757, 'chirp': 1402, 'remembering': 7096, 'stickiness': 8324, 'overrated': 6042, 'postage': 6483, 'insurance': 4427, 'leaked': 4842, 'tricks': 9093, 'strongest': 8412, 'staring': 8274, 'zenpad': 9977, 'peeled': 6196, 'whisper': 9723, 'nimh': 5715, 'origin': 5970, 'searches': 7592, 'stabilizers': 8250, 'discernible': 2378, 'epoxy': 2871, 'render': 7113, 'notification': 5767, 'arlo': 438, 'smarthub': 7984, 'crosse': 1959, 'unibody': 9264, 'acted': 79, 'pac': 6060, 'minimally': 5401, 'programmer': 6633, 'cheapie': 1365, 'printable': 6581, 'nagging': 5603, 'ftp': 3519, 'reolink': 7122, 'storm': 8359, 'theoretically': 8804, 'smh': 7996, 'salt': 7463, 'tonal': 8957, 'readings': 6876, 'perception': 6218, 'assistant': 499, 'developer': 2265, 'eager': 2667, 'credentials': 1939, 'computing': 1673, 'rename': 7111, 'upnp': 9358, 'quietly': 6786, 'nudge': 5791, 'racing': 6798, 'commuter': 1606, 'overpowering': 6040, 'boosts': 925, 'crosstalk': 1964, 'zipped': 9981, 'grandma': 3745, 'linking': 4962, 'radar': 6800, 'arch': 424, 'challenges': 1330, 'seemingly': 7624, 'meg': 5295, 'flowing': 3360, 'grinding': 3773, 'cli': 1480, 'aforementioned': 177, 'thoughtful': 8844, 'repeats': 7137, 'muffle': 5572, 'guards': 3803, 'waves': 9648, 'eco': 2701, 'assessment': 491, 'outrageous': 6010, 'commuting': 1607, 'disconnection': 2393, 'sma': 7977, 'japanese': 4580, 'behave': 746, 'melt': 5301, 'para': 6117, 'su': 8452, 'calidad': 1168, 'macpro': 5112, 'scrape': 7543, 'purchaser': 6731, 'magellan': 5123, 'divx': 2466, 'avi': 589, 'river': 7338, 'smudges': 8007, 'vtech': 9566, 'condensation': 1687, 'wonky': 9822, 'peak': 6191, 'psp': 6707, 'ol': 5879, 'shaft': 7722, 'consumption': 1759, 'shortcut': 7796, 'espn': 2903, 'vm': 9540, 'assumption': 505, 'purchasers': 6732, 'marble': 5199, 'reapply': 6891, 'transformers': 9040, 'diffusion': 2308, 'tinted': 8918, 'drained': 2558, 'orico': 5964, 'uefi': 9197, 'hauling': 3906, 'east': 2693, 'bread': 996, 'jumper': 4637, 'wpa': 9869, 'unwieldy': 9338, 'vi': 9484, 'helper': 3983, 'recourse': 6965, 'delight': 2174, 'sa': 7444, 'ne': 5637, 'terk': 8758, 'eero': 2718, 'promotion': 6653, 'tri': 9087, 'quote': 6793, 'changer': 1338, 'tidy': 8881, 'reconfigure': 6951, 'notorious': 5772, 'fluorescent': 3364, 'freshly': 3492, 'illegal': 4217, 'bravo': 994, 'bumpy': 1101, 'tempered': 8743, 'polish': 6436, 'dims': 2328, 'styles': 8445, 'define': 2148, 'characteristics': 1346, 'featured': 3176, 'approaching': 407, 'soccer': 8031, 'fields': 3212, 'ws': 9893, 'coated': 1537, 'insecure': 4386, 'roocase': 7372, 'bridges': 1014, 'legit': 4873, 'mature': 5243, 'insisted': 4397, 'aesthetics': 167, 'rokinon': 7363, 'duplicate': 2640, 'duplicates': 2641, 'convoluted': 1810, 'forgets': 3423, 'reconditioned': 6950, 'exhibit': 2997, 'goja': 3699, 'zeiss': 9974, 'proud': 6689, 'idling': 4201, 'handsfree': 3859, 'paused': 6171, 'isolator': 4546, 'urge': 9377, 'thumbnails': 8868, 'latter': 4813, 'unfair': 9254, 'lady': 4761, 'enhanced': 2833, 'upping': 9361, 'acting': 80, 'newegg': 5685, 'emailing': 2777, 'represent': 7159, 'coded': 1546, 'coding': 1548, 'softness': 8043, 'clamping': 1452, 'spotlight': 8203, 'firstly': 3279, 'pvc': 6750, 'observation': 5818, 'spill': 8173, 'homerun': 4072, 'prompts': 6658, 'nit': 5719, 'halo': 3842, 'nightstand': 5710, 'lightscribe': 4937, 'tvl': 9161, 'fasten': 3147, 'temperamental': 8740, 'sliders': 7944, 'chromebooks': 1418, 'havent': 3910, 'yield': 9947, 'wars': 9620, 'reformatting': 7012, 'cargo': 1241, 'untill': 9330, 'unsatisfied': 9318, 'launcher': 4818, 'exchanging': 2980, 'proves': 6693, 'unlocking': 9290, 'xxx': 9924, 'sli': 7938, 'misplace': 5428, 'restaurant': 7231, 'threshold': 8853, 'bn': 892, 'context': 1772, 'qnap': 6762, 'hhd': 4002, 'chase': 1358, 'adorama': 142, 'fuze': 3554, 'scrapes': 7544, 'laundry': 4819, 'brightly': 1021, 'symbols': 8619, 'insight': 4394, 'disgusting': 2410, 'cart': 1252, 'pausing': 6173, 'logs': 5022, 'myriad': 5596, 'driven': 2588, 'discard': 2375, 'businesses': 1119, 'hill': 4029, 'kuzy': 4743, 'screenshots': 7558, 'blood': 869, 'propped': 6671, 'haywire': 3914, 'parent': 6122, 'judgement': 4630, 'dislikes': 2419, 'tangles': 8666, 'astrophotography': 512, 'obtained': 5826, 'marine': 5204, 'anomaly': 344, 'yahoo': 9927, 'vanguard': 9430, 'admitted': 137, 'mf': 5349, 'sofa': 8037, 'utilized': 9409, 'fiddly': 3209, 'adjuster': 128, 'cyberlink': 2022, 'ineffective': 4341, 'evoluent': 2953, 'powerpoint': 6502, 'bdp': 705, 'pill': 6301, 'shortwave': 7806, 'hesh': 3994, 'logos': 5021, 'anticipation': 359, 'transitions': 9044, 'fry': 3515, 'cheated': 1370, 'momentarily': 5489, 'youll': 9959, 'segments': 7629, 'remarkable': 7090, 'unnatural': 9293, 'realistically': 6883, 'distribute': 2454, 'distributed': 2455, 'duct': 2625, 'collect': 1561, 'acrylic': 77, 'utilitarian': 9405, 'binding': 809, 'amped': 299, 'recycling': 6975, 'carpeted': 1245, 'mon': 5494, 'tz': 9191, 'boombox': 918, 'charter': 1356, 'announced': 333, 'assured': 508, 'backpacking': 629, 'slit': 7961, 'tn': 8935, 'hu': 4142, 'garbled': 3584, 'symphonized': 8620, 'knocking': 4725, 'scattered': 7524, 'zotac': 9994, 'nand': 5611, 'xsi': 9919, 'diskstation': 2416, 'wit': 9794, 'rides': 7309, 'elevation': 2762, 'hills': 4030, 'tables': 8635, 'grasp': 3752, 'chew': 1384, 'lr': 5083, 'wing': 9770, 'eforcity': 2732, 'preserve': 6549, 'allot': 252, 'undoubtedly': 9250, 'iphoto': 4520, 'faced': 3093, 'cintiq': 1428, 'eagle': 2668, 'guru': 3818, 'rigs': 7321, 'crossfire': 1961, 'pedestal': 6194, 'fusion': 3549, 'replies': 7149, 'memo': 5309, 'proofing': 6665, 'oc': 5831, 'jensen': 4594, 'swing': 8600, 'listings': 4979, 'erased': 2885, 'shortest': 7802, 'pavilion': 6174, 'preinstalled': 6530, 'tended': 8751, 'stole': 8343, 'fulfills': 3525, 'measuring': 5277, 'spectre': 8153, 'pu': 6712, 'goo': 3705, 'handycam': 3864, 'elevate': 2760, 'development': 2268, 'piercing': 6297, 'vdc': 9444, 'presume': 6558, 'atheros': 518, 'defiantly': 2145, 'facetime': 3096, 'initiated': 4370, 'rank': 6828, 'flood': 3349, 'likewise': 4943, 'circuitry': 1433, 'interaction': 4452, 'branding': 990, 'wipes': 9780, 'diagonal': 2279, 'interrupt': 4475, 'siren': 7883, 'splicing': 8184, 'stretching': 8394, 'hong': 4079, 'kong': 4738, 'mint': 5408, 'swiveling': 8612, 'employee': 2792, 'examine': 2958, 'skinomi': 7911, 'wednesday': 9679, 'dipole': 2337, 'fcc': 3169, 'presets': 6551, 'deluxe': 2182, 'limiter': 4950, 'attack': 533, 'satisfaction': 7487, 'mast': 5224, 'goggles': 3697, 'suffered': 8496, 'preamp': 6515, 'interferes': 4464, 'charts': 1357, 'bricks': 1011, 'mortar': 5515, 'wildlife': 9754, 'eve': 2929, 'mailbox': 5140, 'twists': 9178, 'redesigned': 6979, 'criteria': 1951, 'recharges': 6931, 'modifying': 5473, 'screams': 7553, 'sole': 8051, 'talks': 8657, 'appropriately': 409, 'dip': 2336, 'translated': 9046, 'expertise': 3034, 'remarkably': 7091, 'kitkat': 4716, 'dts': 2620, 'dishes': 2412, 'brake': 985, 'canons': 1206, 'rant': 6829, 'gloss': 3677, 'punched': 6725, 'poke': 6423, 'domain': 2503, 'dense': 2190, 'downright': 2538, 'inevitably': 4343, 'smear': 7992, 'vacations': 9420, 'simulated': 7872, 'verification': 9465, 'millimeters': 5387, 'mpeg': 5557, 'facility': 3097, 'dismal': 2421, 'settling': 7701, 'ounces': 5989, 'describe': 2210, 'wiggled': 9749, 'moreover': 5513, 'ringing': 7325, 'shooters': 7786, 'promote': 6651, 'ballhead': 650, 'progressively': 6637, 'metering': 5340, 'demo': 2186, 'blurring': 888, 'desperate': 2234, 'pennies': 6207, 'phoenix': 6262, 'lottery': 5057, 'coolermaster': 1816, 'mitsubishi': 5440, 'battle': 696, 'audigy': 555, 'mazda': 5253, 'amcrest': 292, 'adage': 99, 'radiators': 6803, 'designated': 2221, 'upto': 9371, 'fixture': 3299, 'dubious': 2623, 'usps': 9401, 'mower': 5553, 'traveler': 9068, 'uk': 9205, 'earcups': 2672, 'trusting': 9126, 'lovers': 5068, 'optimize': 5941, 'intelligent': 4439, 'centers': 1310, 'panorama': 6106, 'challenged': 1329, 'slap': 7927, 'tascam': 8680, 'therefor': 8808, 'recharger': 6930, 'celeron': 1298, 'toaster': 8938, 'soundlink': 8104, 'mdf': 5263, 'dampening': 2043, 'pumps': 6722, 'spanish': 8123, 'mold': 5483, 'spine': 8178, 'risking': 7335, 'sturdiness': 8439, 'snag': 8008, 'disassemble': 2371, 'spacebar': 8114, 'whenever': 9711, 'voltages': 9553, 'shoes': 7782, 'headers': 3941, 'leap': 4848, 'develop': 2263, 'md': 5262, 'aged': 189, 'warmth': 9605, 'frosted': 3507, 'maxell': 5248, 'remedied': 7092, 'caring': 1242, 'slingbox': 7955, 'skinny': 7910, 'vid': 9495, 'browsers': 1044, 'unintuitive': 9276, 'kindly': 4705, 'afterthought': 183, 'mud': 5569, 'smudge': 8005, 'este': 2911, 'una': 9215, 'que': 6773, 'rage': 6808, 'hw': 4172, 'drm': 2594, 'chime': 1391, 'skybell': 7920, 'resistor': 7199, 'whereas': 9713, 'voicemail': 9545, 'survivor': 8575, 'sprint': 8214, 'refinement': 7000, 'stray': 8376, 'vibe': 9487, 'wine': 9768, 'snagged': 8009, 'cmos': 1528, 'tubing': 9139, 'unbalanced': 9223, 'webpages': 9673, 'soooo': 8085, 'energizer': 2820, 'infuriating': 4362, 'fundamental': 3539, 'screwdrivers': 7561, 'preferably': 6525, 'hose': 4111, 'sharpest': 7740, 'thou': 8841, 'arounds': 446, 'acu': 97, 'indistinguishable': 4334, 'broadcom': 1034, 'sooo': 8084, 'increases': 4313, 'pancake': 6099, 'dusk': 2647, 'bluedio': 879, 'gather': 3593, 'sheath': 7747, 'revolution': 7295, 'excelent': 2966, 'rebuilt': 6907, 'circa': 1429, 'forgiving': 3426, 'vocal': 9542, 'chin': 1392, 'inc': 4284, 'pigtail': 6299, 'thee': 8796, 'toolbox': 8965, 'obstruction': 5823, 'heating': 3963, 'weaknesses': 9662, 'registry': 7037, 'visio': 9522, 'marware': 5219, 'mousepad': 5540, 'wifes': 9746, 'woven': 9867, 'platter': 6367, 'camp': 1186, 'xb': 9900, 'mandatory': 5176, 'vengeance': 9455, 'amzn': 309, 'unscrewed': 9320, 'heated': 3961, 'rm': 7341, 'sloppy': 7963, 'generating': 3616, 'introduces': 4485, 'interestingly': 4458, 'anc': 315, 'synthetic': 8629, 'habits': 3827, 'latches': 4805, 'dpi': 2549, 'border': 932, 'insulated': 4424, 'wintv': 9776, 'dimly': 2321, 'wizards': 9803, 'freakin': 3472, 'tightens': 8892, 'speedlights': 8159, 'wink': 9772, 'blurays': 886, 'dimmable': 2323, 'inclusion': 4298, 'confuse': 1719, 'informative': 4357, 'obtaining': 5827, 'hibernate': 4004, 'arca': 423, 'shed': 7749, 'relocate': 7081, 'screeching': 7554, 'directories': 2346, 'immensely': 4236, 'polarizing': 6429, 'breadboard': 997, 'expects': 3022, 'puzzle': 6749, 'eyesight': 3087, 'prematurely': 6533, 'freight': 3484, 'jumps': 4640, 'outperforms': 6006, 'colorado': 1568, 'upscaling': 9365, 'lord': 5045, 'courtesy': 1883, 'props': 6674, 'club': 1519, 'partitioned': 6138, 'annoyances': 338, 'alkaline': 248, 'impeccable': 4242, 'excelente': 2967, 'overtime': 6047, 'cas': 1255, 'wt': 9894, 'stiffer': 8329, 'designers': 2224, 'yaesu': 9926, 'mountable': 5533, 'wirecutter': 9783, 'reinforcement': 7048, 'eg': 2733, 'hats': 3904, 'sh': 7714, 'discussed': 2407, 'blackmagic': 831, 'flowers': 3359, 'pasted': 6158, 'ladder': 4760, 'suffering': 8497, 'automation': 575, 'wimpy': 9758, 'coolers': 1817, 'abroad': 13, 'weary': 9666, 'sg': 7713, 'unopened': 9299, 'practices': 6511, 'fraud': 3467, 'hid': 4008, 'silverado': 7860, 'zosi': 9993, 'triangular': 9090, 'hosa': 4110, 'capacitors': 1216, 'blanks': 841, 'ouch': 5987, 'yanking': 9931, 'recorders': 6961, 'fridge': 3495, 'ppl': 6506, 'peg': 6200, 'smarter': 7983, 'bond': 908, 'gem': 3609, 'builder': 1078, 'conferencing': 1699, 'neon': 5665, 'letdown': 4893, 'science': 7533, 'coaster': 1534, 'throughout': 8859, 'dbm': 2078, 'yurbuds': 9970, 'french': 3485, 'rendition': 7117, 'accent': 28, 'proving': 6700, 'dragged': 2552, 'distortions': 2449, 'listenable': 4973, 'onvif': 5904, 'exposing': 3053, 'fanless': 3135, 'et': 2914, 'analysis': 313, 'deployed': 2203, 'curves': 2000, 'grounding': 3788, 'identification': 4194, 'sunshine': 8525, 'oneplus': 5895, 'wax': 9650, 'sj': 7902, 'cfm': 1321, 'warns': 9611, 'wedge': 9678, 'encoding': 2805, 'triggering': 9099, 'assignment': 496, 'drags': 2556, 'bingo': 811, 'spdif': 8129, 'analogue': 312, 'adsl': 145, 'latching': 4806, 'bnc': 893, 'hv': 4171, 'thankful': 8788, 'pluged': 6394, 'rockbox': 7352, 'atv': 549, 'spam': 8121, 'connecter': 1726, 'dried': 2581, 'devil': 2272, 'reattach': 6899, 'aptx': 418, 'managing': 5175, 'utilizes': 9410, 'clasps': 1459, 'daisy': 2035, 'chained': 1325, 'dosen': 2516, 'grabs': 3734, 'irulu': 4536, 'stash': 8284, 'pixelation': 6333, 'las': 4796, 'bth': 1053, 'bamboo': 653, 'unobstructed': 9297, 'merlin': 5326, 'tw': 9163, 'tradeoff': 9019, 'lease': 4853, 'developing': 2267, 'forming': 3436, 'occurring': 5840, 'coloring': 1571, 'reuse': 7272, 'vortex': 9557, 'jbuds': 4590, 'exhausted': 2996, 'introduce': 4483, 'secures': 7615, 'nix': 5720, 'stepping': 8316, 'swann': 8588, 'independent': 4321, 'surrounded': 8567, 'crude': 1971, 'bb': 702, 'signed': 7850, 'annoys': 342, 'cautious': 1282, 'camry': 1189, 'subnet': 8462, 'improving': 4271, 'toxic': 8999, 'clam': 1449, 'reversible': 7279, 'snob': 8020, 'notices': 5765, 'exclusive': 2984, 'chipsets': 1401, 'inform': 4355, 'confirmation': 1711, 'fujitsu': 3522, 'snake': 8011, 'drink': 2586, 'dtv': 2621, 'cooking': 1812, 'hx': 4173, 'noticable': 5760, 'clockwise': 1499, 'bendable': 769, 'rules': 7428, 'foresee': 3418, 'tamper': 8660, 'cg': 1322, 'batts': 698, 'batt': 692, 'bulging': 1086, 'intrusive': 4486, 'women': 9814, 'possibilities': 6478, 'rested': 7233, 'coupon': 1879, 'apt': 417, 'megs': 5299, 'nt': 5785, 'regain': 7026, 'subtitles': 8474, 'breathing': 1007, 'protocol': 6685, 'malfunctions': 5165, 'shields': 7760, 'norton': 5746, 'insignia': 4395, 'straighten': 8364, 'numlock': 5800, 'shutoff': 7830, 'paperwork': 6115, 'refunds': 7019, 'tm': 8934, 'relay': 7064, 'grabbed': 3732, 'maestro': 5119, 'retains': 7254, 'specialist': 8138, 'punchy': 6727, 'articulate': 464, 'seek': 7620, 'carpal': 1243, 'wee': 9680, 'exfat': 2994, 'misc': 5422, 'teaching': 8698, 'homemade': 4071, 'nicest': 5701, 'ahci': 202, 'readjust': 6877, 'capital': 1218, 'dysfunctional': 2664, 'downtown': 2544, 'infant': 4347, 'tire': 8924, 'generator': 3619, 'exii': 2999, 'reformatted': 7011, 'inateck': 4282, 'mas': 5220, 'bueno': 1068, 'sagging': 7457, 'beg': 738, 'pose': 6470, 'zoomed': 9990, 'lessons': 4891, 'unacceptably': 9218, 'debated': 2096, 'ecosystem': 2704, 'wndr': 9807, 'brothers': 1039, 'bravia': 993, 'mating': 5236, 'director': 2345, 'collapsible': 1559, 'styling': 8447, 'dap': 2052, 'teac': 8695, 'shatter': 7743, 'subdued': 8455, 'mc': 5261, 'unlucky': 9291, 'radioshack': 6806, 'pains': 6084, 'shining': 7767, 'headlights': 3943, 'duration': 2645, 'awfully': 604, 'dandy': 2046, 'backplate': 631, 'resolving': 7205, 'cheapy': 1369, 'transfering': 9035, 'flatscreen': 3319, 'raving': 6851, 'superdrive': 8529, 'soundtouch': 8107, 'grommets': 3782, 'probe': 6596, 'persistent': 6244, 'promotional': 6654, 'intending': 4443, 'subsequent': 8467, 'cores': 1835, 'accomodate': 49, 'preferable': 6524, 'stuffed': 8432, 'hug': 4147, 'figures': 3219, 'ae': 164, 'tying': 9183, 'preparing': 6540, 'amber': 290, 'dude': 2627, 'bronze': 1037, 'manipulation': 5180, 'prefers': 6529, 'peels': 6198, 'pmx': 6404, 'conclusions': 1685, 'mission': 5435, 'pp': 6505, 'teleconverter': 8727, 'simplify': 7870, 'hotspot': 4117, 'downsides': 2541, 'telescopic': 8731, 'rewrite': 7297, 'dings': 2332, 'sleeved': 7936, 'smash': 7989, 'teacher': 8697, 'stocking': 8342, 'expands': 3014, 'pot': 6488, 'freezer': 3481, 'whopping': 9732, 'investments': 4501, 'matricom': 5237, 'genre': 3624, 'piano': 6282, 'org': 5958, 'labelled': 4750, 'pioneers': 6314, 'ignores': 4211, 'mimo': 5390, 'sewell': 7708, 'irritated': 4533, 'wrtn': 9892, 'strengths': 8388, 'fw': 3557, 'archer': 425, 'courteous': 1882, 'llc': 4993, 'zips': 9985, 'squeaks': 8221, 'hds': 3930, 'blazing': 845, 'arrows': 458, 'resides': 7194, 'sharkk': 7737, 'fussy': 3552, 'exciting': 2983, 'advertisements': 157, 'pony': 6441, 'inactive': 4277, 'leaps': 4849, 'bounds': 961, 'scanners': 7518, 'workstations': 9849, 'bg': 790, 'mirrored': 5416, 'piss': 6319, 'jitter': 4602, 'reversing': 7280, 'superbly': 8528, 'coordinates': 1822, 'succeed': 8480, 'azio': 613, 'phono': 6265, 'polarized': 6427, 'grandmother': 3746, 'upsetting': 9367, 'geeks': 3605, 'wishes': 9792, 'roamio': 7346, 'inaccessible': 4275, 'ripoff': 7328, 'theses': 8815, 'joined': 4615, 'cn': 1529, 'ingenious': 4364, 'boxing': 970, 'circulation': 1436, 'inreach': 4382, 'tripping': 9110, 'discussion': 2408, 'wmc': 9806, 'discovery': 2402, 'unanswered': 9219, 'technique': 8711, 'iops': 4512, 'jar': 4581, 'ticking': 8880, 'discoloration': 2386, 'amplify': 307, 'acase': 26, 'disappointments': 2369, 'reaction': 6868, 'traded': 9018, 'matx': 5244, 'alongside': 261, 'engenius': 2824, 'ing': 4363, 'documented': 2489, 'protrudes': 6687, 'goflex': 3696, 'relieve': 7077, 'externally': 3074, 'jelly': 4593, 'xx': 9923, 'poking': 6425, 'crying': 1978, 'relaxing': 7063, 'lagged': 4763, 'exits': 3008, 'lugging': 5092, 'australia': 565, 'jlab': 4606, 'toast': 8937, 'warranties': 9617, 'payment': 6178, 'yellowish': 9940, 'oly': 5885, 'optically': 5937, 'flopping': 3353, 'windscreen': 9765, 'clicker': 1483, 'mhl': 5353, 'millions': 5389, 'pounding': 6494, 'tethered': 8775, 'rope': 7380, 'conductive': 1693, 'flakey': 3303, 'fb': 3168, 'drown': 2607, 'shroud': 7825, 'js': 4628, 'otg': 5981, 'fo': 3370, 'si': 7836, 'damned': 2041, 'unifi': 9266, 'mu': 5567, 'hotshoe': 4116, 'correcting': 1841, 'runner': 7431, 'heel': 3973, 'discolored': 2387, 'tdk': 8692, 'sdd': 7575, 'bla': 828, 'gameplay': 3573, 'diffuse': 2305, 'lifecam': 4919, 'trent': 9086, 'suppressor': 8549, 'centurylink': 1314, 'tangling': 8667, 'dreadful': 2577, 'enters': 2853, 'desert': 2216, 'swiping': 8604, 'dissapointing': 2434, 'vx': 9570, 'era': 2883, 'flashlights': 3316, 'rivets': 7339, 'ix': 4566, 'dolica': 2499, 'snagless': 8010, 'nonfunctional': 5736, 'wild': 9753, 'harman': 3890, 'subjected': 8457, 'films': 3233, 'ampen': 300, 'seasonic': 7595, 'incorporate': 4307, 'passcode': 6146, 'newly': 5688, 'tweaked': 9166, 'intercom': 4454, 'enthusiast': 2855, 'telo': 8738, 'eyeglasses': 3083, 'muscle': 5581, 'proficient': 6624, 'elderly': 2748, 'smallish': 7981, 'climate': 1489, 'retained': 7251, 'icf': 4183, 'bing': 810, 'avermedia': 587, 'mechanisms': 5282, 'represents': 7162, 'bowed': 964, 'kayaking': 4658, 'smile': 7997, 'tissue': 8927, 'junky': 4645, 'lopsided': 5044, 'revive': 7294, 'uniform': 9267, 'widgets': 9742, 'mobility': 5452, 'poorer': 6445, 'luminance': 5095, 'yikes': 9950, 'chiclet': 1387, 'spends': 8167, 'cm_cr_ryp_prd_ttl_sol_': 1527, 'mfi': 5351, 'opener': 5912, 'incipio': 4292, 'lorex': 5046, 'minded': 5393, 'rigged': 7317, 'hurricane': 4164, 'marathon': 5198, 'exceedingly': 2963, 'jagged': 4571, 'markers': 5208, 'cartridges': 1254, 'against': 187, 'evernote': 2937, 'technologically': 8713, 'insist': 4396, 'issuing': 4551, 'xperia': 9916, 'aukey': 564, 'niche': 5702, 'paul': 6169, 'outward': 6016, 'ka': 4653, 'atom': 523, 'squeaky': 8222, 'xgb': 9907, 'fins': 3260, 'dining': 2333, 'island': 4539, 'thinnest': 8832, 'bayonet': 700, 'polishing': 6438, 'fakes': 3121, 'rearrange': 6893, 'endlessly': 2815, 'infrequently': 4361, 'taxes': 8687, 'nokia': 5731, 'marshmallow': 5216, 'nec': 5644, 'algorithm': 238, 'contraption': 1784, 'wal': 9579, 'mart': 5217, 'runtime': 7435, 'pliable': 6390, 'nap': 5613, 'anxious': 362, 'untangle': 9328, 'tour': 8993, 'gm': 3687, 'outperform': 6005, 'borderline': 933, 'deteriorate': 2255, 'glows': 3683, 'simultaneous': 7873, 'waypoints': 9652, 'ct': 1984, 'airports': 222, 'incorporated': 4308, 'suspended': 8579, 'atmos': 522, 'chatting': 1361, 'licensed': 4913, 'lx': 5100, 'cave': 1283, 'casecrown': 1257, 'tinker': 8914, 'nuff': 5792, 'capsule': 1221, 'bl': 827, 'flickr': 3336, 'ache': 65, 'inverted': 4492, 'sf': 7712, 'renamed': 7112, 'scosche': 7539, 'territory': 8768, 'ssl': 8243, 'blasting': 844, 'highlights': 4020, 'lackluster': 4758, 'dictation': 2290, 'soap': 8030, 'etekcity': 2917, 'leatherette': 4857, 'ipearl': 4517, 'defeating': 2137, 'das': 2060, 'clarion': 1456, 'socks': 8035, 'ths': 8866, 'bp': 976, 'supple': 8534, 'dosent': 2517, 'discharging': 2382, 'forerunner': 3417, 'treatment': 9077, 'hackintosh': 3831, 'poked': 6424, 'lga': 4908, 'bk': 826, 'trap': 9062, 'ski': 7905, 'chintzy': 1395, 'animal': 328, 'husbands': 4170, 'refreshing': 7014, 'webcams': 9671, 'surroundings': 8569, 'equalization': 2875, 'compromising': 1670, 'crammed': 1914, 'expander': 3012, 'networked': 5677, 'sas': 7480, 'findings': 3243, 'ergonomically': 2890, 'affix': 173, 'setpoint': 7695, 'te': 8693, 'unifying': 9269, 'dishonest': 2413, 'dissapointment': 2435, 'binders': 808, 'sapphire': 7479, 'apparatus': 382, 'separates': 7669, 'distorting': 2447, 'fob': 3372, 'aoc': 373, 'screenshot': 7557, 'pr': 6507, 'crackly': 1908, 'destroys': 2241, 'freeagent': 3475, 'wierd': 9744, 'flimsier': 3340, 'wap': 9598, 'regulator': 7045, 'wb': 9655, 'cfl': 1320, 'stubborn': 8421, 'framing': 3463, 'cortana': 1852, 'ipv': 4524, 'reject': 7054, 'executive': 2991, 'grills': 3771, 'investigating': 4497, 'shoved': 7816, 'incidentally': 4290, 'grind': 3772, 'snes': 8019, 'incompetent': 4302, 'notable': 5749, 'tick': 8877, 'orientations': 5967, 'bob': 897, 'lake': 4768, 'studios': 8427, 'lightest': 4931, 'panasonics': 6098, 'dimms': 2327, 'memtest': 5313, 'eta': 2915, 'adesso': 120, 'rooted': 7379, 'hangouts': 3868, 'nickel': 5703, 'graph': 3749, 'multimeter': 5578, 'hints': 4038, 'drama': 2561, 'gigabytes': 3649, 'avrcp': 595, 'infinitely': 4350, 'cablecard': 1150, 'torx': 8975, 'ceton': 1318, 'soul': 8096, 'ftdi': 3518, 'overlook': 6036, 'hawking': 3913, 'nutshell': 5803, 'sangean': 7475, 'mkii': 5446, 'cryptic': 1979, 'goodwill': 3711, 'spider': 8169, 'slapped': 7928, 'iteration': 4556, 'lantern': 4784, 'squaretrade': 8219, 'moral': 5511, 'microsdhc': 5365, 'workshop': 9847, 'videography': 9498, 'storms': 8360, 'minix': 5404, 'decals': 2105, 'unsafe': 9316, 'trackman': 9014, 'sabertooth': 7445, 'bestbuy': 780, 'sentey': 7665, 'sanding': 7472, 'episodes': 2870, 'mislead': 5425, 'mavericks': 5245, 'enhancements': 2835, 'unrelated': 9313, 'notified': 5769, 'az': 612, 'frustrate': 3510, 'rotor': 7389, 'contemplating': 1769, 'exploring': 3049, 'hump': 4156, 'spell': 8164, 'vmware': 9541, 'tryed': 9131, 'cowon': 1892, 'horn': 4101, 'moshi': 5517, 'contributes': 1787, 'nah': 5604, 'averaging': 586, 'punching': 6726, 'activex': 91, 'emitted': 2786, 'absurdly': 21, 'panda': 6100, 'believer': 755, 'beloved': 762, 'promoted': 6652, 'vive': 9531, 'crippled': 1948, 'notepad': 5757, 'keyed': 4678, 'continuity': 1779, 'clearstream': 1478, 'bounced': 957, 'regulated': 7044, 'upscale': 9364, 'recieve': 6933, 'suppliers': 8538, 'tenvis': 8756, 'francisco': 3465, 'bumpers': 1098, 'srh': 8233, 'gsm': 3795, 'handwriting': 3862, 'brilliantly': 1024, 'piper': 6317, 'cops': 1827, 'reinserted': 7050, 'unlocked': 9289, 'sshd': 8240, 'misled': 5427, 'drawstring': 2574, 'tablo': 8639, 'angeles': 323, 'rrs': 7409, 'whistle': 9724, 'outta': 6015, 'xa': 9899, 'canceled': 1196, 'quarters': 6772, 'categories': 1273, 'hers': 3992, 'qd': 6760, 'wansview': 9593, 'vol': 9550, 'jewelry': 4599, 'bsods': 1051, 'buzzer': 1134, 'jr': 4627, 'boxee': 968, 'avchd': 583, 'hss': 4135, 'barlow': 670, 'agp': 198, 'feather': 3174, 'expressed': 3058, 'listens': 4977, 'bogen': 900, 'prescription': 6541, 'lps': 5082, 'selectivity': 7637, 'conduit': 1696, 'overloaded': 6035, 'dynamo': 2663, 'poof': 6442, 'harley': 3888, 'prosumer': 6676, 'robin': 7348, 'cadence': 1156, 'nvme': 5806, 'sylvania': 8617, 'ziplock': 9980, 'momentums': 5493, 'translate': 9045, 'howard': 4128}\n"
     ]
    }
   ],
   "source": [
    "# print vocabulary\n",
    "print(vectorizer.vocabulary_)"
   ]
  },
  {
   "cell_type": "code",
   "execution_count": 64,
   "id": "c36efde4",
   "metadata": {
    "id": "c36efde4"
   },
   "outputs": [],
   "source": [
    "X_train_vectorized = vectorizer.transform(X_train)\n",
    "X_test_vectorized = vectorizer.transform(X_test)"
   ]
  },
  {
   "cell_type": "markdown",
   "id": "e72a9e4f",
   "metadata": {
    "id": "e72a9e4f"
   },
   "source": [
    "## ML Model"
   ]
  },
  {
   "cell_type": "markdown",
   "id": "2b7cd5b9",
   "metadata": {
    "id": "2b7cd5b9"
   },
   "source": [
    "### Multinominal Naive Bayes Classifier"
   ]
  },
  {
   "cell_type": "markdown",
   "id": "TN-bp8ZQ_tRC",
   "metadata": {
    "id": "TN-bp8ZQ_tRC"
   },
   "source": [
    "Check accuracy of classifier to have a benchmark to evaluate the performance of the neural nets in addition to the baseline model which will be introduced below."
   ]
  },
  {
   "cell_type": "code",
   "execution_count": 65,
   "id": "bd17d481",
   "metadata": {
    "colab": {
     "base_uri": "https://localhost:8080/"
    },
    "id": "bd17d481",
    "outputId": "83216b72-30cc-4361-afda-e38131096d64"
   },
   "outputs": [
    {
     "data": {
      "text/plain": [
       "MultinomialNB()"
      ]
     },
     "execution_count": 65,
     "metadata": {},
     "output_type": "execute_result"
    }
   ],
   "source": [
    "multi_model = MultinomialNB()\n",
    "multi_model.fit(X_train_vectorized, y_train)"
   ]
  },
  {
   "cell_type": "code",
   "execution_count": 66,
   "id": "320ccd1a",
   "metadata": {
    "colab": {
     "base_uri": "https://localhost:8080/"
    },
    "id": "320ccd1a",
    "outputId": "814063d9-914a-4e05-98b3-c112d1cf6aad"
   },
   "outputs": [
    {
     "name": "stdout",
     "output_type": "stream",
     "text": [
      "Accurracy of Train data: 0.599595\n",
      "Accurracy of Test data: 0.56854\n"
     ]
    }
   ],
   "source": [
    "print('Accurracy of Train data:', multi_model.score(X_train_vectorized, y_train))\n",
    "print('Accurracy of Test data:', multi_model.score(X_test_vectorized, y_test))"
   ]
  },
  {
   "cell_type": "code",
   "execution_count": 67,
   "id": "d99ed49b",
   "metadata": {
    "id": "d99ed49b"
   },
   "outputs": [],
   "source": [
    "# Confusion Matrix\n",
    "y_pred_multi = multi_model.predict(X_test_vectorized)"
   ]
  },
  {
   "cell_type": "code",
   "execution_count": 68,
   "id": "cea61674",
   "metadata": {
    "colab": {
     "base_uri": "https://localhost:8080/",
     "height": 278
    },
    "id": "cea61674",
    "outputId": "932da8d2-d456-4194-f0e9-c2f5d96495ce"
   },
   "outputs": [
    {
     "data": {
      "image/png": "[encoded data removed]",
      "text/plain": [
       "<Figure size 432x288 with 2 Axes>"
      ]
     },
     "metadata": {
      "needs_background": "light"
     },
     "output_type": "display_data"
    }
   ],
   "source": [
    "cm = confusion_matrix(y_test, y_pred_multi, normalize='true')\n",
    "disp = ConfusionMatrixDisplay(confusion_matrix=cm)\n",
    "disp.plot()\n",
    "plt.show()"
   ]
  },
  {
   "cell_type": "markdown",
   "id": "cBRnSaHbAlv7",
   "metadata": {
    "id": "cBRnSaHbAlv7"
   },
   "source": [
    "Comment\n",
    "\n",
    "- Accuracy: 59%\n",
    "- 1 Star and 5 star reviews are much more accurately predicted than other reviews\n",
    "- borders between 5 and 4 as well as between 1 and 2 star reviews seem fluent as there are many misclassifications (as expected)"
   ]
  },
  {
   "cell_type": "markdown",
   "id": "9XJHLdsG4o1F",
   "metadata": {
    "id": "9XJHLdsG4o1F"
   },
   "source": [
    "# DL Models"
   ]
  },
  {
   "cell_type": "markdown",
   "id": "LP17zDzb431g",
   "metadata": {
    "id": "LP17zDzb431g"
   },
   "source": [
    "## Prep data"
   ]
  },
  {
   "cell_type": "code",
   "execution_count": 69,
   "id": "UBgvc6gs5FmQ",
   "metadata": {
    "id": "UBgvc6gs5FmQ"
   },
   "outputs": [],
   "source": [
    "def find_max_list_length(list):\n",
    "  list_len = [len(i) for i in list]\n",
    "  return np.max(np.array(list_len))"
   ]
  },
  {
   "cell_type": "code",
   "execution_count": 70,
   "id": "KW3eiYxO6_-F",
   "metadata": {
    "id": "KW3eiYxO6_-F"
   },
   "outputs": [],
   "source": [
    "id2label={0:1, 1:2, 2:3, 3:4, 4:5}"
   ]
  },
  {
   "cell_type": "markdown",
   "id": "9GVGDStM6zv1",
   "metadata": {
    "id": "9GVGDStM6zv1"
   },
   "source": [
    "### 5 label prep"
   ]
  },
  {
   "cell_type": "code",
   "execution_count": 71,
   "id": "Tz2NMEHX4qlZ",
   "metadata": {
    "id": "Tz2NMEHX4qlZ"
   },
   "outputs": [],
   "source": [
    "def build_data(df):\n",
    "  data = df.to_numpy()\n",
    "  y = data[:, 0].astype('float32')  # Label=0 oder 1\n",
    "  X = data[:, 2]\n",
    "  X_train, X_test, y_train, y_test = train_test_split(X, y, test_size=0.2, random_state=42)\n",
    "  return X, y, X_train, X_test, y_train, y_test"
   ]
  },
  {
   "cell_type": "code",
   "execution_count": 72,
   "id": "ZmUgmbUL5Fov",
   "metadata": {
    "id": "ZmUgmbUL5Fov"
   },
   "outputs": [],
   "source": [
    "# Define evaluation of predictions\n",
    "\n",
    "def get_y_pred(preds):\n",
    "  y_pred = []\n",
    "  for pred in preds:\n",
    "    pred = np.argmax(pred)\n",
    "    y_pred.append(id2label[pred])\n",
    "  return y_pred\n",
    "\n",
    "def convert_cat_label(cat_labels):\n",
    "  y_test=[]\n",
    "  for cat_label in cat_labels:\n",
    "    cat_label = np.argmax(cat_label)\n",
    "    y_test.append(id2label[cat_label])\n",
    "  return y_test"
   ]
  },
  {
   "cell_type": "code",
   "execution_count": 73,
   "id": "WQ4MDBaR5Frd",
   "metadata": {
    "id": "WQ4MDBaR5Frd"
   },
   "outputs": [],
   "source": [
    "# Define plot for visualization of training\n",
    "\n",
    "def plot_history(history):\n",
    "    loss_list = [s for s in history.history.keys() if 'loss' in s and 'val' not in s]\n",
    "    val_loss_list = [s for s in history.history.keys() if 'loss' in s and 'val' in s]\n",
    "    acc_list = [s for s in history.history.keys() if 'acc' in s and 'val' not in s]\n",
    "    val_acc_list = [s for s in history.history.keys() if 'acc' in s and 'val' in s]\n",
    "    \n",
    "    if len(loss_list) == 0:\n",
    "        print('Loss is missing in history')\n",
    "        return \n",
    "    \n",
    "    ## As loss always exists\n",
    "    epochs = range(1,len(history.history[loss_list[0]]) + 1)\n",
    "    \n",
    "    ## Loss\n",
    "    plt.figure(1)\n",
    "    for l in loss_list:\n",
    "        plt.plot(epochs, history.history[l], 'b', label='Training loss (' + str(str(format(history.history[l][-1],'.5f'))+')'))\n",
    "    for l in val_loss_list:\n",
    "        plt.plot(epochs, history.history[l], 'g', label='Validation loss (' + str(str(format(history.history[l][-1],'.5f'))+')'))\n",
    "    \n",
    "    plt.title('Loss')\n",
    "    plt.xlabel('Epochs')\n",
    "    plt.ylabel('Loss')\n",
    "    plt.legend()\n",
    "    \n",
    "    ## Accuracy\n",
    "    plt.figure(2)\n",
    "    for l in acc_list:\n",
    "        plt.plot(epochs, history.history[l], 'b', label='Training accuracy (' + str(format(history.history[l][-1],'.5f'))+')')\n",
    "    for l in val_acc_list:    \n",
    "        plt.plot(epochs, history.history[l], 'g', label='Validation accuracy (' + str(format(history.history[l][-1],'.5f'))+')')\n",
    "\n",
    "    plt.title('Accuracy')\n",
    "    plt.xlabel('Epochs')\n",
    "    plt.ylabel('Accuracy')\n",
    "    plt.legend()\n",
    "    plt.show()"
   ]
  },
  {
   "cell_type": "markdown",
   "id": "a3sr4lZr6jD4",
   "metadata": {
    "id": "a3sr4lZr6jD4"
   },
   "source": [
    "### 3 label prep"
   ]
  },
  {
   "cell_type": "code",
   "execution_count": 74,
   "id": "Y5MbBEqF5BEi",
   "metadata": {
    "id": "Y5MbBEqF5BEi"
   },
   "outputs": [],
   "source": [
    "five_labels_to_three_labels = {\n",
    "    1:0,\n",
    "    2:0,\n",
    "    3:1,\n",
    "    4:2,\n",
    "    5:2\n",
    "}\n",
    "id2three_labels = {\n",
    "    0:\"negative\",\n",
    "    1:\"neutral\",\n",
    "    2:\"positive\"\n",
    "}\n",
    "\n",
    "def convert_y_into_three_labels(y_labels):\n",
    "  y_three_ = []\n",
    "  y_three_string_ = []\n",
    "  for label in y_labels:\n",
    "    label = int(label)\n",
    "    \n",
    "    new_label = int(five_labels_to_three_labels[label])\n",
    "    new_label_string = id2three_labels[new_label]\n",
    "\n",
    "    y_three_.append(new_label)\n",
    "    y_three_string_.append(new_label_string)\n",
    "\n",
    "  return np.array(y_three_), y_three_string_\n",
    "\n",
    "y_train_three, y_train_three_string = convert_y_into_three_labels(y_train)\n",
    "y_test_three, y_test_three_string = convert_y_into_three_labels(y_test)"
   ]
  },
  {
   "cell_type": "markdown",
   "id": "s_FMmcGi7aoC",
   "metadata": {
    "id": "s_FMmcGi7aoC"
   },
   "source": [
    "## Tokenize text"
   ]
  },
  {
   "cell_type": "markdown",
   "id": "Pjh9n8yj7h4x",
   "metadata": {
    "id": "Pjh9n8yj7h4x"
   },
   "source": [
    "\n",
    "*   Embedding layer expects the words to be in numeric form\n",
    "*  Using Tokenizer function from keras.preprocessing.text library\n",
    "*   Method fit_on_text trains the tokenizer\n",
    "*   Method texts_to_sequences converts sentences to their numeric form"
   ]
  },
  {
   "cell_type": "code",
   "execution_count": 75,
   "id": "bSOfbJp8C_qG",
   "metadata": {
    "id": "bSOfbJp8C_qG"
   },
   "outputs": [],
   "source": [
    "X, y, X_train, X_test, y_train, y_test = build_data(df)"
   ]
  },
  {
   "cell_type": "code",
   "execution_count": 76,
   "id": "omEEbEng7cCc",
   "metadata": {
    "id": "omEEbEng7cCc"
   },
   "outputs": [],
   "source": [
    "# create tokens\n",
    "\n",
    "num_words = 10000\n",
    "word_tokenizer = Tokenizer(num_words=num_words,oov_token='<OOV>')\n",
    "word_tokenizer.fit_on_texts(X_train)"
   ]
  },
  {
   "cell_type": "code",
   "execution_count": 77,
   "id": "z2RAt4SS7xBP",
   "metadata": {
    "id": "z2RAt4SS7xBP"
   },
   "outputs": [],
   "source": [
    "# create sequences\n",
    "\n",
    "X_train = word_tokenizer.texts_to_sequences(X_train)\n",
    "X_test = word_tokenizer.texts_to_sequences(X_test)"
   ]
  },
  {
   "cell_type": "code",
   "execution_count": 78,
   "id": "x3MRTfsc75id",
   "metadata": {
    "colab": {
     "base_uri": "https://localhost:8080/"
    },
    "id": "x3MRTfsc75id",
    "outputId": "c48bd978-0ed6-42b4-98e1-abb587cf12e4"
   },
   "outputs": [
    {
     "name": "stdout",
     "output_type": "stream",
     "text": [
      "max length of tokens 1527\n"
     ]
    }
   ],
   "source": [
    "print('max length of tokens', find_max_list_length(X_train))"
   ]
  },
  {
   "cell_type": "markdown",
   "id": "gaO61a19BCzE",
   "metadata": {
    "id": "gaO61a19BCzE"
   },
   "source": [
    "Max length is 2423, will be truncated."
   ]
  },
  {
   "cell_type": "code",
   "execution_count": 79,
   "id": "Fi9R58RM79jM",
   "metadata": {
    "colab": {
     "base_uri": "https://localhost:8080/"
    },
    "id": "Fi9R58RM79jM",
    "outputId": "43e682f8-948f-4eba-cf30-60c99dc75d35"
   },
   "outputs": [
    {
     "data": {
      "text/plain": [
       "76300"
      ]
     },
     "execution_count": 79,
     "metadata": {},
     "output_type": "execute_result"
    }
   ],
   "source": [
    "# Word index length\n",
    "\n",
    "len(word_tokenizer.word_index)\n",
    "# vocab_size = len(word_tokenizer.word_index) + 1"
   ]
  },
  {
   "cell_type": "code",
   "execution_count": 80,
   "id": "mXTs5O2t79ls",
   "metadata": {
    "colab": {
     "base_uri": "https://localhost:8080/"
    },
    "id": "mXTs5O2t79ls",
    "outputId": "470d83ff-c8c5-4cd6-eb8f-986f9c59a172"
   },
   "outputs": [
    {
     "name": "stdout",
     "output_type": "stream",
     "text": [
      "{'<OOV>': 1, 'i': 2, 'not': 3, 'the': 4, 'it': 5, 'good': 6, 'great': 7, 'this': 8, 'use': 9, 'work': 10, 'works': 11, 'like': 12, \"it's\": 13, 'product': 14, 'quality': 15, 'stars': 16, \"don't\": 17, 'time': 18, 'case': 19, 'sound': 20, 'price': 21, 'camera': 22, 'better': 23, 'bought': 24, 'cable': 25, \"i'm\": 26, 'nice': 27, 'little': 28, 'buy': 29, 'one': 30, 'usb': 31, 'if': 32, 'got': 33, 'battery': 34, 'screen': 35, 'so': 36, \"doesn't\": 37, 'but': 38, 'worked': 39, \"didn't\": 40, 'well': 41, 'need': 42, 'fine': 43, 'unit': 44, 'fit': 45, 'power': 46, 'device': 47, 'tv': 48, 'drive': 49, 'way': 50}\n"
     ]
    }
   ],
   "source": [
    "# Top 50 words\n",
    "\n",
    "print(dict(itertools.islice(word_tokenizer.word_index.items(), 50)) )"
   ]
  },
  {
   "cell_type": "code",
   "execution_count": 81,
   "id": "x3u-JDOk79n2",
   "metadata": {
    "colab": {
     "base_uri": "https://localhost:8080/"
    },
    "id": "x3u-JDOk79n2",
    "outputId": "1ec65da2-c63e-42af-fb76-4f35bff6dce0"
   },
   "outputs": [
    {
     "name": "stdout",
     "output_type": "stream",
     "text": [
      "0 <OOV>\n",
      "1 i\n",
      "2 not\n",
      "3 the\n",
      "4 it\n",
      "5 good\n",
      "6 great\n",
      "7 this\n",
      "8 use\n",
      "9 work\n",
      "10 works\n",
      "11 like\n",
      "12 it's\n",
      "13 product\n",
      "14 quality\n",
      "15 stars\n",
      "16 don't\n",
      "17 time\n",
      "18 case\n",
      "19 sound\n",
      "20 price\n",
      "21 camera\n",
      "22 better\n",
      "23 bought\n",
      "24 cable\n",
      "25 i'm\n",
      "26 nice\n",
      "27 little\n",
      "28 buy\n",
      "29 one\n",
      "30 usb\n",
      "31 if\n",
      "32 got\n",
      "33 battery\n",
      "34 screen\n",
      "35 so\n",
      "36 doesn't\n",
      "37 but\n",
      "38 worked\n",
      "39 didn't\n",
      "40 well\n",
      "41 need\n",
      "42 fine\n",
      "43 unit\n",
      "44 fit\n",
      "45 power\n",
      "46 device\n",
      "47 tv\n",
      "48 drive\n",
      "49 way\n",
      "50 easy\n",
      "51 i've\n",
      "52 new\n",
      "53 problem\n",
      "54 in\n",
      "55 you\n",
      "56 bad\n",
      "57 for\n",
      "58 thing\n",
      "59 working\n",
      "60 small\n",
      "61 my\n",
      "62 right\n",
      "63 they\n",
      "64 amazon\n",
      "65 set\n",
      "66 card\n",
      "67 want\n",
      "68 phone\n",
      "69 keyboard\n",
      "70 a\n",
      "71 cheap\n",
      "72 hard\n",
      "73 on\n",
      "74 all\n",
      "75 months\n",
      "76 pretty\n",
      "77 money\n",
      "78 tried\n",
      "79 light\n",
      "80 bit\n",
      "81 very\n",
      "82 can't\n",
      "83 long\n",
      "84 no\n",
      "85 laptop\n",
      "86 and\n",
      "87 ok\n",
      "88 far\n",
      "89 that\n",
      "90 recommend\n",
      "91 these\n",
      "92 sure\n",
      "93 love\n",
      "94 video\n",
      "95 star\n",
      "96 know\n",
      "97 think\n",
      "98 purchased\n",
      "99 going\n"
     ]
    }
   ],
   "source": [
    "# Top 100 words\n",
    "\n",
    "counter=0\n",
    "for key in dict(itertools.islice(word_tokenizer.word_index.items(), 100)):\n",
    "  print(counter, key)\n",
    "  counter+=1"
   ]
  },
  {
   "cell_type": "markdown",
   "id": "mxzwr2vg8LSp",
   "metadata": {
    "id": "mxzwr2vg8LSp"
   },
   "source": [
    "## Set parameters"
   ]
  },
  {
   "cell_type": "code",
   "execution_count": 82,
   "id": "skxBZAuJ8MS6",
   "metadata": {
    "id": "skxBZAuJ8MS6"
   },
   "outputs": [],
   "source": [
    "embedding_dim = 16\n",
    "max_length = 256\n",
    "trunc_type='post'\n",
    "padding_type='post'\n",
    "num_epochs = 30\n",
    "\n",
    "# This callback will stop the training when there is no improvement in  the loss for 5 consecutive epochs.\n",
    "callback = tf.keras.callbacks.EarlyStopping(monitor='val_accuracy', patience=4)"
   ]
  },
  {
   "cell_type": "markdown",
   "id": "0gVxzB9Q8gkG",
   "metadata": {
    "id": "0gVxzB9Q8gkG"
   },
   "source": [
    "### Padding"
   ]
  },
  {
   "cell_type": "code",
   "execution_count": 83,
   "id": "erKXUUhb79qM",
   "metadata": {
    "id": "erKXUUhb79qM"
   },
   "outputs": [],
   "source": [
    "# Padding all reviews to fixed length \n",
    "\n",
    "X_train = pad_sequences(X_train, padding='post', maxlen=max_length, truncating='post')\n",
    "X_test = pad_sequences(X_test, padding='post', maxlen=max_length, truncating='post')"
   ]
  },
  {
   "cell_type": "markdown",
   "id": "Ht6wJsEw8ni1",
   "metadata": {
    "id": "Ht6wJsEw8ni1"
   },
   "source": [
    "### Encode y labels (5)"
   ]
  },
  {
   "cell_type": "code",
   "execution_count": 84,
   "id": "GFfWbkk48rMy",
   "metadata": {
    "colab": {
     "base_uri": "https://localhost:8080/"
    },
    "id": "GFfWbkk48rMy",
    "outputId": "c207ebea-3d74-4738-b07f-7c24af3e4d5c"
   },
   "outputs": [
    {
     "name": "stdout",
     "output_type": "stream",
     "text": [
      "2.0 4.0 4.0\n",
      "[0. 1. 0. 0. 0.]\n",
      "[0. 0. 0. 1. 0.]\n",
      "[0. 0. 0. 1. 0.]\n"
     ]
    }
   ],
   "source": [
    "print(y_train[0],\n",
    "y_train[150],\n",
    "y_train[1501])\n",
    "\n",
    "y_train = keras.utils.to_categorical(y_train-1, num_classes = 5)\n",
    "y_test = keras.utils.to_categorical(y_test-1, num_classes = 5)\n",
    "\n",
    "print(y_train[0])\n",
    "print(y_train[150])\n",
    "print(y_train[1501])"
   ]
  },
  {
   "cell_type": "markdown",
   "id": "CciX7jyB9HOn",
   "metadata": {
    "id": "CciX7jyB9HOn"
   },
   "source": [
    "## Model 1: Sequential,Dense"
   ]
  },
  {
   "cell_type": "markdown",
   "id": "Io3zTsId9MV-",
   "metadata": {
    "id": "Io3zTsId9MV-"
   },
   "source": [
    "The first layer is the embedding layer where all the parameters have been defined and explained before. The second layer is ‘GlobalAveragePooling1D’  which flattens the vector. Originally the data is three-dimensional (batch_size x steps x features). GlobalAveragePooling1D makes it (batch_size x features)."
   ]
  },
  {
   "cell_type": "code",
   "execution_count": 85,
   "id": "qMC8zidf9Hxm",
   "metadata": {
    "colab": {
     "base_uri": "https://localhost:8080/"
    },
    "id": "qMC8zidf9Hxm",
    "outputId": "0ebde393-def1-4ba4-9cda-1c24f68fce1e"
   },
   "outputs": [
    {
     "name": "stdout",
     "output_type": "stream",
     "text": [
      "Model: \"sequential\"\n",
      "_________________________________________________________________\n",
      " Layer (type)                Output Shape              Param #   \n",
      "=================================================================\n",
      " embedding (Embedding)       (None, 256, 16)           160000    \n",
      "                                                                 \n",
      " global_average_pooling1d (G  (None, 16)               0         \n",
      " lobalAveragePooling1D)                                          \n",
      "                                                                 \n",
      " dense (Dense)               (None, 16)                272       \n",
      "                                                                 \n",
      " dense_1 (Dense)             (None, 5)                 85        \n",
      "                                                                 \n",
      "=================================================================\n",
      "Total params: 160,357\n",
      "Trainable params: 160,357\n",
      "Non-trainable params: 0\n",
      "_________________________________________________________________\n"
     ]
    }
   ],
   "source": [
    "num_outputs = 5\n",
    "\n",
    "model1 = keras.Sequential([\n",
    "    keras.layers.Embedding(input_dim=num_words, output_dim=embedding_dim, input_length=max_length),\n",
    "    keras.layers.GlobalAveragePooling1D(),\n",
    "    keras.layers.Dense(16, activation='relu'),\n",
    "    keras.layers.Dense(num_outputs, activation='softmax')\n",
    "])\n",
    "\n",
    "model1.summary()\n",
    "\n",
    "model1.compile(loss=tf.keras.losses.CategoricalCrossentropy(),\n",
    "              optimizer=tf.keras.optimizers.Adam(1e-3),\n",
    "              metrics=['accuracy'])"
   ]
  },
  {
   "cell_type": "code",
   "execution_count": 86,
   "id": "9IK7B3K09RZi",
   "metadata": {
    "colab": {
     "base_uri": "https://localhost:8080/",
     "height": 1000
    },
    "id": "9IK7B3K09RZi",
    "outputId": "95b6e8c9-9c32-49b9-c044-8f5365e695cd"
   },
   "outputs": [
    {
     "name": "stdout",
     "output_type": "stream",
     "text": [
      "Epoch 1/30\n",
      "3118/3125 [============================>.] - ETA: 0s - loss: 1.2674 - accuracy: 0.4430\n",
      "Epoch 1: val_accuracy improved from -inf to 0.50582, saving model to best_model1.hdf5\n",
      "3125/3125 [==============================] - 16s 4ms/step - loss: 1.2670 - accuracy: 0.4431 - val_loss: 1.1182 - val_accuracy: 0.5058\n",
      "Epoch 2/30\n",
      "3111/3125 [============================>.] - ETA: 0s - loss: 1.0452 - accuracy: 0.5628\n",
      "Epoch 2: val_accuracy improved from 0.50582 to 0.58066, saving model to best_model1.hdf5\n",
      "3125/3125 [==============================] - 12s 4ms/step - loss: 1.0451 - accuracy: 0.5628 - val_loss: 1.0100 - val_accuracy: 0.5807\n",
      "Epoch 3/30\n",
      "3125/3125 [==============================] - ETA: 0s - loss: 0.9715 - accuracy: 0.5940\n",
      "Epoch 3: val_accuracy improved from 0.58066 to 0.58852, saving model to best_model1.hdf5\n",
      "3125/3125 [==============================] - 18s 6ms/step - loss: 0.9715 - accuracy: 0.5940 - val_loss: 0.9807 - val_accuracy: 0.5885\n",
      "Epoch 4/30\n",
      "3116/3125 [============================>.] - ETA: 0s - loss: 0.9438 - accuracy: 0.6039\n",
      "Epoch 4: val_accuracy improved from 0.58852 to 0.59102, saving model to best_model1.hdf5\n",
      "3125/3125 [==============================] - 12s 4ms/step - loss: 0.9439 - accuracy: 0.6038 - val_loss: 0.9715 - val_accuracy: 0.5910\n",
      "Epoch 5/30\n",
      "3120/3125 [============================>.] - ETA: 0s - loss: 0.9273 - accuracy: 0.6086\n",
      "Epoch 5: val_accuracy did not improve from 0.59102\n",
      "3125/3125 [==============================] - 13s 4ms/step - loss: 0.9274 - accuracy: 0.6086 - val_loss: 0.9643 - val_accuracy: 0.5901\n",
      "Epoch 6/30\n",
      "3120/3125 [============================>.] - ETA: 0s - loss: 0.9141 - accuracy: 0.6128\n",
      "Epoch 6: val_accuracy did not improve from 0.59102\n",
      "3125/3125 [==============================] - 15s 5ms/step - loss: 0.9141 - accuracy: 0.6128 - val_loss: 0.9608 - val_accuracy: 0.5906\n",
      "Epoch 7/30\n",
      "3123/3125 [============================>.] - ETA: 0s - loss: 0.9008 - accuracy: 0.6175\n",
      "Epoch 7: val_accuracy did not improve from 0.59102\n",
      "3125/3125 [==============================] - 16s 5ms/step - loss: 0.9008 - accuracy: 0.6175 - val_loss: 0.9596 - val_accuracy: 0.5909\n",
      "Epoch 8/30\n",
      "3117/3125 [============================>.] - ETA: 0s - loss: 0.8901 - accuracy: 0.6228\n",
      "Epoch 8: val_accuracy improved from 0.59102 to 0.59238, saving model to best_model1.hdf5\n",
      "3125/3125 [==============================] - 13s 4ms/step - loss: 0.8901 - accuracy: 0.6228 - val_loss: 0.9552 - val_accuracy: 0.5924\n",
      "Epoch 9/30\n",
      "3116/3125 [============================>.] - ETA: 0s - loss: 0.8815 - accuracy: 0.6257\n",
      "Epoch 9: val_accuracy did not improve from 0.59238\n",
      "3125/3125 [==============================] - 13s 4ms/step - loss: 0.8816 - accuracy: 0.6258 - val_loss: 0.9613 - val_accuracy: 0.5881\n",
      "Epoch 10/30\n",
      "3117/3125 [============================>.] - ETA: 0s - loss: 0.8745 - accuracy: 0.6288\n",
      "Epoch 10: val_accuracy did not improve from 0.59238\n",
      "3125/3125 [==============================] - 12s 4ms/step - loss: 0.8743 - accuracy: 0.6289 - val_loss: 0.9629 - val_accuracy: 0.5894\n",
      "Epoch 11/30\n",
      "3119/3125 [============================>.] - ETA: 0s - loss: 0.8683 - accuracy: 0.6319\n",
      "Epoch 11: val_accuracy did not improve from 0.59238\n",
      "3125/3125 [==============================] - 14s 4ms/step - loss: 0.8683 - accuracy: 0.6318 - val_loss: 0.9652 - val_accuracy: 0.5893\n",
      "Epoch 12/30\n",
      "3116/3125 [============================>.] - ETA: 0s - loss: 0.8623 - accuracy: 0.6349\n",
      "Epoch 12: val_accuracy did not improve from 0.59238\n",
      "3125/3125 [==============================] - 12s 4ms/step - loss: 0.8623 - accuracy: 0.6349 - val_loss: 0.9573 - val_accuracy: 0.5890\n",
      "Epoch 13/30\n",
      "3112/3125 [============================>.] - ETA: 0s - loss: 0.8561 - accuracy: 0.6378\n",
      "Epoch 13: val_accuracy did not improve from 0.59238\n",
      "3125/3125 [==============================] - 12s 4ms/step - loss: 0.8562 - accuracy: 0.6378 - val_loss: 0.9688 - val_accuracy: 0.5860\n",
      "Epoch 14/30\n",
      "3119/3125 [============================>.] - ETA: 0s - loss: 0.8504 - accuracy: 0.6405\n",
      "Epoch 14: val_accuracy did not improve from 0.59238\n",
      "3125/3125 [==============================] - 13s 4ms/step - loss: 0.8504 - accuracy: 0.6405 - val_loss: 0.9684 - val_accuracy: 0.5881\n",
      "Epoch 15/30\n",
      "3114/3125 [============================>.] - ETA: 0s - loss: 0.8441 - accuracy: 0.6432\n",
      "Epoch 15: val_accuracy did not improve from 0.59238\n",
      "3125/3125 [==============================] - 12s 4ms/step - loss: 0.8439 - accuracy: 0.6432 - val_loss: 0.9735 - val_accuracy: 0.5870\n",
      "Epoch 16/30\n",
      "3125/3125 [==============================] - ETA: 0s - loss: 0.8374 - accuracy: 0.6463\n",
      "Epoch 16: val_accuracy did not improve from 0.59238\n",
      "3125/3125 [==============================] - 14s 4ms/step - loss: 0.8374 - accuracy: 0.6463 - val_loss: 0.9645 - val_accuracy: 0.5898\n",
      "Epoch 17/30\n",
      "3117/3125 [============================>.] - ETA: 0s - loss: 0.8304 - accuracy: 0.6494\n",
      "Epoch 17: val_accuracy did not improve from 0.59238\n",
      "3125/3125 [==============================] - 13s 4ms/step - loss: 0.8306 - accuracy: 0.6493 - val_loss: 0.9704 - val_accuracy: 0.5907\n",
      "Epoch 18/30\n",
      "3118/3125 [============================>.] - ETA: 0s - loss: 0.8238 - accuracy: 0.6525\n",
      "Epoch 18: val_accuracy did not improve from 0.59238\n",
      "3125/3125 [==============================] - 13s 4ms/step - loss: 0.8240 - accuracy: 0.6525 - val_loss: 0.9682 - val_accuracy: 0.5870\n",
      "Epoch 19/30\n",
      "3124/3125 [============================>.] - ETA: 0s - loss: 0.8179 - accuracy: 0.6550\n",
      "Epoch 19: val_accuracy did not improve from 0.59238\n",
      "3125/3125 [==============================] - 13s 4ms/step - loss: 0.8179 - accuracy: 0.6550 - val_loss: 0.9732 - val_accuracy: 0.5884\n",
      "Epoch 20/30\n",
      "3122/3125 [============================>.] - ETA: 0s - loss: 0.8121 - accuracy: 0.6574\n",
      "Epoch 20: val_accuracy did not improve from 0.59238\n",
      "3125/3125 [==============================] - 12s 4ms/step - loss: 0.8122 - accuracy: 0.6573 - val_loss: 0.9879 - val_accuracy: 0.5895\n",
      "Epoch 21/30\n",
      "3119/3125 [============================>.] - ETA: 0s - loss: 0.8059 - accuracy: 0.6608\n",
      "Epoch 21: val_accuracy did not improve from 0.59238\n",
      "3125/3125 [==============================] - 13s 4ms/step - loss: 0.8059 - accuracy: 0.6608 - val_loss: 0.9803 - val_accuracy: 0.5885\n",
      "Epoch 22/30\n",
      "3115/3125 [============================>.] - ETA: 0s - loss: 0.8008 - accuracy: 0.6637\n",
      "Epoch 22: val_accuracy did not improve from 0.59238\n",
      "3125/3125 [==============================] - 13s 4ms/step - loss: 0.8007 - accuracy: 0.6637 - val_loss: 0.9908 - val_accuracy: 0.5862\n",
      "Epoch 23/30\n",
      "3111/3125 [============================>.] - ETA: 0s - loss: 0.7953 - accuracy: 0.6657\n",
      "Epoch 23: val_accuracy did not improve from 0.59238\n",
      "3125/3125 [==============================] - 12s 4ms/step - loss: 0.7953 - accuracy: 0.6657 - val_loss: 1.0052 - val_accuracy: 0.5781\n",
      "Epoch 24/30\n",
      "3124/3125 [============================>.] - ETA: 0s - loss: 0.7895 - accuracy: 0.6684\n",
      "Epoch 24: val_accuracy did not improve from 0.59238\n",
      "3125/3125 [==============================] - 13s 4ms/step - loss: 0.7894 - accuracy: 0.6684 - val_loss: 0.9997 - val_accuracy: 0.5866\n",
      "Epoch 25/30\n",
      "3122/3125 [============================>.] - ETA: 0s - loss: 0.7841 - accuracy: 0.6714\n",
      "Epoch 25: val_accuracy did not improve from 0.59238\n",
      "3125/3125 [==============================] - 12s 4ms/step - loss: 0.7840 - accuracy: 0.6714 - val_loss: 1.0055 - val_accuracy: 0.5842\n",
      "Epoch 26/30\n",
      "3120/3125 [============================>.] - ETA: 0s - loss: 0.7787 - accuracy: 0.6748\n",
      "Epoch 26: val_accuracy did not improve from 0.59238\n",
      "3125/3125 [==============================] - 12s 4ms/step - loss: 0.7787 - accuracy: 0.6748 - val_loss: 1.0104 - val_accuracy: 0.5803\n",
      "Epoch 27/30\n",
      "3112/3125 [============================>.] - ETA: 0s - loss: 0.7737 - accuracy: 0.6765\n",
      "Epoch 27: val_accuracy did not improve from 0.59238\n",
      "3125/3125 [==============================] - 12s 4ms/step - loss: 0.7736 - accuracy: 0.6765 - val_loss: 1.0143 - val_accuracy: 0.5852\n",
      "Epoch 28/30\n",
      "3121/3125 [============================>.] - ETA: 0s - loss: 0.7679 - accuracy: 0.6798\n",
      "Epoch 28: val_accuracy did not improve from 0.59238\n",
      "3125/3125 [==============================] - 16s 5ms/step - loss: 0.7679 - accuracy: 0.6798 - val_loss: 1.0225 - val_accuracy: 0.5822\n",
      "Epoch 29/30\n",
      "3117/3125 [============================>.] - ETA: 0s - loss: 0.7627 - accuracy: 0.6824\n",
      "Epoch 29: val_accuracy did not improve from 0.59238\n",
      "3125/3125 [==============================] - 15s 5ms/step - loss: 0.7627 - accuracy: 0.6824 - val_loss: 1.0284 - val_accuracy: 0.5834\n",
      "Epoch 30/30\n",
      "3123/3125 [============================>.] - ETA: 0s - loss: 0.7574 - accuracy: 0.6839\n",
      "Epoch 30: val_accuracy did not improve from 0.59238\n",
      "3125/3125 [==============================] - 12s 4ms/step - loss: 0.7575 - accuracy: 0.6838 - val_loss: 1.0286 - val_accuracy: 0.5800\n"
     ]
    },
    {
     "data": {
      "image/png": "[encoded data removed]",
      "text/plain": [
       "<Figure size 432x288 with 1 Axes>"
      ]
     },
     "metadata": {
      "needs_background": "light"
     },
     "output_type": "display_data"
    },
    {
     "data": {
      "image/png": "[encoded data removed]",
      "text/plain": [
       "<Figure size 432x288 with 1 Axes>"
      ]
     },
     "metadata": {
      "needs_background": "light"
     },
     "output_type": "display_data"
    }
   ],
   "source": [
    "# Callback to save the Keras model\n",
    "checkpoint1 = ModelCheckpoint(\"best_model1.hdf5\", monitor='val_accuracy', verbose=1,save_best_only=True, mode='auto', save_weights_only=False)\n",
    "\n",
    "# This callback will stop the training when there is no improvement in  the loss for 5 consecutive epochs.\n",
    "callback = tf.keras.callbacks.EarlyStopping(monitor='loss', patience=5)\n",
    "\n",
    "history1 = model1.fit(X_train, y_train, batch_size = 64, epochs=num_epochs, validation_data=(X_test, y_test),callbacks=[checkpoint1,callback])\n",
    "plot_history(history1)"
   ]
  },
  {
   "cell_type": "code",
   "execution_count": 87,
   "id": "RXB2Z48R9Ud9",
   "metadata": {
    "colab": {
     "base_uri": "https://localhost:8080/"
    },
    "id": "RXB2Z48R9Ud9",
    "outputId": "9873dac2-ca49-4d05-f37b-8dbaaed21d6e"
   },
   "outputs": [
    {
     "name": "stdout",
     "output_type": "stream",
     "text": [
      "              precision    recall  f1-score   support\n",
      "\n",
      "           1       0.67      0.65      0.66      9912\n",
      "           2       0.48      0.47      0.48      9938\n",
      "           3       0.49      0.51      0.50     10036\n",
      "           4       0.55      0.53      0.54      9914\n",
      "           5       0.69      0.73      0.71     10200\n",
      "\n",
      "    accuracy                           0.58     50000\n",
      "   macro avg       0.58      0.58      0.58     50000\n",
      "weighted avg       0.58      0.58      0.58     50000\n",
      "\n"
     ]
    }
   ],
   "source": [
    "preds1 = model1.predict(X_test)\n",
    "\n",
    "y_pred1 = get_y_pred(preds1)\n",
    "y_test = convert_cat_label(y_test)\n",
    "\n",
    "print(classification_report(y_test, y_pred1))"
   ]
  },
  {
   "cell_type": "code",
   "execution_count": 88,
   "id": "qNqHIoe69W_H",
   "metadata": {
    "colab": {
     "base_uri": "https://localhost:8080/",
     "height": 295
    },
    "id": "qNqHIoe69W_H",
    "outputId": "97a87fe7-fcc1-48af-9d53-b38fc939995f"
   },
   "outputs": [
    {
     "data": {
      "image/png": "[encoded data removed]",
      "text/plain": [
       "<Figure size 432x288 with 2 Axes>"
      ]
     },
     "metadata": {
      "needs_background": "light"
     },
     "output_type": "display_data"
    }
   ],
   "source": [
    "cm = confusion_matrix(y_true=y_test, y_pred=y_pred1, labels=list(id2label.values()),normalize='true')\n",
    "disp = ConfusionMatrixDisplay(confusion_matrix=cm).plot()\n",
    "plt.title('Confusion matrix')\n",
    "plt.show()"
   ]
  },
  {
   "cell_type": "markdown",
   "id": "mwnKuVASBU09",
   "metadata": {
    "id": "mwnKuVASBU09"
   },
   "source": [
    "Comment\n",
    "\n",
    "- slightly better result than MultinomialNB classifier \n",
    "- similar prediction pattern as MultinomialNB classifier \n"
   ]
  },
  {
   "cell_type": "markdown",
   "id": "MPj-_-9pB66d",
   "metadata": {
    "id": "MPj-_-9pB66d"
   },
   "source": [
    "Test new sentence"
   ]
  },
  {
   "cell_type": "code",
   "execution_count": 89,
   "id": "gAr9T-Md9ZF2",
   "metadata": {
    "colab": {
     "base_uri": "https://localhost:8080/"
    },
    "id": "gAr9T-Md9ZF2",
    "outputId": "b0ae60f5-c0b3-40d5-e8bb-152cd9235aa0"
   },
   "outputs": [
    {
     "name": "stdout",
     "output_type": "stream",
     "text": [
      "[0.10890578 0.12589382 0.22852027 0.21204941 0.3246307 ]\n",
      "Predicted label: 5\n"
     ]
    }
   ],
   "source": [
    "new_test_sentence = \"I do not like the product. The USB stick doesn't work.\"\n",
    "test_sequences = word_tokenizer.texts_to_sequences(new_test_sentence)\n",
    "padded_test_sentence = pad_sequences(test_sequences, maxlen=max_length, padding=padding_type, truncating=trunc_type)\n",
    "\n",
    "print(model1.predict(padded_test_sentence)[0])\n",
    "print('Predicted label:',\n",
    "np.argmax(model1.predict(padded_test_sentence)[0])+1)"
   ]
  },
  {
   "cell_type": "code",
   "execution_count": 90,
   "id": "-kZHnIXJBriO",
   "metadata": {
    "colab": {
     "base_uri": "https://localhost:8080/"
    },
    "id": "-kZHnIXJBriO",
    "outputId": "7c39b529-f84d-4670-9b7f-582545d61cb8"
   },
   "outputs": [
    {
     "name": "stdout",
     "output_type": "stream",
     "text": [
      "\n",
      "Predicted word and label: <OOV>  --  5\n",
      "\n",
      "Predicted word and label: i  --  5\n",
      "\n",
      "Predicted word and label: not  --  5\n",
      "\n",
      "Predicted word and label: the  --  5\n",
      "\n",
      "Predicted word and label: it  --  5\n",
      "\n",
      "Predicted word and label: good  --  5\n",
      "\n",
      "Predicted word and label: great  --  5\n",
      "\n",
      "Predicted word and label: this  --  5\n",
      "\n",
      "Predicted word and label: use  --  5\n",
      "\n",
      "Predicted word and label: work  --  5\n",
      "\n",
      "Predicted word and label: works  --  5\n",
      "\n",
      "Predicted word and label: like  --  5\n",
      "\n",
      "Predicted word and label: it's  --  5\n",
      "\n",
      "Predicted word and label: product  --  5\n",
      "\n",
      "Predicted word and label: quality  --  5\n",
      "\n",
      "Predicted word and label: stars  --  5\n",
      "\n",
      "Predicted word and label: don't  --  5\n",
      "\n",
      "Predicted word and label: time  --  5\n",
      "\n",
      "Predicted word and label: case  --  5\n",
      "\n",
      "Predicted word and label: sound  --  5\n",
      "\n",
      "Predicted word and label: price  --  5\n",
      "\n",
      "Predicted word and label: camera  --  5\n",
      "\n",
      "Predicted word and label: better  --  3\n",
      "\n",
      "Predicted word and label: bought  --  3\n",
      "\n",
      "Predicted word and label: cable  --  5\n",
      "\n",
      "Predicted word and label: i'm  --  5\n",
      "\n",
      "Predicted word and label: nice  --  5\n",
      "\n",
      "Predicted word and label: little  --  5\n",
      "\n",
      "Predicted word and label: buy  --  3\n",
      "\n",
      "Predicted word and label: one  --  3\n",
      "\n",
      "Predicted word and label: usb  --  5\n",
      "\n",
      "Predicted word and label: if  --  5\n",
      "\n",
      "Predicted word and label: got  --  5\n",
      "\n",
      "Predicted word and label: battery  --  3\n",
      "\n",
      "Predicted word and label: screen  --  5\n",
      "\n",
      "Predicted word and label: so  --  5\n",
      "\n",
      "Predicted word and label: doesn't  --  5\n",
      "\n",
      "Predicted word and label: but  --  3\n",
      "\n",
      "Predicted word and label: worked  --  5\n",
      "\n",
      "Predicted word and label: didn't  --  5\n",
      "\n",
      "Predicted word and label: well  --  5\n",
      "\n",
      "Predicted word and label: need  --  5\n",
      "\n",
      "Predicted word and label: fine  --  5\n",
      "\n",
      "Predicted word and label: unit  --  5\n",
      "\n",
      "Predicted word and label: fit  --  5\n",
      "\n",
      "Predicted word and label: power  --  5\n",
      "\n",
      "Predicted word and label: device  --  5\n",
      "\n",
      "Predicted word and label: tv  --  5\n",
      "\n",
      "Predicted word and label: drive  --  5\n",
      "\n",
      "Predicted word and label: way  --  5\n",
      "\n",
      "Predicted word and label: easy  --  5\n",
      "\n",
      "Predicted word and label: i've  --  5\n",
      "\n",
      "Predicted word and label: new  --  5\n",
      "\n",
      "Predicted word and label: problem  --  5\n",
      "\n",
      "Predicted word and label: in  --  5\n",
      "\n",
      "Predicted word and label: you  --  5\n",
      "\n",
      "Predicted word and label: bad  --  3\n",
      "\n",
      "Predicted word and label: for  --  5\n",
      "\n",
      "Predicted word and label: thing  --  5\n",
      "\n",
      "Predicted word and label: working  --  5\n",
      "\n",
      "Predicted word and label: small  --  5\n",
      "\n",
      "Predicted word and label: my  --  5\n",
      "\n",
      "Predicted word and label: right  --  3\n",
      "\n",
      "Predicted word and label: they  --  5\n",
      "\n",
      "Predicted word and label: amazon  --  5\n",
      "\n",
      "Predicted word and label: set  --  5\n",
      "\n",
      "Predicted word and label: card  --  5\n",
      "\n",
      "Predicted word and label: want  --  5\n",
      "\n",
      "Predicted word and label: phone  --  5\n",
      "\n",
      "Predicted word and label: keyboard  --  5\n",
      "\n",
      "Predicted word and label: a  --  5\n",
      "\n",
      "Predicted word and label: cheap  --  5\n",
      "\n",
      "Predicted word and label: hard  --  3\n",
      "\n",
      "Predicted word and label: on  --  3\n",
      "\n",
      "Predicted word and label: all  --  5\n",
      "\n",
      "Predicted word and label: months  --  5\n",
      "\n",
      "Predicted word and label: pretty  --  5\n",
      "\n",
      "Predicted word and label: money  --  5\n",
      "\n",
      "Predicted word and label: tried  --  5\n",
      "\n",
      "Predicted word and label: light  --  5\n",
      "\n",
      "Predicted word and label: bit  --  3\n",
      "\n",
      "Predicted word and label: very  --  5\n",
      "\n",
      "Predicted word and label: can't  --  5\n",
      "\n",
      "Predicted word and label: long  --  5\n",
      "\n",
      "Predicted word and label: no  --  5\n",
      "\n",
      "Predicted word and label: laptop  --  5\n",
      "\n",
      "Predicted word and label: and  --  5\n",
      "\n",
      "Predicted word and label: ok  --  3\n",
      "\n",
      "Predicted word and label: far  --  5\n",
      "\n",
      "Predicted word and label: that  --  5\n",
      "\n",
      "Predicted word and label: recommend  --  3\n",
      "\n",
      "Predicted word and label: these  --  5\n",
      "\n",
      "Predicted word and label: sure  --  5\n",
      "\n",
      "Predicted word and label: love  --  5\n",
      "\n",
      "Predicted word and label: video  --  5\n",
      "\n",
      "Predicted word and label: star  --  5\n",
      "\n",
      "Predicted word and label: know  --  5\n",
      "\n",
      "Predicted word and label: think  --  5\n",
      "\n",
      "Predicted word and label: purchased  --  5\n",
      "\n",
      "Predicted word and label: going  --  5\n"
     ]
    }
   ],
   "source": [
    "# Check predictions for different tokens \n",
    "## just to get an impressions, model actually evaluates sequences\n",
    "\n",
    "for text in list(dict(itertools.islice(word_tokenizer.word_index.items(), 100)).keys()):\n",
    "  sequences = word_tokenizer.texts_to_sequences(text)\n",
    "  padded = pad_sequences(sequences, maxlen=max_length, padding=padding_type, truncating=trunc_type)\n",
    "  \n",
    "  print('\\nPredicted word and label:', text, \" -- \", np.argmax(model1.predict(padded)[0])+1)"
   ]
  },
  {
   "cell_type": "code",
   "execution_count": 91,
   "id": "lYig7L4w9iNF",
   "metadata": {
    "id": "lYig7L4w9iNF"
   },
   "outputs": [],
   "source": [
    "top = []\n",
    "bottom = []\n",
    "for text in tqdm(list(dict(itertools.islice(word_tokenizer.word_index.items(), 100)).keys())):\n",
    "  sequences = word_tokenizer.texts_to_sequences(text)\n",
    "  padded = pad_sequences(sequences, maxlen=max_length, padding=padding_type, truncating=trunc_type)\n",
    "  pred = model1.predict(padded)[0]\n",
    "  prediction = np.argmax(pred)+1\n",
    "  # Take highest\n",
    "  if prediction == 5:\n",
    "    top.append([text, max(pred)])\n",
    "\n",
    "  # Take lower\n",
    "  if prediction <= 2:\n",
    "    bottom.append([text, max(pred)])\n",
    "pd.DataFrame(top, columns=[\"word\",\"pred\"]).sort_values(\"pred\", ascending=False)[:10]\n",
    "\n",
    "pd.DataFrame(bottom, columns=[\"word\",\"pred\"]).sort_values(\"pred\", ascending=False)[:10]"
   ]
  },
  {
   "cell_type": "markdown",
   "id": "DijYm9ar9vVE",
   "metadata": {
    "id": "DijYm9ar9vVE"
   },
   "source": [
    "## Model 2: Bidirectional Layers"
   ]
  },
  {
   "cell_type": "markdown",
   "id": "n-4okukY91Tg",
   "metadata": {
    "id": "n-4okukY91Tg"
   },
   "source": [
    "Bidirectional layer maximize the order sensitivity of the RNNs: essentially it consists of two RNNs (LSTMs or GRUs) that process the input sequence in one different direction to finally merge representations. By doing this, they’re able to catch more complex patterns than a single RNN layer would catch. In other words, one of the layers interprets the sequences in chronological order and the second one do so in anti-chronological order, that’s why Bidirectional RNNs are widely used, because they offer greater performance than regular RNNs."
   ]
  },
  {
   "cell_type": "code",
   "execution_count": 92,
   "id": "TN-ttsd19zsg",
   "metadata": {
    "id": "TN-ttsd19zsg"
   },
   "outputs": [],
   "source": [
    "num_outputs_bi = 5\n",
    "X, y, X_train, X_test, y_train, y_test = build_data(df)"
   ]
  },
  {
   "cell_type": "code",
   "execution_count": 93,
   "id": "2metOzDn-Dnr",
   "metadata": {
    "colab": {
     "base_uri": "https://localhost:8080/"
    },
    "id": "2metOzDn-Dnr",
    "outputId": "d0689acb-fb3d-4e88-81d5-8ea77d345b5e"
   },
   "outputs": [
    {
     "name": "stdout",
     "output_type": "stream",
     "text": [
      "Model: \"sequential_1\"\n",
      "_________________________________________________________________\n",
      " Layer (type)                Output Shape              Param #   \n",
      "=================================================================\n",
      " embedding_1 (Embedding)     (None, 256, 16)           160000    \n",
      "                                                                 \n",
      " bidirectional (Bidirectiona  (None, 64)               12544     \n",
      " l)                                                              \n",
      "                                                                 \n",
      " dense_2 (Dense)             (None, 16)                1040      \n",
      "                                                                 \n",
      " dense_3 (Dense)             (None, 5)                 85        \n",
      "                                                                 \n",
      "=================================================================\n",
      "Total params: 173,669\n",
      "Trainable params: 173,669\n",
      "Non-trainable params: 0\n",
      "_________________________________________________________________\n"
     ]
    }
   ],
   "source": [
    "num_words = 10000\n",
    "word_tokenizer = Tokenizer(num_words=num_words,oov_token='<OOV>')\n",
    "word_tokenizer.fit_on_texts(X_train)\n",
    "\n",
    "# create sequences\n",
    "X_train = word_tokenizer.texts_to_sequences(X_train)\n",
    "X_test = word_tokenizer.texts_to_sequences(X_test)\n",
    "\n",
    "\n",
    "# Padding all reviews to fixed length \n",
    "X_train = pad_sequences(X_train, padding='post', maxlen=max_length, truncating='post')\n",
    "X_test = pad_sequences(X_test, padding='post', maxlen=max_length, truncating='post')\n",
    "\n",
    "y_train = keras.utils.to_categorical(y_train-1, num_classes = 5)\n",
    "y_test = keras.utils.to_categorical(y_test-1, num_classes = 5)\n",
    "\n",
    "model2bi = Sequential()\n",
    "model2bi.add(layers.Embedding(num_words, embedding_dim, input_length=max_length))\n",
    "model2bi.add(layers.Bidirectional(layers.LSTM(32,dropout=0.7)))\n",
    "model2bi.add(layers.Dense(16,activation='relu'))\n",
    "model2bi.add(layers.Dense(num_outputs_bi,activation='softmax'))\n",
    "\n",
    "model2bi.summary()"
   ]
  },
  {
   "cell_type": "code",
   "execution_count": 94,
   "id": "iSqJdiiD-DqK",
   "metadata": {
    "colab": {
     "base_uri": "https://localhost:8080/",
     "height": 1000
    },
    "id": "iSqJdiiD-DqK",
    "outputId": "d5bb5bac-c281-4e8b-d83a-138c8c3acab6"
   },
   "outputs": [
    {
     "name": "stdout",
     "output_type": "stream",
     "text": [
      "Epoch 1/30\n",
      "6247/6250 [============================>.] - ETA: 0s - loss: 1.0592 - accuracy: 0.5376\n",
      "Epoch 1: val_accuracy improved from -inf to 0.59366, saving model to best_model3bi.hdf5\n",
      "6250/6250 [==============================] - 109s 17ms/step - loss: 1.0592 - accuracy: 0.5376 - val_loss: 0.9277 - val_accuracy: 0.5937\n",
      "Epoch 2/30\n",
      "6248/6250 [============================>.] - ETA: 0s - loss: 0.9688 - accuracy: 0.5807\n",
      "Epoch 2: val_accuracy improved from 0.59366 to 0.60044, saving model to best_model3bi.hdf5\n",
      "6250/6250 [==============================] - 104s 17ms/step - loss: 0.9688 - accuracy: 0.5806 - val_loss: 0.9151 - val_accuracy: 0.6004\n",
      "Epoch 3/30\n",
      "6249/6250 [============================>.] - ETA: 0s - loss: 0.9433 - accuracy: 0.5915\n",
      "Epoch 3: val_accuracy improved from 0.60044 to 0.60728, saving model to best_model3bi.hdf5\n",
      "6250/6250 [==============================] - 114s 18ms/step - loss: 0.9433 - accuracy: 0.5915 - val_loss: 0.8998 - val_accuracy: 0.6073\n",
      "Epoch 4/30\n",
      "6248/6250 [============================>.] - ETA: 0s - loss: 0.9295 - accuracy: 0.5957\n",
      "Epoch 4: val_accuracy did not improve from 0.60728\n",
      "6250/6250 [==============================] - 104s 17ms/step - loss: 0.9294 - accuracy: 0.5957 - val_loss: 0.8993 - val_accuracy: 0.6058\n",
      "Epoch 5/30\n",
      "6249/6250 [============================>.] - ETA: 0s - loss: 0.9169 - accuracy: 0.6025\n",
      "Epoch 5: val_accuracy improved from 0.60728 to 0.61054, saving model to best_model3bi.hdf5\n",
      "6250/6250 [==============================] - 104s 17ms/step - loss: 0.9169 - accuracy: 0.6025 - val_loss: 0.8935 - val_accuracy: 0.6105\n",
      "Epoch 6/30\n",
      "6250/6250 [==============================] - ETA: 0s - loss: 0.9091 - accuracy: 0.6044\n",
      "Epoch 6: val_accuracy did not improve from 0.61054\n",
      "6250/6250 [==============================] - 113s 18ms/step - loss: 0.9091 - accuracy: 0.6044 - val_loss: 0.8932 - val_accuracy: 0.6088\n",
      "Epoch 7/30\n",
      "6250/6250 [==============================] - ETA: 0s - loss: 0.9035 - accuracy: 0.6083\n",
      "Epoch 7: val_accuracy improved from 0.61054 to 0.61350, saving model to best_model3bi.hdf5\n",
      "6250/6250 [==============================] - 105s 17ms/step - loss: 0.9035 - accuracy: 0.6083 - val_loss: 0.8837 - val_accuracy: 0.6135\n",
      "Epoch 8/30\n",
      "6247/6250 [============================>.] - ETA: 0s - loss: 0.8998 - accuracy: 0.6095\n",
      "Epoch 8: val_accuracy did not improve from 0.61350\n",
      "6250/6250 [==============================] - 104s 17ms/step - loss: 0.8998 - accuracy: 0.6095 - val_loss: 0.8915 - val_accuracy: 0.6102\n",
      "Epoch 9/30\n",
      "6250/6250 [==============================] - ETA: 0s - loss: 0.8939 - accuracy: 0.6129\n",
      "Epoch 9: val_accuracy improved from 0.61350 to 0.61470, saving model to best_model3bi.hdf5\n",
      "6250/6250 [==============================] - 113s 18ms/step - loss: 0.8939 - accuracy: 0.6129 - val_loss: 0.8822 - val_accuracy: 0.6147\n",
      "Epoch 10/30\n",
      "6249/6250 [============================>.] - ETA: 0s - loss: 0.8902 - accuracy: 0.6153\n",
      "Epoch 10: val_accuracy did not improve from 0.61470\n",
      "6250/6250 [==============================] - 106s 17ms/step - loss: 0.8903 - accuracy: 0.6153 - val_loss: 0.8824 - val_accuracy: 0.6142\n",
      "Epoch 11/30\n",
      "6249/6250 [============================>.] - ETA: 0s - loss: 0.8870 - accuracy: 0.6164\n",
      "Epoch 11: val_accuracy improved from 0.61470 to 0.61550, saving model to best_model3bi.hdf5\n",
      "6250/6250 [==============================] - 116s 18ms/step - loss: 0.8870 - accuracy: 0.6164 - val_loss: 0.8773 - val_accuracy: 0.6155\n",
      "Epoch 12/30\n",
      "6250/6250 [==============================] - ETA: 0s - loss: 0.8834 - accuracy: 0.6168\n",
      "Epoch 12: val_accuracy improved from 0.61550 to 0.61568, saving model to best_model3bi.hdf5\n",
      "6250/6250 [==============================] - 130s 21ms/step - loss: 0.8834 - accuracy: 0.6168 - val_loss: 0.8765 - val_accuracy: 0.6157\n",
      "Epoch 13/30\n",
      "6250/6250 [==============================] - ETA: 0s - loss: 0.8812 - accuracy: 0.6186\n",
      "Epoch 13: val_accuracy improved from 0.61568 to 0.61728, saving model to best_model3bi.hdf5\n",
      "6250/6250 [==============================] - 119s 19ms/step - loss: 0.8812 - accuracy: 0.6186 - val_loss: 0.8743 - val_accuracy: 0.6173\n",
      "Epoch 14/30\n",
      "6249/6250 [============================>.] - ETA: 0s - loss: 0.8781 - accuracy: 0.6201\n",
      "Epoch 14: val_accuracy improved from 0.61728 to 0.61744, saving model to best_model3bi.hdf5\n",
      "6250/6250 [==============================] - 124s 20ms/step - loss: 0.8781 - accuracy: 0.6201 - val_loss: 0.8734 - val_accuracy: 0.6174\n",
      "Epoch 15/30\n",
      "6248/6250 [============================>.] - ETA: 0s - loss: 0.8770 - accuracy: 0.6210\n",
      "Epoch 15: val_accuracy did not improve from 0.61744\n",
      "6250/6250 [==============================] - 125s 20ms/step - loss: 0.8770 - accuracy: 0.6210 - val_loss: 0.8735 - val_accuracy: 0.6165\n",
      "Epoch 16/30\n",
      "6250/6250 [==============================] - ETA: 0s - loss: 0.8753 - accuracy: 0.6218\n",
      "Epoch 16: val_accuracy did not improve from 0.61744\n",
      "6250/6250 [==============================] - 119s 19ms/step - loss: 0.8753 - accuracy: 0.6218 - val_loss: 0.8762 - val_accuracy: 0.6172\n",
      "Epoch 17/30\n",
      "6249/6250 [============================>.] - ETA: 0s - loss: 0.8734 - accuracy: 0.6211\n",
      "Epoch 17: val_accuracy improved from 0.61744 to 0.61918, saving model to best_model3bi.hdf5\n",
      "6250/6250 [==============================] - 124s 20ms/step - loss: 0.8734 - accuracy: 0.6211 - val_loss: 0.8725 - val_accuracy: 0.6192\n",
      "Epoch 18/30\n",
      "6249/6250 [============================>.] - ETA: 0s - loss: 0.8702 - accuracy: 0.6240\n",
      "Epoch 18: val_accuracy did not improve from 0.61918\n",
      "6250/6250 [==============================] - 124s 20ms/step - loss: 0.8702 - accuracy: 0.6240 - val_loss: 0.8751 - val_accuracy: 0.6188\n",
      "Epoch 19/30\n",
      "6248/6250 [============================>.] - ETA: 0s - loss: 0.8690 - accuracy: 0.6244\n",
      "Epoch 19: val_accuracy did not improve from 0.61918\n",
      "6250/6250 [==============================] - 122s 20ms/step - loss: 0.8690 - accuracy: 0.6244 - val_loss: 0.8723 - val_accuracy: 0.6188\n",
      "Epoch 20/30\n",
      "6249/6250 [============================>.] - ETA: 0s - loss: 0.8676 - accuracy: 0.6254\n",
      "Epoch 20: val_accuracy improved from 0.61918 to 0.62030, saving model to best_model3bi.hdf5\n",
      "6250/6250 [==============================] - 130s 21ms/step - loss: 0.8677 - accuracy: 0.6254 - val_loss: 0.8734 - val_accuracy: 0.6203\n",
      "Epoch 21/30\n",
      "6249/6250 [============================>.] - ETA: 0s - loss: 0.8660 - accuracy: 0.6265\n",
      "Epoch 21: val_accuracy did not improve from 0.62030\n",
      "6250/6250 [==============================] - 122s 19ms/step - loss: 0.8659 - accuracy: 0.6265 - val_loss: 0.8701 - val_accuracy: 0.6202\n",
      "Epoch 22/30\n",
      "6250/6250 [==============================] - ETA: 0s - loss: 0.8640 - accuracy: 0.6270\n",
      "Epoch 22: val_accuracy did not improve from 0.62030\n",
      "6250/6250 [==============================] - 124s 20ms/step - loss: 0.8640 - accuracy: 0.6270 - val_loss: 0.8692 - val_accuracy: 0.6202\n",
      "Epoch 23/30\n",
      "6248/6250 [============================>.] - ETA: 0s - loss: 0.8632 - accuracy: 0.6273\n",
      "Epoch 23: val_accuracy did not improve from 0.62030\n",
      "6250/6250 [==============================] - 127s 20ms/step - loss: 0.8632 - accuracy: 0.6273 - val_loss: 0.8714 - val_accuracy: 0.6200\n",
      "Epoch 24/30\n",
      "6249/6250 [============================>.] - ETA: 0s - loss: 0.8620 - accuracy: 0.6274\n",
      "Epoch 24: val_accuracy improved from 0.62030 to 0.62040, saving model to best_model3bi.hdf5\n",
      "6250/6250 [==============================] - 119s 19ms/step - loss: 0.8620 - accuracy: 0.6274 - val_loss: 0.8699 - val_accuracy: 0.6204\n",
      "Epoch 25/30\n",
      "6250/6250 [==============================] - ETA: 0s - loss: 0.8595 - accuracy: 0.6292\n",
      "Epoch 25: val_accuracy did not improve from 0.62040\n",
      "6250/6250 [==============================] - 127s 20ms/step - loss: 0.8595 - accuracy: 0.6292 - val_loss: 0.8737 - val_accuracy: 0.6196\n",
      "Epoch 26/30\n",
      "6249/6250 [============================>.] - ETA: 0s - loss: 0.8584 - accuracy: 0.6297\n",
      "Epoch 26: val_accuracy did not improve from 0.62040\n",
      "6250/6250 [==============================] - 125s 20ms/step - loss: 0.8583 - accuracy: 0.6297 - val_loss: 0.8714 - val_accuracy: 0.6186\n",
      "Epoch 27/30\n",
      "6248/6250 [============================>.] - ETA: 0s - loss: 0.8591 - accuracy: 0.6291\n",
      "Epoch 27: val_accuracy did not improve from 0.62040\n",
      "6250/6250 [==============================] - 121s 19ms/step - loss: 0.8591 - accuracy: 0.6291 - val_loss: 0.8727 - val_accuracy: 0.6189\n",
      "Epoch 28/30\n",
      "6250/6250 [==============================] - ETA: 0s - loss: 0.8573 - accuracy: 0.6306\n",
      "Epoch 28: val_accuracy improved from 0.62040 to 0.62130, saving model to best_model3bi.hdf5\n",
      "6250/6250 [==============================] - 131s 21ms/step - loss: 0.8573 - accuracy: 0.6306 - val_loss: 0.8712 - val_accuracy: 0.6213\n",
      "Epoch 29/30\n",
      "6250/6250 [==============================] - ETA: 0s - loss: 0.8561 - accuracy: 0.6310\n",
      "Epoch 29: val_accuracy improved from 0.62130 to 0.62132, saving model to best_model3bi.hdf5\n",
      "6250/6250 [==============================] - 120s 19ms/step - loss: 0.8561 - accuracy: 0.6310 - val_loss: 0.8697 - val_accuracy: 0.6213\n",
      "Epoch 30/30\n",
      "6248/6250 [============================>.] - ETA: 0s - loss: 0.8553 - accuracy: 0.6308\n",
      "Epoch 30: val_accuracy did not improve from 0.62132\n",
      "6250/6250 [==============================] - 118s 19ms/step - loss: 0.8553 - accuracy: 0.6308 - val_loss: 0.8705 - val_accuracy: 0.6212\n"
     ]
    },
    {
     "data": {
      "image/png": "[encoded data removed]",
      "text/plain": [
       "<Figure size 432x288 with 1 Axes>"
      ]
     },
     "metadata": {
      "needs_background": "light"
     },
     "output_type": "display_data"
    },
    {
     "data": {
      "image/png": "[encoded data removed]",
      "text/plain": [
       "<Figure size 432x288 with 1 Axes>"
      ]
     },
     "metadata": {
      "needs_background": "light"
     },
     "output_type": "display_data"
    }
   ],
   "source": [
    "model2bi.compile(optimizer='adam',loss='categorical_crossentropy', metrics=['accuracy'])\n",
    "checkpointbi = ModelCheckpoint(\"best_model3bi.hdf5\", monitor='val_accuracy', verbose=1,save_best_only=True, mode='auto', save_weights_only=False)\n",
    "history2bi = model2bi.fit(X_train, y_train, batch_size = 32, epochs=num_epochs, validation_data=(X_test, y_test),callbacks=[checkpointbi,callback])\n",
    "plot_history(history2bi)"
   ]
  },
  {
   "cell_type": "code",
   "execution_count": 95,
   "id": "wj7TpvfE-DsU",
   "metadata": {
    "colab": {
     "base_uri": "https://localhost:8080/"
    },
    "id": "wj7TpvfE-DsU",
    "outputId": "a4a21d49-e977-4098-d9c1-4ed8fd920aed"
   },
   "outputs": [
    {
     "name": "stdout",
     "output_type": "stream",
     "text": [
      "              precision    recall  f1-score   support\n",
      "\n",
      "           1       0.69      0.73      0.71      9912\n",
      "           2       0.51      0.55      0.53      9938\n",
      "           3       0.57      0.49      0.53     10036\n",
      "           4       0.61      0.55      0.58      9914\n",
      "           5       0.71      0.79      0.75     10200\n",
      "\n",
      "    accuracy                           0.62     50000\n",
      "   macro avg       0.62      0.62      0.62     50000\n",
      "weighted avg       0.62      0.62      0.62     50000\n",
      "\n"
     ]
    }
   ],
   "source": [
    "preds_bi = model2bi.predict(X_test)\n",
    "y_pred2bi = get_y_pred(preds_bi)\n",
    "y_test = convert_cat_label(y_test)\n",
    "print(classification_report(y_test, y_pred2bi))"
   ]
  },
  {
   "cell_type": "code",
   "execution_count": 96,
   "id": "JjO-Wd2h-Du2",
   "metadata": {
    "colab": {
     "base_uri": "https://localhost:8080/",
     "height": 295
    },
    "id": "JjO-Wd2h-Du2",
    "outputId": "886044a7-6df1-4f77-9a65-7ab84e09a39c"
   },
   "outputs": [
    {
     "data": {
      "image/png": "[encoded data removed]",
      "text/plain": [
       "<Figure size 432x288 with 2 Axes>"
      ]
     },
     "metadata": {
      "needs_background": "light"
     },
     "output_type": "display_data"
    }
   ],
   "source": [
    "cm = confusion_matrix(y_true=y_test, y_pred=y_pred2bi, labels=list(id2label.values()),normalize='true')\n",
    "disp = ConfusionMatrixDisplay(confusion_matrix=cm).plot()\n",
    "plt.title('Confusion matrix')\n",
    "plt.show()"
   ]
  },
  {
   "cell_type": "code",
   "execution_count": 97,
   "id": "vNrtoDmF-Luk",
   "metadata": {
    "colab": {
     "base_uri": "https://localhost:8080/"
    },
    "id": "vNrtoDmF-Luk",
    "outputId": "9491d598-fd76-4094-c934-9f1bdcde8c9d"
   },
   "outputs": [
    {
     "name": "stdout",
     "output_type": "stream",
     "text": [
      "[0.1016206  0.09877989 0.15308714 0.22929922 0.4172132 ]\n",
      "Predicted label: 5\n"
     ]
    }
   ],
   "source": [
    "print(model2bi.predict(padded_test_sentence)[0])\n",
    "print('Predicted label:',\n",
    "np.argmax(model2bi.predict(padded_test_sentence)[0])+1)"
   ]
  },
  {
   "cell_type": "markdown",
   "id": "b1qcOiV4BQV1",
   "metadata": {
    "id": "b1qcOiV4BQV1"
   },
   "source": [
    "## Attention Model with 5 labels"
   ]
  },
  {
   "cell_type": "markdown",
   "id": "VZlKk5QYpGBI",
   "metadata": {
    "id": "VZlKk5QYpGBI"
   },
   "source": [
    "Test with attention layer from keras nlp for 10 epochs"
   ]
  },
  {
   "cell_type": "code",
   "execution_count": 133,
   "id": "zlPElbCN-Lw0",
   "metadata": {
    "id": "zlPElbCN-Lw0"
   },
   "outputs": [],
   "source": [
    "num_outputs_bi = 5\n",
    "X, y, X_train, X_test, y_train, y_test = build_data(df)"
   ]
  },
  {
   "cell_type": "code",
   "execution_count": 134,
   "id": "fe5U678FBU0G",
   "metadata": {
    "id": "fe5U678FBU0G"
   },
   "outputs": [],
   "source": [
    "# create tokens\n",
    "\n",
    "num_words = 10000\n",
    "word_tokenizer = Tokenizer(num_words=num_words)\n",
    "word_tokenizer.fit_on_texts(X_train)\n",
    "\n",
    "# encode labels\n",
    "y_train = keras.utils.to_categorical(y_train-1, num_classes = 5)\n",
    "y_test = keras.utils.to_categorical(y_test-1, num_classes = 5)\n",
    "\n",
    "# create sequences\n",
    "X_train = word_tokenizer.texts_to_sequences(X_train)\n",
    "X_test = word_tokenizer.texts_to_sequences(X_test)\n",
    "\n",
    "# Padding all reviews to fixed length\n",
    "\n",
    "X_train = pad_sequences(X_train, padding='post', maxlen=max_length, truncating='post')\n",
    "X_test = pad_sequences(X_test, padding='post', maxlen=max_length, truncating='post')"
   ]
  },
  {
   "cell_type": "code",
   "execution_count": 135,
   "id": "Y534642ZBU2s",
   "metadata": {
    "colab": {
     "base_uri": "https://localhost:8080/",
     "height": 1000
    },
    "id": "Y534642ZBU2s",
    "outputId": "0f5438b5-bf24-48d5-fa09-aeed3d14d3fb"
   },
   "outputs": [
    {
     "name": "stdout",
     "output_type": "stream",
     "text": [
      "Model: \"sequential_15\"\n",
      "_________________________________________________________________\n",
      " Layer (type)                Output Shape              Param #   \n",
      "=================================================================\n",
      " token_and_position_embeddin  (None, 256, 16)          164096    \n",
      " g_13 (TokenAndPositionEmbed                                     \n",
      " ding)                                                           \n",
      "                                                                 \n",
      " transformer_encoder_13 (Tra  (None, 256, 16)          3280      \n",
      " nsformerEncoder)                                                \n",
      "                                                                 \n",
      " global_average_pooling1d_14  (None, 16)               0         \n",
      "  (GlobalAveragePooling1D)                                       \n",
      "                                                                 \n",
      " dense_30 (Dense)            (None, 32)                544       \n",
      "                                                                 \n",
      " dense_31 (Dense)            (None, 5)                 165       \n",
      "                                                                 \n",
      "=================================================================\n",
      "Total params: 168,085\n",
      "Trainable params: 168,085\n",
      "Non-trainable params: 0\n",
      "_________________________________________________________________\n",
      "Epoch 1/30\n",
      "6250/6250 [==============================] - ETA: 0s - loss: 1.6056 - accuracy: 0.2603\n",
      "Epoch 1: val_accuracy improved from -inf to 0.28846, saving model to best_model_att.hdf5\n",
      "6250/6250 [==============================] - 62s 10ms/step - loss: 1.6056 - accuracy: 0.2603 - val_loss: 1.6004 - val_accuracy: 0.2885\n",
      "Epoch 2/30\n",
      "6248/6250 [============================>.] - ETA: 0s - loss: 1.5910 - accuracy: 0.3402\n",
      "Epoch 2: val_accuracy improved from 0.28846 to 0.37670, saving model to best_model_att.hdf5\n",
      "6250/6250 [==============================] - 57s 9ms/step - loss: 1.5910 - accuracy: 0.3402 - val_loss: 1.5781 - val_accuracy: 0.3767\n",
      "Epoch 3/30\n",
      "6245/6250 [============================>.] - ETA: 0s - loss: 1.5495 - accuracy: 0.3900\n",
      "Epoch 3: val_accuracy improved from 0.37670 to 0.40524, saving model to best_model_att.hdf5\n",
      "6250/6250 [==============================] - 57s 9ms/step - loss: 1.5494 - accuracy: 0.3901 - val_loss: 1.5086 - val_accuracy: 0.4052\n",
      "Epoch 4/30\n",
      "6249/6250 [============================>.] - ETA: 0s - loss: 1.4330 - accuracy: 0.4269\n",
      "Epoch 4: val_accuracy improved from 0.40524 to 0.44592, saving model to best_model_att.hdf5\n",
      "6250/6250 [==============================] - 57s 9ms/step - loss: 1.4330 - accuracy: 0.4269 - val_loss: 1.3499 - val_accuracy: 0.4459\n",
      "Epoch 5/30\n",
      "6250/6250 [==============================] - ETA: 0s - loss: 1.2807 - accuracy: 0.4594\n",
      "Epoch 5: val_accuracy improved from 0.44592 to 0.46358, saving model to best_model_att.hdf5\n",
      "6250/6250 [==============================] - 57s 9ms/step - loss: 1.2807 - accuracy: 0.4594 - val_loss: 1.2313 - val_accuracy: 0.4636\n",
      "Epoch 6/30\n",
      "6247/6250 [============================>.] - ETA: 0s - loss: 1.2026 - accuracy: 0.4733\n",
      "Epoch 6: val_accuracy improved from 0.46358 to 0.47970, saving model to best_model_att.hdf5\n",
      "6250/6250 [==============================] - 61s 10ms/step - loss: 1.2026 - accuracy: 0.4733 - val_loss: 1.1833 - val_accuracy: 0.4797\n",
      "Epoch 7/30\n",
      "6245/6250 [============================>.] - ETA: 0s - loss: 1.1666 - accuracy: 0.4826\n",
      "Epoch 7: val_accuracy improved from 0.47970 to 0.48716, saving model to best_model_att.hdf5\n",
      "6250/6250 [==============================] - 57s 9ms/step - loss: 1.1666 - accuracy: 0.4826 - val_loss: 1.1572 - val_accuracy: 0.4872\n",
      "Epoch 8/30\n",
      "6246/6250 [============================>.] - ETA: 0s - loss: 1.1433 - accuracy: 0.4916\n",
      "Epoch 8: val_accuracy improved from 0.48716 to 0.49092, saving model to best_model_att.hdf5\n",
      "6250/6250 [==============================] - 56s 9ms/step - loss: 1.1433 - accuracy: 0.4916 - val_loss: 1.1400 - val_accuracy: 0.4909\n",
      "Epoch 9/30\n",
      "6245/6250 [============================>.] - ETA: 0s - loss: 1.1249 - accuracy: 0.4993\n",
      "Epoch 9: val_accuracy improved from 0.49092 to 0.49814, saving model to best_model_att.hdf5\n",
      "6250/6250 [==============================] - 60s 10ms/step - loss: 1.1250 - accuracy: 0.4992 - val_loss: 1.1254 - val_accuracy: 0.4981\n",
      "Epoch 10/30\n",
      "6248/6250 [============================>.] - ETA: 0s - loss: 1.1095 - accuracy: 0.5070\n",
      "Epoch 10: val_accuracy improved from 0.49814 to 0.50784, saving model to best_model_att.hdf5\n",
      "6250/6250 [==============================] - 57s 9ms/step - loss: 1.1095 - accuracy: 0.5070 - val_loss: 1.1119 - val_accuracy: 0.5078\n",
      "Epoch 11/30\n",
      "6248/6250 [============================>.] - ETA: 0s - loss: 1.0962 - accuracy: 0.5142\n",
      "Epoch 11: val_accuracy improved from 0.50784 to 0.51116, saving model to best_model_att.hdf5\n",
      "6250/6250 [==============================] - 62s 10ms/step - loss: 1.0962 - accuracy: 0.5142 - val_loss: 1.1007 - val_accuracy: 0.5112\n",
      "Epoch 12/30\n",
      "6247/6250 [============================>.] - ETA: 0s - loss: 1.0835 - accuracy: 0.5223\n",
      "Epoch 12: val_accuracy improved from 0.51116 to 0.51934, saving model to best_model_att.hdf5\n",
      "6250/6250 [==============================] - 61s 10ms/step - loss: 1.0835 - accuracy: 0.5223 - val_loss: 1.0929 - val_accuracy: 0.5193\n",
      "Epoch 13/30\n",
      "6244/6250 [============================>.] - ETA: 0s - loss: 1.0700 - accuracy: 0.5329\n",
      "Epoch 13: val_accuracy improved from 0.51934 to 0.52948, saving model to best_model_att.hdf5\n",
      "6250/6250 [==============================] - 61s 10ms/step - loss: 1.0700 - accuracy: 0.5329 - val_loss: 1.0779 - val_accuracy: 0.5295\n",
      "Epoch 14/30\n",
      "6248/6250 [============================>.] - ETA: 0s - loss: 1.0559 - accuracy: 0.5457\n",
      "Epoch 14: val_accuracy improved from 0.52948 to 0.54016, saving model to best_model_att.hdf5\n",
      "6250/6250 [==============================] - 60s 10ms/step - loss: 1.0559 - accuracy: 0.5457 - val_loss: 1.0662 - val_accuracy: 0.5402\n",
      "Epoch 15/30\n",
      "6248/6250 [============================>.] - ETA: 0s - loss: 1.0411 - accuracy: 0.5576\n",
      "Epoch 15: val_accuracy improved from 0.54016 to 0.55264, saving model to best_model_att.hdf5\n",
      "6250/6250 [==============================] - 60s 10ms/step - loss: 1.0410 - accuracy: 0.5575 - val_loss: 1.0526 - val_accuracy: 0.5526\n",
      "Epoch 16/30\n",
      "6245/6250 [============================>.] - ETA: 0s - loss: 1.0254 - accuracy: 0.5691\n",
      "Epoch 16: val_accuracy improved from 0.55264 to 0.55960, saving model to best_model_att.hdf5\n",
      "6250/6250 [==============================] - 65s 10ms/step - loss: 1.0254 - accuracy: 0.5691 - val_loss: 1.0422 - val_accuracy: 0.5596\n",
      "Epoch 17/30\n",
      "6248/6250 [============================>.] - ETA: 0s - loss: 1.0100 - accuracy: 0.5796\n",
      "Epoch 17: val_accuracy improved from 0.55960 to 0.57246, saving model to best_model_att.hdf5\n",
      "6250/6250 [==============================] - 60s 10ms/step - loss: 1.0099 - accuracy: 0.5796 - val_loss: 1.0269 - val_accuracy: 0.5725\n",
      "Epoch 18/30\n",
      "6250/6250 [==============================] - ETA: 0s - loss: 0.9967 - accuracy: 0.5870\n",
      "Epoch 18: val_accuracy improved from 0.57246 to 0.57812, saving model to best_model_att.hdf5\n",
      "6250/6250 [==============================] - 60s 10ms/step - loss: 0.9967 - accuracy: 0.5870 - val_loss: 1.0177 - val_accuracy: 0.5781\n",
      "Epoch 19/30\n",
      "6245/6250 [============================>.] - ETA: 0s - loss: 0.9856 - accuracy: 0.5934\n",
      "Epoch 19: val_accuracy improved from 0.57812 to 0.58122, saving model to best_model_att.hdf5\n",
      "6250/6250 [==============================] - 61s 10ms/step - loss: 0.9856 - accuracy: 0.5935 - val_loss: 1.0104 - val_accuracy: 0.5812\n",
      "Epoch 20/30\n",
      "6249/6250 [============================>.] - ETA: 0s - loss: 0.9761 - accuracy: 0.5974\n",
      "Epoch 20: val_accuracy improved from 0.58122 to 0.58334, saving model to best_model_att.hdf5\n",
      "6250/6250 [==============================] - 61s 10ms/step - loss: 0.9761 - accuracy: 0.5974 - val_loss: 1.0070 - val_accuracy: 0.5833\n",
      "Epoch 21/30\n",
      "6249/6250 [============================>.] - ETA: 0s - loss: 0.9680 - accuracy: 0.6006\n",
      "Epoch 21: val_accuracy improved from 0.58334 to 0.58428, saving model to best_model_att.hdf5\n",
      "6250/6250 [==============================] - 67s 11ms/step - loss: 0.9679 - accuracy: 0.6006 - val_loss: 1.0018 - val_accuracy: 0.5843\n",
      "Epoch 22/30\n",
      "6245/6250 [============================>.] - ETA: 0s - loss: 0.9608 - accuracy: 0.6033\n",
      "Epoch 22: val_accuracy improved from 0.58428 to 0.58842, saving model to best_model_att.hdf5\n",
      "6250/6250 [==============================] - 61s 10ms/step - loss: 0.9608 - accuracy: 0.6033 - val_loss: 0.9952 - val_accuracy: 0.5884\n",
      "Epoch 23/30\n",
      "6249/6250 [============================>.] - ETA: 0s - loss: 0.9544 - accuracy: 0.6057\n",
      "Epoch 23: val_accuracy improved from 0.58842 to 0.58912, saving model to best_model_att.hdf5\n",
      "6250/6250 [==============================] - 61s 10ms/step - loss: 0.9544 - accuracy: 0.6056 - val_loss: 0.9900 - val_accuracy: 0.5891\n",
      "Epoch 24/30\n",
      "6250/6250 [==============================] - ETA: 0s - loss: 0.9487 - accuracy: 0.6080\n",
      "Epoch 24: val_accuracy did not improve from 0.58912\n",
      "6250/6250 [==============================] - 64s 10ms/step - loss: 0.9487 - accuracy: 0.6080 - val_loss: 0.9877 - val_accuracy: 0.5886\n",
      "Epoch 25/30\n",
      "6247/6250 [============================>.] - ETA: 0s - loss: 0.9437 - accuracy: 0.6098\n",
      "Epoch 25: val_accuracy improved from 0.58912 to 0.59032, saving model to best_model_att.hdf5\n",
      "6250/6250 [==============================] - 61s 10ms/step - loss: 0.9436 - accuracy: 0.6099 - val_loss: 0.9868 - val_accuracy: 0.5903\n",
      "Epoch 26/30\n",
      "6246/6250 [============================>.] - ETA: 0s - loss: 0.9390 - accuracy: 0.6116\n",
      "Epoch 26: val_accuracy improved from 0.59032 to 0.59040, saving model to best_model_att.hdf5\n",
      "6250/6250 [==============================] - 66s 10ms/step - loss: 0.9389 - accuracy: 0.6116 - val_loss: 0.9836 - val_accuracy: 0.5904\n",
      "Epoch 27/30\n",
      "6246/6250 [============================>.] - ETA: 0s - loss: 0.9347 - accuracy: 0.6131\n",
      "Epoch 27: val_accuracy improved from 0.59040 to 0.59090, saving model to best_model_att.hdf5\n",
      "6250/6250 [==============================] - 64s 10ms/step - loss: 0.9348 - accuracy: 0.6130 - val_loss: 0.9795 - val_accuracy: 0.5909\n",
      "Epoch 28/30\n",
      "6250/6250 [==============================] - ETA: 0s - loss: 0.9308 - accuracy: 0.6142\n",
      "Epoch 28: val_accuracy did not improve from 0.59090\n",
      "6250/6250 [==============================] - 61s 10ms/step - loss: 0.9308 - accuracy: 0.6142 - val_loss: 0.9811 - val_accuracy: 0.5908\n",
      "Epoch 29/30\n",
      "6248/6250 [============================>.] - ETA: 0s - loss: 0.9276 - accuracy: 0.6150\n",
      "Epoch 29: val_accuracy did not improve from 0.59090\n",
      "6250/6250 [==============================] - 61s 10ms/step - loss: 0.9275 - accuracy: 0.6151 - val_loss: 0.9784 - val_accuracy: 0.5904\n",
      "Epoch 30/30\n",
      "6247/6250 [============================>.] - ETA: 0s - loss: 0.9245 - accuracy: 0.6169\n",
      "Epoch 30: val_accuracy improved from 0.59090 to 0.59098, saving model to best_model_att.hdf5\n",
      "6250/6250 [==============================] - 61s 10ms/step - loss: 0.9244 - accuracy: 0.6169 - val_loss: 0.9772 - val_accuracy: 0.5910\n"
     ]
    },
    {
     "data": {
      "image/png": "[encoded data removed]",
      "text/plain": [
       "<Figure size 432x288 with 1 Axes>"
      ]
     },
     "metadata": {
      "needs_background": "light"
     },
     "output_type": "display_data"
    },
    {
     "data": {
      "image/png": "[encoded data removed]",
      "text/plain": [
       "<Figure size 432x288 with 1 Axes>"
      ]
     },
     "metadata": {
      "needs_background": "light"
     },
     "output_type": "display_data"
    }
   ],
   "source": [
    "# set output dim (3 or 5)\n",
    "\n",
    "output_dim = 5\n",
    "\n",
    "model_attention = keras.models.Sequential()\n",
    "model_attention.add(keras_nlp.layers.TokenAndPositionEmbedding(vocabulary_size=num_words,\n",
    "                                                     sequence_length=max_length,\n",
    "                                                     embedding_dim=embedding_dim, input_shape=(256,)))\n",
    "\n",
    "model_attention.add(keras_nlp.layers.TransformerEncoder(num_heads=4, intermediate_dim=64))\n",
    "model_attention.add(keras.layers.GlobalAveragePooling1D())\n",
    "model_attention.add(keras.layers.Dense(32, activation='relu'))\n",
    "model_attention.add(keras.layers.Dense(output_dim, activation='softmax'))\n",
    "model_attention.summary()\n",
    "\n",
    "\n",
    "model_attention.compile(optimizer=tf.keras.optimizers.Adam(1e-5), loss='categorical_crossentropy', metrics='accuracy')\n",
    "\n",
    "checkpoint_att = ModelCheckpoint(\"best_model_att.hdf5\", monitor='val_accuracy', verbose=1,save_best_only=True, mode='auto', save_weights_only=False)\n",
    "history_attention = model_attention.fit(X_train, y_train, batch_size = 32, epochs=30, validation_data=(X_test, y_test),callbacks=[checkpoint_att])\n",
    "plot_history(history_attention)"
   ]
  },
  {
   "cell_type": "markdown",
   "id": "zApiYpj1B704",
   "metadata": {
    "id": "zApiYpj1B704"
   },
   "source": [
    "### Evaluate attention model with 5 labels"
   ]
  },
  {
   "cell_type": "code",
   "execution_count": 136,
   "id": "lE5awTFyBU43",
   "metadata": {
    "colab": {
     "base_uri": "https://localhost:8080/",
     "height": 537
    },
    "id": "lE5awTFyBU43",
    "outputId": "dd4ba07f-340e-45cb-feb9-ab5452d97396"
   },
   "outputs": [
    {
     "name": "stdout",
     "output_type": "stream",
     "text": [
      "[0.378803   0.26960036 0.18675578 0.08037341 0.0844675 ]\n",
      "Predicted label: 1\n",
      "              precision    recall  f1-score   support\n",
      "\n",
      "           1       0.67      0.70      0.68      9912\n",
      "           2       0.49      0.50      0.49      9938\n",
      "           3       0.56      0.45      0.50     10036\n",
      "           4       0.55      0.51      0.53      9914\n",
      "           5       0.67      0.79      0.72     10200\n",
      "\n",
      "    accuracy                           0.59     50000\n",
      "   macro avg       0.59      0.59      0.59     50000\n",
      "weighted avg       0.59      0.59      0.59     50000\n",
      "\n"
     ]
    },
    {
     "data": {
      "image/png": "[encoded data removed]",
      "text/plain": [
       "<Figure size 432x288 with 2 Axes>"
      ]
     },
     "metadata": {
      "needs_background": "light"
     },
     "output_type": "display_data"
    }
   ],
   "source": [
    "print(model_attention.predict(padded_test_sentence)[0])\n",
    "print('Predicted label:',\n",
    "np.argmax(model_attention.predict(padded_test_sentence)[0])+1)\n",
    "\n",
    "\n",
    "preds_att = model_attention.predict(X_test)\n",
    "y_pred_att = get_y_pred(preds_att)\n",
    "y_test = convert_cat_label(y_test)\n",
    "print(classification_report(y_test, y_pred_att))\n",
    "\n",
    "cm = confusion_matrix(y_true=y_test, y_pred=y_pred_att, labels=list(id2label.values()),normalize='true')\n",
    "disp = ConfusionMatrixDisplay(confusion_matrix=cm).plot()\n",
    "plt.title('Confusion matrix')\n",
    "plt.show()"
   ]
  },
  {
   "cell_type": "markdown",
   "id": "XQ0sc_tIpI3q",
   "metadata": {
    "id": "XQ0sc_tIpI3q"
   },
   "source": [
    "Model training is comparably slow. Result is mostly in line with previous models. Model seems to overfit in the later epochs. Next, test model performance with 3 labels: negative, neutral or positive."
   ]
  },
  {
   "cell_type": "markdown",
   "id": "TmNCdozw5XZk",
   "metadata": {
    "id": "TmNCdozw5XZk"
   },
   "source": [
    "**Summary**\n",
    "\n",
    "Best model: Bidirectional Layers Model with 62% accuracy on 5 labels."
   ]
  },
  {
   "cell_type": "markdown",
   "id": "tDRWyAs2BhNN",
   "metadata": {
    "id": "tDRWyAs2BhNN"
   },
   "source": [
    "## Attention Model with 3 labels"
   ]
  },
  {
   "cell_type": "code",
   "execution_count": 125,
   "id": "fhXiWv3pCKAx",
   "metadata": {
    "id": "fhXiWv3pCKAx"
   },
   "outputs": [],
   "source": [
    "num_outputs_bi = 5\n",
    "X, y, X_train, X_test, y_train, y_test = build_data(df)"
   ]
  },
  {
   "cell_type": "code",
   "execution_count": 127,
   "id": "bjBC7XQXCO22",
   "metadata": {
    "id": "bjBC7XQXCO22"
   },
   "outputs": [],
   "source": [
    "# create tokens\n",
    "\n",
    "num_words = 10000\n",
    "word_tokenizer = Tokenizer(num_words=num_words)\n",
    "word_tokenizer.fit_on_texts(X_train)\n",
    "\n",
    "# encode labels\n",
    "y_train_three, y_train_three_string = convert_y_into_three_labels(y_train)\n",
    "y_test_three, y_test_three_string = convert_y_into_three_labels(y_test)\n",
    "y_train_three = keras.utils.to_categorical(y_train_three-1, num_classes = 3)\n",
    "y_test_three = keras.utils.to_categorical(y_test_three-1, num_classes = 3)\n",
    "\n",
    "# create sequences\n",
    "X_train = word_tokenizer.texts_to_sequences(X_train)\n",
    "X_test = word_tokenizer.texts_to_sequences(X_test)\n",
    "\n",
    "# Padding all reviews to fixed length\n",
    "\n",
    "X_train = pad_sequences(X_train, padding='post', maxlen=max_length, truncating='post')\n",
    "X_test = pad_sequences(X_test, padding='post', maxlen=max_length, truncating='post')"
   ]
  },
  {
   "cell_type": "code",
   "execution_count": 128,
   "id": "YBetA7p1lyqs",
   "metadata": {
    "colab": {
     "base_uri": "https://localhost:8080/"
    },
    "id": "YBetA7p1lyqs",
    "outputId": "c4f4adfc-d30e-48ea-f80e-bea550c44008"
   },
   "outputs": [
    {
     "name": "stdout",
     "output_type": "stream",
     "text": [
      "Model: \"sequential_14\"\n",
      "_________________________________________________________________\n",
      " Layer (type)                Output Shape              Param #   \n",
      "=================================================================\n",
      " token_and_position_embeddin  (None, 256, 16)          164096    \n",
      " g_12 (TokenAndPositionEmbed                                     \n",
      " ding)                                                           \n",
      "                                                                 \n",
      " transformer_encoder_12 (Tra  (None, 256, 16)          3280      \n",
      " nsformerEncoder)                                                \n",
      "                                                                 \n",
      " global_average_pooling1d_13  (None, 16)               0         \n",
      "  (GlobalAveragePooling1D)                                       \n",
      "                                                                 \n",
      " dense_28 (Dense)            (None, 32)                544       \n",
      "                                                                 \n",
      " dense_29 (Dense)            (None, 3)                 99        \n",
      "                                                                 \n",
      "=================================================================\n",
      "Total params: 168,019\n",
      "Trainable params: 168,019\n",
      "Non-trainable params: 0\n",
      "_________________________________________________________________\n"
     ]
    }
   ],
   "source": [
    "output_dim = 3\n",
    "\n",
    "model_attention3 = keras.models.Sequential()\n",
    "model_attention3.add(keras_nlp.layers.TokenAndPositionEmbedding(vocabulary_size=num_words,\n",
    "                                                     sequence_length=max_length,\n",
    "                                                     embedding_dim=embedding_dim, input_shape=(256,)))\n",
    "\n",
    "model_attention3.add(keras_nlp.layers.TransformerEncoder(num_heads=4, intermediate_dim=64))\n",
    "model_attention3.add(keras.layers.GlobalAveragePooling1D())\n",
    "model_attention3.add(keras.layers.Dense(32, activation='relu'))\n",
    "model_attention3.add(keras.layers.Dense(output_dim, activation='softmax'))\n",
    "model_attention3.summary()\n",
    "\n",
    "\n",
    "model_attention3.compile(optimizer=tf.keras.optimizers.Adam(1e-5), loss='categorical_crossentropy', metrics='accuracy')"
   ]
  },
  {
   "cell_type": "code",
   "execution_count": 129,
   "id": "AbukcOkok9vw",
   "metadata": {
    "colab": {
     "base_uri": "https://localhost:8080/"
    },
    "id": "AbukcOkok9vw",
    "outputId": "e7ae1abb-1d50-4f2b-c040-54c23c8b2417"
   },
   "outputs": [
    {
     "name": "stdout",
     "output_type": "stream",
     "text": [
      "Epoch 1/40\n",
      "3122/3125 [============================>.] - ETA: 0s - loss: 1.0540 - accuracy: 0.4733\n",
      "Epoch 1: val_accuracy improved from -inf to 0.48366, saving model to best_model_att3.hdf5\n",
      "3125/3125 [==============================] - 52s 16ms/step - loss: 1.0540 - accuracy: 0.4733 - val_loss: 1.0482 - val_accuracy: 0.4837\n",
      "Epoch 2/40\n",
      "3123/3125 [============================>.] - ETA: 0s - loss: 1.0409 - accuracy: 0.5490\n",
      "Epoch 2: val_accuracy improved from 0.48366 to 0.53284, saving model to best_model_att3.hdf5\n",
      "3125/3125 [==============================] - 44s 14ms/step - loss: 1.0409 - accuracy: 0.5490 - val_loss: 1.0341 - val_accuracy: 0.5328\n",
      "Epoch 3/40\n",
      "3124/3125 [============================>.] - ETA: 0s - loss: 1.0205 - accuracy: 0.5893\n",
      "Epoch 3: val_accuracy improved from 0.53284 to 0.59614, saving model to best_model_att3.hdf5\n",
      "3125/3125 [==============================] - 44s 14ms/step - loss: 1.0205 - accuracy: 0.5893 - val_loss: 1.0061 - val_accuracy: 0.5961\n",
      "Epoch 4/40\n",
      "3122/3125 [============================>.] - ETA: 0s - loss: 0.9766 - accuracy: 0.6409\n",
      "Epoch 4: val_accuracy improved from 0.59614 to 0.67178, saving model to best_model_att3.hdf5\n",
      "3125/3125 [==============================] - 44s 14ms/step - loss: 0.9766 - accuracy: 0.6409 - val_loss: 0.9415 - val_accuracy: 0.6718\n",
      "Epoch 5/40\n",
      "3125/3125 [==============================] - ETA: 0s - loss: 0.8789 - accuracy: 0.6925\n",
      "Epoch 5: val_accuracy improved from 0.67178 to 0.70258, saving model to best_model_att3.hdf5\n",
      "3125/3125 [==============================] - 44s 14ms/step - loss: 0.8789 - accuracy: 0.6925 - val_loss: 0.8163 - val_accuracy: 0.7026\n",
      "Epoch 6/40\n",
      "3124/3125 [============================>.] - ETA: 0s - loss: 0.7591 - accuracy: 0.7104\n",
      "Epoch 6: val_accuracy improved from 0.70258 to 0.71368, saving model to best_model_att3.hdf5\n",
      "3125/3125 [==============================] - 44s 14ms/step - loss: 0.7591 - accuracy: 0.7103 - val_loss: 0.7269 - val_accuracy: 0.7137\n",
      "Epoch 7/40\n",
      "3125/3125 [==============================] - ETA: 0s - loss: 0.7008 - accuracy: 0.7172\n",
      "Epoch 7: val_accuracy improved from 0.71368 to 0.71612, saving model to best_model_att3.hdf5\n",
      "3125/3125 [==============================] - 46s 15ms/step - loss: 0.7008 - accuracy: 0.7172 - val_loss: 0.6932 - val_accuracy: 0.7161\n",
      "Epoch 8/40\n",
      "3124/3125 [============================>.] - ETA: 0s - loss: 0.6752 - accuracy: 0.7216\n",
      "Epoch 8: val_accuracy improved from 0.71612 to 0.72060, saving model to best_model_att3.hdf5\n",
      "3125/3125 [==============================] - 48s 16ms/step - loss: 0.6752 - accuracy: 0.7216 - val_loss: 0.6745 - val_accuracy: 0.7206\n",
      "Epoch 9/40\n",
      "3122/3125 [============================>.] - ETA: 0s - loss: 0.6593 - accuracy: 0.7263\n",
      "Epoch 9: val_accuracy improved from 0.72060 to 0.72346, saving model to best_model_att3.hdf5\n",
      "3125/3125 [==============================] - 44s 14ms/step - loss: 0.6593 - accuracy: 0.7263 - val_loss: 0.6652 - val_accuracy: 0.7235\n",
      "Epoch 10/40\n",
      "3124/3125 [============================>.] - ETA: 0s - loss: 0.6471 - accuracy: 0.7317\n",
      "Epoch 10: val_accuracy improved from 0.72346 to 0.72990, saving model to best_model_att3.hdf5\n",
      "3125/3125 [==============================] - 45s 14ms/step - loss: 0.6472 - accuracy: 0.7317 - val_loss: 0.6527 - val_accuracy: 0.7299\n",
      "Epoch 11/40\n",
      "3124/3125 [============================>.] - ETA: 0s - loss: 0.6372 - accuracy: 0.7351\n",
      "Epoch 11: val_accuracy improved from 0.72990 to 0.73222, saving model to best_model_att3.hdf5\n",
      "3125/3125 [==============================] - 44s 14ms/step - loss: 0.6372 - accuracy: 0.7351 - val_loss: 0.6465 - val_accuracy: 0.7322\n",
      "Epoch 12/40\n",
      "3124/3125 [============================>.] - ETA: 0s - loss: 0.6286 - accuracy: 0.7383\n",
      "Epoch 12: val_accuracy improved from 0.73222 to 0.73416, saving model to best_model_att3.hdf5\n",
      "3125/3125 [==============================] - 45s 14ms/step - loss: 0.6286 - accuracy: 0.7384 - val_loss: 0.6380 - val_accuracy: 0.7342\n",
      "Epoch 13/40\n",
      "3124/3125 [============================>.] - ETA: 0s - loss: 0.6213 - accuracy: 0.7412\n",
      "Epoch 13: val_accuracy improved from 0.73416 to 0.73492, saving model to best_model_att3.hdf5\n",
      "3125/3125 [==============================] - 44s 14ms/step - loss: 0.6214 - accuracy: 0.7412 - val_loss: 0.6345 - val_accuracy: 0.7349\n",
      "Epoch 14/40\n",
      "3125/3125 [==============================] - ETA: 0s - loss: 0.6150 - accuracy: 0.7428\n",
      "Epoch 14: val_accuracy improved from 0.73492 to 0.73600, saving model to best_model_att3.hdf5\n",
      "3125/3125 [==============================] - 46s 15ms/step - loss: 0.6150 - accuracy: 0.7428 - val_loss: 0.6304 - val_accuracy: 0.7360\n",
      "Epoch 15/40\n",
      "3124/3125 [============================>.] - ETA: 0s - loss: 0.6095 - accuracy: 0.7442\n",
      "Epoch 15: val_accuracy improved from 0.73600 to 0.73824, saving model to best_model_att3.hdf5\n",
      "3125/3125 [==============================] - 52s 17ms/step - loss: 0.6096 - accuracy: 0.7441 - val_loss: 0.6233 - val_accuracy: 0.7382\n",
      "Epoch 16/40\n",
      "3125/3125 [==============================] - ETA: 0s - loss: 0.6048 - accuracy: 0.7454\n",
      "Epoch 16: val_accuracy improved from 0.73824 to 0.73828, saving model to best_model_att3.hdf5\n",
      "3125/3125 [==============================] - 44s 14ms/step - loss: 0.6048 - accuracy: 0.7454 - val_loss: 0.6195 - val_accuracy: 0.7383\n",
      "Epoch 17/40\n",
      "3121/3125 [============================>.] - ETA: 0s - loss: 0.6006 - accuracy: 0.7469\n",
      "Epoch 17: val_accuracy improved from 0.73828 to 0.73904, saving model to best_model_att3.hdf5\n",
      "3125/3125 [==============================] - 45s 14ms/step - loss: 0.6006 - accuracy: 0.7469 - val_loss: 0.6164 - val_accuracy: 0.7390\n",
      "Epoch 18/40\n",
      "3121/3125 [============================>.] - ETA: 0s - loss: 0.5970 - accuracy: 0.7473\n",
      "Epoch 18: val_accuracy improved from 0.73904 to 0.73970, saving model to best_model_att3.hdf5\n",
      "3125/3125 [==============================] - 44s 14ms/step - loss: 0.5970 - accuracy: 0.7473 - val_loss: 0.6135 - val_accuracy: 0.7397\n",
      "Epoch 19/40\n",
      "3123/3125 [============================>.] - ETA: 0s - loss: 0.5935 - accuracy: 0.7489\n",
      "Epoch 19: val_accuracy did not improve from 0.73970\n",
      "3125/3125 [==============================] - 44s 14ms/step - loss: 0.5935 - accuracy: 0.7489 - val_loss: 0.6113 - val_accuracy: 0.7396\n",
      "Epoch 20/40\n",
      "3123/3125 [============================>.] - ETA: 0s - loss: 0.5909 - accuracy: 0.7500\n",
      "Epoch 20: val_accuracy improved from 0.73970 to 0.74032, saving model to best_model_att3.hdf5\n",
      "3125/3125 [==============================] - 44s 14ms/step - loss: 0.5909 - accuracy: 0.7500 - val_loss: 0.6090 - val_accuracy: 0.7403\n",
      "Epoch 21/40\n",
      "3122/3125 [============================>.] - ETA: 0s - loss: 0.5879 - accuracy: 0.7512\n",
      "Epoch 21: val_accuracy improved from 0.74032 to 0.74114, saving model to best_model_att3.hdf5\n",
      "3125/3125 [==============================] - 47s 15ms/step - loss: 0.5879 - accuracy: 0.7512 - val_loss: 0.6069 - val_accuracy: 0.7411\n",
      "Epoch 22/40\n",
      "3124/3125 [============================>.] - ETA: 0s - loss: 0.5855 - accuracy: 0.7521\n",
      "Epoch 22: val_accuracy did not improve from 0.74114\n",
      "3125/3125 [==============================] - 44s 14ms/step - loss: 0.5855 - accuracy: 0.7521 - val_loss: 0.6062 - val_accuracy: 0.7407\n",
      "Epoch 23/40\n",
      "3124/3125 [============================>.] - ETA: 0s - loss: 0.5834 - accuracy: 0.7528\n",
      "Epoch 23: val_accuracy did not improve from 0.74114\n",
      "3125/3125 [==============================] - 46s 15ms/step - loss: 0.5834 - accuracy: 0.7528 - val_loss: 0.6079 - val_accuracy: 0.7382\n",
      "Epoch 24/40\n",
      "3122/3125 [============================>.] - ETA: 0s - loss: 0.5811 - accuracy: 0.7539\n",
      "Epoch 24: val_accuracy improved from 0.74114 to 0.74214, saving model to best_model_att3.hdf5\n",
      "3125/3125 [==============================] - 44s 14ms/step - loss: 0.5810 - accuracy: 0.7539 - val_loss: 0.6038 - val_accuracy: 0.7421\n",
      "Epoch 25/40\n",
      "3122/3125 [============================>.] - ETA: 0s - loss: 0.5792 - accuracy: 0.7548\n",
      "Epoch 25: val_accuracy improved from 0.74214 to 0.74350, saving model to best_model_att3.hdf5\n",
      "3125/3125 [==============================] - 44s 14ms/step - loss: 0.5792 - accuracy: 0.7548 - val_loss: 0.6007 - val_accuracy: 0.7435\n",
      "Epoch 26/40\n",
      "3123/3125 [============================>.] - ETA: 0s - loss: 0.5773 - accuracy: 0.7556\n",
      "Epoch 26: val_accuracy did not improve from 0.74350\n",
      "3125/3125 [==============================] - 44s 14ms/step - loss: 0.5772 - accuracy: 0.7556 - val_loss: 0.6004 - val_accuracy: 0.7435\n",
      "Epoch 27/40\n",
      "3122/3125 [============================>.] - ETA: 0s - loss: 0.5753 - accuracy: 0.7565\n",
      "Epoch 27: val_accuracy did not improve from 0.74350\n",
      "3125/3125 [==============================] - 50s 16ms/step - loss: 0.5753 - accuracy: 0.7565 - val_loss: 0.6011 - val_accuracy: 0.7415\n",
      "Epoch 28/40\n",
      "3122/3125 [============================>.] - ETA: 0s - loss: 0.5738 - accuracy: 0.7566\n",
      "Epoch 28: val_accuracy did not improve from 0.74350\n",
      "3125/3125 [==============================] - 45s 14ms/step - loss: 0.5737 - accuracy: 0.7566 - val_loss: 0.5989 - val_accuracy: 0.7426\n",
      "Epoch 29/40\n",
      "3124/3125 [============================>.] - ETA: 0s - loss: 0.5723 - accuracy: 0.7581\n",
      "Epoch 29: val_accuracy improved from 0.74350 to 0.74502, saving model to best_model_att3.hdf5\n",
      "3125/3125 [==============================] - 45s 14ms/step - loss: 0.5723 - accuracy: 0.7581 - val_loss: 0.5964 - val_accuracy: 0.7450\n",
      "Epoch 30/40\n",
      "3123/3125 [============================>.] - ETA: 0s - loss: 0.5707 - accuracy: 0.7590\n",
      "Epoch 30: val_accuracy improved from 0.74502 to 0.74530, saving model to best_model_att3.hdf5\n",
      "3125/3125 [==============================] - 44s 14ms/step - loss: 0.5706 - accuracy: 0.7590 - val_loss: 0.5953 - val_accuracy: 0.7453\n",
      "Epoch 31/40\n",
      "3122/3125 [============================>.] - ETA: 0s - loss: 0.5692 - accuracy: 0.7594\n",
      "Epoch 31: val_accuracy did not improve from 0.74530\n",
      "3125/3125 [==============================] - 44s 14ms/step - loss: 0.5691 - accuracy: 0.7595 - val_loss: 0.5978 - val_accuracy: 0.7451\n",
      "Epoch 32/40\n",
      "3123/3125 [============================>.] - ETA: 0s - loss: 0.5675 - accuracy: 0.7607\n",
      "Epoch 32: val_accuracy improved from 0.74530 to 0.74662, saving model to best_model_att3.hdf5\n",
      "3125/3125 [==============================] - 47s 15ms/step - loss: 0.5675 - accuracy: 0.7607 - val_loss: 0.5943 - val_accuracy: 0.7466\n",
      "Epoch 33/40\n",
      "3125/3125 [==============================] - ETA: 0s - loss: 0.5659 - accuracy: 0.7610\n",
      "Epoch 33: val_accuracy improved from 0.74662 to 0.74708, saving model to best_model_att3.hdf5\n",
      "3125/3125 [==============================] - 45s 14ms/step - loss: 0.5659 - accuracy: 0.7610 - val_loss: 0.5932 - val_accuracy: 0.7471\n",
      "Epoch 34/40\n",
      "3124/3125 [============================>.] - ETA: 0s - loss: 0.5643 - accuracy: 0.7620\n",
      "Epoch 34: val_accuracy improved from 0.74708 to 0.74736, saving model to best_model_att3.hdf5\n",
      "3125/3125 [==============================] - 44s 14ms/step - loss: 0.5643 - accuracy: 0.7620 - val_loss: 0.5919 - val_accuracy: 0.7474\n",
      "Epoch 35/40\n",
      "3123/3125 [============================>.] - ETA: 0s - loss: 0.5629 - accuracy: 0.7627\n",
      "Epoch 35: val_accuracy did not improve from 0.74736\n",
      "3125/3125 [==============================] - 44s 14ms/step - loss: 0.5628 - accuracy: 0.7627 - val_loss: 0.5933 - val_accuracy: 0.7463\n",
      "Epoch 36/40\n",
      "3121/3125 [============================>.] - ETA: 0s - loss: 0.5613 - accuracy: 0.7638\n",
      "Epoch 36: val_accuracy improved from 0.74736 to 0.74876, saving model to best_model_att3.hdf5\n",
      "3125/3125 [==============================] - 44s 14ms/step - loss: 0.5612 - accuracy: 0.7638 - val_loss: 0.5897 - val_accuracy: 0.7488\n",
      "Epoch 37/40\n",
      "3122/3125 [============================>.] - ETA: 0s - loss: 0.5595 - accuracy: 0.7645\n",
      "Epoch 37: val_accuracy improved from 0.74876 to 0.74996, saving model to best_model_att3.hdf5\n",
      "3125/3125 [==============================] - 47s 15ms/step - loss: 0.5595 - accuracy: 0.7645 - val_loss: 0.5895 - val_accuracy: 0.7500\n",
      "Epoch 38/40\n",
      "3125/3125 [==============================] - ETA: 0s - loss: 0.5579 - accuracy: 0.7656\n",
      "Epoch 38: val_accuracy did not improve from 0.74996\n",
      "3125/3125 [==============================] - 44s 14ms/step - loss: 0.5579 - accuracy: 0.7656 - val_loss: 0.5890 - val_accuracy: 0.7497\n",
      "Epoch 39/40\n",
      "3124/3125 [============================>.] - ETA: 0s - loss: 0.5560 - accuracy: 0.7666\n",
      "Epoch 39: val_accuracy improved from 0.74996 to 0.75038, saving model to best_model_att3.hdf5\n",
      "3125/3125 [==============================] - 44s 14ms/step - loss: 0.5559 - accuracy: 0.7667 - val_loss: 0.5876 - val_accuracy: 0.7504\n",
      "Epoch 40/40\n",
      "3123/3125 [============================>.] - ETA: 0s - loss: 0.5540 - accuracy: 0.7686\n",
      "Epoch 40: val_accuracy improved from 0.75038 to 0.75148, saving model to best_model_att3.hdf5\n",
      "3125/3125 [==============================] - 44s 14ms/step - loss: 0.5539 - accuracy: 0.7686 - val_loss: 0.5864 - val_accuracy: 0.7515\n"
     ]
    }
   ],
   "source": [
    "checkpoint_att3 = ModelCheckpoint(\"best_model_att3.hdf5\", monitor='val_accuracy', verbose=1,save_best_only=True, mode='auto', save_weights_only=False)\n",
    "history_attention3 = model_attention3.fit(X_train, y_train_three, batch_size = 64, epochs=40, validation_data=(X_test, y_test_three),callbacks=[checkpoint_att3])"
   ]
  },
  {
   "cell_type": "code",
   "execution_count": 130,
   "id": "GVdBIMavCO5b",
   "metadata": {
    "colab": {
     "base_uri": "https://localhost:8080/"
    },
    "id": "GVdBIMavCO5b",
    "outputId": "8adb2d76-d7af-471e-db27-a003cff5c0c8"
   },
   "outputs": [
    {
     "name": "stdout",
     "output_type": "stream",
     "text": [
      "              precision    recall  f1-score   support\n",
      "\n",
      "           1       0.47      0.35      0.40     10036\n",
      "           2       0.84      0.84      0.84     20114\n",
      "           3       0.77      0.87      0.81     19850\n",
      "\n",
      "    accuracy                           0.75     50000\n",
      "   macro avg       0.69      0.68      0.68     50000\n",
      "weighted avg       0.74      0.75      0.74     50000\n",
      "\n"
     ]
    }
   ],
   "source": [
    "preds_att_3 = model_attention3.predict(X_test)\n",
    "y_predsatt_3 = get_y_pred(preds_att_3)\n",
    "y_true_three = convert_cat_label(y_test_three)\n",
    "print(classification_report(y_true_three, y_predsatt_3))"
   ]
  },
  {
   "cell_type": "code",
   "execution_count": 131,
   "id": "Miy0FoRwCO75",
   "metadata": {
    "colab": {
     "base_uri": "https://localhost:8080/",
     "height": 295
    },
    "id": "Miy0FoRwCO75",
    "outputId": "958552af-887e-473e-c234-05f2a3533060"
   },
   "outputs": [
    {
     "data": {
      "image/png": "[encoded data removed]",
      "text/plain": [
       "<Figure size 432x288 with 2 Axes>"
      ]
     },
     "metadata": {
      "needs_background": "light"
     },
     "output_type": "display_data"
    }
   ],
   "source": [
    "cm_att = confusion_matrix(y_true=y_true_three, y_pred=y_predsatt_3,normalize='true')\n",
    "disp = ConfusionMatrixDisplay(confusion_matrix=cm_att).plot()\n",
    "plt.title('Confusion matrix')\n",
    "plt.show()"
   ]
  },
  {
   "cell_type": "code",
   "execution_count": 132,
   "id": "i8zWqCXXCO-m",
   "metadata": {
    "colab": {
     "base_uri": "https://localhost:8080/"
    },
    "id": "i8zWqCXXCO-m",
    "outputId": "e5f1369b-af24-4e04-b749-eec938eaf42a"
   },
   "outputs": [
    {
     "name": "stdout",
     "output_type": "stream",
     "text": [
      "[0.3137732  0.08146132 0.6047654 ]\n",
      "Predicted label: 3\n"
     ]
    }
   ],
   "source": [
    "print(model_attention3.predict(padded_test_sentence)[0])\n",
    "print('Predicted label:',\n",
    "np.argmax(model_attention3.predict(padded_test_sentence)[0])+1)"
   ]
  },
  {
   "cell_type": "markdown",
   "id": "aJX-6ciPFG3j",
   "metadata": {
    "id": "aJX-6ciPFG3j"
   },
   "source": [
    "Comment 3 layer attention model\n",
    "- performance improved (as anticipated) from 62% with 5 labels to 75% accuracy with 3 labels\n",
    "- extracting overall sentiment vs predicting # stars\n",
    "- poor prediction of negative reviews"
   ]
  },
  {
   "cell_type": "markdown",
   "id": "HWbQRjxoFVQx",
   "metadata": {
    "id": "HWbQRjxoFVQx"
   },
   "source": [
    "**Final notes**"
   ]
  },
  {
   "cell_type": "markdown",
   "id": "azTqAHgZE4da",
   "metadata": {
    "id": "azTqAHgZE4da"
   },
   "source": [
    "Reasons that might prevent models from performing better\n",
    "\n",
    "- no standardized definition of what defines a specific star review and what differentiates them\n",
    "- relatively small sample size\n",
    "- data quality: long product descriptions that create noise\n"
   ]
  },
  {
   "cell_type": "markdown",
   "id": "px2BpcPbEg9x",
   "metadata": {
    "id": "px2BpcPbEg9x"
   },
   "source": [
    "Ideas to improve the prediction\n",
    "\n",
    "- intensify hyperparameter tuning\n",
    "- extend data preparation, more cleaning\n",
    "- take larger sample size\n"
   ]
  }
 ],
 "metadata": {
  "accelerator": "GPU",
  "colab": {
   "collapsed_sections": [],
   "provenance": []
  },
  "gpuClass": "standard",
  "kernelspec": {
   "display_name": "Python 3 (ipykernel)",
   "language": "python",
   "name": "python3"
  },
  "language_info": {
   "codemirror_mode": {
    "name": "ipython",
    "version": 3
   },
   "file_extension": ".py",
   "mimetype": "text/x-python",
   "name": "python",
   "nbconvert_exporter": "python",
   "pygments_lexer": "ipython3",
   "version": "3.9.9"
  },
  "toc": {
   "base_numbering": 1,
   "nav_menu": {},
   "number_sections": true,
   "sideBar": true,
   "skip_h1_title": false,
   "title_cell": "Table of Contents",
   "title_sidebar": "Contents",
   "toc_cell": false,
   "toc_position": {},
   "toc_section_display": true,
   "toc_window_display": false
  }
 },
 "nbformat": 4,
 "nbformat_minor": 5
}
